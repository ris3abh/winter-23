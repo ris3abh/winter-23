{
 "cells": [
  {
   "cell_type": "code",
   "execution_count": 21,
   "metadata": {},
   "outputs": [],
   "source": [
    "from sympy import *\n",
    "from sympy.parsing.sympy_parser import parse_expr\n",
    "from sympy.parsing.sympy_parser import standard_transformations, implicit_multiplication_application\n",
    "\n",
    "import numpy as np\n",
    "import random\n",
    "import math\n",
    "import sympy as sp\n",
    "import pandas as pd\n",
    "import os\n",
    "import sys\n",
    "import time\n",
    "import datetime\n",
    "import matplotlib.pyplot as plt\n",
    "import seaborn as sns"
   ]
  },
  {
   "cell_type": "code",
   "execution_count": 22,
   "metadata": {},
   "outputs": [],
   "source": [
    "def differenciate(expr):\n",
    "    return sp.diff(expr)\n",
    "\n",
    "## Generate a random expression of the form a*x**2 + b*x + c\n",
    "def generate_expression():\n",
    "    a = random.randint(1, 10)\n",
    "    b = random.randint(1, 10)\n",
    "    c = random.randint(1, 10)\n",
    "    x = sp.Symbol('x')\n",
    "    expr = a*x**2 + b*x + c\n",
    "    transformation = standard_transformations + (implicit_multiplication_application,)\n",
    "    expr = parse_expr(str(expr), transformations=transformation)\n",
    "    return expr\n"
   ]
  },
  {
   "cell_type": "code",
   "execution_count": 23,
   "metadata": {},
   "outputs": [],
   "source": [
    "## creating a dataframe with the expressions and the solutions\n",
    "def generate_dataframe():\n",
    "    df = pd.DataFrame(columns=['expression', 'solution'])\n",
    "    for i in range(400):\n",
    "        expr = generate_expression()\n",
    "        solution = differenciate(expr)\n",
    "        df = df.append({'expression': expr, 'solution': solution}, ignore_index=True)\n",
    "    return df"
   ]
  },
  {
   "cell_type": "code",
   "execution_count": 25,
   "metadata": {},
   "outputs": [],
   "source": [
    "## saving the dataframe to a csv file\n",
    "generate_dataframe().to_csv('differenciation1.csv', index=False)"
   ]
  },
  {
   "cell_type": "code",
   "execution_count": 27,
   "metadata": {},
   "outputs": [],
   "source": [
    "## creating a random exprrssion and its solution of the form a*x**b + c*x**d + e*x**f + g and assigning weights to e and g variables\n",
    "\n",
    "def generate_expression2():\n",
    "    a = random.randint(-1000, 1000)\n",
    "    b = random.randint(1, 10)\n",
    "    c = random.randint(-1000, 1000)\n",
    "    d = random.randint(1, 10)\n",
    "    e = random.randint(-1000, 1000)\n",
    "    f = random.randint(1, 10)\n",
    "    g = random.randint(-1000, 1000)\n",
    "    x = sp.Symbol('x')\n",
    "    expr = a*x**b + c*x**d + e*x**f + g\n",
    "    transformation = standard_transformations + (implicit_multiplication_application,)\n",
    "    expr = parse_expr(str(expr), transformations=transformation)\n",
    "    return expr\n",
    "\n",
    "def generate_dataframe2():\n",
    "    df = pd.DataFrame(columns=['expression', 'solution'])\n",
    "    for i in range(400):\n",
    "        expr = generate_expression2()\n",
    "        solution = differenciate(expr)\n",
    "        df = df.append({'expression': expr, 'solution': solution}, ignore_index=True)\n",
    "    return df\n",
    "\n",
    "generate_dataframe2().to_csv('differenciation2.csv', index=False)"
   ]
  },
  {
   "cell_type": "code",
   "execution_count": null,
   "metadata": {},
   "outputs": [],
   "source": [
    "## "
   ]
  }
 ],
 "metadata": {
  "kernelspec": {
   "display_name": "Python 3",
   "language": "python",
   "name": "python3"
  },
  "language_info": {
   "codemirror_mode": {
    "name": "ipython",
    "version": 3
   },
   "file_extension": ".py",
   "mimetype": "text/x-python",
   "name": "python",
   "nbconvert_exporter": "python",
   "pygments_lexer": "ipython3",
   "version": "3.10.9"
  },
  "orig_nbformat": 4,
  "vscode": {
   "interpreter": {
    "hash": "b0fa6594d8f4cbf19f97940f81e996739fb7646882a419484c72d19e05852a7e"
   }
  }
 },
 "nbformat": 4,
 "nbformat_minor": 2
}
