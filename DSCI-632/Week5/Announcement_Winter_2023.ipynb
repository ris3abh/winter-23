{
 "cells": [
  {
   "cell_type": "markdown",
   "id": "regulation-links",
   "metadata": {},
   "source": [
    "## Announcements\n",
    "\n",
    "- Next week, we do not have lecture, it would be midterm exam\n",
    "\n",
    "    - Next week, Please be in the classroom couple of minutes earlier than 3pm \n",
    "    - Have Zoom on your laptop\n",
    "    - You will connect to the Zoom, join the breakout room, share your screen and only be on the docx file which is the exam questions\n",
    "    - You are allowed and recommended to prepare a cheat sheet for yourself while studying the topics\n",
    "    - The exam is closed book buy you can use only a cheat sheet during the exam\n",
    "    - You will have 6 mandatory questions in the Exam, and one bonus question\n",
    "    - The exam has some programming questions, but those questions need at most 5-6 lines of code\n",
    "    - The required time for exam would be at most 2 hours and 30 minutes\n",
    "    - When you are done, Save your answers in docx or pdf or Jupyter Notebook and email it to me\n",
    "    \n",
    "    \n",
    "- The due date for your Final Project Scope is Feb 21\n",
    "\n",
    "    - Share one written page for your Final Project Scope with me. Email it to me\n",
    "    - So far, we have covered EDA with Pyspark but for two sessions after the midterm, we cover Machine Learning with Pyspark\n",
    "    - Start working on your Final Project as soon as having its scope and outline\n",
    "    - There is no Final Project Presentation\n",
    "    \n",
    "    \n",
    "- For Week 7 and 8, you should review the following topics in Python/Sklearn\n",
    "\n",
    "    - Label Encoder\n",
    "    - BoW/CountVectorizer\n",
    "    - One-hot-encoder\n",
    "    - Confusion Matrix\n",
    "    - MSE/RMSE"
   ]
  },
  {
   "cell_type": "code",
   "execution_count": null,
   "id": "tired-router",
   "metadata": {},
   "outputs": [],
   "source": []
  }
 ],
 "metadata": {
  "kernelspec": {
   "display_name": "Python 3",
   "language": "python",
   "name": "python3"
  },
  "language_info": {
   "codemirror_mode": {
    "name": "ipython",
    "version": 3
   },
   "file_extension": ".py",
   "mimetype": "text/x-python",
   "name": "python",
   "nbconvert_exporter": "python",
   "pygments_lexer": "ipython3",
   "version": "3.11.1 (main, Dec 23 2022, 09:28:24) [Clang 14.0.0 (clang-1400.0.29.202)]"
  },
  "vscode": {
   "interpreter": {
    "hash": "5c7b89af1651d0b8571dde13640ecdccf7d5a6204171d6ab33e7c296e100e08a"
   }
  }
 },
 "nbformat": 4,
 "nbformat_minor": 5
}
