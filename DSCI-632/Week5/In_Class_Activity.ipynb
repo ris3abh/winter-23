{
 "cells": [
  {
   "cell_type": "markdown",
   "id": "resident-costume",
   "metadata": {},
   "source": [
    "## Activity\n",
    "\n",
    "- Create a Pyspark dataframe with one column call it as name with two entries \n",
    "- Apply a function to the names in name column\n",
    "- The function with return 'Hello' + 'name'\n",
    "- Create a new column called in 'greetings' while its enetries is the apply of function to the names"
   ]
  },
  {
   "cell_type": "code",
   "execution_count": 1,
   "id": "blond-happiness",
   "metadata": {},
   "outputs": [],
   "source": [
    "import os \n",
    "os.environ[\"JAVA_HOME\"]='/usr/local/opt/openjdk@8'"
   ]
  },
  {
   "cell_type": "code",
   "execution_count": 2,
   "id": "competent-stevens",
   "metadata": {},
   "outputs": [
    {
     "name": "stderr",
     "output_type": "stream",
     "text": [
      "/Users/miladtoutounchian/anaconda3/lib/python3.6/site-packages/pyspark/context.py:238: FutureWarning: Python 3.6 support is deprecated in Spark 3.2.\n",
      "  FutureWarning\n"
     ]
    },
    {
     "name": "stdout",
     "output_type": "stream",
     "text": [
      "+-----+\n",
      "| name|\n",
      "+-----+\n",
      "| Rick|\n",
      "|Morty|\n",
      "+-----+\n",
      "\n",
      "+-----+-----------+\n",
      "| name|  greetings|\n",
      "+-----+-----------+\n",
      "| Rick| Hello Rick|\n",
      "|Morty|Hello Morty|\n",
      "+-----+-----------+\n",
      "\n",
      "+-----+-----------+\n",
      "| name|  greetings|\n",
      "+-----+-----------+\n",
      "| Rick| Hello Rick|\n",
      "|Morty|Hello Morty|\n",
      "+-----+-----------+\n",
      "\n"
     ]
    }
   ],
   "source": [
    "from pyspark.sql.types import StringType\n",
    "from pyspark.sql.functions import udf, col\n",
    "from pyspark.sql import SparkSession\n",
    "\n",
    "spark = SparkSession.builder.appName('udf_example').getOrCreate()\n",
    "\n",
    "def say_hello(name):\n",
    "     return f\"Hello {name}\"\n",
    "    \n",
    "assert say_hello(\"Summer\") == \"Hello Summer\"\n",
    "\n",
    "say_hello_udf = udf(lambda name: say_hello(name), StringType())\n",
    "\n",
    "df = spark.createDataFrame(data=[(\"Rick\",),(\"Morty\",)], schema=[\"name\"])\n",
    "df.show()\n",
    "df.withColumn(\"greetings\", say_hello_udf(col(\"name\"))).show()\n",
    "              \n",
    "# Check the following:\n",
    "df.withColumn(\"greetings\", say_hello_udf(df['name'])).show()"
   ]
  },
  {
   "cell_type": "markdown",
   "id": "heated-accreditation",
   "metadata": {},
   "source": [
    "## Activity\n",
    "\n",
    "- Create a Pyspark dataframe with two columns as name and age with one entry \n",
    "- Apply a function to the age in age column\n",
    "- The function with return 'adult' if age >= 18 else 'child'\n",
    "- Create a new column called it 'maturity' while its enetries is the apply of function to the age"
   ]
  },
  {
   "cell_type": "code",
   "execution_count": 7,
   "id": "intensive-extension",
   "metadata": {},
   "outputs": [
    {
     "name": "stderr",
     "output_type": "stream",
     "text": [
      "/Users/miladtoutounchian/anaconda3/lib/python3.6/site-packages/pyspark/sql/context.py:79: FutureWarning: Deprecated in 3.0.0. Use SparkSession.builder.getOrCreate() instead.\n",
      "  FutureWarning\n"
     ]
    },
    {
     "name": "stdout",
     "output_type": "stream",
     "text": [
      "+---+-----+--------+\n",
      "|age| name|maturity|\n",
      "+---+-----+--------+\n",
      "|  5|Alice|   child|\n",
      "+---+-----+--------+\n",
      "\n"
     ]
    }
   ],
   "source": [
    "from pyspark.sql.types import StringType\n",
    "from pyspark.sql.functions import udf\n",
    "from pyspark.sql import SQLContext\n",
    "\n",
    "maturity_udf = udf(lambda age: \"adult\" if age >=18 else \"child\", StringType())\n",
    "\n",
    "sqlContext = SQLContext(spark)\n",
    "df = sqlContext.createDataFrame([{'name': 'Alice', 'age': 5}])\n",
    "df.withColumn(\"maturity\", maturity_udf(df.age)).show()"
   ]
  }
 ],
 "metadata": {
  "kernelspec": {
   "display_name": "Python 3",
   "language": "python",
   "name": "python3"
  },
  "language_info": {
   "codemirror_mode": {
    "name": "ipython",
    "version": 3
   },
   "file_extension": ".py",
   "mimetype": "text/x-python",
   "name": "python",
   "nbconvert_exporter": "python",
   "pygments_lexer": "ipython3",
   "version": "3.11.1 (main, Dec 23 2022, 09:28:24) [Clang 14.0.0 (clang-1400.0.29.202)]"
  },
  "vscode": {
   "interpreter": {
    "hash": "5c7b89af1651d0b8571dde13640ecdccf7d5a6204171d6ab33e7c296e100e08a"
   }
  }
 },
 "nbformat": 4,
 "nbformat_minor": 5
}
