{
 "cells": [
  {
   "cell_type": "markdown",
   "id": "informative-diesel",
   "metadata": {},
   "source": [
    "## Dataframe Manipulation in Pandas"
   ]
  },
  {
   "cell_type": "code",
   "execution_count": 118,
   "id": "creative-gathering",
   "metadata": {},
   "outputs": [
    {
     "data": {
      "text/html": [
       "<div>\n",
       "<style scoped>\n",
       "    .dataframe tbody tr th:only-of-type {\n",
       "        vertical-align: middle;\n",
       "    }\n",
       "\n",
       "    .dataframe tbody tr th {\n",
       "        vertical-align: top;\n",
       "    }\n",
       "\n",
       "    .dataframe thead th {\n",
       "        text-align: right;\n",
       "    }\n",
       "</style>\n",
       "<table border=\"1\" class=\"dataframe\">\n",
       "  <thead>\n",
       "    <tr style=\"text-align: right;\">\n",
       "      <th></th>\n",
       "      <th>PassengerId</th>\n",
       "      <th>Survived</th>\n",
       "      <th>Pclass</th>\n",
       "      <th>Name</th>\n",
       "      <th>Sex</th>\n",
       "      <th>Age</th>\n",
       "      <th>SibSp</th>\n",
       "      <th>Parch</th>\n",
       "      <th>Ticket</th>\n",
       "      <th>Fare</th>\n",
       "      <th>Cabin</th>\n",
       "      <th>Embarked</th>\n",
       "    </tr>\n",
       "  </thead>\n",
       "  <tbody>\n",
       "    <tr>\n",
       "      <th>0</th>\n",
       "      <td>1</td>\n",
       "      <td>0</td>\n",
       "      <td>3</td>\n",
       "      <td>Braund, Mr. Owen Harris</td>\n",
       "      <td>male</td>\n",
       "      <td>22.0</td>\n",
       "      <td>1</td>\n",
       "      <td>0</td>\n",
       "      <td>A/5 21171</td>\n",
       "      <td>7.2500</td>\n",
       "      <td>NaN</td>\n",
       "      <td>S</td>\n",
       "    </tr>\n",
       "    <tr>\n",
       "      <th>1</th>\n",
       "      <td>2</td>\n",
       "      <td>1</td>\n",
       "      <td>1</td>\n",
       "      <td>Cumings, Mrs. John Bradley (Florence Briggs Th...</td>\n",
       "      <td>female</td>\n",
       "      <td>38.0</td>\n",
       "      <td>1</td>\n",
       "      <td>0</td>\n",
       "      <td>PC 17599</td>\n",
       "      <td>71.2833</td>\n",
       "      <td>C85</td>\n",
       "      <td>C</td>\n",
       "    </tr>\n",
       "  </tbody>\n",
       "</table>\n",
       "</div>"
      ],
      "text/plain": [
       "   PassengerId  Survived  Pclass  \\\n",
       "0            1         0       3   \n",
       "1            2         1       1   \n",
       "\n",
       "                                                Name     Sex   Age  SibSp  \\\n",
       "0                            Braund, Mr. Owen Harris    male  22.0      1   \n",
       "1  Cumings, Mrs. John Bradley (Florence Briggs Th...  female  38.0      1   \n",
       "\n",
       "   Parch     Ticket     Fare Cabin Embarked  \n",
       "0      0  A/5 21171   7.2500   NaN        S  \n",
       "1      0   PC 17599  71.2833   C85        C  "
      ]
     },
     "execution_count": 118,
     "metadata": {},
     "output_type": "execute_result"
    }
   ],
   "source": [
    "import numpy as np \n",
    "import pandas as pd \n",
    "\n",
    "df = pd.read_csv('titanic.csv')\n",
    "df.head(2)"
   ]
  },
  {
   "cell_type": "markdown",
   "id": "radio-capitol",
   "metadata": {},
   "source": [
    "## Top five rows of the dataframe for 'Survived', 'Sex', 'Age' columns"
   ]
  },
  {
   "cell_type": "code",
   "execution_count": 5,
   "id": "placed-oklahoma",
   "metadata": {},
   "outputs": [
    {
     "data": {
      "text/html": [
       "<div>\n",
       "<style scoped>\n",
       "    .dataframe tbody tr th:only-of-type {\n",
       "        vertical-align: middle;\n",
       "    }\n",
       "\n",
       "    .dataframe tbody tr th {\n",
       "        vertical-align: top;\n",
       "    }\n",
       "\n",
       "    .dataframe thead th {\n",
       "        text-align: right;\n",
       "    }\n",
       "</style>\n",
       "<table border=\"1\" class=\"dataframe\">\n",
       "  <thead>\n",
       "    <tr style=\"text-align: right;\">\n",
       "      <th></th>\n",
       "      <th>Survived</th>\n",
       "      <th>Sex</th>\n",
       "      <th>Age</th>\n",
       "    </tr>\n",
       "  </thead>\n",
       "  <tbody>\n",
       "    <tr>\n",
       "      <th>0</th>\n",
       "      <td>0</td>\n",
       "      <td>male</td>\n",
       "      <td>22.0</td>\n",
       "    </tr>\n",
       "    <tr>\n",
       "      <th>1</th>\n",
       "      <td>1</td>\n",
       "      <td>female</td>\n",
       "      <td>38.0</td>\n",
       "    </tr>\n",
       "    <tr>\n",
       "      <th>2</th>\n",
       "      <td>1</td>\n",
       "      <td>female</td>\n",
       "      <td>26.0</td>\n",
       "    </tr>\n",
       "    <tr>\n",
       "      <th>3</th>\n",
       "      <td>1</td>\n",
       "      <td>female</td>\n",
       "      <td>35.0</td>\n",
       "    </tr>\n",
       "    <tr>\n",
       "      <th>4</th>\n",
       "      <td>0</td>\n",
       "      <td>male</td>\n",
       "      <td>35.0</td>\n",
       "    </tr>\n",
       "  </tbody>\n",
       "</table>\n",
       "</div>"
      ],
      "text/plain": [
       "   Survived     Sex   Age\n",
       "0         0    male  22.0\n",
       "1         1  female  38.0\n",
       "2         1  female  26.0\n",
       "3         1  female  35.0\n",
       "4         0    male  35.0"
      ]
     },
     "execution_count": 5,
     "metadata": {},
     "output_type": "execute_result"
    }
   ],
   "source": [
    "df[['Survived', 'Sex', 'Age']].head(5)"
   ]
  },
  {
   "cell_type": "markdown",
   "id": "medium-panel",
   "metadata": {},
   "source": [
    "## Top five rows based on sliced dataframe for all female"
   ]
  },
  {
   "cell_type": "code",
   "execution_count": 7,
   "id": "unique-daniel",
   "metadata": {},
   "outputs": [
    {
     "data": {
      "text/html": [
       "<div>\n",
       "<style scoped>\n",
       "    .dataframe tbody tr th:only-of-type {\n",
       "        vertical-align: middle;\n",
       "    }\n",
       "\n",
       "    .dataframe tbody tr th {\n",
       "        vertical-align: top;\n",
       "    }\n",
       "\n",
       "    .dataframe thead th {\n",
       "        text-align: right;\n",
       "    }\n",
       "</style>\n",
       "<table border=\"1\" class=\"dataframe\">\n",
       "  <thead>\n",
       "    <tr style=\"text-align: right;\">\n",
       "      <th></th>\n",
       "      <th>PassengerId</th>\n",
       "      <th>Survived</th>\n",
       "      <th>Pclass</th>\n",
       "      <th>Name</th>\n",
       "      <th>Sex</th>\n",
       "      <th>Age</th>\n",
       "      <th>SibSp</th>\n",
       "      <th>Parch</th>\n",
       "      <th>Ticket</th>\n",
       "      <th>Fare</th>\n",
       "      <th>Cabin</th>\n",
       "      <th>Embarked</th>\n",
       "    </tr>\n",
       "  </thead>\n",
       "  <tbody>\n",
       "    <tr>\n",
       "      <th>1</th>\n",
       "      <td>2</td>\n",
       "      <td>1</td>\n",
       "      <td>1</td>\n",
       "      <td>Cumings, Mrs. John Bradley (Florence Briggs Th...</td>\n",
       "      <td>female</td>\n",
       "      <td>38.0</td>\n",
       "      <td>1</td>\n",
       "      <td>0</td>\n",
       "      <td>PC 17599</td>\n",
       "      <td>71.2833</td>\n",
       "      <td>C85</td>\n",
       "      <td>C</td>\n",
       "    </tr>\n",
       "    <tr>\n",
       "      <th>2</th>\n",
       "      <td>3</td>\n",
       "      <td>1</td>\n",
       "      <td>3</td>\n",
       "      <td>Heikkinen, Miss. Laina</td>\n",
       "      <td>female</td>\n",
       "      <td>26.0</td>\n",
       "      <td>0</td>\n",
       "      <td>0</td>\n",
       "      <td>STON/O2. 3101282</td>\n",
       "      <td>7.9250</td>\n",
       "      <td>NaN</td>\n",
       "      <td>S</td>\n",
       "    </tr>\n",
       "    <tr>\n",
       "      <th>3</th>\n",
       "      <td>4</td>\n",
       "      <td>1</td>\n",
       "      <td>1</td>\n",
       "      <td>Futrelle, Mrs. Jacques Heath (Lily May Peel)</td>\n",
       "      <td>female</td>\n",
       "      <td>35.0</td>\n",
       "      <td>1</td>\n",
       "      <td>0</td>\n",
       "      <td>113803</td>\n",
       "      <td>53.1000</td>\n",
       "      <td>C123</td>\n",
       "      <td>S</td>\n",
       "    </tr>\n",
       "    <tr>\n",
       "      <th>8</th>\n",
       "      <td>9</td>\n",
       "      <td>1</td>\n",
       "      <td>3</td>\n",
       "      <td>Johnson, Mrs. Oscar W (Elisabeth Vilhelmina Berg)</td>\n",
       "      <td>female</td>\n",
       "      <td>27.0</td>\n",
       "      <td>0</td>\n",
       "      <td>2</td>\n",
       "      <td>347742</td>\n",
       "      <td>11.1333</td>\n",
       "      <td>NaN</td>\n",
       "      <td>S</td>\n",
       "    </tr>\n",
       "    <tr>\n",
       "      <th>9</th>\n",
       "      <td>10</td>\n",
       "      <td>1</td>\n",
       "      <td>2</td>\n",
       "      <td>Nasser, Mrs. Nicholas (Adele Achem)</td>\n",
       "      <td>female</td>\n",
       "      <td>14.0</td>\n",
       "      <td>1</td>\n",
       "      <td>0</td>\n",
       "      <td>237736</td>\n",
       "      <td>30.0708</td>\n",
       "      <td>NaN</td>\n",
       "      <td>C</td>\n",
       "    </tr>\n",
       "  </tbody>\n",
       "</table>\n",
       "</div>"
      ],
      "text/plain": [
       "   PassengerId  Survived  Pclass  \\\n",
       "1            2         1       1   \n",
       "2            3         1       3   \n",
       "3            4         1       1   \n",
       "8            9         1       3   \n",
       "9           10         1       2   \n",
       "\n",
       "                                                Name     Sex   Age  SibSp  \\\n",
       "1  Cumings, Mrs. John Bradley (Florence Briggs Th...  female  38.0      1   \n",
       "2                             Heikkinen, Miss. Laina  female  26.0      0   \n",
       "3       Futrelle, Mrs. Jacques Heath (Lily May Peel)  female  35.0      1   \n",
       "8  Johnson, Mrs. Oscar W (Elisabeth Vilhelmina Berg)  female  27.0      0   \n",
       "9                Nasser, Mrs. Nicholas (Adele Achem)  female  14.0      1   \n",
       "\n",
       "   Parch            Ticket     Fare Cabin Embarked  \n",
       "1      0          PC 17599  71.2833   C85        C  \n",
       "2      0  STON/O2. 3101282   7.9250   NaN        S  \n",
       "3      0            113803  53.1000  C123        S  \n",
       "8      2            347742  11.1333   NaN        S  \n",
       "9      0            237736  30.0708   NaN        C  "
      ]
     },
     "execution_count": 7,
     "metadata": {},
     "output_type": "execute_result"
    }
   ],
   "source": [
    "df[df['Sex'] == 'female'].head(5)"
   ]
  },
  {
   "cell_type": "markdown",
   "id": "subject-soundtrack",
   "metadata": {},
   "source": [
    "## How many null values we have for 'Age' column?"
   ]
  },
  {
   "cell_type": "code",
   "execution_count": 8,
   "id": "dress-hampton",
   "metadata": {},
   "outputs": [
    {
     "data": {
      "text/plain": [
       "177"
      ]
     },
     "execution_count": 8,
     "metadata": {},
     "output_type": "execute_result"
    }
   ],
   "source": [
    "df['Age'].isna().sum()"
   ]
  },
  {
   "cell_type": "markdown",
   "id": "employed-beast",
   "metadata": {},
   "source": [
    "## Slice the dataframe when there is no null values for 'Age' column?"
   ]
  },
  {
   "cell_type": "code",
   "execution_count": 13,
   "id": "closing-credit",
   "metadata": {},
   "outputs": [
    {
     "data": {
      "text/html": [
       "<div>\n",
       "<style scoped>\n",
       "    .dataframe tbody tr th:only-of-type {\n",
       "        vertical-align: middle;\n",
       "    }\n",
       "\n",
       "    .dataframe tbody tr th {\n",
       "        vertical-align: top;\n",
       "    }\n",
       "\n",
       "    .dataframe thead th {\n",
       "        text-align: right;\n",
       "    }\n",
       "</style>\n",
       "<table border=\"1\" class=\"dataframe\">\n",
       "  <thead>\n",
       "    <tr style=\"text-align: right;\">\n",
       "      <th></th>\n",
       "      <th>PassengerId</th>\n",
       "      <th>Survived</th>\n",
       "      <th>Pclass</th>\n",
       "      <th>Name</th>\n",
       "      <th>Sex</th>\n",
       "      <th>Age</th>\n",
       "      <th>SibSp</th>\n",
       "      <th>Parch</th>\n",
       "      <th>Ticket</th>\n",
       "      <th>Fare</th>\n",
       "      <th>Cabin</th>\n",
       "      <th>Embarked</th>\n",
       "    </tr>\n",
       "  </thead>\n",
       "  <tbody>\n",
       "    <tr>\n",
       "      <th>0</th>\n",
       "      <td>1</td>\n",
       "      <td>0</td>\n",
       "      <td>3</td>\n",
       "      <td>Braund, Mr. Owen Harris</td>\n",
       "      <td>male</td>\n",
       "      <td>22.0</td>\n",
       "      <td>1</td>\n",
       "      <td>0</td>\n",
       "      <td>A/5 21171</td>\n",
       "      <td>7.2500</td>\n",
       "      <td>NaN</td>\n",
       "      <td>S</td>\n",
       "    </tr>\n",
       "    <tr>\n",
       "      <th>1</th>\n",
       "      <td>2</td>\n",
       "      <td>1</td>\n",
       "      <td>1</td>\n",
       "      <td>Cumings, Mrs. John Bradley (Florence Briggs Th...</td>\n",
       "      <td>female</td>\n",
       "      <td>38.0</td>\n",
       "      <td>1</td>\n",
       "      <td>0</td>\n",
       "      <td>PC 17599</td>\n",
       "      <td>71.2833</td>\n",
       "      <td>C85</td>\n",
       "      <td>C</td>\n",
       "    </tr>\n",
       "    <tr>\n",
       "      <th>2</th>\n",
       "      <td>3</td>\n",
       "      <td>1</td>\n",
       "      <td>3</td>\n",
       "      <td>Heikkinen, Miss. Laina</td>\n",
       "      <td>female</td>\n",
       "      <td>26.0</td>\n",
       "      <td>0</td>\n",
       "      <td>0</td>\n",
       "      <td>STON/O2. 3101282</td>\n",
       "      <td>7.9250</td>\n",
       "      <td>NaN</td>\n",
       "      <td>S</td>\n",
       "    </tr>\n",
       "    <tr>\n",
       "      <th>3</th>\n",
       "      <td>4</td>\n",
       "      <td>1</td>\n",
       "      <td>1</td>\n",
       "      <td>Futrelle, Mrs. Jacques Heath (Lily May Peel)</td>\n",
       "      <td>female</td>\n",
       "      <td>35.0</td>\n",
       "      <td>1</td>\n",
       "      <td>0</td>\n",
       "      <td>113803</td>\n",
       "      <td>53.1000</td>\n",
       "      <td>C123</td>\n",
       "      <td>S</td>\n",
       "    </tr>\n",
       "    <tr>\n",
       "      <th>4</th>\n",
       "      <td>5</td>\n",
       "      <td>0</td>\n",
       "      <td>3</td>\n",
       "      <td>Allen, Mr. William Henry</td>\n",
       "      <td>male</td>\n",
       "      <td>35.0</td>\n",
       "      <td>0</td>\n",
       "      <td>0</td>\n",
       "      <td>373450</td>\n",
       "      <td>8.0500</td>\n",
       "      <td>NaN</td>\n",
       "      <td>S</td>\n",
       "    </tr>\n",
       "  </tbody>\n",
       "</table>\n",
       "</div>"
      ],
      "text/plain": [
       "   PassengerId  Survived  Pclass  \\\n",
       "0            1         0       3   \n",
       "1            2         1       1   \n",
       "2            3         1       3   \n",
       "3            4         1       1   \n",
       "4            5         0       3   \n",
       "\n",
       "                                                Name     Sex   Age  SibSp  \\\n",
       "0                            Braund, Mr. Owen Harris    male  22.0      1   \n",
       "1  Cumings, Mrs. John Bradley (Florence Briggs Th...  female  38.0      1   \n",
       "2                             Heikkinen, Miss. Laina  female  26.0      0   \n",
       "3       Futrelle, Mrs. Jacques Heath (Lily May Peel)  female  35.0      1   \n",
       "4                           Allen, Mr. William Henry    male  35.0      0   \n",
       "\n",
       "   Parch            Ticket     Fare Cabin Embarked  \n",
       "0      0         A/5 21171   7.2500   NaN        S  \n",
       "1      0          PC 17599  71.2833   C85        C  \n",
       "2      0  STON/O2. 3101282   7.9250   NaN        S  \n",
       "3      0            113803  53.1000  C123        S  \n",
       "4      0            373450   8.0500   NaN        S  "
      ]
     },
     "execution_count": 13,
     "metadata": {},
     "output_type": "execute_result"
    }
   ],
   "source": [
    "df[df['Age'].notnull()].head(5)"
   ]
  },
  {
   "cell_type": "markdown",
   "id": "alternate-chancellor",
   "metadata": {},
   "source": [
    "## What are the unique values we have for 'Embarked' column?"
   ]
  },
  {
   "cell_type": "code",
   "execution_count": 14,
   "id": "industrial-desktop",
   "metadata": {},
   "outputs": [
    {
     "data": {
      "text/plain": [
       "array(['S', 'C', 'Q', nan], dtype=object)"
      ]
     },
     "execution_count": 14,
     "metadata": {},
     "output_type": "execute_result"
    }
   ],
   "source": [
    "df['Embarked'].unique()"
   ]
  },
  {
   "cell_type": "markdown",
   "id": "moral-wilderness",
   "metadata": {},
   "source": [
    "## How many of the these 'S', 'C', 'Q' unique values of 'Embarked' we have in the dataframe?"
   ]
  },
  {
   "cell_type": "code",
   "execution_count": 119,
   "id": "frank-executive",
   "metadata": {},
   "outputs": [
    {
     "data": {
      "text/plain": [
       "S    644\n",
       "C    168\n",
       "Q     77\n",
       "Name: Embarked, dtype: int64"
      ]
     },
     "execution_count": 119,
     "metadata": {},
     "output_type": "execute_result"
    }
   ],
   "source": [
    "df['Embarked'].value_counts()"
   ]
  },
  {
   "cell_type": "code",
   "execution_count": 120,
   "id": "chubby-inventory",
   "metadata": {},
   "outputs": [
    {
     "data": {
      "text/html": [
       "<div>\n",
       "<style scoped>\n",
       "    .dataframe tbody tr th:only-of-type {\n",
       "        vertical-align: middle;\n",
       "    }\n",
       "\n",
       "    .dataframe tbody tr th {\n",
       "        vertical-align: top;\n",
       "    }\n",
       "\n",
       "    .dataframe thead th {\n",
       "        text-align: right;\n",
       "    }\n",
       "</style>\n",
       "<table border=\"1\" class=\"dataframe\">\n",
       "  <thead>\n",
       "    <tr style=\"text-align: right;\">\n",
       "      <th></th>\n",
       "      <th>PassengerId</th>\n",
       "      <th>Survived</th>\n",
       "      <th>Pclass</th>\n",
       "      <th>Name</th>\n",
       "      <th>Sex</th>\n",
       "      <th>Age</th>\n",
       "      <th>SibSp</th>\n",
       "      <th>Parch</th>\n",
       "      <th>Ticket</th>\n",
       "      <th>Fare</th>\n",
       "      <th>Cabin</th>\n",
       "    </tr>\n",
       "    <tr>\n",
       "      <th>Embarked</th>\n",
       "      <th></th>\n",
       "      <th></th>\n",
       "      <th></th>\n",
       "      <th></th>\n",
       "      <th></th>\n",
       "      <th></th>\n",
       "      <th></th>\n",
       "      <th></th>\n",
       "      <th></th>\n",
       "      <th></th>\n",
       "      <th></th>\n",
       "    </tr>\n",
       "  </thead>\n",
       "  <tbody>\n",
       "    <tr>\n",
       "      <th>C</th>\n",
       "      <td>168</td>\n",
       "      <td>168</td>\n",
       "      <td>168</td>\n",
       "      <td>168</td>\n",
       "      <td>168</td>\n",
       "      <td>130</td>\n",
       "      <td>168</td>\n",
       "      <td>168</td>\n",
       "      <td>168</td>\n",
       "      <td>168</td>\n",
       "      <td>69</td>\n",
       "    </tr>\n",
       "    <tr>\n",
       "      <th>Q</th>\n",
       "      <td>77</td>\n",
       "      <td>77</td>\n",
       "      <td>77</td>\n",
       "      <td>77</td>\n",
       "      <td>77</td>\n",
       "      <td>28</td>\n",
       "      <td>77</td>\n",
       "      <td>77</td>\n",
       "      <td>77</td>\n",
       "      <td>77</td>\n",
       "      <td>4</td>\n",
       "    </tr>\n",
       "    <tr>\n",
       "      <th>S</th>\n",
       "      <td>644</td>\n",
       "      <td>644</td>\n",
       "      <td>644</td>\n",
       "      <td>644</td>\n",
       "      <td>644</td>\n",
       "      <td>554</td>\n",
       "      <td>644</td>\n",
       "      <td>644</td>\n",
       "      <td>644</td>\n",
       "      <td>644</td>\n",
       "      <td>129</td>\n",
       "    </tr>\n",
       "  </tbody>\n",
       "</table>\n",
       "</div>"
      ],
      "text/plain": [
       "          PassengerId  Survived  Pclass  Name  Sex  Age  SibSp  Parch  Ticket  \\\n",
       "Embarked                                                                        \n",
       "C                 168       168     168   168  168  130    168    168     168   \n",
       "Q                  77        77      77    77   77   28     77     77      77   \n",
       "S                 644       644     644   644  644  554    644    644     644   \n",
       "\n",
       "          Fare  Cabin  \n",
       "Embarked               \n",
       "C          168     69  \n",
       "Q           77      4  \n",
       "S          644    129  "
      ]
     },
     "execution_count": 120,
     "metadata": {},
     "output_type": "execute_result"
    }
   ],
   "source": [
    "df.groupby('Embarked').count()"
   ]
  },
  {
   "cell_type": "code",
   "execution_count": 55,
   "id": "guided-sodium",
   "metadata": {},
   "outputs": [
    {
     "name": "stdout",
     "output_type": "stream",
     "text": [
      "('C', ['female', 'female', 'female', 'male', 'male', 'female', 'male', 'male', 'female', 'male'], '...', 168)\n",
      "('Q', ['male', 'male', 'female', 'female', 'female', 'female', 'male', 'female', 'female', 'female'], '...', 77)\n",
      "('S', ['male', 'female', 'female', 'male', 'male', 'male', 'female', 'female', 'female', 'male'], '...', 644)\n"
     ]
    }
   ],
   "source": [
    "for i,j in df.groupby('Embarked')['Sex']:\n",
    "    print((i, list(j[0:10]),'...', len(j)))"
   ]
  },
  {
   "cell_type": "markdown",
   "id": "mysterious-essex",
   "metadata": {},
   "source": [
    "## Get the 10 first values of 'Embarked'"
   ]
  },
  {
   "cell_type": "code",
   "execution_count": 47,
   "id": "municipal-ceiling",
   "metadata": {},
   "outputs": [
    {
     "data": {
      "text/plain": [
       "array(['S', 'C', 'S', 'S', 'S', 'Q', 'S', 'S', 'S', 'C'], dtype=object)"
      ]
     },
     "execution_count": 47,
     "metadata": {},
     "output_type": "execute_result"
    }
   ],
   "source": [
    "df['Embarked'].values[:10]"
   ]
  },
  {
   "cell_type": "markdown",
   "id": "valued-folder",
   "metadata": {},
   "source": [
    "## Get the 5 first values of 'Embarked' and 'Sex'"
   ]
  },
  {
   "cell_type": "code",
   "execution_count": 49,
   "id": "secondary-qualification",
   "metadata": {},
   "outputs": [
    {
     "data": {
      "text/plain": [
       "array([['S', 'male'],\n",
       "       ['C', 'female'],\n",
       "       ['S', 'female'],\n",
       "       ['S', 'female'],\n",
       "       ['S', 'male']], dtype=object)"
      ]
     },
     "execution_count": 49,
     "metadata": {},
     "output_type": "execute_result"
    }
   ],
   "source": [
    "df[['Embarked', 'Sex']].values[:5]"
   ]
  },
  {
   "cell_type": "markdown",
   "id": "deadly-kernel",
   "metadata": {},
   "source": [
    "## Obtain the min, mean and max values of 'Age'"
   ]
  },
  {
   "cell_type": "code",
   "execution_count": 50,
   "id": "pacific-comparison",
   "metadata": {},
   "outputs": [
    {
     "data": {
      "text/plain": [
       "0.42"
      ]
     },
     "execution_count": 50,
     "metadata": {},
     "output_type": "execute_result"
    }
   ],
   "source": [
    "df['Age'].min()"
   ]
  },
  {
   "cell_type": "code",
   "execution_count": 51,
   "id": "lyric-highway",
   "metadata": {},
   "outputs": [
    {
     "data": {
      "text/plain": [
       "29.69911764705882"
      ]
     },
     "execution_count": 51,
     "metadata": {},
     "output_type": "execute_result"
    }
   ],
   "source": [
    "df['Age'].mean()"
   ]
  },
  {
   "cell_type": "code",
   "execution_count": 52,
   "id": "surface-symphony",
   "metadata": {},
   "outputs": [
    {
     "data": {
      "text/plain": [
       "80.0"
      ]
     },
     "execution_count": 52,
     "metadata": {},
     "output_type": "execute_result"
    }
   ],
   "source": [
    "df['Age'].max()"
   ]
  },
  {
   "cell_type": "markdown",
   "id": "awful-rainbow",
   "metadata": {},
   "source": [
    "## Obtain the min, mean and max values of 'Age' for only male passengers"
   ]
  },
  {
   "cell_type": "code",
   "execution_count": 56,
   "id": "breathing-alarm",
   "metadata": {},
   "outputs": [
    {
     "data": {
      "text/plain": [
       "0.42"
      ]
     },
     "execution_count": 56,
     "metadata": {},
     "output_type": "execute_result"
    }
   ],
   "source": [
    "df[df['Sex']== 'male']['Age'].min()"
   ]
  },
  {
   "cell_type": "code",
   "execution_count": 57,
   "id": "starting-hierarchy",
   "metadata": {},
   "outputs": [
    {
     "data": {
      "text/plain": [
       "80.0"
      ]
     },
     "execution_count": 57,
     "metadata": {},
     "output_type": "execute_result"
    }
   ],
   "source": [
    "df[df['Sex']== 'male']['Age'].max()"
   ]
  },
  {
   "cell_type": "code",
   "execution_count": 58,
   "id": "expected-perth",
   "metadata": {},
   "outputs": [
    {
     "data": {
      "text/plain": [
       "30.72664459161148"
      ]
     },
     "execution_count": 58,
     "metadata": {},
     "output_type": "execute_result"
    }
   ],
   "source": [
    "df[df['Sex']== 'male']['Age'].mean()"
   ]
  },
  {
   "cell_type": "code",
   "execution_count": 62,
   "id": "robust-hampton",
   "metadata": {},
   "outputs": [
    {
     "name": "stdout",
     "output_type": "stream",
     "text": [
      "('female', ['female', 'female', 'female', 'female', 'female', 'female', 'female', 'female', 'female', 'female', 'female', 'female', 'female', 'female', 'female', 'female', 'female', 'female', 'female', 'female', 'female', 'female', 'female', 'female', 'female', 'female', 'female', 'female', 'female', 'female', 'female', 'female', 'female', 'female', 'female', 'female', 'female', 'female', 'female', 'female', 'female', 'female', 'female', 'female', 'female', 'female', 'female', 'female', 'female', 'female', 'female', 'female', 'female', 'female', 'female', 'female', 'female', 'female', 'female', 'female', 'female', 'female', 'female', 'female', 'female', 'female', 'female', 'female', 'female', 'female', 'female', 'female', 'female'], 73)\n",
      "('male', ['male', 'male', 'male', 'male', 'male', 'male', 'male', 'male', 'male', 'male', 'male', 'male', 'male', 'male', 'male', 'male', 'male', 'male', 'male', 'male', 'male', 'male', 'male', 'male', 'male', 'male', 'male', 'male', 'male', 'male', 'male', 'male', 'male', 'male', 'male', 'male', 'male', 'male', 'male', 'male', 'male', 'male', 'male', 'male', 'male', 'male', 'male', 'male', 'male', 'male', 'male', 'male', 'male', 'male', 'male', 'male', 'male', 'male', 'male', 'male', 'male', 'male', 'male', 'male', 'male', 'male', 'male', 'male', 'male', 'male', 'male', 'male', 'male', 'male', 'male', 'male', 'male', 'male', 'male', 'male', 'male', 'male', 'male', 'male', 'male', 'male', 'male', 'male', 'male', 'male', 'male', 'male', 'male', 'male', 'male'], 95)\n"
     ]
    }
   ],
   "source": [
    "# Simple example to see how groupby works\n",
    "for i,j in df[df['Embarked'] == 'C'].groupby('Sex')['Sex']:\n",
    "    print((i, list(j), len(j)))"
   ]
  },
  {
   "cell_type": "markdown",
   "id": "chief-notice",
   "metadata": {},
   "source": [
    "## What is the 'Fare' based on Sex for passengers in 'Embarked' section C?"
   ]
  },
  {
   "cell_type": "code",
   "execution_count": 63,
   "id": "specified-sister",
   "metadata": {},
   "outputs": [
    {
     "name": "stdout",
     "output_type": "stream",
     "text": [
      "('female', [71.2833, 30.0708, 7.225, 146.5208, 11.2417, 41.5792, 76.7292, 14.4542, 14.4583, 22.3583, 15.2458, 28.7125, 27.7208, 146.5208, 113.275, 76.2917, 14.4542, 15.2458, 79.2, 512.3292, 91.0792, 247.5208, 110.8833, 108.9, 56.9292, 83.1583, 262.375, 134.5, 135.6333, 57.9792, 134.5, 14.4542, 75.25, 7.2292, 69.3, 82.1708, 227.525, 15.7417, 12.0, 113.275, 19.2583, 19.2583, 13.7917, 78.2667, 59.4, 57.9792, 22.3583, 106.425, 49.5, 39.6, 14.4583, 110.8833, 78.2667, 41.5792, 69.3, 19.2583, 13.4167, 227.525, 14.4542, 49.5042, 227.525, 262.375, 7.2292, 14.4542, 83.1583, 31.0, 89.1042, 15.2458, 19.2583, 13.8583, 24.0, 7.225, 83.1583], 73)\n",
      "('male', [7.225, 27.7208, 82.1708, 7.2292, 7.8958, 21.6792, 61.9792, 7.2292, 7.2292, 27.7208, 15.2458, 14.4542, 34.6542, 63.3583, 247.5208, 30.0708, 11.2417, 7.8958, 15.0458, 79.2, 61.3792, 30.6958, 15.05, 7.225, 18.7875, 31.0, 7.225, 29.7, 8.6625, 12.875, 27.7208, 7.2292, 24.0, 7.2292, 7.225, 27.7208, 55.4417, 135.6333, 211.5, 4.0125, 7.8958, 27.75, 89.1042, 7.8958, 91.0792, 29.7, 49.5042, 14.4583, 108.9, 7.225, 7.2292, 7.2292, 7.2292, 106.425, 13.8625, 110.8833, 7.225, 227.525, 7.2292, 40.125, 8.7125, 79.2, 7.225, 56.9292, 26.55, 14.4542, 15.7417, 30.5, 76.7292, 35.5, 113.275, 7.225, 512.3292, 76.7292, 41.5792, 7.225, 110.8833, 15.2458, 18.7875, 512.3292, 7.2292, 39.6, 7.225, 79.2, 30.6958, 7.2292, 8.5167, 37.0042, 37.0042, 7.2292, 29.7, 6.4375, 7.8958, 7.2292, 30.0], 95)\n"
     ]
    }
   ],
   "source": [
    "for i,j in df[df['Embarked'] == 'C'].groupby('Sex')['Fare']:\n",
    "    print((i, list(j), len(j)))"
   ]
  },
  {
   "cell_type": "markdown",
   "id": "prescription-portugal",
   "metadata": {},
   "source": [
    "## What is the 'Age' based on Sex for passengers in 'Embarked' section C?"
   ]
  },
  {
   "cell_type": "code",
   "execution_count": 69,
   "id": "unnecessary-expression",
   "metadata": {},
   "outputs": [
    {
     "name": "stdout",
     "output_type": "stream",
     "text": [
      "('female', [38.0, 14.0, nan, nan, 14.0, 3.0, 49.0, 14.5, 17.0, nan, nan, 50.0, 44.0, 58.0, 31.0, 32.0, nan, 29.0, nan, 35.0, 19.0, 50.0, nan, 17.0, 30.0, 24.0, 18.0, 40.0, 36.0, 16.0, 41.0, 45.0, 60.0, nan, 24.0, nan, 42.0, 1.0, 17.0, 23.0, 5.0, 0.75, 23.0, 54.0, 54.0, 44.0, nan, 30.0, 22.0, 48.0, nan, 39.0, 52.0, 22.0, 24.0, 0.75, 4.0, 18.0, 18.0, 24.0, 38.0, 21.0, 13.0, 15.0, 39.0, 30.0, nan, 9.0, 24.0, 27.0, 28.0, 15.0, 56.0], 73)\n",
      "('male', [nan, 40.0, 28.0, nan, nan, nan, 65.0, 28.5, 22.0, nan, nan, 26.0, 71.0, 23.0, 24.0, 32.5, 12.0, 33.0, 23.0, 24.0, 51.0, 56.0, nan, 45.5, 26.0, 40.0, 30.0, 37.0, 33.0, 36.0, nan, 23.5, 30.0, 15.0, nan, 29.0, 25.0, 22.0, 27.0, 20.0, nan, 30.0, 49.0, 29.0, 25.0, 58.0, 71.0, nan, 18.0, nan, nan, nan, 17.0, 50.0, nan, 17.0, 22.0, nan, nan, 36.0, nan, 60.0, nan, 49.0, 35.0, 27.0, 20.0, 32.0, 48.0, 56.0, 58.0, 40.0, 36.0, 27.0, 25.0, 25.0, 49.0, nan, 11.0, 35.0, 20.0, nan, nan, 46.0, nan, 30.0, 0.42, 31.0, 1.0, nan, nan, 34.5, 35.0, nan, 26.0], 95)\n"
     ]
    }
   ],
   "source": [
    "#df.filter(df['Embarked'] == 'C').select(['Sex', 'Age']).groupby('Sex').agg(F.collect_list('Age')).show()\n",
    "\n",
    "for i,j in df[df['Embarked'] == 'C'].groupby('Sex')['Age']:\n",
    "    print((i, list(j), len(j)))"
   ]
  },
  {
   "cell_type": "markdown",
   "id": "southern-creek",
   "metadata": {},
   "source": [
    "## What is the 'Age' based on Sex for passengers in 'Embarked' section C? (remove nan values for 'Age')"
   ]
  },
  {
   "cell_type": "code",
   "execution_count": 102,
   "id": "royal-blowing",
   "metadata": {},
   "outputs": [
    {
     "name": "stdout",
     "output_type": "stream",
     "text": [
      "[38.0, 14.0, 14.0, 3.0, 49.0, 14.5, 17.0, 50.0, 44.0, 58.0, 31.0, 32.0, 29.0, 35.0, 19.0, 50.0, 17.0, 30.0, 24.0, 18.0, 40.0, 36.0, 16.0, 41.0, 45.0, 60.0, 24.0, 42.0, 1.0, 17.0, 23.0, 5.0, 0.75, 23.0, 54.0, 54.0, 44.0, 30.0, 22.0, 48.0, 39.0, 52.0, 22.0, 24.0, 0.75, 4.0, 18.0, 18.0, 24.0, 38.0, 21.0, 13.0, 15.0, 39.0, 30.0, 9.0, 24.0, 27.0, 28.0, 15.0, 56.0]\n"
     ]
    }
   ],
   "source": [
    "from collections import defaultdict\n",
    "\n",
    "d = defaultdict(list)\n",
    "\n",
    "for i,j in df[df['Embarked'] == 'C'].groupby('Sex')['Age']:\n",
    "    for age in j:\n",
    "        if np.isnan(age) == False:\n",
    "            d[i].append(age)\n",
    "\n",
    "print(d['female'])"
   ]
  },
  {
   "cell_type": "code",
   "execution_count": 121,
   "id": "first-distinction",
   "metadata": {},
   "outputs": [
    {
     "name": "stdout",
     "output_type": "stream",
     "text": [
      "61\n"
     ]
    }
   ],
   "source": [
    "print(len(d['female']))"
   ]
  },
  {
   "cell_type": "code",
   "execution_count": 122,
   "id": "beneficial-friendly",
   "metadata": {},
   "outputs": [
    {
     "name": "stdout",
     "output_type": "stream",
     "text": [
      "defaultdict(<class 'list'>, {'female': [38.0, 14.0, 14.0, 3.0, 49.0, 14.5, 17.0, 50.0, 44.0, 58.0, 31.0, 32.0, 29.0, 35.0, 19.0, 50.0, 17.0, 30.0, 24.0, 18.0, 40.0, 36.0, 16.0, 41.0, 45.0, 60.0, 24.0, 42.0, 1.0, 17.0, 23.0, 5.0, 0.75, 23.0, 54.0, 54.0, 44.0, 30.0, 22.0, 48.0, 39.0, 52.0, 22.0, 24.0, 0.75, 4.0, 18.0, 18.0, 24.0, 38.0, 21.0, 13.0, 15.0, 39.0, 30.0, 9.0, 24.0, 27.0, 28.0, 15.0, 56.0], 'male': [40.0, 28.0, 65.0, 28.5, 22.0, 26.0, 71.0, 23.0, 24.0, 32.5, 12.0, 33.0, 23.0, 24.0, 51.0, 56.0, 45.5, 26.0, 40.0, 30.0, 37.0, 33.0, 36.0, 23.5, 30.0, 15.0, 29.0, 25.0, 22.0, 27.0, 20.0, 30.0, 49.0, 29.0, 25.0, 58.0, 71.0, 18.0, 17.0, 50.0, 17.0, 22.0, 36.0, 60.0, 49.0, 35.0, 27.0, 20.0, 32.0, 48.0, 56.0, 58.0, 40.0, 36.0, 27.0, 25.0, 25.0, 49.0, 11.0, 35.0, 20.0, 46.0, 30.0, 0.42, 31.0, 1.0, 34.5, 35.0, 26.0]})\n"
     ]
    }
   ],
   "source": [
    "print(d)"
   ]
  },
  {
   "cell_type": "markdown",
   "id": "intensive-astronomy",
   "metadata": {},
   "source": [
    "## Or"
   ]
  },
  {
   "cell_type": "code",
   "execution_count": 114,
   "id": "statistical-appointment",
   "metadata": {},
   "outputs": [
    {
     "data": {
      "text/plain": [
       "Sex\n",
       "female    [38.0, 14.0, 14.0, 3.0, 49.0, 14.5, 17.0, 50.0...\n",
       "male      [40.0, 28.0, 65.0, 28.5, 22.0, 26.0, 71.0, 23....\n",
       "Name: Age, dtype: object"
      ]
     },
     "execution_count": 114,
     "metadata": {},
     "output_type": "execute_result"
    }
   ],
   "source": [
    "df[df['Embarked'] == 'C'].groupby('Sex')['Age'].agg(lambda x: [i for i in x if np.isnan(i) == False])"
   ]
  },
  {
   "cell_type": "code",
   "execution_count": 115,
   "id": "further-christopher",
   "metadata": {},
   "outputs": [
    {
     "data": {
      "text/plain": [
       "Sex\n",
       "female    61.0\n",
       "male      69.0\n",
       "Name: Age, dtype: float64"
      ]
     },
     "execution_count": 115,
     "metadata": {},
     "output_type": "execute_result"
    }
   ],
   "source": [
    "df[df['Embarked'] == 'C'].groupby('Sex')['Age'].agg(lambda x: len([i for i in x if np.isnan(i) == False]))"
   ]
  },
  {
   "cell_type": "code",
   "execution_count": null,
   "id": "attractive-amendment",
   "metadata": {},
   "outputs": [],
   "source": []
  }
 ],
 "metadata": {
  "kernelspec": {
   "display_name": "Python 3",
   "language": "python",
   "name": "python3"
  },
  "language_info": {
   "codemirror_mode": {
    "name": "ipython",
    "version": 3
   },
   "file_extension": ".py",
   "mimetype": "text/x-python",
   "name": "python",
   "nbconvert_exporter": "python",
   "pygments_lexer": "ipython3",
   "version": "3.6.8"
  }
 },
 "nbformat": 4,
 "nbformat_minor": 5
}
