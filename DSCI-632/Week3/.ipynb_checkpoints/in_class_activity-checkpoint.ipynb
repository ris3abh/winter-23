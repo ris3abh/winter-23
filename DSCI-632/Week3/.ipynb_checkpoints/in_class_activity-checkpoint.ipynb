{
 "cells": [
  {
   "cell_type": "code",
   "execution_count": 1,
   "id": "surgical-ribbon",
   "metadata": {},
   "outputs": [],
   "source": [
    "def acc_fn(acc, row):\n",
    "    res = {}\n",
    "    for key,value in row.items():\n",
    "        res[key] = acc[key] + value\n",
    "    return res"
   ]
  },
  {
   "cell_type": "code",
   "execution_count": 2,
   "id": "selected-eugene",
   "metadata": {},
   "outputs": [
    {
     "name": "stdout",
     "output_type": "stream",
     "text": [
      "{0: 0.5, 1: 1.2000000000000002, 2: 0.6000000000000001}\n"
     ]
    }
   ],
   "source": [
    "dic_1, dic_2, dic_3 = {0: 0.3, 1: 0.8, 2: 0.4}, {0: 0.2, 1: 0.4, 2: 0.2}, {0: -0.1, 1: 0.4, 2: 1.6}\n",
    "print(acc_fn(dic_1, dic_2))"
   ]
  },
  {
   "cell_type": "code",
   "execution_count": 3,
   "id": "eleven-malawi",
   "metadata": {},
   "outputs": [
    {
     "name": "stdout",
     "output_type": "stream",
     "text": [
      "{0: 0.4, 1: 1.6, 2: 2.2}\n"
     ]
    }
   ],
   "source": [
    "print(acc_fn(acc_fn(dic_1,dic_2), dic_3))"
   ]
  },
  {
   "cell_type": "code",
   "execution_count": 4,
   "id": "outer-strategy",
   "metadata": {},
   "outputs": [
    {
     "data": {
      "text/plain": [
       "{0: 0.4, 1: 1.6, 2: 2.2}"
      ]
     },
     "execution_count": 4,
     "metadata": {},
     "output_type": "execute_result"
    }
   ],
   "source": [
    "from functools import reduce\n",
    "\n",
    "reduce(acc_fn, [dic_1, dic_2, dic_3])"
   ]
  },
  {
   "cell_type": "code",
   "execution_count": null,
   "id": "nuclear-canberra",
   "metadata": {},
   "outputs": [],
   "source": [
    "from pyspark import SparkContext\n",
    "sc = SparkContext()\n",
    "\n",
    "rdd1 = sc.parallelize([{0: 0.3, 1: 0.8, 2: 0.4}, \n",
    "                       {0: 0.2, 1: 0.4, 2: 0.2},\n",
    "                       {0: -0.1, 1: 0.4, 2: 1.6}])\n",
    "\n",
    "def acc_fn(acc, row):\n",
    "    res = {}\n",
    "    for key,value in row.items():\n",
    "        res[key] = acc[key] + value\n",
    "    return res\n",
    "\n",
    "vector_acc = rdd1.reduce(acc_fn)\n",
    "\n",
    "print(vector_acc)"
   ]
  }
 ],
 "metadata": {
  "kernelspec": {
   "display_name": "Python 3",
   "language": "python",
   "name": "python3"
  },
  "language_info": {
   "codemirror_mode": {
    "name": "ipython",
    "version": 3
   },
   "file_extension": ".py",
   "mimetype": "text/x-python",
   "name": "python",
   "nbconvert_exporter": "python",
   "pygments_lexer": "ipython3",
   "version": "3.6.8"
  }
 },
 "nbformat": 4,
 "nbformat_minor": 5
}
