{
 "cells": [
  {
   "cell_type": "code",
   "execution_count": 1,
   "metadata": {},
   "outputs": [],
   "source": [
    "## downloading images from the google search results for \"Statement of purpose for graduate school\""
   ]
  },
  {
   "cell_type": "code",
   "execution_count": 2,
   "metadata": {},
   "outputs": [],
   "source": [
    "\n",
    "import requests\n",
    "from bs4 import BeautifulSoup\n",
    "import re\n",
    "import os\n",
    "import urllib.request\n",
    "import time\n",
    "import random\n",
    "import pandas as pd\n",
    "import numpy as np\n",
    "\n"
   ]
  },
  {
   "cell_type": "code",
   "execution_count": 3,
   "metadata": {},
   "outputs": [],
   "source": [
    "## create a folder to store the images\n",
    "\n",
    "if not os.path.exists('images'):\n",
    "    os.makedirs('images')\n",
    "\n",
    "    "
   ]
  },
  {
   "cell_type": "code",
   "execution_count": 4,
   "metadata": {},
   "outputs": [
    {
     "name": "stdout",
     "output_type": "stream",
     "text": [
      "['https://encrypted-tbn0.gstatic.com/images?q=tbn:ANd9GcRmcYB8N7RMZmQjH9fezDEwzEaWMVuxnmcMKQ0-FKRiRnSjW5EAz3z0-UnNh4I&s', 'https://encrypted-tbn0.gstatic.com/images?q=tbn:ANd9GcRAemaFcLyMT1z8k4gF2j8epdXs8EMgK7Ky6thGk3NHkZ7-kvLYmx4IHtWp12s&s', 'https://encrypted-tbn0.gstatic.com/images?q=tbn:ANd9GcSXPDGxoO475idJy3ChdF2-2c7JJwyjLJtHQCHRDL_uFqljEX0Od2BpRCUa_A&s', 'https://encrypted-tbn0.gstatic.com/images?q=tbn:ANd9GcQyzyi54HYLKqIH3Cr255I9r0k6-LxTWAnDYmcQmxCjtVvc8VXlcPnJtP1O5A&s', 'https://encrypted-tbn0.gstatic.com/images?q=tbn:ANd9GcRn4Og821a6qNen3JBomHVha2IdcdTNghno4apKALbhc9I7MQcClsileDzqnuI&s', 'https://encrypted-tbn0.gstatic.com/images?q=tbn:ANd9GcR9BqeBly4Sc-lpKJ0HwoDU3OqxS2AxlMUTMht-HjtiVsBmhd4UkX9kws83PGw&s', 'https://encrypted-tbn0.gstatic.com/images?q=tbn:ANd9GcSYLBbnAP_l3lwv4qgmAupceicyz6aZsigmQ0_z1HM2EfcKIClDZdzZ_ld9nA&s', 'https://encrypted-tbn0.gstatic.com/images?q=tbn:ANd9GcT2gr4YvtMuyVQDz8tF_TzV3KSF4nMrgX7qW2E-lTOS0sbk5Rgf3hOCN_EEjC0&s', 'https://encrypted-tbn0.gstatic.com/images?q=tbn:ANd9GcQR-Yo4ugHS0Boj8J7QOMcMNvSRft79S8nXny_hcLh4hydDBMSP1STpbjVF5hs&s', 'https://encrypted-tbn0.gstatic.com/images?q=tbn:ANd9GcQrdxYZVigIN1c4Nyopzaljq4-TFKinECiDBH49vAT8XjwVNoBXtXBTrMjb8xA&s', 'https://encrypted-tbn0.gstatic.com/images?q=tbn:ANd9GcT7C0G4JtkKmgJ8nR3YJRBrx9NvOg5n9NXOKZjcId74FOkZTUY4iDAAaPQr-w&s', 'https://encrypted-tbn0.gstatic.com/images?q=tbn:ANd9GcQbWNN6U9tyOkY2uN9-tm9WwgXPUTwLzoy-YtqaB1Wf4IOwRqIvGqZ0SYJWzw&s', 'https://encrypted-tbn0.gstatic.com/images?q=tbn:ANd9GcQjclv5KFSjwgGzo2QM3gBVCr0nuoxpK9iPZ1AEe3BoM8BBKCxadhK9VdUnEbo&s', 'https://encrypted-tbn0.gstatic.com/images?q=tbn:ANd9GcTqRCIAiYPYk7KOxHq4m-RVikYTnWIHk94SA6tDGnUrmOeWppzeOSIrwtQeWg&s', 'https://encrypted-tbn0.gstatic.com/images?q=tbn:ANd9GcR0kgRZJxSQTYBGjDYMAcfr_5NGECtBLSQQTLETB9hy6ub_KZZ8G4Zf7YT3sVc&s', 'https://encrypted-tbn0.gstatic.com/images?q=tbn:ANd9GcTubb8x_B-CZsaFRehchDaw3gZaV8gE2qrgIm8kNHfeGq3JoUSOGPIJbEDRqXA&s', 'https://encrypted-tbn0.gstatic.com/images?q=tbn:ANd9GcTVw_ozjm9feZGIZvO1hquQArGwNx0G2zan8dgvw2k4R8LC-n3OXUPoJQ8IQA&s', 'https://encrypted-tbn0.gstatic.com/images?q=tbn:ANd9GcQoQZTkYud74u9l1SnZzqYF17K0W0b_pLRnQE5PXWzK5OgWOITTJR2MkgwiVMA&s', 'https://encrypted-tbn0.gstatic.com/images?q=tbn:ANd9GcSYy3gWcqqDEJyMbdOdoDuYccbXxFV-EKKVNRME5M20J3Z1Hv2w8OFJCEMJTYI&s', 'https://encrypted-tbn0.gstatic.com/images?q=tbn:ANd9GcQyrbfBTtdz_3E7wQjgg7tzws50yWZzSpqUmQuI7MoHFIQlmyEZgzthpL3QMw&s']\n"
     ]
    }
   ],
   "source": []
  },
  {
   "cell_type": "code",
   "execution_count": null,
   "metadata": {},
   "outputs": [],
   "source": []
  }
 ],
 "metadata": {
  "kernelspec": {
   "display_name": "Python 3.10.8 64-bit",
   "language": "python",
   "name": "python3"
  },
  "language_info": {
   "codemirror_mode": {
    "name": "ipython",
    "version": 3
   },
   "file_extension": ".py",
   "mimetype": "text/x-python",
   "name": "python",
   "nbconvert_exporter": "python",
   "pygments_lexer": "ipython3",
   "version": "3.10.8"
  },
  "orig_nbformat": 4,
  "vscode": {
   "interpreter": {
    "hash": "b0fa6594d8f4cbf19f97940f81e996739fb7646882a419484c72d19e05852a7e"
   }
  }
 },
 "nbformat": 4,
 "nbformat_minor": 2
}
