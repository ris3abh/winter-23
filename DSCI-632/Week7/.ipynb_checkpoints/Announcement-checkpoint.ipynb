{
 "cells": [
  {
   "cell_type": "markdown",
   "id": "compressed-production",
   "metadata": {},
   "source": [
    "## Announcements\n",
    "\n",
    "0- Had midterm exam last week for DSCI 632. I have done the grading of them. We had great results\n",
    "\n",
    "1- The due date for Assignment 2 is March 2nd. It is about Machine Learning in Pyspark\n",
    "\n",
    "2- The due date for Assignment 3 and 4 would be March 17 for both Assignments (LSH and Recommender System)\n",
    "\n",
    "3- The due date for Final Project is March 10, so students have time to work on Assignment 3 and 4\n",
    "\n",
    "4- We do not have on-campus sessions for Week 8. So you will watch a recorded session for Week 8. "
   ]
  }
 ],
 "metadata": {
  "kernelspec": {
   "display_name": "Python 3",
   "language": "python",
   "name": "python3"
  },
  "language_info": {
   "codemirror_mode": {
    "name": "ipython",
    "version": 3
   },
   "file_extension": ".py",
   "mimetype": "text/x-python",
   "name": "python",
   "nbconvert_exporter": "python",
   "pygments_lexer": "ipython3",
   "version": "3.6.8"
  }
 },
 "nbformat": 4,
 "nbformat_minor": 5
}
