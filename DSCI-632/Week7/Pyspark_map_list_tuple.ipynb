{
 "cells": [
  {
   "cell_type": "code",
   "execution_count": 1,
   "id": "august-missile",
   "metadata": {},
   "outputs": [],
   "source": [
    "import os \n",
    "os.environ[\"JAVA_HOME\"]='/usr/local/opt/openjdk@8'"
   ]
  },
  {
   "cell_type": "code",
   "execution_count": 2,
   "id": "verbal-freeware",
   "metadata": {},
   "outputs": [
    {
     "name": "stderr",
     "output_type": "stream",
     "text": [
      "/Users/miladtoutounchian/anaconda3/lib/python3.6/site-packages/pyspark/context.py:238: FutureWarning: Python 3.6 support is deprecated in Spark 3.2.\n",
      "  FutureWarning\n"
     ]
    }
   ],
   "source": [
    "from pyspark.sql import SparkSession\n",
    "from pyspark.sql import Row\n",
    "\n",
    "spark = SparkSession.builder.appName('SparkRowExamples.com').getOrCreate()"
   ]
  },
  {
   "cell_type": "code",
   "execution_count": 3,
   "id": "quantitative-alert",
   "metadata": {},
   "outputs": [
    {
     "name": "stdout",
     "output_type": "stream",
     "text": [
      "+---------+-------+\n",
      "|dept_name|dept_id|\n",
      "+---------+-------+\n",
      "|  Finance|     10|\n",
      "|Marketing|     20|\n",
      "|    Sales|     30|\n",
      "|       IT|     40|\n",
      "+---------+-------+\n",
      "\n"
     ]
    }
   ],
   "source": [
    "dept = [(\"Finance\",10), \n",
    "        (\"Marketing\",20), \n",
    "        (\"Sales\",30), \n",
    "        (\"IT\",40) \n",
    "      ]\n",
    "sample_rdd2 = spark.sparkContext.parallelize(dept)\n",
    "\n",
    "deptColumns = [\"dept_name\",\"dept_id\"]\n",
    "\n",
    "df2 = sample_rdd2.toDF(deptColumns)\n",
    "df2.show()"
   ]
  },
  {
   "cell_type": "code",
   "execution_count": 5,
   "id": "living-comedy",
   "metadata": {},
   "outputs": [
    {
     "name": "stdout",
     "output_type": "stream",
     "text": [
      "[['Finance', 10], ['Marketing', 20]]\n",
      "[['Finance', 10], ['Marketing', 20]]\n",
      "[('Finance', 10), ('Marketing', 20)]\n",
      "[['Fi', 10], ['Ma', 20]]\n"
     ]
    }
   ],
   "source": [
    "# We have seen this before for Titanic dataset\n",
    "print(df2.rdd.map(lambda x: [x[0], x[1]]).take(2))\n",
    "# or, we can do the followings instead:\n",
    "print(df2.rdd.map(list).take(2))\n",
    "#or \n",
    "print(df2.rdd.map(tuple).take(2))\n",
    "# however, we have more flexibility with the following:\n",
    "# the first two letters of dept_name\n",
    "print(df2.rdd.map(lambda x: [x[0][0:2], x[1]]).take(2))"
   ]
  },
  {
   "cell_type": "code",
   "execution_count": null,
   "id": "opened-rocket",
   "metadata": {},
   "outputs": [],
   "source": []
  }
 ],
 "metadata": {
  "kernelspec": {
   "display_name": "Python 3",
   "language": "python",
   "name": "python3"
  },
  "language_info": {
   "codemirror_mode": {
    "name": "ipython",
    "version": 3
   },
   "file_extension": ".py",
   "mimetype": "text/x-python",
   "name": "python",
   "nbconvert_exporter": "python",
   "pygments_lexer": "ipython3",
   "version": "3.6.8"
  }
 },
 "nbformat": 4,
 "nbformat_minor": 5
}
