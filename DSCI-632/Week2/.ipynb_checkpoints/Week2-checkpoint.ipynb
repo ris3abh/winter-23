{
 "cells": [
  {
   "cell_type": "markdown",
   "id": "empirical-example",
   "metadata": {},
   "source": [
    "# Learning Objectives:\n",
    "\n",
    "- How we can distribute some array operations/manipulations on multiple computational resources\n",
    "\n",
    "- Applications of above process known as map-reduce-filter"
   ]
  },
  {
   "cell_type": "markdown",
   "id": "invalid-presence",
   "metadata": {},
   "source": [
    "## Map-Reduce in Python\n",
    "\n",
    "- Many array manipulations/computations can be done in parallel way\n",
    "- Lambda, Map, Filter, Reduce Functions in Python: https://www.youtube.com/watch?v=cKlnR-CB3tk&t=137s"
   ]
  },
  {
   "cell_type": "markdown",
   "id": "aquatic-dining",
   "metadata": {},
   "source": [
    "## Review of lambda function\n",
    "\n",
    "- We can define a function in Python in two different ways but they are identical"
   ]
  },
  {
   "cell_type": "code",
   "execution_count": 3,
   "id": "stuffed-version",
   "metadata": {},
   "outputs": [
    {
     "name": "stdout",
     "output_type": "stream",
     "text": [
      "25\n"
     ]
    }
   ],
   "source": [
    "f = lambda x: x * x\n",
    "\n",
    "# def f(x):\n",
    "#     return x * x\n",
    "\n",
    "print(f(5))"
   ]
  },
  {
   "cell_type": "markdown",
   "id": "homeless-genesis",
   "metadata": {},
   "source": [
    "## MAP\n",
    "- Assume we want apply above function (f) to list of numbers"
   ]
  },
  {
   "cell_type": "code",
   "execution_count": 59,
   "id": "whole-point",
   "metadata": {},
   "outputs": [
    {
     "data": {
      "text/plain": [
       "[25]"
      ]
     },
     "execution_count": 59,
     "metadata": {},
     "output_type": "execute_result"
    }
   ],
   "source": [
    "# we should pass list to map (not scalar)\n",
    "# We get error if we do this: list(map(f, 5))\n",
    "list(map(f, [5]))"
   ]
  },
  {
   "cell_type": "code",
   "execution_count": 58,
   "id": "fancy-fashion",
   "metadata": {},
   "outputs": [
    {
     "data": {
      "text/plain": [
       "[25, 4, 100]"
      ]
     },
     "execution_count": 58,
     "metadata": {},
     "output_type": "execute_result"
    }
   ],
   "source": [
    "list(map(f, [5, 2, 10]))"
   ]
  },
  {
   "cell_type": "markdown",
   "id": "monthly-affairs",
   "metadata": {},
   "source": [
    "## Two ways to apply a function to all the elements of a list\n",
    "\n",
    "- Which one of the following you think would be faster if we have multiple computation resources sush as CPU cores?"
   ]
  },
  {
   "cell_type": "code",
   "execution_count": 4,
   "id": "robust-hours",
   "metadata": {},
   "outputs": [
    {
     "name": "stdout",
     "output_type": "stream",
     "text": [
      "[1, 4, 9, 16, 25, 36]\n",
      "[1, 4, 9, 16, 25, 36]\n"
     ]
    }
   ],
   "source": [
    "nums = [1, 2, 3, 4, 5, 6]\n",
    "nums_squared = list(map(lambda x: x * x, nums))\n",
    "print(nums_squared)\n",
    "\n",
    "nums_squared = [x * x for x in nums] \n",
    "print(nums_squared)"
   ]
  },
  {
   "cell_type": "markdown",
   "id": "sharp-ottawa",
   "metadata": {},
   "source": [
    "The first approache is preferable if the list is large and if we have mutiple cores for computation"
   ]
  },
  {
   "cell_type": "code",
   "execution_count": 62,
   "id": "ordinary-bracket",
   "metadata": {},
   "outputs": [
    {
     "data": {
      "text/plain": [
       "6"
      ]
     },
     "execution_count": 62,
     "metadata": {},
     "output_type": "execute_result"
    }
   ],
   "source": [
    "## Check how many cores your machine has\n",
    "## to get the number of physical Cores\n",
    "import psutil\n",
    "\n",
    "psutil.cpu_count(logical = False)"
   ]
  },
  {
   "cell_type": "markdown",
   "id": "million-tournament",
   "metadata": {},
   "source": [
    "## How map works\n",
    "\n",
    "- Imagine we have a cpu with 4 cores, below shows how map works\n",
    "- The map operation is distributable among cores\n",
    "- Each pertition and applying `f()` function to the elements of the partition can be executed at each core "
   ]
  },
  {
   "cell_type": "markdown",
   "id": "visible-sacrifice",
   "metadata": {},
   "source": [
    "<img src=\"map_multiple_cores.png\" width=\"300\" height=\"300\">"
   ]
  },
  {
   "cell_type": "markdown",
   "id": "reverse-being",
   "metadata": {},
   "source": [
    "## Map has similar behaviour as generator \n",
    "\n",
    "- Consider the following example, when iterate through the map part, then we reach at the end of process, so do the for loop again there is nothing in tha `mapping` variable"
   ]
  },
  {
   "cell_type": "code",
   "execution_count": 7,
   "id": "clinical-objective",
   "metadata": {},
   "outputs": [
    {
     "name": "stdout",
     "output_type": "stream",
     "text": [
      "('Deer', 1)\n",
      "('Bear', 1)\n",
      "('River', 1)\n",
      "('Car', 1)\n",
      "('Car', 1)\n",
      "('River', 1)\n",
      "('Deer', 1)\n",
      "('Car', 1)\n",
      "('Bear', 1)\n"
     ]
    }
   ],
   "source": [
    "words = ['Deer', 'Bear', 'River', 'Car', 'Car', 'River', 'Deer', 'Car', 'Bear']\n",
    "\n",
    "mapping = map(lambda x : (x, 1), words)\n",
    "\n",
    "for i in mapping:\n",
    "    print(i)"
   ]
  },
  {
   "cell_type": "code",
   "execution_count": 8,
   "id": "nominated-xerox",
   "metadata": {},
   "outputs": [],
   "source": [
    "for i in mapping:\n",
    "    print(i)"
   ]
  },
  {
   "cell_type": "markdown",
   "id": "faced-scout",
   "metadata": {},
   "source": [
    "## Activity: For each word in words list, create a dictionary with key as the word and value 1"
   ]
  },
  {
   "cell_type": "code",
   "execution_count": 10,
   "id": "parallel-forty",
   "metadata": {},
   "outputs": [
    {
     "name": "stdout",
     "output_type": "stream",
     "text": [
      "{'Deer': 1}\n",
      "{'Bear': 1}\n",
      "{'River': 1}\n",
      "{'Car': 1}\n",
      "{'Car': 1}\n",
      "{'River': 1}\n",
      "{'Deer': 1}\n",
      "{'Car': 1}\n",
      "{'Bear': 1}\n"
     ]
    }
   ],
   "source": [
    "# Solution\n",
    "mapping = map(lambda x : {x: 1}, words)\n",
    "\n",
    "for i in mapping:\n",
    "    print(i)"
   ]
  },
  {
   "cell_type": "markdown",
   "id": "surrounded-exclusive",
   "metadata": {},
   "source": [
    "## Reduce\n",
    "\n",
    "- Many array operations can be done in a repetitive way being applied for two elements in the list. For example, summuation of the elements of an array, intersetion of sets, maximum element of a list, ..."
   ]
  },
  {
   "cell_type": "code",
   "execution_count": 11,
   "id": "basic-peter",
   "metadata": {},
   "outputs": [
    {
     "name": "stdout",
     "output_type": "stream",
     "text": [
      "7\n"
     ]
    }
   ],
   "source": [
    "from functools import reduce\n",
    "\n",
    "print(reduce(lambda x, y: x + y, [1, 2, 4]))"
   ]
  },
  {
   "cell_type": "markdown",
   "id": "rotary-speaking",
   "metadata": {},
   "source": [
    "<img src=\"reduce_sum.png\" width=\"300\" height=\"300\">"
   ]
  },
  {
   "cell_type": "markdown",
   "id": "terminal-extension",
   "metadata": {},
   "source": [
    "In above example, the summation will be applied to the first two elements then its result with the 3rd element and do this process for the rest of elements\n"
   ]
  },
  {
   "cell_type": "code",
   "execution_count": 13,
   "id": "considerable-healing",
   "metadata": {},
   "outputs": [
    {
     "name": "stdout",
     "output_type": "stream",
     "text": [
      "{3}\n"
     ]
    }
   ],
   "source": [
    "# Another reduce example\n",
    "# what reduce will do apply x & y into the fisrt two elements of our list. Then apply two sets intersection with the previous\n",
    "# result and in corporate the third elements\n",
    "print(reduce(lambda x, y: x & y, [{1, 2, 3}, {2, 3, 4}, {3, 4, 5}]))"
   ]
  },
  {
   "cell_type": "markdown",
   "id": "recreational-collective",
   "metadata": {},
   "source": [
    "<img src=\"reduce_intersection.png\" width=\"300\" height=\"300\">"
   ]
  },
  {
   "cell_type": "code",
   "execution_count": 2,
   "id": "israeli-stick",
   "metadata": {},
   "outputs": [
    {
     "name": "stdout",
     "output_type": "stream",
     "text": [
      "{2, 3}\n",
      "{3}\n"
     ]
    }
   ],
   "source": [
    "f = lambda x, y: x & y\n",
    "Set_1 = {1, 2, 3}\n",
    "Set_2 = {2, 3, 4}\n",
    "Set_3 = {3, 4, 5}\n",
    "print(f(Set_1,Set_2))\n",
    "print(f(f(Set_1,Set_2), Set_3))"
   ]
  },
  {
   "cell_type": "markdown",
   "id": "trying-liabilities",
   "metadata": {},
   "source": [
    "## Activity:\n",
    "\n",
    "- Assume 3 dictionaries with the same keys but different values of the keys are given\n",
    "- Add the values for the same keys"
   ]
  },
  {
   "cell_type": "code",
   "execution_count": 15,
   "id": "emerging-backing",
   "metadata": {},
   "outputs": [],
   "source": [
    "# a function that adds the values of two dictionaries with the same keys\n",
    "def acc_fn(dic1, dic2):\n",
    "    res = {}\n",
    "    for key,value in dic2.items():\n",
    "        res[key] = dic1[key] + value\n",
    "    return res"
   ]
  },
  {
   "cell_type": "code",
   "execution_count": 16,
   "id": "stunning-klein",
   "metadata": {},
   "outputs": [
    {
     "name": "stdout",
     "output_type": "stream",
     "text": [
      "{0: 0.5, 1: 1.2000000000000002, 2: 0.6000000000000001}\n"
     ]
    }
   ],
   "source": [
    "dic_1, dic_2, dic_3 = {0: 0.3, 1: 0.8, 2: 0.4}, {0: 0.2, 1: 0.4, 2: 0.2}, {0: -0.1, 1: 0.4, 2: 1.6}\n",
    "print(acc_fn(dic_1, dic_2))"
   ]
  },
  {
   "cell_type": "code",
   "execution_count": 17,
   "id": "judicial-display",
   "metadata": {},
   "outputs": [
    {
     "name": "stdout",
     "output_type": "stream",
     "text": [
      "{0: 0.4, 1: 1.6, 2: 2.2}\n"
     ]
    }
   ],
   "source": [
    "print(acc_fn(acc_fn(dic_1,dic_2), dic_3))"
   ]
  },
  {
   "cell_type": "markdown",
   "id": "immune-cooper",
   "metadata": {},
   "source": [
    "Here, we apply the `acc_fn` first for two dictionaries and its result with the last dictionary"
   ]
  },
  {
   "cell_type": "code",
   "execution_count": 18,
   "id": "living-reconstruction",
   "metadata": {},
   "outputs": [
    {
     "data": {
      "text/plain": [
       "{0: 0.4, 1: 1.6, 2: 2.2}"
      ]
     },
     "execution_count": 18,
     "metadata": {},
     "output_type": "execute_result"
    }
   ],
   "source": [
    "## Better way\n",
    "from functools import reduce\n",
    "\n",
    "reduce(acc_fn, [dic_1, dic_2, dic_3])"
   ]
  },
  {
   "cell_type": "markdown",
   "id": "located-appendix",
   "metadata": {},
   "source": [
    "Getting the same result"
   ]
  },
  {
   "cell_type": "code",
   "execution_count": null,
   "id": "premium-indiana",
   "metadata": {},
   "outputs": [],
   "source": [
    "## Later, we will see we can do the exact thing using Spark\n",
    "from pyspark import SparkContext\n",
    "sc = SparkContext()\n",
    "\n",
    "sample_rdd = sc.parallelize([{0: 0.3, 1: 0.8, 2: 0.4}, \n",
    "                       {0: 0.2, 1: 0.4, 2: 0.2},\n",
    "                       {0: -0.1, 1: 0.4, 2: 1.6}])\n",
    "\n",
    "def acc_fn(dic1, dic2):\n",
    "    res = {}\n",
    "    for key,value in dic2.items():\n",
    "        res[key] = dic1[key] + value\n",
    "    return res\n",
    "\n",
    "vector_acc = sample_rdd.reduce(acc_fn)\n",
    "\n",
    "print(vector_acc)"
   ]
  },
  {
   "cell_type": "markdown",
   "id": "tough-membrane",
   "metadata": {},
   "source": [
    "## Activity: Create Histogram dictionary for given words list: Do it in Map/Reduce way\n",
    "\n",
    "- Create histogram dictionary for the given words list. First, create mapping functionality. Then use reduce to combine two dictionaries such that if the keys are the same, add the values. If they are different, append two dictionaries\n",
    "\n",
    "    - {'Deer':1} + {'Bear':1}-> {'Deer':1, 'Bear':1}\n",
    "\n",
    "    - {'Deer':1} + {'Deer':1}-> {'Deer':2}\n",
    "\n",
    "    - {'Deer':1, 'Bear':1} + {'Bear':1}-> {'Deer':1, 'Bear':2}\n",
    "    \n",
    "- Hint: https://www.kite.com/python/answers/how-to-add-values-from-two-dictionaries-in-python\n",
    "- Note: The thing we want to do is different from merging two dictionaries: https://favtutor.com/blogs/merge-dictionaries-python"
   ]
  },
  {
   "cell_type": "code",
   "execution_count": 20,
   "id": "comic-jungle",
   "metadata": {},
   "outputs": [
    {
     "data": {
      "text/plain": [
       "{'Deer': 2, 'Bear': 2, 'River': 2, 'Car': 3}"
      ]
     },
     "execution_count": 20,
     "metadata": {},
     "output_type": "execute_result"
    }
   ],
   "source": [
    "from collections import Counter\n",
    "from functools import reduce\n",
    "\n",
    "words = ['Deer', 'Bear', 'River', 'Car', 'Car', 'River', 'Deer', 'Car', 'Bear']\n",
    "\n",
    "mapping = map(lambda x : {x: 1}, words)\n",
    "\n",
    "def fn(x, y):\n",
    "    # x and y are dictionaries. Iterate over keys in y\n",
    "    for k in y:\n",
    "        # Update x dict by doing the following\n",
    "        # get the value of that key in x (if does not exist, put zero) and add with the value of that key in y\n",
    "        x[k] = x.get(k, 0) + y.get(k, 0)\n",
    "        # x[k] = x.get(k, 0) + y.get(k)\n",
    "    return x\n",
    "\n",
    "reduce(fn, mapping)"
   ]
  },
  {
   "cell_type": "code",
   "execution_count": 21,
   "id": "friendly-coalition",
   "metadata": {},
   "outputs": [
    {
     "data": {
      "text/plain": [
       "{'Deer': 1, 'Bear': 1}"
      ]
     },
     "execution_count": 21,
     "metadata": {},
     "output_type": "execute_result"
    }
   ],
   "source": [
    "fn({'Deer':1}, {'Bear':1})"
   ]
  },
  {
   "cell_type": "code",
   "execution_count": 22,
   "id": "tired-directive",
   "metadata": {},
   "outputs": [
    {
     "data": {
      "text/plain": [
       "{'Deer': 2}"
      ]
     },
     "execution_count": 22,
     "metadata": {},
     "output_type": "execute_result"
    }
   ],
   "source": [
    "fn({'Deer':1}, {'Deer':1})"
   ]
  },
  {
   "cell_type": "code",
   "execution_count": 23,
   "id": "conservative-master",
   "metadata": {},
   "outputs": [
    {
     "data": {
      "text/plain": [
       "{'Deer': 1, 'Bear': 2}"
      ]
     },
     "execution_count": 23,
     "metadata": {},
     "output_type": "execute_result"
    }
   ],
   "source": [
    "fn({'Deer':1, 'Bear':1}, {'Bear':1})"
   ]
  },
  {
   "cell_type": "code",
   "execution_count": 27,
   "id": "exterior-progressive",
   "metadata": {},
   "outputs": [
    {
     "data": {
      "text/plain": [
       "{'Deer': 2, 'Bear': 2, 'River': 2, 'Car': 3}"
      ]
     },
     "execution_count": 27,
     "metadata": {},
     "output_type": "execute_result"
    }
   ],
   "source": [
    "# Use lambda function for reduce\n",
    "mapping = map(lambda x : {x: 1}, words)\n",
    "reduce(lambda x,y : fn(x,y), mapping)"
   ]
  },
  {
   "cell_type": "markdown",
   "id": "smooth-shakespeare",
   "metadata": {},
   "source": [
    "## Question: \n",
    "- To obtain the histogram of the words list, we can do Counter(words)\n",
    "- We can also do it in map-reduce way. Which one is preferred and why?"
   ]
  },
  {
   "cell_type": "code",
   "execution_count": 28,
   "id": "recognized-lincoln",
   "metadata": {},
   "outputs": [],
   "source": [
    "words = ['Deer', 'Bear', 'River', 'Car', 'Car', 'River', 'Deer', 'Car', 'Bear']"
   ]
  },
  {
   "cell_type": "code",
   "execution_count": 29,
   "id": "liked-czech",
   "metadata": {},
   "outputs": [
    {
     "data": {
      "text/plain": [
       "{'Deer': 2, 'Bear': 2, 'River': 2, 'Car': 3}"
      ]
     },
     "execution_count": 29,
     "metadata": {},
     "output_type": "execute_result"
    }
   ],
   "source": [
    "dict(Counter(words))"
   ]
  },
  {
   "cell_type": "code",
   "execution_count": 30,
   "id": "legal-monaco",
   "metadata": {},
   "outputs": [
    {
     "data": {
      "text/plain": [
       "{'Deer': 2, 'Bear': 2, 'River': 2, 'Car': 3}"
      ]
     },
     "execution_count": 30,
     "metadata": {},
     "output_type": "execute_result"
    }
   ],
   "source": [
    "mapping = map(lambda x : {x: 1}, words)\n",
    "reduce(lambda x,y : fn(x,y), mapping)"
   ]
  },
  {
   "cell_type": "markdown",
   "id": "trying-simulation",
   "metadata": {},
   "source": [
    "We get excactly the same result, but which one is preferable if words would be a large list and we have computational resources such as multiple CPUs?"
   ]
  },
  {
   "cell_type": "markdown",
   "id": "manufactured-shakespeare",
   "metadata": {},
   "source": [
    "## Activity: Obtain the average value of a list by map/reduce"
   ]
  },
  {
   "cell_type": "code",
   "execution_count": 31,
   "id": "quick-yellow",
   "metadata": {},
   "outputs": [
    {
     "data": {
      "text/plain": [
       "17"
      ]
     },
     "execution_count": 31,
     "metadata": {},
     "output_type": "execute_result"
    }
   ],
   "source": [
    "## This is not enough because then we do not know how many elements ls_a has\n",
    "ls_a = [7, 2, 8]\n",
    "reduce(lambda x, y: x + y, ls_a)"
   ]
  },
  {
   "cell_type": "code",
   "execution_count": 32,
   "id": "injured-shield",
   "metadata": {},
   "outputs": [
    {
     "data": {
      "text/plain": [
       "(17, 3)"
      ]
     },
     "execution_count": 32,
     "metadata": {},
     "output_type": "execute_result"
    }
   ],
   "source": [
    "ls_a = [7, 2, 8]\n",
    "mapping  = map(lambda x: (x, 1), ls_a)\n",
    "reduce(lambda x, y: (x[0] + y[0], x[1] + y[1]), mapping)"
   ]
  },
  {
   "cell_type": "code",
   "execution_count": 33,
   "id": "arranged-evanescence",
   "metadata": {},
   "outputs": [
    {
     "name": "stdout",
     "output_type": "stream",
     "text": [
      "(17, 3)\n"
     ]
    }
   ],
   "source": [
    "print((sum(ls_a),len(ls_a)))"
   ]
  },
  {
   "cell_type": "markdown",
   "id": "crucial-programming",
   "metadata": {},
   "source": [
    "### Explain why the following does not work?\n",
    "- Assume we only want to obtain the number of elements"
   ]
  },
  {
   "cell_type": "code",
   "execution_count": 34,
   "id": "dutch-footwear",
   "metadata": {},
   "outputs": [
    {
     "ename": "TypeError",
     "evalue": "'int' object is not subscriptable",
     "output_type": "error",
     "traceback": [
      "\u001b[0;31m---------------------------------------------------------------------------\u001b[0m",
      "\u001b[0;31mTypeError\u001b[0m                                 Traceback (most recent call last)",
      "\u001b[0;32m<ipython-input-34-c9b74fae4b33>\u001b[0m in \u001b[0;36m<module>\u001b[0;34m()\u001b[0m\n\u001b[1;32m      1\u001b[0m \u001b[0mls_a\u001b[0m \u001b[0;34m=\u001b[0m \u001b[0;34m[\u001b[0m\u001b[0;36m7\u001b[0m\u001b[0;34m,\u001b[0m \u001b[0;36m2\u001b[0m\u001b[0;34m,\u001b[0m \u001b[0;36m8\u001b[0m\u001b[0;34m]\u001b[0m\u001b[0;34m\u001b[0m\u001b[0;34m\u001b[0m\u001b[0m\n\u001b[1;32m      2\u001b[0m \u001b[0mmapping\u001b[0m  \u001b[0;34m=\u001b[0m \u001b[0mmap\u001b[0m\u001b[0;34m(\u001b[0m\u001b[0;32mlambda\u001b[0m \u001b[0mx\u001b[0m\u001b[0;34m:\u001b[0m \u001b[0;34m(\u001b[0m\u001b[0mx\u001b[0m\u001b[0;34m,\u001b[0m \u001b[0;36m1\u001b[0m\u001b[0;34m)\u001b[0m\u001b[0;34m,\u001b[0m \u001b[0mls_a\u001b[0m\u001b[0;34m)\u001b[0m\u001b[0;34m\u001b[0m\u001b[0;34m\u001b[0m\u001b[0m\n\u001b[0;32m----> 3\u001b[0;31m \u001b[0mreduce\u001b[0m\u001b[0;34m(\u001b[0m\u001b[0;32mlambda\u001b[0m \u001b[0mx\u001b[0m\u001b[0;34m,\u001b[0m \u001b[0my\u001b[0m\u001b[0;34m:\u001b[0m \u001b[0mx\u001b[0m\u001b[0;34m[\u001b[0m\u001b[0;36m1\u001b[0m\u001b[0;34m]\u001b[0m \u001b[0;34m+\u001b[0m \u001b[0my\u001b[0m\u001b[0;34m[\u001b[0m\u001b[0;36m1\u001b[0m\u001b[0;34m]\u001b[0m\u001b[0;34m,\u001b[0m \u001b[0mmapping\u001b[0m\u001b[0;34m)\u001b[0m\u001b[0;34m\u001b[0m\u001b[0;34m\u001b[0m\u001b[0m\n\u001b[0m",
      "\u001b[0;32m<ipython-input-34-c9b74fae4b33>\u001b[0m in \u001b[0;36m<lambda>\u001b[0;34m(x, y)\u001b[0m\n\u001b[1;32m      1\u001b[0m \u001b[0mls_a\u001b[0m \u001b[0;34m=\u001b[0m \u001b[0;34m[\u001b[0m\u001b[0;36m7\u001b[0m\u001b[0;34m,\u001b[0m \u001b[0;36m2\u001b[0m\u001b[0;34m,\u001b[0m \u001b[0;36m8\u001b[0m\u001b[0;34m]\u001b[0m\u001b[0;34m\u001b[0m\u001b[0;34m\u001b[0m\u001b[0m\n\u001b[1;32m      2\u001b[0m \u001b[0mmapping\u001b[0m  \u001b[0;34m=\u001b[0m \u001b[0mmap\u001b[0m\u001b[0;34m(\u001b[0m\u001b[0;32mlambda\u001b[0m \u001b[0mx\u001b[0m\u001b[0;34m:\u001b[0m \u001b[0;34m(\u001b[0m\u001b[0mx\u001b[0m\u001b[0;34m,\u001b[0m \u001b[0;36m1\u001b[0m\u001b[0;34m)\u001b[0m\u001b[0;34m,\u001b[0m \u001b[0mls_a\u001b[0m\u001b[0;34m)\u001b[0m\u001b[0;34m\u001b[0m\u001b[0;34m\u001b[0m\u001b[0m\n\u001b[0;32m----> 3\u001b[0;31m \u001b[0mreduce\u001b[0m\u001b[0;34m(\u001b[0m\u001b[0;32mlambda\u001b[0m \u001b[0mx\u001b[0m\u001b[0;34m,\u001b[0m \u001b[0my\u001b[0m\u001b[0;34m:\u001b[0m \u001b[0mx\u001b[0m\u001b[0;34m[\u001b[0m\u001b[0;36m1\u001b[0m\u001b[0;34m]\u001b[0m \u001b[0;34m+\u001b[0m \u001b[0my\u001b[0m\u001b[0;34m[\u001b[0m\u001b[0;36m1\u001b[0m\u001b[0;34m]\u001b[0m\u001b[0;34m,\u001b[0m \u001b[0mmapping\u001b[0m\u001b[0;34m)\u001b[0m\u001b[0;34m\u001b[0m\u001b[0;34m\u001b[0m\u001b[0m\n\u001b[0m",
      "\u001b[0;31mTypeError\u001b[0m: 'int' object is not subscriptable"
     ]
    }
   ],
   "source": [
    "ls_a = [7, 2, 8]\n",
    "mapping  = map(lambda x: (x, 1), ls_a)\n",
    "reduce(lambda x, y: x[1] + y[1], mapping)"
   ]
  },
  {
   "cell_type": "markdown",
   "id": "capital-seeking",
   "metadata": {},
   "source": [
    "The above code does not work because the reduce function will return an integer (which is 2) for the first two tuples in mapping and then the type of variable for x and y for the third element (and result of the first two tuples) in mapping is an integer for x and a tuple for y which are different from each other and x[1] is not defined. It works only if `ls_a` has two elements only (see below) which is not what we want from map/reduce application (large list)"
   ]
  },
  {
   "cell_type": "code",
   "execution_count": 37,
   "id": "further-lotus",
   "metadata": {},
   "outputs": [
    {
     "data": {
      "text/plain": [
       "2"
      ]
     },
     "execution_count": 37,
     "metadata": {},
     "output_type": "execute_result"
    }
   ],
   "source": [
    "ls_a = [7, 2]\n",
    "mapping  = map(lambda x: (x, 1), ls_a)\n",
    "reduce(lambda x, y: x[1] + y[1], mapping)"
   ]
  },
  {
   "cell_type": "code",
   "execution_count": 38,
   "id": "negative-wrestling",
   "metadata": {},
   "outputs": [
    {
     "data": {
      "text/plain": [
       "2"
      ]
     },
     "execution_count": 38,
     "metadata": {},
     "output_type": "execute_result"
    }
   ],
   "source": [
    "## Simpler way:\n",
    "reduce(lambda x, y: x + y, map(lambda x:1, ls_a))"
   ]
  },
  {
   "cell_type": "markdown",
   "id": "dynamic-serial",
   "metadata": {},
   "source": [
    "## *arg\n",
    "\n",
    "- Write a function when we pass $n$ lists, it returns their intersection (common element(s) among them). But we do not know $n$ beforehand \n",
    "- Use *arg if the number of input arguments is unknown "
   ]
  },
  {
   "cell_type": "code",
   "execution_count": 39,
   "id": "technical-anchor",
   "metadata": {},
   "outputs": [
    {
     "name": "stdout",
     "output_type": "stream",
     "text": [
      "{'a'}\n"
     ]
    }
   ],
   "source": [
    "from functools import reduce\n",
    "\n",
    "def reduce_intersection(*args):\n",
    "    mapping = map(set, args)\n",
    "    result = reduce(lambda x, y: x & y, mapping)\n",
    "    print(result)\n",
    "    \n",
    "reduce_intersection(['a', 'b'], ['a', 'c'], ['a', 'b'])"
   ]
  },
  {
   "cell_type": "markdown",
   "id": "biological-queen",
   "metadata": {},
   "source": [
    "## Activity: Filter and reduce\n",
    "\n",
    "- For the given fruit list, return all the common letters we have if the fruit names start with letter A"
   ]
  },
  {
   "cell_type": "code",
   "execution_count": 41,
   "id": "arabic-adrian",
   "metadata": {},
   "outputs": [
    {
     "data": {
      "text/plain": [
       "['Apple', 'Apricot']"
      ]
     },
     "execution_count": 41,
     "metadata": {},
     "output_type": "execute_result"
    }
   ],
   "source": [
    "fruit = [\"Apple\", \"Banana\", \"Pear\", \"Apricot\", \"Orange\"]\n",
    "\n",
    "list(filter(lambda x: x[0]=='A', fruit))"
   ]
  },
  {
   "cell_type": "code",
   "execution_count": 42,
   "id": "stock-bubble",
   "metadata": {},
   "outputs": [
    {
     "data": {
      "text/plain": [
       "{'A', 'p'}"
      ]
     },
     "execution_count": 42,
     "metadata": {},
     "output_type": "execute_result"
    }
   ],
   "source": [
    "from functools import reduce\n",
    "reduce(lambda x,y: set(x).intersection(set(y)), filter(lambda x:x[0]=='A', fruit))"
   ]
  },
  {
   "cell_type": "markdown",
   "id": "weekly-massage",
   "metadata": {},
   "source": [
    "## Apply Map for muliple lists\n",
    "- Two lists are given, do element-wise maximum operation"
   ]
  },
  {
   "cell_type": "code",
   "execution_count": 43,
   "id": "bizarre-treat",
   "metadata": {},
   "outputs": [
    {
     "name": "stdout",
     "output_type": "stream",
     "text": [
      "(2, 3)\n",
      "(4, 1)\n"
     ]
    }
   ],
   "source": [
    "# Reveiw about zip\n",
    "a = [2, 4]\n",
    "b = [3, 1]\n",
    "\n",
    "for i,j in zip(a,b):\n",
    "    pair = (i,j)\n",
    "    print(pair)"
   ]
  },
  {
   "cell_type": "code",
   "execution_count": 44,
   "id": "unlimited-intermediate",
   "metadata": {},
   "outputs": [
    {
     "data": {
      "text/plain": [
       "[3, 4]"
      ]
     },
     "execution_count": 44,
     "metadata": {},
     "output_type": "execute_result"
    }
   ],
   "source": [
    "a = [2, 4]\n",
    "b = [3, 1]\n",
    "#each pair is (a[0], b[0]), (a[1],b[1]), ..., tuples\n",
    "list(map(lambda pair: max(pair), zip(a, b)))"
   ]
  },
  {
   "cell_type": "code",
   "execution_count": 45,
   "id": "revised-personality",
   "metadata": {},
   "outputs": [
    {
     "data": {
      "text/plain": [
       "[3, 4]"
      ]
     },
     "execution_count": 45,
     "metadata": {},
     "output_type": "execute_result"
    }
   ],
   "source": [
    "# the same as above\n",
    "a = [2, 4]\n",
    "b = [3, 1]\n",
    "list(map(lambda pair: max(pair[0],pair[1]), zip(a, b)))"
   ]
  },
  {
   "cell_type": "markdown",
   "id": "hawaiian-creek",
   "metadata": {},
   "source": [
    "## Acivity:\n",
    "\n",
    "- Implement MSE calculation in Map-Reduce way"
   ]
  },
  {
   "cell_type": "code",
   "execution_count": 46,
   "id": "shaped-forestry",
   "metadata": {},
   "outputs": [
    {
     "name": "stdout",
     "output_type": "stream",
     "text": [
      "246.1875\n"
     ]
    }
   ],
   "source": [
    "# MSE implementation without map-reduce\n",
    "def mse(y_true, y_pred):\n",
    "    N = len(y_true)\n",
    "    s = sum([(i - j)**2 for i, j in zip(y_true, y_pred)])\n",
    "    return s/N\n",
    "\n",
    "\n",
    "print(mse([-52, -54, -31, -16], [-38.25, -38.25, -38.25, -38.25]))"
   ]
  },
  {
   "cell_type": "code",
   "execution_count": 47,
   "id": "measured-chambers",
   "metadata": {},
   "outputs": [
    {
     "data": {
      "text/plain": [
       "[189.0625, 248.0625, 52.5625, 495.0625]"
      ]
     },
     "execution_count": 47,
     "metadata": {},
     "output_type": "execute_result"
    }
   ],
   "source": [
    "y_true = [-52, -54, -31, -16]\n",
    "y_pred = [-38.25, -38.25, -38.25, -38.25]\n",
    "list(map(lambda pair: (pair[0] - pair[1])**2, zip(y_true, y_pred)))"
   ]
  },
  {
   "cell_type": "code",
   "execution_count": 48,
   "id": "working-concern",
   "metadata": {},
   "outputs": [
    {
     "data": {
      "text/plain": [
       "246.1875"
      ]
     },
     "execution_count": 48,
     "metadata": {},
     "output_type": "execute_result"
    }
   ],
   "source": [
    "from functools import reduce\n",
    "\n",
    "se = reduce(lambda x, y: x + y, map(lambda pair: (pair[0] - pair[1])**2, zip(y_true, y_pred)))\n",
    "mse = se/len(y_true)\n",
    "mse"
   ]
  },
  {
   "cell_type": "code",
   "execution_count": 49,
   "id": "frozen-greece",
   "metadata": {},
   "outputs": [],
   "source": [
    "# Complete MSE implementation using map-reduce\n",
    "def mse_map_reduce(y_true, y_pred):\n",
    "    N = reduce(lambda x, y: x + y, map(lambda x:1, y_true))\n",
    "    s = reduce(lambda x, y: x + y, map(lambda pair: (pair[0] - pair[1])**2, zip(y_true, y_pred)))\n",
    "    return s/N"
   ]
  },
  {
   "cell_type": "code",
   "execution_count": 50,
   "id": "religious-vault",
   "metadata": {},
   "outputs": [
    {
     "data": {
      "text/plain": [
       "246.1875"
      ]
     },
     "execution_count": 50,
     "metadata": {},
     "output_type": "execute_result"
    }
   ],
   "source": [
    "mse_map_reduce( [-52, -54, -31, -16], [-38.25, -38.25, -38.25, -38.25])"
   ]
  },
  {
   "cell_type": "markdown",
   "id": "searching-rocket",
   "metadata": {},
   "source": [
    "## Map for list of list\n",
    "\n",
    "- Sum the elements of all list within a list"
   ]
  },
  {
   "cell_type": "code",
   "execution_count": 52,
   "id": "marked-links",
   "metadata": {},
   "outputs": [],
   "source": [
    "def fn(x):\n",
    "    return sum(x)"
   ]
  },
  {
   "cell_type": "code",
   "execution_count": 53,
   "id": "driving-chase",
   "metadata": {},
   "outputs": [
    {
     "data": {
      "text/plain": [
       "<map at 0x7fd7653ad2b0>"
      ]
     },
     "execution_count": 53,
     "metadata": {},
     "output_type": "execute_result"
    }
   ],
   "source": [
    "map(fn, [[1, 2], [4, 5]])"
   ]
  },
  {
   "cell_type": "code",
   "execution_count": 54,
   "id": "former-benjamin",
   "metadata": {},
   "outputs": [
    {
     "name": "stdout",
     "output_type": "stream",
     "text": [
      "3\n",
      "9\n"
     ]
    }
   ],
   "source": [
    "for sum_of_element in map(fn, [[1, 2], [4, 5]]):\n",
    "    print(sum_of_element)"
   ]
  },
  {
   "cell_type": "markdown",
   "id": "frequent-fraction",
   "metadata": {},
   "source": [
    "## See an example of map in RBM\n",
    "\n",
    "- open `map_pool_example_in_rbm.py` and find where it has used map"
   ]
  },
  {
   "cell_type": "markdown",
   "id": "molecular-collection",
   "metadata": {},
   "source": [
    "## How to distribute map among cores"
   ]
  },
  {
   "cell_type": "code",
   "execution_count": null,
   "id": "enormous-chambers",
   "metadata": {},
   "outputs": [],
   "source": [
    "from multiprocessing import Pool\n",
    "\n",
    "with Pool() as P:\n",
    "    xtransList = P.map(some_func, a_list)"
   ]
  },
  {
   "cell_type": "markdown",
   "id": "ready-baltimore",
   "metadata": {},
   "source": [
    "## Resources\n",
    "\n",
    "- https://dfrieds.com/python/intro-multithreading-and-multiprocessing.html"
   ]
  }
 ],
 "metadata": {
  "kernelspec": {
   "display_name": "Python 3",
   "language": "python",
   "name": "python3"
  },
  "language_info": {
   "codemirror_mode": {
    "name": "ipython",
    "version": 3
   },
   "file_extension": ".py",
   "mimetype": "text/x-python",
   "name": "python",
   "nbconvert_exporter": "python",
   "pygments_lexer": "ipython3",
   "version": "3.6.8"
  }
 },
 "nbformat": 4,
 "nbformat_minor": 5
}
