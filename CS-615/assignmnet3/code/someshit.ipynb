{
 "cells": [
  {
   "cell_type": "code",
   "execution_count": 1,
   "metadata": {},
   "outputs": [],
   "source": [
    "import pandas as pd\n",
    "import numpy as np\n",
    "import matplotlib.pyplot as plt"
   ]
  },
  {
   "cell_type": "code",
   "execution_count": 1,
   "metadata": {},
   "outputs": [
    {
     "ename": "",
     "evalue": "",
     "output_type": "error",
     "traceback": [
      "\u001b[1;31mThe Kernel crashed while executing code in the the current cell or a previous cell. Please review the code in the cell(s) to identify a possible cause of the failure. Click <a href='https://aka.ms/vscodeJupyterKernelCrash'>here</a> for more info. View Jupyter <a href='command:jupyter.viewOutput'>log</a> for further details."
     ]
    },
    {
     "ename": "",
     "evalue": "",
     "output_type": "error",
     "traceback": [
      "\u001b[1;31mCanceled future for execute_request message before replies were done"
     ]
    }
   ],
   "source": [
    "import numpy as np\n",
    "import matplotlib.pyplot as plt\n",
    "from layers import *\n",
    "import math\n",
    "\n",
    "def readCSV():\n",
    "    dataIn = np.genfromtxt('../data/kidCreative.csv', delimiter=',')\n",
    "    return dataIn[1:]\n",
    "\n",
    "X = readCSV()\n",
    "Y = X[:, [1]].copy()\n",
    "X = np.delete(X, 1, axis=1)\n",
    "\n",
    "L1 = inputLayer(X)\n",
    "L2 = fullyConnectedLayer(X.shape[1], 1)\n",
    "L3 = LogisticSigmoid()\n",
    "L4 = NegativeLikelihood()\n",
    "\n",
    "L = [L1, L2, L3, L4]\n",
    "\n",
    "## for 1000 epochs and learning rate 0.0001 doing forward and backward pass and updating weights and biases for each layer\n",
    "\n",
    "def propagation(epoch, learning_rate, h, L, Y):\n",
    "    eva = []\n",
    "    for i in range(epoch):\n",
    "       ## forward pass\n",
    "        for i in range(len(L)-1):\n",
    "            h = L[i].forward(h)\n",
    "        h = np.round(h)\n",
    "        ## evaluating loss\n",
    "        evaluate = L[-1].eval(Y,h)\n",
    "        eva.append(evaluate)\n",
    "        ## backward pass\n",
    "        grad = L[-1].gradient(Y,h)\n",
    "        for i in range(len(L)-2,0,-1):\n",
    "            newgrad = L[i].backward(grad)\n",
    "            if (isinstance(L[i], fullyConnectedLayer)):\n",
    "                L[i].update_weights(grad,learning_rate)\n",
    "            grad = newgrad\n",
    "        print(\"Loss: \", evaluate, \"Epoch: \", i)\n",
    "\n",
    "    return eva, h\n",
    "\n",
    "eva, h = propagation(1000, math.pow(10,-4), X, L, Y)\n",
    "print(eva)\n",
    "print(h)\n",
    "\n",
    "print(\"Accuracy: \", np.mean(Y == h))\n",
    "\n",
    "plt.plot(eva)\n",
    "plt.xlabel('Epoch')\n",
    "plt.ylabel('Loss')\n",
    "plt.show()\n"
   ]
  },
  {
   "cell_type": "code",
   "execution_count": null,
   "metadata": {},
   "outputs": [],
   "source": []
  }
 ],
 "metadata": {
  "kernelspec": {
   "display_name": "Python 3",
   "language": "python",
   "name": "python3"
  },
  "language_info": {
   "codemirror_mode": {
    "name": "ipython",
    "version": 3
   },
   "file_extension": ".py",
   "mimetype": "text/x-python",
   "name": "python",
   "nbconvert_exporter": "python",
   "pygments_lexer": "ipython3",
   "version": "3.10.9"
  },
  "orig_nbformat": 4,
  "vscode": {
   "interpreter": {
    "hash": "b0fa6594d8f4cbf19f97940f81e996739fb7646882a419484c72d19e05852a7e"
   }
  }
 },
 "nbformat": 4,
 "nbformat_minor": 2
}
