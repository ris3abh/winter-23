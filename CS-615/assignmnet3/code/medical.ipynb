{
 "cells": [
  {
   "cell_type": "code",
   "execution_count": 41,
   "metadata": {},
   "outputs": [],
   "source": [
    "import numpy as np\n",
    "import pandas as pd\n",
    "import matplotlib.pyplot as plt\n",
    "import seaborn as sns"
   ]
  },
  {
   "cell_type": "code",
   "execution_count": 51,
   "metadata": {},
   "outputs": [],
   "source": [
    "def readCSV():\n",
    "    dataIn = np.genfromtxt('/Users/rishabhsharma/Documents/GitHub/winter-23/CS-615/assignmnet3/medical.csv', delimiter=',')\n",
    "    return dataIn[1:]\n",
    "\n",
    "X = readCSV()"
   ]
  },
  {
   "cell_type": "code",
   "execution_count": 53,
   "metadata": {},
   "outputs": [],
   "source": [
    "Y = X[:, [-1]].copy()"
   ]
  },
  {
   "cell_type": "code",
   "execution_count": 58,
   "metadata": {},
   "outputs": [],
   "source": [
    "X = np.delete(X, -1, axis=1)"
   ]
  },
  {
   "cell_type": "code",
   "execution_count": 59,
   "metadata": {},
   "outputs": [
    {
     "data": {
      "text/plain": [
       "(1338, 9)"
      ]
     },
     "execution_count": 59,
     "metadata": {},
     "output_type": "execute_result"
    }
   ],
   "source": [
    "X.shape"
   ]
  },
  {
   "cell_type": "code",
   "execution_count": 60,
   "metadata": {},
   "outputs": [
    {
     "data": {
      "text/plain": [
       "(1338, 1)"
      ]
     },
     "execution_count": 60,
     "metadata": {},
     "output_type": "execute_result"
    }
   ],
   "source": [
    "Y.shape"
   ]
  },
  {
   "cell_type": "code",
   "execution_count": 68,
   "metadata": {},
   "outputs": [
    {
     "ename": "AttributeError",
     "evalue": "'list' object has no attribute 'fullyConnectedLayer'",
     "output_type": "error",
     "traceback": [
      "\u001b[0;31m---------------------------------------------------------------------------\u001b[0m",
      "\u001b[0;31mAttributeError\u001b[0m                            Traceback (most recent call last)",
      "Cell \u001b[0;32mIn [68], line 20\u001b[0m\n\u001b[1;32m     18\u001b[0m \u001b[39mfor\u001b[39;00m i \u001b[39min\u001b[39;00m \u001b[39mrange\u001b[39m(\u001b[39mlen\u001b[39m(L)\u001b[39m-\u001b[39m\u001b[39m2\u001b[39m,\u001b[39m0\u001b[39m,\u001b[39m-\u001b[39m\u001b[39m1\u001b[39m):\n\u001b[1;32m     19\u001b[0m     newgrad \u001b[39m=\u001b[39m L[i]\u001b[39m.\u001b[39mbackward(grad)\n\u001b[0;32m---> 20\u001b[0m     \u001b[39mif\u001b[39;00m (\u001b[39misinstance\u001b[39m(L[i], layers\u001b[39m.\u001b[39;49mfullyConnectedLayer)):\n\u001b[1;32m     21\u001b[0m         L[i]\u001b[39m.\u001b[39mupdateWeights(grad,math\u001b[39m.\u001b[39mpow(\u001b[39m10\u001b[39m,\u001b[39m-\u001b[39m\u001b[39m4\u001b[39m))\n\u001b[1;32m     22\u001b[0m     grad \u001b[39m=\u001b[39m newgrad\n",
      "\u001b[0;31mAttributeError\u001b[0m: 'list' object has no attribute 'fullyConnectedLayer'"
     ]
    }
   ],
   "source": [
    "from layers import *\n",
    "import math\n",
    "\n",
    "L1 = inputLayer(X)\n",
    "L2 = LinearLayer()\n",
    "L3 = fullyConnectedLayer(X.shape[1], 1)\n",
    "L4 = SquaredErrorLoss()\n",
    "\n",
    "L = [L1, L2, L3, L4]\n",
    "\n",
    "#forwards!\n",
    "h = X\n",
    "for i in range(len(L)-1):\n",
    "    h = L[i].forward(h)\n",
    "\n",
    "#backwards!\n",
    "grad = L[-1].gradient(Y,h)\n",
    "for i in range(len(L)-2,0,-1):\n",
    "    newgrad = L[i].backward(grad)\n",
    "    if (isinstance(L[i], fullyConnectedLayer)):\n",
    "        L[i].updateWeights(grad,math.pow(10,-4))\n",
    "    grad = newgrad"
   ]
  },
  {
   "cell_type": "code",
   "execution_count": 66,
   "metadata": {},
   "outputs": [
    {
     "data": {
      "text/plain": [
       "array([[ 0.000265  ],\n",
       "       [ 0.00040548],\n",
       "       [ 0.00019138],\n",
       "       ...,\n",
       "       [ 0.00037857],\n",
       "       [ 0.00020666],\n",
       "       [-0.00016398]])"
      ]
     },
     "execution_count": 66,
     "metadata": {},
     "output_type": "execute_result"
    }
   ],
   "source": [
    "h"
   ]
  },
  {
   "cell_type": "code",
   "execution_count": 57,
   "metadata": {},
   "outputs": [
    {
     "data": {
      "text/plain": [
       "(1338, 10)"
      ]
     },
     "execution_count": 57,
     "metadata": {},
     "output_type": "execute_result"
    }
   ],
   "source": [
    "df = pd.read_csv('/Users/rishabhsharma/Documents/GitHub/winter-23/CS-615/assignmnet3/medical.csv')\n",
    "df.shape"
   ]
  },
  {
   "cell_type": "code",
   "execution_count": null,
   "metadata": {},
   "outputs": [],
   "source": []
  }
 ],
 "metadata": {
  "kernelspec": {
   "display_name": "Python 3",
   "language": "python",
   "name": "python3"
  },
  "language_info": {
   "codemirror_mode": {
    "name": "ipython",
    "version": 3
   },
   "file_extension": ".py",
   "mimetype": "text/x-python",
   "name": "python",
   "nbconvert_exporter": "python",
   "pygments_lexer": "ipython3",
   "version": "3.10.9"
  },
  "orig_nbformat": 4,
  "vscode": {
   "interpreter": {
    "hash": "b0fa6594d8f4cbf19f97940f81e996739fb7646882a419484c72d19e05852a7e"
   }
  }
 },
 "nbformat": 4,
 "nbformat_minor": 2
}
