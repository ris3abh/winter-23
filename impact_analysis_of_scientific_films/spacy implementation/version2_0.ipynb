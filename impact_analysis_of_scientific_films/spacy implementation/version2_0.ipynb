{
 "cells": [
  {
   "cell_type": "code",
   "execution_count": 56,
   "metadata": {},
   "outputs": [],
   "source": [
    "import pandas as pd\n",
    "import numpy as np\n",
    "import seaborn as sns\n",
    "import matplotlib.pyplot as plt"
   ]
  },
  {
   "cell_type": "code",
   "execution_count": 57,
   "metadata": {},
   "outputs": [],
   "source": [
    "df = pd.read_csv(\"final_annotations.csv\")"
   ]
  },
  {
   "cell_type": "code",
   "execution_count": 58,
   "metadata": {},
   "outputs": [
    {
     "data": {
      "text/html": [
       "<div>\n",
       "<style scoped>\n",
       "    .dataframe tbody tr th:only-of-type {\n",
       "        vertical-align: middle;\n",
       "    }\n",
       "\n",
       "    .dataframe tbody tr th {\n",
       "        vertical-align: top;\n",
       "    }\n",
       "\n",
       "    .dataframe thead th {\n",
       "        text-align: right;\n",
       "    }\n",
       "</style>\n",
       "<table border=\"1\" class=\"dataframe\">\n",
       "  <thead>\n",
       "    <tr style=\"text-align: right;\">\n",
       "      <th></th>\n",
       "      <th>sentence</th>\n",
       "      <th>sentiment</th>\n",
       "      <th>impact</th>\n",
       "      <th>sentiments</th>\n",
       "      <th>impacts</th>\n",
       "      <th>batch</th>\n",
       "      <th>film_title</th>\n",
       "    </tr>\n",
       "  </thead>\n",
       "  <tbody>\n",
       "    <tr>\n",
       "      <th>0</th>\n",
       "      <td>Good restraint on the use of adjectives.</td>\n",
       "      <td>Positive</td>\n",
       "      <td>Engagement with Film</td>\n",
       "      <td>['Positive' 'Positive' 'Positive']</td>\n",
       "      <td>['Engagement with Film' 'Not yet categorized' ...</td>\n",
       "      <td>1</td>\n",
       "      <td>Seeing the Beginning of Time</td>\n",
       "    </tr>\n",
       "    <tr>\n",
       "      <th>1</th>\n",
       "      <td>Enjoy seeing/tracking storms....fascinating...</td>\n",
       "      <td>Positive</td>\n",
       "      <td>Interest with Science Topic</td>\n",
       "      <td>['Positive' 'Positive' 'Positive']</td>\n",
       "      <td>['Interest with Science Topic' 'Interest with ...</td>\n",
       "      <td>1</td>\n",
       "      <td>SuperTornado: Anatomy of a Megadisaster</td>\n",
       "    </tr>\n",
       "    <tr>\n",
       "      <th>2</th>\n",
       "      <td>The sound design, visuals and narration are bl...</td>\n",
       "      <td>Positive</td>\n",
       "      <td>Engagement with Film</td>\n",
       "      <td>['Positive' 'Positive' 'Positive']</td>\n",
       "      <td>['Engagement with Film' 'Engagement with Film'...</td>\n",
       "      <td>1</td>\n",
       "      <td>Seeing the Beginning of Time</td>\n",
       "    </tr>\n",
       "    <tr>\n",
       "      <th>3</th>\n",
       "      <td>Richard Dormer had a calming voice that made t...</td>\n",
       "      <td>Positive</td>\n",
       "      <td>Engagement with Film</td>\n",
       "      <td>['Positive' 'Positive' 'Positive']</td>\n",
       "      <td>['Engagement with Film' 'Engagement with Film'...</td>\n",
       "      <td>1</td>\n",
       "      <td>Birth of Planet Earth</td>\n",
       "    </tr>\n",
       "    <tr>\n",
       "      <th>4</th>\n",
       "      <td>So many never seen before images and actual pi...</td>\n",
       "      <td>Positive</td>\n",
       "      <td>Engagement with Film</td>\n",
       "      <td>['Positive' 'Positive' 'Neutral']</td>\n",
       "      <td>['Shift in Knowledge' 'Engagement with Film' '...</td>\n",
       "      <td>1</td>\n",
       "      <td>The Jupiter Enigma</td>\n",
       "    </tr>\n",
       "  </tbody>\n",
       "</table>\n",
       "</div>"
      ],
      "text/plain": [
       "                                            sentence sentiment  \\\n",
       "0          Good restraint on the use of adjectives.   Positive   \n",
       "1    Enjoy seeing/tracking storms....fascinating...   Positive   \n",
       "2  The sound design, visuals and narration are bl...  Positive   \n",
       "3  Richard Dormer had a calming voice that made t...  Positive   \n",
       "4  So many never seen before images and actual pi...  Positive   \n",
       "\n",
       "                        impact                          sentiments  \\\n",
       "0         Engagement with Film  ['Positive' 'Positive' 'Positive']   \n",
       "1  Interest with Science Topic  ['Positive' 'Positive' 'Positive']   \n",
       "2         Engagement with Film  ['Positive' 'Positive' 'Positive']   \n",
       "3         Engagement with Film  ['Positive' 'Positive' 'Positive']   \n",
       "4         Engagement with Film   ['Positive' 'Positive' 'Neutral']   \n",
       "\n",
       "                                             impacts  batch  \\\n",
       "0  ['Engagement with Film' 'Not yet categorized' ...      1   \n",
       "1  ['Interest with Science Topic' 'Interest with ...      1   \n",
       "2  ['Engagement with Film' 'Engagement with Film'...      1   \n",
       "3  ['Engagement with Film' 'Engagement with Film'...      1   \n",
       "4  ['Shift in Knowledge' 'Engagement with Film' '...      1   \n",
       "\n",
       "                                film_title  \n",
       "0             Seeing the Beginning of Time  \n",
       "1  SuperTornado: Anatomy of a Megadisaster  \n",
       "2             Seeing the Beginning of Time  \n",
       "3                    Birth of Planet Earth  \n",
       "4                       The Jupiter Enigma  "
      ]
     },
     "execution_count": 58,
     "metadata": {},
     "output_type": "execute_result"
    }
   ],
   "source": [
    "df.head()"
   ]
  },
  {
   "cell_type": "code",
   "execution_count": 59,
   "metadata": {},
   "outputs": [],
   "source": [
    "df.drop([\"sentiments\", \"impacts\", \"film_title\", \"batch\"], axis = 1, inplace = True)"
   ]
  },
  {
   "cell_type": "code",
   "execution_count": 60,
   "metadata": {},
   "outputs": [
    {
     "data": {
      "text/html": [
       "<div>\n",
       "<style scoped>\n",
       "    .dataframe tbody tr th:only-of-type {\n",
       "        vertical-align: middle;\n",
       "    }\n",
       "\n",
       "    .dataframe tbody tr th {\n",
       "        vertical-align: top;\n",
       "    }\n",
       "\n",
       "    .dataframe thead th {\n",
       "        text-align: right;\n",
       "    }\n",
       "</style>\n",
       "<table border=\"1\" class=\"dataframe\">\n",
       "  <thead>\n",
       "    <tr style=\"text-align: right;\">\n",
       "      <th></th>\n",
       "      <th>sentence</th>\n",
       "      <th>sentiment</th>\n",
       "      <th>impact</th>\n",
       "    </tr>\n",
       "  </thead>\n",
       "  <tbody>\n",
       "    <tr>\n",
       "      <th>0</th>\n",
       "      <td>Good restraint on the use of adjectives.</td>\n",
       "      <td>Positive</td>\n",
       "      <td>Engagement with Film</td>\n",
       "    </tr>\n",
       "    <tr>\n",
       "      <th>1</th>\n",
       "      <td>Enjoy seeing/tracking storms....fascinating...</td>\n",
       "      <td>Positive</td>\n",
       "      <td>Interest with Science Topic</td>\n",
       "    </tr>\n",
       "    <tr>\n",
       "      <th>2</th>\n",
       "      <td>The sound design, visuals and narration are bl...</td>\n",
       "      <td>Positive</td>\n",
       "      <td>Engagement with Film</td>\n",
       "    </tr>\n",
       "    <tr>\n",
       "      <th>3</th>\n",
       "      <td>Richard Dormer had a calming voice that made t...</td>\n",
       "      <td>Positive</td>\n",
       "      <td>Engagement with Film</td>\n",
       "    </tr>\n",
       "    <tr>\n",
       "      <th>4</th>\n",
       "      <td>So many never seen before images and actual pi...</td>\n",
       "      <td>Positive</td>\n",
       "      <td>Engagement with Film</td>\n",
       "    </tr>\n",
       "  </tbody>\n",
       "</table>\n",
       "</div>"
      ],
      "text/plain": [
       "                                            sentence sentiment  \\\n",
       "0          Good restraint on the use of adjectives.   Positive   \n",
       "1    Enjoy seeing/tracking storms....fascinating...   Positive   \n",
       "2  The sound design, visuals and narration are bl...  Positive   \n",
       "3  Richard Dormer had a calming voice that made t...  Positive   \n",
       "4  So many never seen before images and actual pi...  Positive   \n",
       "\n",
       "                        impact  \n",
       "0         Engagement with Film  \n",
       "1  Interest with Science Topic  \n",
       "2         Engagement with Film  \n",
       "3         Engagement with Film  \n",
       "4         Engagement with Film  "
      ]
     },
     "execution_count": 60,
     "metadata": {},
     "output_type": "execute_result"
    }
   ],
   "source": [
    "df.head()"
   ]
  },
  {
   "attachments": {},
   "cell_type": "markdown",
   "metadata": {},
   "source": [
    "### what needs to be done?\n",
    "\n",
    "1. balanced weights for the class.\n",
    "2. undersampling of majority class, oversampling of minority class.\n",
    "3. using stratified sampling for train test split.\n",
    "4. k-folds cross validation.\n",
    "5. returning a table of accuracy, precision recall and f1 score."
   ]
  },
  {
   "cell_type": "code",
   "execution_count": 61,
   "metadata": {},
   "outputs": [
    {
     "data": {
      "text/plain": [
       "(1265, 3)"
      ]
     },
     "execution_count": 61,
     "metadata": {},
     "output_type": "execute_result"
    }
   ],
   "source": [
    "## dropping duplicates\n",
    "df.drop_duplicates(inplace = True)\n",
    "df.shape"
   ]
  },
  {
   "cell_type": "code",
   "execution_count": 62,
   "metadata": {},
   "outputs": [
    {
     "data": {
      "text/plain": [
       "<AxesSubplot: >"
      ]
     },
     "execution_count": 62,
     "metadata": {},
     "output_type": "execute_result"
    },
    {
     "data": {
      "image/png": "[encoded data removed]",
      "text/plain": [
       "<Figure size 640x480 with 1 Axes>"
      ]
     },
     "metadata": {},
     "output_type": "display_data"
    }
   ],
   "source": [
    "x = df[\"impact\"].value_counts()\n",
    "x.plot(kind = \"bar\")"
   ]
  },
  {
   "cell_type": "code",
   "execution_count": 63,
   "metadata": {},
   "outputs": [],
   "source": [
    "## dropping the rows when impact is \"TBD\"\n",
    "df = df[df[\"impact\"] != \"TBD\"]"
   ]
  },
  {
   "cell_type": "code",
   "execution_count": 64,
   "metadata": {},
   "outputs": [
    {
     "data": {
      "text/plain": [
       "<AxesSubplot: >"
      ]
     },
     "execution_count": 64,
     "metadata": {},
     "output_type": "execute_result"
    },
    {
     "data": {
      "image/png": "[encoded data removed]",
      "text/plain": [
       "<Figure size 640x480 with 1 Axes>"
      ]
     },
     "metadata": {},
     "output_type": "display_data"
    }
   ],
   "source": [
    "df[\"impact\"].value_counts().plot(kind = \"bar\")"
   ]
  },
  {
   "cell_type": "code",
   "execution_count": 65,
   "metadata": {},
   "outputs": [],
   "source": [
    "## changing the impact values to numeric values\n",
    "## df[\"impact\"] = df[\"impact\"].map({\"Engagement with Film\": 0, \"Not applicable\": 1, \n",
    "##           \"Shift in Knowledge\": 2,\"Interest with Science Topic\": 3, \"Impersonal Report\": 4})"
   ]
  },
  {
   "cell_type": "code",
   "execution_count": 66,
   "metadata": {},
   "outputs": [],
   "source": [
    "## df[\"sentiment\"] = df[\"sentiment\"].map({\"Positive\": 1, \"Negative\": -1, \"Neutral\": 0})"
   ]
  },
  {
   "cell_type": "code",
   "execution_count": 67,
   "metadata": {},
   "outputs": [
    {
     "data": {
      "text/plain": [
       "<AxesSubplot: >"
      ]
     },
     "execution_count": 67,
     "metadata": {},
     "output_type": "execute_result"
    },
    {
     "data": {
      "image/png": "[encoded data removed]",
      "text/plain": [
       "<Figure size 640x480 with 1 Axes>"
      ]
     },
     "metadata": {},
     "output_type": "display_data"
    }
   ],
   "source": [
    "df[\"sentiment\"].value_counts().plot(kind = \"bar\")"
   ]
  },
  {
   "cell_type": "code",
   "execution_count": 68,
   "metadata": {},
   "outputs": [],
   "source": [
    "## !python3 -m spacy download en_core_web_lg"
   ]
  },
  {
   "cell_type": "code",
   "execution_count": 113,
   "metadata": {},
   "outputs": [],
   "source": [
    "df.head()\n",
    "\n",
    "from sklearn.model_selection import train_test_split\n",
    "\n",
    "X = df[\"sentence\"]\n",
    "y = df[\"impact\"]\n",
    "\n",
    "X_train, X_test, y_train, y_test = train_test_split(X, y, test_size = 0.2, random_state = 42)"
   ]
  },
  {
   "cell_type": "code",
   "execution_count": 115,
   "metadata": {},
   "outputs": [],
   "source": [
    "import spacy\n",
    "nlp = spacy.load(\"en_core_web_lg\")\n",
    "\n",
    "def make_doc(X, y):\n",
    "    docs = []\n",
    "    data = zip(X, y)\n",
    "    for doc, lable in nlp.pipe(data, as_tuples = True):\n",
    "        if lable == \"Engagement with Film\":\n",
    "            doc.cats[\"Engagement with Film\"] = 1\n",
    "            doc.cats[\"Not applicable\"] = 0\n",
    "            doc.cats[\"Shift in Knowledge\"] = 0\n",
    "            doc.cats[\"Interest with Science Topic\"] = 0\n",
    "            doc.cats[\"Impersonal Report\"] = 0\n",
    "        elif lable == \"Not applicable\":\n",
    "            doc.cats[\"Engagement with Film\"] = 0\n",
    "            doc.cats[\"Not applicable\"] = 1\n",
    "            doc.cats[\"Shift in Knowledge\"] = 0\n",
    "            doc.cats[\"Interest with Science Topic\"] = 0\n",
    "            doc.cats[\"Impersonal Report\"] = 0\n",
    "        elif lable == \"Shift in Knowledge\":\n",
    "            doc.cats[\"Engagement with Film\"] = 0\n",
    "            doc.cats[\"Not applicable\"] = 0\n",
    "            doc.cats[\"Shift in Knowledge\"] = 1\n",
    "            doc.cats[\"Interest with Science Topic\"] = 0\n",
    "            doc.cats[\"Impersonal Report\"] = 0\n",
    "        elif lable == \"Interest with Science Topic\":\n",
    "            doc.cats[\"Engagement with Film\"] = 0\n",
    "            doc.cats[\"Not applicable\"] = 0\n",
    "            doc.cats[\"Shift in Knowledge\"] = 0\n",
    "            doc.cats[\"Interest with Science Topic\"] = 1\n",
    "            doc.cats[\"Impersonal Report\"] = 0\n",
    "        elif lable == \"Impersonal Report\":\n",
    "            doc.cats[\"Engagement with Film\"] = 0\n",
    "            doc.cats[\"Not applicable\"] = 0\n",
    "            doc.cats[\"Shift in Knowledge\"] = 0\n",
    "            doc.cats[\"Interest with Science Topic\"] = 0\n",
    "            doc.cats[\"Impersonal Report\"] = 1\n",
    "        docs.append(doc)\n",
    "    return (docs)"
   ]
  },
  {
   "cell_type": "code",
   "execution_count": 117,
   "metadata": {},
   "outputs": [],
   "source": [
    "from spacy.tokens import DocBin\n",
    "num_texts = len(df[\"sentence\"])\n",
    "\n",
    "train_docs = make_doc(X_train, y_train)\n",
    "test_docs = make_doc(X_test, y_test)\n",
    "\n",
    "db = DocBin(docs = train_docs)\n",
    "db.to_disk(\"./data/train.spacy\")\n",
    "\n",
    "db = DocBin(docs = test_docs)\n",
    "db.to_disk(\"./data/test.spacy\")"
   ]
  },
  {
   "cell_type": "code",
   "execution_count": null,
   "metadata": {},
   "outputs": [],
   "source": []
  }
 ],
 "metadata": {
  "kernelspec": {
   "display_name": "Python 3",
   "language": "python",
   "name": "python3"
  },
  "language_info": {
   "codemirror_mode": {
    "name": "ipython",
    "version": 3
   },
   "file_extension": ".py",
   "mimetype": "text/x-python",
   "name": "python",
   "nbconvert_exporter": "python",
   "pygments_lexer": "ipython3",
   "version": "3.10.9"
  },
  "orig_nbformat": 4,
  "vscode": {
   "interpreter": {
    "hash": "b0fa6594d8f4cbf19f97940f81e996739fb7646882a419484c72d19e05852a7e"
   }
  }
 },
 "nbformat": 4,
 "nbformat_minor": 2
}
