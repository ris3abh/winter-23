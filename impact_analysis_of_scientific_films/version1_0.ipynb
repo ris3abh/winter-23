{
 "cells": [
  {
   "cell_type": "code",
   "execution_count": 1,
   "metadata": {},
   "outputs": [],
   "source": [
    "import pandas as pd\n",
    "import numpy as np\n",
    "import matplotlib.pyplot as plt\n",
    "import seaborn as sns"
   ]
  },
  {
   "cell_type": "code",
   "execution_count": 2,
   "metadata": {},
   "outputs": [],
   "source": [
    "df = pd.read_csv('final_annotations.csv')"
   ]
  },
  {
   "cell_type": "code",
   "execution_count": 3,
   "metadata": {},
   "outputs": [
    {
     "data": {
      "text/html": [
       "<div>\n",
       "<style scoped>\n",
       "    .dataframe tbody tr th:only-of-type {\n",
       "        vertical-align: middle;\n",
       "    }\n",
       "\n",
       "    .dataframe tbody tr th {\n",
       "        vertical-align: top;\n",
       "    }\n",
       "\n",
       "    .dataframe thead th {\n",
       "        text-align: right;\n",
       "    }\n",
       "</style>\n",
       "<table border=\"1\" class=\"dataframe\">\n",
       "  <thead>\n",
       "    <tr style=\"text-align: right;\">\n",
       "      <th></th>\n",
       "      <th>sentence</th>\n",
       "      <th>sentiment</th>\n",
       "      <th>impact</th>\n",
       "      <th>sentiments</th>\n",
       "      <th>impacts</th>\n",
       "      <th>batch</th>\n",
       "      <th>film_title</th>\n",
       "    </tr>\n",
       "  </thead>\n",
       "  <tbody>\n",
       "    <tr>\n",
       "      <th>0</th>\n",
       "      <td>Good restraint on the use of adjectives.</td>\n",
       "      <td>Positive</td>\n",
       "      <td>Engagement with Film</td>\n",
       "      <td>['Positive' 'Positive' 'Positive']</td>\n",
       "      <td>['Engagement with Film' 'Not yet categorized' ...</td>\n",
       "      <td>1</td>\n",
       "      <td>Seeing the Beginning of Time</td>\n",
       "    </tr>\n",
       "    <tr>\n",
       "      <th>1</th>\n",
       "      <td>Enjoy seeing/tracking storms....fascinating...</td>\n",
       "      <td>Positive</td>\n",
       "      <td>Interest with Science Topic</td>\n",
       "      <td>['Positive' 'Positive' 'Positive']</td>\n",
       "      <td>['Interest with Science Topic' 'Interest with ...</td>\n",
       "      <td>1</td>\n",
       "      <td>SuperTornado: Anatomy of a Megadisaster</td>\n",
       "    </tr>\n",
       "    <tr>\n",
       "      <th>2</th>\n",
       "      <td>The sound design, visuals and narration are bl...</td>\n",
       "      <td>Positive</td>\n",
       "      <td>Engagement with Film</td>\n",
       "      <td>['Positive' 'Positive' 'Positive']</td>\n",
       "      <td>['Engagement with Film' 'Engagement with Film'...</td>\n",
       "      <td>1</td>\n",
       "      <td>Seeing the Beginning of Time</td>\n",
       "    </tr>\n",
       "    <tr>\n",
       "      <th>3</th>\n",
       "      <td>Richard Dormer had a calming voice that made t...</td>\n",
       "      <td>Positive</td>\n",
       "      <td>Engagement with Film</td>\n",
       "      <td>['Positive' 'Positive' 'Positive']</td>\n",
       "      <td>['Engagement with Film' 'Engagement with Film'...</td>\n",
       "      <td>1</td>\n",
       "      <td>Birth of Planet Earth</td>\n",
       "    </tr>\n",
       "    <tr>\n",
       "      <th>4</th>\n",
       "      <td>So many never seen before images and actual pi...</td>\n",
       "      <td>Positive</td>\n",
       "      <td>Engagement with Film</td>\n",
       "      <td>['Positive' 'Positive' 'Neutral']</td>\n",
       "      <td>['Shift in Knowledge' 'Engagement with Film' '...</td>\n",
       "      <td>1</td>\n",
       "      <td>The Jupiter Enigma</td>\n",
       "    </tr>\n",
       "  </tbody>\n",
       "</table>\n",
       "</div>"
      ],
      "text/plain": [
       "                                            sentence sentiment  \\\n",
       "0          Good restraint on the use of adjectives.   Positive   \n",
       "1    Enjoy seeing/tracking storms....fascinating...   Positive   \n",
       "2  The sound design, visuals and narration are bl...  Positive   \n",
       "3  Richard Dormer had a calming voice that made t...  Positive   \n",
       "4  So many never seen before images and actual pi...  Positive   \n",
       "\n",
       "                        impact                          sentiments  \\\n",
       "0         Engagement with Film  ['Positive' 'Positive' 'Positive']   \n",
       "1  Interest with Science Topic  ['Positive' 'Positive' 'Positive']   \n",
       "2         Engagement with Film  ['Positive' 'Positive' 'Positive']   \n",
       "3         Engagement with Film  ['Positive' 'Positive' 'Positive']   \n",
       "4         Engagement with Film   ['Positive' 'Positive' 'Neutral']   \n",
       "\n",
       "                                             impacts  batch  \\\n",
       "0  ['Engagement with Film' 'Not yet categorized' ...      1   \n",
       "1  ['Interest with Science Topic' 'Interest with ...      1   \n",
       "2  ['Engagement with Film' 'Engagement with Film'...      1   \n",
       "3  ['Engagement with Film' 'Engagement with Film'...      1   \n",
       "4  ['Shift in Knowledge' 'Engagement with Film' '...      1   \n",
       "\n",
       "                                film_title  \n",
       "0             Seeing the Beginning of Time  \n",
       "1  SuperTornado: Anatomy of a Megadisaster  \n",
       "2             Seeing the Beginning of Time  \n",
       "3                    Birth of Planet Earth  \n",
       "4                       The Jupiter Enigma  "
      ]
     },
     "execution_count": 3,
     "metadata": {},
     "output_type": "execute_result"
    }
   ],
   "source": [
    "df.head()"
   ]
  },
  {
   "cell_type": "code",
   "execution_count": 4,
   "metadata": {},
   "outputs": [],
   "source": [
    "## we dont need the sentiments, impacts, batch and film_title columns\n",
    "df.drop([\"sentiments\", \"impacts\", \"batch\", \"film_title\"], axis=1, inplace=True)"
   ]
  },
  {
   "cell_type": "code",
   "execution_count": 5,
   "metadata": {},
   "outputs": [
    {
     "data": {
      "text/plain": [
       "(1296, 3)"
      ]
     },
     "execution_count": 5,
     "metadata": {},
     "output_type": "execute_result"
    }
   ],
   "source": [
    "df.shape"
   ]
  },
  {
   "cell_type": "code",
   "execution_count": 6,
   "metadata": {},
   "outputs": [
    {
     "data": {
      "text/html": [
       "<div>\n",
       "<style scoped>\n",
       "    .dataframe tbody tr th:only-of-type {\n",
       "        vertical-align: middle;\n",
       "    }\n",
       "\n",
       "    .dataframe tbody tr th {\n",
       "        vertical-align: top;\n",
       "    }\n",
       "\n",
       "    .dataframe thead th {\n",
       "        text-align: right;\n",
       "    }\n",
       "</style>\n",
       "<table border=\"1\" class=\"dataframe\">\n",
       "  <thead>\n",
       "    <tr style=\"text-align: right;\">\n",
       "      <th></th>\n",
       "      <th>sentence</th>\n",
       "      <th>sentiment</th>\n",
       "      <th>impact</th>\n",
       "    </tr>\n",
       "  </thead>\n",
       "  <tbody>\n",
       "    <tr>\n",
       "      <th>0</th>\n",
       "      <td>Good restraint on the use of adjectives.</td>\n",
       "      <td>Positive</td>\n",
       "      <td>Engagement with Film</td>\n",
       "    </tr>\n",
       "    <tr>\n",
       "      <th>1</th>\n",
       "      <td>Enjoy seeing/tracking storms....fascinating...</td>\n",
       "      <td>Positive</td>\n",
       "      <td>Interest with Science Topic</td>\n",
       "    </tr>\n",
       "    <tr>\n",
       "      <th>2</th>\n",
       "      <td>The sound design, visuals and narration are bl...</td>\n",
       "      <td>Positive</td>\n",
       "      <td>Engagement with Film</td>\n",
       "    </tr>\n",
       "    <tr>\n",
       "      <th>3</th>\n",
       "      <td>Richard Dormer had a calming voice that made t...</td>\n",
       "      <td>Positive</td>\n",
       "      <td>Engagement with Film</td>\n",
       "    </tr>\n",
       "    <tr>\n",
       "      <th>4</th>\n",
       "      <td>So many never seen before images and actual pi...</td>\n",
       "      <td>Positive</td>\n",
       "      <td>Engagement with Film</td>\n",
       "    </tr>\n",
       "  </tbody>\n",
       "</table>\n",
       "</div>"
      ],
      "text/plain": [
       "                                            sentence sentiment  \\\n",
       "0          Good restraint on the use of adjectives.   Positive   \n",
       "1    Enjoy seeing/tracking storms....fascinating...   Positive   \n",
       "2  The sound design, visuals and narration are bl...  Positive   \n",
       "3  Richard Dormer had a calming voice that made t...  Positive   \n",
       "4  So many never seen before images and actual pi...  Positive   \n",
       "\n",
       "                        impact  \n",
       "0         Engagement with Film  \n",
       "1  Interest with Science Topic  \n",
       "2         Engagement with Film  \n",
       "3         Engagement with Film  \n",
       "4         Engagement with Film  "
      ]
     },
     "execution_count": 6,
     "metadata": {},
     "output_type": "execute_result"
    }
   ],
   "source": [
    "df.head()"
   ]
  },
  {
   "cell_type": "code",
   "execution_count": 7,
   "metadata": {},
   "outputs": [
    {
     "data": {
      "text/plain": [
       "Positive    696\n",
       "Negative    372\n",
       "Neutral     228\n",
       "Name: sentiment, dtype: int64"
      ]
     },
     "execution_count": 7,
     "metadata": {},
     "output_type": "execute_result"
    }
   ],
   "source": [
    "df[\"sentiment\"].value_counts()"
   ]
  },
  {
   "cell_type": "code",
   "execution_count": 189,
   "metadata": {},
   "outputs": [],
   "source": [
    "## so now we have sentence, sentiment and impact\n",
    "\n",
    "## we need to convert the sentiment to a numerical value for the model we have 3 classes\n",
    "## 0 - negative\n",
    "## 1 - neutral\n",
    "## 2 - positive\n",
    "\n",
    "df[\"sentiment\"].replace({\"Negative\": 0, \"Neutral\": 1, \"Positive\": 2}, inplace=True)"
   ]
  },
  {
   "cell_type": "code",
   "execution_count": 190,
   "metadata": {},
   "outputs": [
    {
     "data": {
      "text/html": [
       "<div>\n",
       "<style scoped>\n",
       "    .dataframe tbody tr th:only-of-type {\n",
       "        vertical-align: middle;\n",
       "    }\n",
       "\n",
       "    .dataframe tbody tr th {\n",
       "        vertical-align: top;\n",
       "    }\n",
       "\n",
       "    .dataframe thead th {\n",
       "        text-align: right;\n",
       "    }\n",
       "</style>\n",
       "<table border=\"1\" class=\"dataframe\">\n",
       "  <thead>\n",
       "    <tr style=\"text-align: right;\">\n",
       "      <th></th>\n",
       "      <th>sentence</th>\n",
       "      <th>sentiment</th>\n",
       "      <th>impact</th>\n",
       "    </tr>\n",
       "  </thead>\n",
       "  <tbody>\n",
       "    <tr>\n",
       "      <th>0</th>\n",
       "      <td>Good restraint on the use of adjectives.</td>\n",
       "      <td>2</td>\n",
       "      <td>Engagement with Film</td>\n",
       "    </tr>\n",
       "    <tr>\n",
       "      <th>1</th>\n",
       "      <td>Enjoy seeing/tracking storms....fascinating...</td>\n",
       "      <td>2</td>\n",
       "      <td>Interest with Science Topic</td>\n",
       "    </tr>\n",
       "    <tr>\n",
       "      <th>2</th>\n",
       "      <td>The sound design, visuals and narration are bl...</td>\n",
       "      <td>2</td>\n",
       "      <td>Engagement with Film</td>\n",
       "    </tr>\n",
       "    <tr>\n",
       "      <th>3</th>\n",
       "      <td>Richard Dormer had a calming voice that made t...</td>\n",
       "      <td>2</td>\n",
       "      <td>Engagement with Film</td>\n",
       "    </tr>\n",
       "    <tr>\n",
       "      <th>4</th>\n",
       "      <td>So many never seen before images and actual pi...</td>\n",
       "      <td>2</td>\n",
       "      <td>Engagement with Film</td>\n",
       "    </tr>\n",
       "  </tbody>\n",
       "</table>\n",
       "</div>"
      ],
      "text/plain": [
       "                                            sentence  sentiment  \\\n",
       "0          Good restraint on the use of adjectives.           2   \n",
       "1    Enjoy seeing/tracking storms....fascinating...           2   \n",
       "2  The sound design, visuals and narration are bl...          2   \n",
       "3  Richard Dormer had a calming voice that made t...          2   \n",
       "4  So many never seen before images and actual pi...          2   \n",
       "\n",
       "                        impact  \n",
       "0         Engagement with Film  \n",
       "1  Interest with Science Topic  \n",
       "2         Engagement with Film  \n",
       "3         Engagement with Film  \n",
       "4         Engagement with Film  "
      ]
     },
     "execution_count": 190,
     "metadata": {},
     "output_type": "execute_result"
    }
   ],
   "source": [
    "df.head()"
   ]
  },
  {
   "cell_type": "code",
   "execution_count": 191,
   "metadata": {},
   "outputs": [
    {
     "data": {
      "text/plain": [
       "array(['Engagement with Film', 'Interest with Science Topic',\n",
       "       'Impersonal Report', 'Shift in Knowledge', 'Not applicable', 'TBD'],\n",
       "      dtype=object)"
      ]
     },
     "execution_count": 191,
     "metadata": {},
     "output_type": "execute_result"
    }
   ],
   "source": [
    "df[\"impact\"].unique()"
   ]
  },
  {
   "cell_type": "code",
   "execution_count": 192,
   "metadata": {},
   "outputs": [],
   "source": [
    "## IDK what is TBD, so I will drop it for now (I guess its to be decided)\n",
    "df = df[df[\"impact\"] != \"TBD\"]"
   ]
  },
  {
   "cell_type": "code",
   "execution_count": 193,
   "metadata": {},
   "outputs": [
    {
     "data": {
      "text/plain": [
       "Engagement with Film           792\n",
       "Not applicable                 198\n",
       "Shift in Knowledge             143\n",
       "Interest with Science Topic     90\n",
       "Impersonal Report               41\n",
       "Name: impact, dtype: int64"
      ]
     },
     "execution_count": 193,
     "metadata": {},
     "output_type": "execute_result"
    }
   ],
   "source": [
    "df[\"impact\"].value_counts()"
   ]
  },
  {
   "cell_type": "code",
   "execution_count": 194,
   "metadata": {},
   "outputs": [],
   "source": [
    "## we need to convert the impact to a numerical value for the model we have 5 classes\n",
    "## 0 - Engagement with Film\n",
    "## 1 - Not applicable\n",
    "## 2 - Shift in Knowledge\n",
    "## 3 - Interest with Science Topic\n",
    "## 4 - Impersonal Report \n",
    "\n",
    "df[\"impact\"].replace({\"Engagement with Film\": 0, \"Not applicable\": 1, \"Shift in Knowledge\": 2, \"Interest with Science Topic\": 3, \"Impersonal Report\": 4}, inplace=True)\n",
    "## for now just giving a numerical value to the impact, later we can use one hot encoding\n"
   ]
  },
  {
   "cell_type": "code",
   "execution_count": 195,
   "metadata": {},
   "outputs": [
    {
     "data": {
      "text/html": [
       "<div>\n",
       "<style scoped>\n",
       "    .dataframe tbody tr th:only-of-type {\n",
       "        vertical-align: middle;\n",
       "    }\n",
       "\n",
       "    .dataframe tbody tr th {\n",
       "        vertical-align: top;\n",
       "    }\n",
       "\n",
       "    .dataframe thead th {\n",
       "        text-align: right;\n",
       "    }\n",
       "</style>\n",
       "<table border=\"1\" class=\"dataframe\">\n",
       "  <thead>\n",
       "    <tr style=\"text-align: right;\">\n",
       "      <th></th>\n",
       "      <th>sentence</th>\n",
       "      <th>sentiment</th>\n",
       "      <th>impact</th>\n",
       "    </tr>\n",
       "  </thead>\n",
       "  <tbody>\n",
       "    <tr>\n",
       "      <th>0</th>\n",
       "      <td>Good restraint on the use of adjectives.</td>\n",
       "      <td>2</td>\n",
       "      <td>0</td>\n",
       "    </tr>\n",
       "    <tr>\n",
       "      <th>1</th>\n",
       "      <td>Enjoy seeing/tracking storms....fascinating...</td>\n",
       "      <td>2</td>\n",
       "      <td>3</td>\n",
       "    </tr>\n",
       "    <tr>\n",
       "      <th>2</th>\n",
       "      <td>The sound design, visuals and narration are bl...</td>\n",
       "      <td>2</td>\n",
       "      <td>0</td>\n",
       "    </tr>\n",
       "    <tr>\n",
       "      <th>3</th>\n",
       "      <td>Richard Dormer had a calming voice that made t...</td>\n",
       "      <td>2</td>\n",
       "      <td>0</td>\n",
       "    </tr>\n",
       "    <tr>\n",
       "      <th>4</th>\n",
       "      <td>So many never seen before images and actual pi...</td>\n",
       "      <td>2</td>\n",
       "      <td>0</td>\n",
       "    </tr>\n",
       "  </tbody>\n",
       "</table>\n",
       "</div>"
      ],
      "text/plain": [
       "                                            sentence  sentiment  impact\n",
       "0          Good restraint on the use of adjectives.           2       0\n",
       "1    Enjoy seeing/tracking storms....fascinating...           2       3\n",
       "2  The sound design, visuals and narration are bl...          2       0\n",
       "3  Richard Dormer had a calming voice that made t...          2       0\n",
       "4  So many never seen before images and actual pi...          2       0"
      ]
     },
     "execution_count": 195,
     "metadata": {},
     "output_type": "execute_result"
    }
   ],
   "source": [
    "df.head()"
   ]
  },
  {
   "cell_type": "code",
   "execution_count": 196,
   "metadata": {},
   "outputs": [],
   "source": [
    "## using spacy to tokenize the sentences\n",
    "import spacy\n",
    "nlp = spacy.load('en_core_web_sm')"
   ]
  },
  {
   "cell_type": "code",
   "execution_count": 198,
   "metadata": {},
   "outputs": [],
   "source": [
    "from spacy.lang.en.stop_words import STOP_WORDS\n",
    "## we need to tokenize the sentences\n",
    "## we will use spacy for this\n",
    "## we will also remove the stopwords\n",
    "\n",
    "def tokenize(sentence):\n",
    "    tokens = nlp(sentence)\n",
    "    tokens = [token.text for token in tokens]\n",
    "    tokens = [token for token in tokens if token.isalpha() or token.isnumeric()]\n",
    "    tokens = [token for token in tokens if token not in STOP_WORDS]\n",
    "    return tokens\n",
    "\n",
    "df[\"tokens\"] = df[\"sentence\"].apply(tokenize)\n",
    "\n",
    "df[\"tokens\"] = df[\"tokens\"].apply(lambda x: \" \".join(x))"
   ]
  },
  {
   "cell_type": "code",
   "execution_count": 199,
   "metadata": {},
   "outputs": [],
   "source": [
    "df.drop(\"sentence\", axis=1, inplace=True)"
   ]
  },
  {
   "cell_type": "code",
   "execution_count": 200,
   "metadata": {},
   "outputs": [
    {
     "name": "stderr",
     "output_type": "stream",
     "text": [
      "/opt/homebrew/lib/python3.10/site-packages/sklearn/feature_extraction/text.py:524: UserWarning: The parameter 'token_pattern' will not be used since 'tokenizer' is not None'\n",
      "  warnings.warn(\n"
     ]
    }
   ],
   "source": [
    "df.head()\n",
    "\n",
    "from sklearn.feature_extraction.text import CountVectorizer\n",
    "\n",
    "vectorizer = CountVectorizer(tokenizer=tokenize, ngram_range=(1,1))\n",
    "vectorizer.fit(df[\"tokens\"])\n",
    "\n",
    "\n",
    "X = vectorizer.transform(df[\"tokens\"])\n",
    "\n",
    "## we will need to use this vectorizer later for prediction on new data so we will save it \n",
    "import pickle\n",
    "pickle.dump(vectorizer, open(\"vectorizer.pkl\", \"wb\"))\n"
   ]
  },
  {
   "cell_type": "code",
   "execution_count": 201,
   "metadata": {},
   "outputs": [
    {
     "data": {
      "text/plain": [
       "2269"
      ]
     },
     "execution_count": 201,
     "metadata": {},
     "output_type": "execute_result"
    }
   ],
   "source": [
    "## vocabulary\n",
    "vectorizer.vocabulary_.keys().__len__()"
   ]
  },
  {
   "cell_type": "code",
   "execution_count": 202,
   "metadata": {},
   "outputs": [
    {
     "data": {
      "text/plain": [
       "{'good': 898,\n",
       " 'restraint': 1691,\n",
       " 'use': 2139,\n",
       " 'adjectives': 62,\n",
       " 'enjoy': 673,\n",
       " 'seeing': 1772,\n",
       " 'tracking': 2071,\n",
       " 'storms': 1923,\n",
       " 'fascinating': 766,\n",
       " 'sound': 1863,\n",
       " 'design': 525,\n",
       " 'visuals': 2174,\n",
       " 'narration': 1345,\n",
       " 'blended': 224,\n",
       " 'richard': 1707,\n",
       " 'dormer': 605,\n",
       " 'calming': 288,\n",
       " 'voice': 2175,\n",
       " 'film': 794,\n",
       " 'enjoyable': 674,\n",
       " 'watch': 2192,\n",
       " 'seen': 1773,\n",
       " 'images': 1022,\n",
       " 'actual': 53,\n",
       " 'pictures': 1497,\n",
       " 'taken': 1988,\n",
       " 'probe': 1566,\n",
       " 'enjoyed': 675,\n",
       " 'video': 2161,\n",
       " 'felt': 783,\n",
       " 'effective': 645,\n",
       " 'shorter': 1806,\n",
       " 'tell': 2006,\n",
       " 'produced': 1572,\n",
       " 'targeted': 1995,\n",
       " 'high': 961,\n",
       " 'school': 1754,\n",
       " 'classes': 344,\n",
       " 'fine': 801,\n",
       " 'need': 1362,\n",
       " 'simplified': 1820,\n",
       " 'documentaries': 597,\n",
       " 'like': 1181,\n",
       " 'includes': 1043,\n",
       " 'breathtaking': 257,\n",
       " 'astonishingly': 146,\n",
       " 'complex': 389,\n",
       " 'visual': 2171,\n",
       " 'simulations': 1824,\n",
       " 'talks': 1993,\n",
       " 'alot': 92,\n",
       " 'satellites': 1739,\n",
       " 'junk': 1112,\n",
       " 'space': 1871,\n",
       " 'interesting': 1079,\n",
       " 'develop': 544,\n",
       " 'spots': 1891,\n",
       " 'boring': 249,\n",
       " 'intriguing': 1085,\n",
       " 'nowadays': 1387,\n",
       " 'help': 957,\n",
       " 'science': 1756,\n",
       " 'diffrent': 553,\n",
       " 'wereat': 2206,\n",
       " 'taught': 1996,\n",
       " 'documentary': 598,\n",
       " 'focusing': 822,\n",
       " 'evolution': 703,\n",
       " 'universe': 2125,\n",
       " 'time': 2041,\n",
       " 'amazing': 96,\n",
       " 'landed': 1139,\n",
       " 'probes': 1567,\n",
       " 'mars': 1243,\n",
       " 'orbited': 1424,\n",
       " 'celestial': 308,\n",
       " 'moons': 1323,\n",
       " 'orbiting': 1425,\n",
       " 'planets': 1504,\n",
       " 'low': 1217,\n",
       " 'quality': 1610,\n",
       " 'computer': 396,\n",
       " 'generated': 873,\n",
       " 'graphics': 909,\n",
       " 'wo': 2223,\n",
       " 'long': 1202,\n",
       " 'till': 2040,\n",
       " 'warning': 2189,\n",
       " 'expanded': 719,\n",
       " 'dry': 623,\n",
       " 'unimaginative': 2118,\n",
       " 'basically': 191,\n",
       " 'brand': 253,\n",
       " 'new': 1369,\n",
       " 'juno': 1115,\n",
       " 'pics': 1495,\n",
       " 'jupiter': 1116,\n",
       " 'poles': 1526,\n",
       " 'bit': 217,\n",
       " 'repetitive': 1677,\n",
       " 'butterfly': 279,\n",
       " 'people': 1474,\n",
       " 'children': 331,\n",
       " 'sounded': 1864,\n",
       " 'past': 1462,\n",
       " '4': 21,\n",
       " 'minutes': 1296,\n",
       " 'scary': 1749,\n",
       " 'fittingly': 805,\n",
       " 'end': 663,\n",
       " 'production': 1576,\n",
       " 'hear': 946,\n",
       " 'father': 772,\n",
       " 'read': 1629,\n",
       " 'youtube': 2263,\n",
       " 'managed': 1235,\n",
       " 'interested': 1077,\n",
       " 'technology': 2002,\n",
       " 'looking': 1206,\n",
       " 'information': 1055,\n",
       " 'starting': 1906,\n",
       " 'point': 1522,\n",
       " '3': 17,\n",
       " 'start': 1904,\n",
       " 'textbooks': 2015,\n",
       " 'having': 944,\n",
       " 'errors': 691,\n",
       " 'hoped': 981,\n",
       " 'better': 212,\n",
       " 'expensive': 725,\n",
       " 'ok': 1411,\n",
       " 'amazon': 97,\n",
       " 'prime': 1563,\n",
       " 'class': 343,\n",
       " 'sectioning': 1770,\n",
       " 'progression': 1582,\n",
       " 'sure': 1974,\n",
       " 'plenty': 1516,\n",
       " 'presented': 1555,\n",
       " 'apparently': 116,\n",
       " 'derived': 517,\n",
       " 'movie': 1330,\n",
       " 'informative': 1057,\n",
       " 'enlightening': 678,\n",
       " 'tornadoes': 2057,\n",
       " 'disasters': 566,\n",
       " 'effects': 646,\n",
       " 'society': 1846,\n",
       " 'item': 1098,\n",
       " 'described': 519,\n",
       " 'shipped': 1802,\n",
       " 'promptly': 1585,\n",
       " 'recommend': 1643,\n",
       " 'thanks': 2017,\n",
       " 'shows': 1812,\n",
       " 'far': 764,\n",
       " 'come': 368,\n",
       " 'general': 871,\n",
       " 'feel': 779,\n",
       " 'exciting': 714,\n",
       " 'fast': 770,\n",
       " 'delivery': 504,\n",
       " 'player': 1510,\n",
       " 'tv': 2101,\n",
       " 'required': 1681,\n",
       " 'maybe': 1252,\n",
       " 'author': 165,\n",
       " 'trying': 2093,\n",
       " 'red': 1647,\n",
       " 'shift': 1800,\n",
       " 'shown': 1811,\n",
       " 'larger': 1142,\n",
       " 'distant': 583,\n",
       " 'objects': 1392,\n",
       " 'indicating': 1049,\n",
       " 'expansion': 721,\n",
       " 'accelerating': 41,\n",
       " 'meant': 1255,\n",
       " 'worded': 2234,\n",
       " 'correctly': 434,\n",
       " 'pay': 1465,\n",
       " 'old': 1414,\n",
       " 'timers': 2042,\n",
       " 'knew': 1128,\n",
       " 'turn': 2097,\n",
       " 'uhf': 2107,\n",
       " 'channels': 321,\n",
       " 'noticed': 1384,\n",
       " 'fuz': 856,\n",
       " 'screen': 1763,\n",
       " 'change': 317,\n",
       " 'radically': 1616,\n",
       " 'tornado': 2056,\n",
       " 'close': 350,\n",
       " 'white': 2212,\n",
       " 'noise': 1377,\n",
       " 'level': 1174,\n",
       " 'peg': 1471,\n",
       " 'meter': 1277,\n",
       " 'cb': 306,\n",
       " 'radio': 1617,\n",
       " 'hit': 968,\n",
       " 'discussion': 573,\n",
       " 'existed': 717,\n",
       " 'sun': 1958,\n",
       " 'inside': 1063,\n",
       " 'orbit': 1422,\n",
       " 'called': 286,\n",
       " 'focus': 820,\n",
       " 'astronomy': 152,\n",
       " 'recent': 1641,\n",
       " 'years': 2259,\n",
       " 'present': 1553,\n",
       " 'conjecture': 413,\n",
       " 'assumption': 141,\n",
       " 'fact': 747,\n",
       " 'throwing': 2038,\n",
       " 'contradictory': 425,\n",
       " 'ideas': 1010,\n",
       " 'arbitrary': 122,\n",
       " 'numbers': 1389,\n",
       " 'impress': 1034,\n",
       " 'real': 1632,\n",
       " 'presents': 1556,\n",
       " 'known': 1132,\n",
       " 'facts': 750,\n",
       " 'lets': 1173,\n",
       " 'viewer': 2165,\n",
       " 'decide': 495,\n",
       " 'rest': 1690,\n",
       " 'intrigues': 1084,\n",
       " 'greatly': 915,\n",
       " 'program': 1581,\n",
       " 'poor': 1530,\n",
       " 'editing': 640,\n",
       " 'combined': 367,\n",
       " 'weak': 2200,\n",
       " 'feckless': 778,\n",
       " 'topic': 2055,\n",
       " 'captivating': 295,\n",
       " 'narrated': 1343,\n",
       " 'stem': 1915,\n",
       " 'watched': 2193,\n",
       " 'number': 1388,\n",
       " 'given': 886,\n",
       " 'special': 1879,\n",
       " 'emphasis': 660,\n",
       " 'conveying': 428,\n",
       " 'mysticism': 1338,\n",
       " 'boffins': 239,\n",
       " 'abstruse': 39,\n",
       " 'methods': 1279,\n",
       " 'narrator': 1349,\n",
       " 'dull': 624,\n",
       " 'listen': 1191,\n",
       " 'provide': 1591,\n",
       " 'commentary': 374,\n",
       " 'speaker': 1877,\n",
       " 'sounds': 1866,\n",
       " 'exactly': 706,\n",
       " 'monotone': 1317,\n",
       " 'cortana': 435,\n",
       " 'excitement': 713,\n",
       " 'hand': 932,\n",
       " 'different': 552,\n",
       " 'scenes': 1751,\n",
       " 'parts': 1458,\n",
       " 'decent': 494,\n",
       " 'want': 2185,\n",
       " 'learn': 1157,\n",
       " 'nova': 1385,\n",
       " 'series': 1784,\n",
       " 'reviewer': 1699,\n",
       " 'mention': 1266,\n",
       " 'agree': 76,\n",
       " 'experience': 726,\n",
       " 'look': 1204,\n",
       " 'stars': 1903,\n",
       " 'definitely': 501,\n",
       " 'breathy': 258,\n",
       " 'pontificating': 1529,\n",
       " 'find': 798,\n",
       " 'understanding': 2113,\n",
       " 'comforting': 371,\n",
       " 'scientific': 1758,\n",
       " 'excellent': 709,\n",
       " 'great': 912,\n",
       " 'love': 1213,\n",
       " 'planet': 1502,\n",
       " 'times': 2043,\n",
       " 'mass': 1244,\n",
       " 'solar': 1848,\n",
       " 'system': 1985,\n",
       " 'uninteresting': 2122,\n",
       " 'animation': 106,\n",
       " 'form': 834,\n",
       " 'terrific': 2011,\n",
       " 'went': 2205,\n",
       " 'turned': 2098,\n",
       " 'audio': 162,\n",
       " 'enabled': 662,\n",
       " 'captions': 292,\n",
       " 'subject': 1946,\n",
       " 'coupled': 444,\n",
       " 'unreal': 2130,\n",
       " 'gorgeous': 899,\n",
       " 'imagery': 1021,\n",
       " 'feast': 776,\n",
       " 'eyes': 745,\n",
       " 'actually': 54,\n",
       " 'sequel': 1783,\n",
       " 'said': 1734,\n",
       " 'ago': 75,\n",
       " 'obsolete': 1397,\n",
       " 'visualizations': 2172,\n",
       " 'convinced': 429,\n",
       " 'credits': 458,\n",
       " 'doc': 589,\n",
       " 'understand': 2111,\n",
       " 'info': 1054,\n",
       " 'bad': 184,\n",
       " 'perfectly': 1476,\n",
       " 'safe': 1730,\n",
       " 'document': 596,\n",
       " 'easy': 634,\n",
       " 'follow': 824,\n",
       " 'nice': 1372,\n",
       " 'beautiful': 196,\n",
       " 'mysteries': 1337,\n",
       " 'strange': 1927,\n",
       " 'occurrences': 1404,\n",
       " 'automated': 167,\n",
       " 'expected': 723,\n",
       " 'vety': 2159,\n",
       " 'impact': 1030,\n",
       " 'needed': 1363,\n",
       " 'dynamic': 627,\n",
       " 'message': 1274,\n",
       " 'joplin': 1106,\n",
       " 'came': 289,\n",
       " 'sent': 1780,\n",
       " 'world': 2240,\n",
       " 'think': 2027,\n",
       " 'short': 1804,\n",
       " 'fan': 762,\n",
       " 'footage': 829,\n",
       " 'prior': 1564,\n",
       " 'occasions': 1401,\n",
       " 'damage': 472,\n",
       " 'kinda': 1126,\n",
       " 'listening': 1192,\n",
       " 'data': 480,\n",
       " 'star': 1901,\n",
       " 'trek': 2079,\n",
       " 'wanted': 2186,\n",
       " '10': 2,\n",
       " 'got': 900,\n",
       " 'interrupted': 1081,\n",
       " 'little': 1194,\n",
       " 'bored': 248,\n",
       " 'reviews': 1701,\n",
       " 'going': 895,\n",
       " 'sleep': 1834,\n",
       " 'means': 1254,\n",
       " 'struggle': 1935,\n",
       " 'stay': 1912,\n",
       " 'awake': 175,\n",
       " 'pointless': 1523,\n",
       " 'flattering': 810,\n",
       " 'reception': 1642,\n",
       " 'free': 846,\n",
       " 'material': 1247,\n",
       " 'bought': 251,\n",
       " 'format': 835,\n",
       " 'rated': 1624,\n",
       " 'higher': 962,\n",
       " 'spectacular': 1883,\n",
       " 'solid': 1850,\n",
       " 'saw': 1744,\n",
       " 'review': 1697,\n",
       " 'stated': 1909,\n",
       " 'outdated': 1434,\n",
       " 'pretty': 1557,\n",
       " 'fit': 803,\n",
       " 'evidence': 702,\n",
       " 'goes': 894,\n",
       " 'detail': 534,\n",
       " 'formed': 838,\n",
       " 'particular': 1456,\n",
       " 'devastated': 541,\n",
       " 'missouri': 1305,\n",
       " 'late': 1147,\n",
       " 'spring': 1894,\n",
       " '2011': 12,\n",
       " 'interviews': 1082,\n",
       " 'residents': 1685,\n",
       " 'city': 339,\n",
       " 'officials': 1408,\n",
       " 'responders': 1689,\n",
       " 'story': 1924,\n",
       " 'significantly': 1816,\n",
       " 'poignant': 1521,\n",
       " 'found': 842,\n",
       " 'revisiting': 1702,\n",
       " 'nineteen': 1376,\n",
       " 'sixties': 1829,\n",
       " 'best': 209,\n",
       " 'based': 189,\n",
       " 'true': 2087,\n",
       " 'thomas': 2030,\n",
       " 'lucas': 1218,\n",
       " 'produces': 1575,\n",
       " 'spacerip': 1873,\n",
       " 'place': 1499,\n",
       " 'junkies': 1114,\n",
       " 'graphically': 908,\n",
       " 'educational': 643,\n",
       " 'somewhat': 1853,\n",
       " 'incredible': 1047,\n",
       " 'able': 36,\n",
       " 'scientist': 1759,\n",
       " 'average': 169,\n",
       " 'joe': 1101,\n",
       " 'weather': 2202,\n",
       " 'public': 1597,\n",
       " 'outreach': 1438,\n",
       " 'hard': 939,\n",
       " 'effect': 644,\n",
       " 'protrude': 1590,\n",
       " 'room': 1720,\n",
       " 'things': 2026,\n",
       " 'build': 270,\n",
       " 'structures': 1934,\n",
       " 'houses': 994,\n",
       " 'schools': 1755,\n",
       " 'hospitals': 988,\n",
       " 'etc': 696,\n",
       " 'prevent': 1558,\n",
       " 'disaster': 565,\n",
       " 'magnitude': 1225,\n",
       " 'happening': 937,\n",
       " 'rate': 1623,\n",
       " 'unfortunately': 2117,\n",
       " 'term': 2008,\n",
       " 'popular': 1532,\n",
       " 'buzz': 282,\n",
       " 'word': 2233,\n",
       " 'impresses': 1035,\n",
       " 'misleads': 1299,\n",
       " 'hoi': 971,\n",
       " 'polloi': 1528,\n",
       " 'giant': 882,\n",
       " 'live': 1195,\n",
       " 'habe': 926,\n",
       " 'fasinated': 769,\n",
       " 'tornados': 2058,\n",
       " 'worked': 2237,\n",
       " 'overstating': 1443,\n",
       " 'case': 301,\n",
       " 'writing': 2252,\n",
       " 'played': 1509,\n",
       " 'small': 1839,\n",
       " 'revolution': 1703,\n",
       " 'documented': 599,\n",
       " 'problem': 1568,\n",
       " 'monster': 1319,\n",
       " 'forms': 840,\n",
       " 'subtitles': 1949,\n",
       " 'mute': 1336,\n",
       " 'eric': 689,\n",
       " 'todd': 2050,\n",
       " 'delums': 505,\n",
       " 'works': 2239,\n",
       " 'favorite': 774,\n",
       " 'narrators': 1350,\n",
       " 'nicely': 1373,\n",
       " '2019': 15,\n",
       " 'lays': 1156,\n",
       " 'ways': 2199,\n",
       " 'earth': 631,\n",
       " 'happened': 936,\n",
       " 'narrowly': 1351,\n",
       " 'avoided': 172,\n",
       " 'waterless': 2197,\n",
       " 'desert': 524,\n",
       " 'greenhouse': 918,\n",
       " 'gas': 863,\n",
       " 'driven': 619,\n",
       " 'hellhole': 956,\n",
       " 'venus': 2155,\n",
       " 'atmosphere': 155,\n",
       " 'oxygenated': 1446,\n",
       " 'bacteria': 183,\n",
       " 'employing': 661,\n",
       " 'photosynthesis': 1489,\n",
       " 'thought': 2032,\n",
       " 'corny': 433,\n",
       " 'finish': 802,\n",
       " 'watching': 2195,\n",
       " 'tho': 2029,\n",
       " 'assumed': 139,\n",
       " 'thing': 2024,\n",
       " 'factual': 751,\n",
       " 'terrible': 2010,\n",
       " 'clear': 346,\n",
       " 'journey': 1109,\n",
       " 'conception': 403,\n",
       " 'death': 488,\n",
       " 'extraordinary': 740,\n",
       " 'sad': 1728,\n",
       " 'destruction': 532,\n",
       " 'devastation': 543,\n",
       " 'causes': 305,\n",
       " 'super': 1960,\n",
       " 'seriously': 1785,\n",
       " 'interestin': 1078,\n",
       " 'recreations': 1646,\n",
       " 'proof': 1587,\n",
       " 'guess': 923,\n",
       " 'work': 2236,\n",
       " 'fairly': 755,\n",
       " 'comprehensible': 393,\n",
       " 'novice': 1386,\n",
       " 'limits': 1187,\n",
       " 'complexity': 390,\n",
       " 'dick': 549,\n",
       " 'rodstein': 1715,\n",
       " 'block': 227,\n",
       " 'mesmerizing': 1272,\n",
       " 'coming': 372,\n",
       " '38': 20,\n",
       " 'makes': 1231,\n",
       " 'shortest': 1807,\n",
       " 'imax': 1029,\n",
       " 'released': 1663,\n",
       " 'bd': 193,\n",
       " 'brings': 263,\n",
       " 'dark': 477,\n",
       " 'matter': 1250,\n",
       " 'energy': 665,\n",
       " 'concepts': 404,\n",
       " 'nightmare': 1375,\n",
       " 'died': 550,\n",
       " 'injured': 1062,\n",
       " 'blew': 225,\n",
       " 'potentially': 1540,\n",
       " 'life': 1178,\n",
       " 'saving': 1743,\n",
       " 'highly': 964,\n",
       " 'viewing': 2167,\n",
       " 'probably': 1565,\n",
       " 'defective': 498,\n",
       " 'blank': 223,\n",
       " 'eligible': 655,\n",
       " 'refund': 1650,\n",
       " 'replacement': 1678,\n",
       " 'granted': 907,\n",
       " 'right': 1709,\n",
       " 'needless': 1364,\n",
       " 'theme': 2021,\n",
       " 'alarming': 82,\n",
       " 'child': 330,\n",
       " 'enjoys': 676,\n",
       " 'disney': 579,\n",
       " 'cartoons': 300,\n",
       " 'outgrew': 1435,\n",
       " '50': 25,\n",
       " 'needs': 1365,\n",
       " 'laugh': 1151,\n",
       " 'track': 2069,\n",
       " 'continuing': 424,\n",
       " 'humankind': 1000,\n",
       " 'knowledge': 1131,\n",
       " 'paid': 1451,\n",
       " 'extra': 739,\n",
       " 'pop': 1531,\n",
       " 'fall': 756,\n",
       " 'asleep': 134,\n",
       " 'buying': 281,\n",
       " 'likely': 1183,\n",
       " 'disappointed': 563,\n",
       " 'overall': 1441,\n",
       " 'worth': 2244,\n",
       " 'watchinh': 2196,\n",
       " 'attention': 158,\n",
       " 'barely': 188,\n",
       " 'heard': 947,\n",
       " 'music': 1335,\n",
       " 'utter': 2142,\n",
       " 'oklahoma': 1413,\n",
       " 'way': 2198,\n",
       " 'tulsa': 2094,\n",
       " 'reaction': 1627,\n",
       " 'asking': 133,\n",
       " 'spouse': 1893,\n",
       " 'dinner': 557,\n",
       " 'honey': 978,\n",
       " 'wish': 2222,\n",
       " 'submit': 1948,\n",
       " 'type': 2104,\n",
       " 'know': 1129,\n",
       " 'getting': 881,\n",
       " 'explanation': 733,\n",
       " 'predictions': 1548,\n",
       " 'future': 855,\n",
       " 'eruptions': 692,\n",
       " 'happen': 935,\n",
       " 'lol': 1201,\n",
       " 'stuff': 1941,\n",
       " 'keeps': 1118,\n",
       " 'making': 1232,\n",
       " 'decisions': 496,\n",
       " 'crew': 459,\n",
       " 'whittled': 2213,\n",
       " 'scientists': 1760,\n",
       " 'bag': 185,\n",
       " 'groceries': 920,\n",
       " 'available': 168,\n",
       " 'findable': 799,\n",
       " 'appearing': 118,\n",
       " 'suggestion': 1955,\n",
       " 'shelf': 1798,\n",
       " 'department': 511,\n",
       " 'entertainment': 681,\n",
       " 'value': 2145,\n",
       " 'detracted': 539,\n",
       " 'merely': 1271,\n",
       " 'takes': 1989,\n",
       " 'tragedy': 2072,\n",
       " 'mo': 1308,\n",
       " 'backdrop': 181,\n",
       " 'opening': 1418,\n",
       " '1859': 7,\n",
       " 'big': 213,\n",
       " 'disturbance': 587,\n",
       " 'background': 182,\n",
       " 'composed': 391,\n",
       " 'subtle': 1950,\n",
       " 'heavily': 950,\n",
       " 'edited': 639,\n",
       " '15': 4,\n",
       " '20': 11,\n",
       " 'minute': 1295,\n",
       " 'instance': 1066,\n",
       " 'bigger': 214,\n",
       " 'nature': 1356,\n",
       " 'camfire': 290,\n",
       " 'infuence': 1060,\n",
       " 'reaches': 1626,\n",
       " 'digested': 554,\n",
       " 'addition': 56,\n",
       " 'hurricane': 1004,\n",
       " 'nails': 1340,\n",
       " 'ring': 1710,\n",
       " 'shank': 1792,\n",
       " 'accessible': 44,\n",
       " 'joints': 1102,\n",
       " 'improve': 1037,\n",
       " 'structure': 1933,\n",
       " 'survive': 1979,\n",
       " 'ability': 35,\n",
       " 'retro': 1693,\n",
       " 'fiction': 784,\n",
       " 'terms': 2009,\n",
       " 'paper': 1452,\n",
       " 'productions': 1577,\n",
       " 'tlp': 2048,\n",
       " 'copyright': 431,\n",
       " 'plug': 1518,\n",
       " 'ncsa': 1358,\n",
       " 'search': 1766,\n",
       " 'engine': 668,\n",
       " 'bob': 236,\n",
       " 'uncle': 2108,\n",
       " 'greats': 916,\n",
       " 'shots': 1808,\n",
       " 'storm': 1922,\n",
       " 'majority': 1228,\n",
       " 'focuses': 821,\n",
       " 'retracing': 1692,\n",
       " 'discussing': 572,\n",
       " 'construction': 417,\n",
       " 'factors': 749,\n",
       " 'contributed': 426,\n",
       " 'fatalities': 771,\n",
       " 'living': 1198,\n",
       " 'alley': 89,\n",
       " 'showing': 1810,\n",
       " 'forming': 839,\n",
       " 'conditions': 410,\n",
       " 'cells': 309,\n",
       " 'scale': 1747,\n",
       " 'kinds': 1127,\n",
       " 'trouble': 2086,\n",
       " 'sleeping': 1835,\n",
       " 'night': 1374,\n",
       " 'artist': 129,\n",
       " 'simply': 1821,\n",
       " 'unmatched': 2128,\n",
       " 'accurate': 45,\n",
       " 'assessment': 137,\n",
       " 'event': 698,\n",
       " 'building': 271,\n",
       " 'standards': 1899,\n",
       " 'improved': 1038,\n",
       " 'brain': 252,\n",
       " 'food': 827,\n",
       " 'complaining': 384,\n",
       " 'bother': 250,\n",
       " 'tuned': 2096,\n",
       " 'huge': 997,\n",
       " 'cut': 469,\n",
       " 'storyline': 1925,\n",
       " 'cool': 430,\n",
       " 'notes': 1382,\n",
       " 'fantastic': 763,\n",
       " 'relaxing': 1661,\n",
       " 'cutting': 470,\n",
       " 'corners': 432,\n",
       " 'preparing': 1552,\n",
       " 'predict': 1546,\n",
       " 'escape': 693,\n",
       " 'crucial': 460,\n",
       " 'survival': 1978,\n",
       " 'fun': 853,\n",
       " 'collaboration': 357,\n",
       " 'edge': 638,\n",
       " 'technologies': 2001,\n",
       " 'specific': 1881,\n",
       " 'half': 930,\n",
       " 'directly': 560,\n",
       " 'kansas': 1117,\n",
       " 'home': 975,\n",
       " 'missed': 1301,\n",
       " 'son': 1854,\n",
       " 'alright': 93,\n",
       " 'layperson': 1155,\n",
       " 'dumbed': 625,\n",
       " 'collided': 361,\n",
       " 'theia': 2019,\n",
       " 'collision': 362,\n",
       " 'sheered': 1796,\n",
       " 'away': 176,\n",
       " 'disintegrated': 575,\n",
       " 'asteroid': 143,\n",
       " 'belt': 204,\n",
       " 'discover': 567,\n",
       " 'excited': 712,\n",
       " 'brought': 267,\n",
       " 'evolutionary': 704,\n",
       " 'theory': 2023,\n",
       " 'interjection': 1080,\n",
       " 'bogus': 241,\n",
       " 'mapping': 1239,\n",
       " 'formation': 836,\n",
       " 'clearest': 347,\n",
       " 'description': 522,\n",
       " 'gets': 880,\n",
       " 'study': 1940,\n",
       " 'destructive': 533,\n",
       " 'springfield': 1895,\n",
       " 'increase': 1045,\n",
       " 'severe': 1789,\n",
       " 'events': 699,\n",
       " 'taking': 1990,\n",
       " 'country': 442,\n",
       " 'intense': 1072,\n",
       " 'perfect': 1475,\n",
       " 'fascination': 767,\n",
       " 'purposes': 1604,\n",
       " 'relax': 1660,\n",
       " 'history': 967,\n",
       " 'members': 1263,\n",
       " 'enigma': 672,\n",
       " 'achieves': 47,\n",
       " 'superiority': 1964,\n",
       " 'suppositions': 1972,\n",
       " 'drama': 614,\n",
       " 'clearly': 348,\n",
       " 'date': 481,\n",
       " 'presentation': 1554,\n",
       " '2016': 13,\n",
       " 'lost': 1209,\n",
       " 'interest': 1076,\n",
       " 'shut': 1813,\n",
       " 'hour': 991,\n",
       " 'million': 1290,\n",
       " 'docs': 593,\n",
       " 'method': 1278,\n",
       " 'awesome': 178,\n",
       " 'biggest': 215,\n",
       " 'letdown': 1172,\n",
       " '17': 6,\n",
       " 'circling': 337,\n",
       " 'missing': 1302,\n",
       " 'apparent': 115,\n",
       " 'gain': 857,\n",
       " 'lizard': 1199,\n",
       " 'fool': 828,\n",
       " 'thinking': 2028,\n",
       " 'flat': 809,\n",
       " 'compare': 379,\n",
       " 'stark': 1902,\n",
       " 'difference': 551,\n",
       " 'formats': 837,\n",
       " 'documentry': 600,\n",
       " 'specifically': 1882,\n",
       " 'joslyn': 1108,\n",
       " 'totally': 2064,\n",
       " 'awful': 179,\n",
       " 'received': 1640,\n",
       " '100': 3,\n",
       " 'tested': 2014,\n",
       " 'kills': 1124,\n",
       " 'liked': 1182,\n",
       " 'development': 546,\n",
       " 'research': 1683,\n",
       " 'heroes': 960,\n",
       " 'april': 121,\n",
       " 'family': 761,\n",
       " 'lived': 1196,\n",
       " 'haleyville': 929,\n",
       " 'alabama': 81,\n",
       " 'stands': 1900,\n",
       " 'desire': 527,\n",
       " 'nerd': 1368,\n",
       " 'vhs': 2160,\n",
       " 'classroom': 345,\n",
       " 'meteorological': 1276,\n",
       " 'lesson': 1169,\n",
       " 'expect': 722,\n",
       " 'town': 2067,\n",
       " 'ill': 1017,\n",
       " 'prepared': 1551,\n",
       " 'attitude': 159,\n",
       " 'buildings': 272,\n",
       " 'communications': 376,\n",
       " 'navigation': 1357,\n",
       " 'imaging': 1028,\n",
       " 'superior': 1963,\n",
       " 'offers': 1407,\n",
       " 'community': 378,\n",
       " 'process': 1570,\n",
       " 'rebuilding': 1638,\n",
       " 'sense': 1779,\n",
       " 'guy': 924,\n",
       " 'reading': 1630,\n",
       " 'sheet': 1797,\n",
       " 'voicing': 2178,\n",
       " 'lot': 1210,\n",
       " 'meh': 1262,\n",
       " 'hold': 972,\n",
       " 'try': 2092,\n",
       " 'leaving': 1161,\n",
       " 'dangerous': 475,\n",
       " 'launch': 1152,\n",
       " 'narrating': 1344,\n",
       " 'massively': 1245,\n",
       " 'customers': 468,\n",
       " 'exercise': 715,\n",
       " 'prudence': 1595,\n",
       " 'purchasing': 1603,\n",
       " 'requires': 1682,\n",
       " 'remember': 1669,\n",
       " 'theories': 2022,\n",
       " 'surpasses': 1976,\n",
       " 'advanced': 67,\n",
       " 'digitally': 556,\n",
       " 'enhanced': 671,\n",
       " 'blood': 228,\n",
       " 'lessons': 1170,\n",
       " 'abound': 37,\n",
       " 'tossed': 2061,\n",
       " 'aside': 131,\n",
       " 'blind': 226,\n",
       " 'chance': 316,\n",
       " 'reign': 1654,\n",
       " 'e': 628,\n",
       " 'loose': 1207,\n",
       " 'important': 1033,\n",
       " 'satellite': 1738,\n",
       " 'iridium': 1094,\n",
       " '23': 16,\n",
       " 'human': 998,\n",
       " 'dock': 590,\n",
       " 'newer': 1370,\n",
       " 'voices': 2177,\n",
       " 'modulation': 1312,\n",
       " 'outstanding': 1440,\n",
       " 'content': 419,\n",
       " 'instead': 1067,\n",
       " 'distracted': 585,\n",
       " 'subjective': 1947,\n",
       " 'reactions': 1628,\n",
       " 'idiosyncratic': 1013,\n",
       " 'variation': 2150,\n",
       " 'speech': 1884,\n",
       " 'giving': 887,\n",
       " 'yoga': 2261,\n",
       " 'instruction': 1070,\n",
       " 'describing': 521,\n",
       " 'tumultuous': 2095,\n",
       " 'forces': 831,\n",
       " 'planetary': 1503,\n",
       " 'students': 1938,\n",
       " 'captivated': 294,\n",
       " 'heavy': 951,\n",
       " 'packed': 1450,\n",
       " 'precise': 1545,\n",
       " 'reliable': 1665,\n",
       " 'rewashed': 1704,\n",
       " 'renders': 1671,\n",
       " 'thank': 2016,\n",
       " 'sux': 1980,\n",
       " '0': 0,\n",
       " '5': 24,\n",
       " 'hated': 943,\n",
       " 'crap': 451,\n",
       " 'money': 1315,\n",
       " 'refunded': 1651,\n",
       " 'narrative': 1348,\n",
       " 'kept': 1120,\n",
       " 'engaged': 666,\n",
       " 'learned': 1158,\n",
       " 'destroyed': 531,\n",
       " 'natural': 1355,\n",
       " 'blu': 232,\n",
       " 'ray': 1625,\n",
       " 'price': 1561,\n",
       " 'kind': 1125,\n",
       " 'personal': 1482,\n",
       " 'angles': 103,\n",
       " 'channel': 320,\n",
       " 'specials': 1880,\n",
       " 'fell': 781,\n",
       " 'geek': 869,\n",
       " 'kid': 1122,\n",
       " 'let': 1171,\n",
       " 'resolution': 1686,\n",
       " 'major': 1227,\n",
       " 'wormhole': 2241,\n",
       " 'blow': 230,\n",
       " 'mind': 1292,\n",
       " 'thow': 2035,\n",
       " 'staggering': 1897,\n",
       " 'depth': 516,\n",
       " 'particularly': 1457,\n",
       " 'potential': 1539,\n",
       " 'string': 1930,\n",
       " 'second': 1768,\n",
       " 'bites': 218,\n",
       " 'overwhelming': 1444,\n",
       " 'lots': 1211,\n",
       " 'shock': 1803,\n",
       " 'awe': 177,\n",
       " 'disappointing': 564,\n",
       " 'pbs': 1467,\n",
       " 'brief': 259,\n",
       " 'beth': 211,\n",
       " 'williams': 2216,\n",
       " 'articulate': 127,\n",
       " 'knows': 1133,\n",
       " 'talking': 1992,\n",
       " 'young': 2262,\n",
       " 'james': 1099,\n",
       " 'earl': 629,\n",
       " 'jones': 1105,\n",
       " 'pulls': 1600,\n",
       " 'falling': 757,\n",
       " 'bonus': 244,\n",
       " 'image': 1020,\n",
       " '63': 28,\n",
       " 'light': 1179,\n",
       " 'comparison': 381,\n",
       " 'early': 630,\n",
       " 'stages': 1896,\n",
       " 'lack': 1136,\n",
       " 'menu': 1269,\n",
       " 'explain': 729,\n",
       " 'origin': 1429,\n",
       " 'cited': 338,\n",
       " 'united': 2124,\n",
       " 'nations': 1354,\n",
       " 'pernicious': 1478,\n",
       " 'torture': 2060,\n",
       " 'm': 1220,\n",
       " 'watcher': 2194,\n",
       " 'lightning': 1180,\n",
       " 'figured': 789,\n",
       " 'amateur': 95,\n",
       " 'heed': 953,\n",
       " 'blah': 221,\n",
       " 'picture': 1496,\n",
       " 'misuses': 1306,\n",
       " 'describe': 518,\n",
       " 'changes': 319,\n",
       " 'occurring': 1405,\n",
       " 'nearly': 1360,\n",
       " 'completely': 388,\n",
       " 'order': 1427,\n",
       " ...}"
      ]
     },
     "execution_count": 202,
     "metadata": {},
     "output_type": "execute_result"
    }
   ],
   "source": [
    "vectorizer.vocabulary_"
   ]
  },
  {
   "cell_type": "code",
   "execution_count": 79,
   "metadata": {},
   "outputs": [],
   "source": [
    "## using sentiment as the target\n",
    "y = df[\"sentiment\"]"
   ]
  },
  {
   "cell_type": "code",
   "execution_count": 98,
   "metadata": {},
   "outputs": [],
   "source": [
    "## using SMOTE to balance the dataset before splitting into train and test\n",
    "from imblearn.over_sampling import SMOTE\n",
    "smote = SMOTE(random_state=42)\n",
    "X, y = smote.fit_resample(X, y)"
   ]
  },
  {
   "cell_type": "code",
   "execution_count": 99,
   "metadata": {},
   "outputs": [],
   "source": [
    "from sklearn.model_selection import train_test_split\n",
    "X_train, X_test, y_train, y_test = train_test_split(X, y, test_size=0.2, random_state=42)"
   ]
  },
  {
   "cell_type": "code",
   "execution_count": 25,
   "metadata": {},
   "outputs": [],
   "source": [
    "from sklearn.naive_bayes import MultinomialNB\n",
    "clf = MultinomialNB()\n",
    "clf.fit(X_train, y_train)\n",
    "\n",
    "y_pred = clf.predict(X_train)"
   ]
  },
  {
   "cell_type": "code",
   "execution_count": 26,
   "metadata": {},
   "outputs": [
    {
     "name": "stdout",
     "output_type": "stream",
     "text": [
      "              precision    recall  f1-score   support\n",
      "\n",
      "           0       0.91      0.57      0.70       530\n",
      "           1       0.73      0.94      0.82       562\n",
      "           2       0.89      0.94      0.91       544\n",
      "\n",
      "    accuracy                           0.82      1636\n",
      "   macro avg       0.84      0.82      0.81      1636\n",
      "weighted avg       0.84      0.82      0.81      1636\n",
      "\n"
     ]
    }
   ],
   "source": [
    "from sklearn.metrics import classification_report, confusion_matrix, accuracy_score, f1_score, precision_score, recall_score\n",
    "\n",
    "print(classification_report(y_train, y_pred))"
   ]
  },
  {
   "cell_type": "code",
   "execution_count": 27,
   "metadata": {},
   "outputs": [
    {
     "name": "stdout",
     "output_type": "stream",
     "text": [
      "Accuracy:  0.8227383863080685\n",
      "Precision:  0.84110996789047\n",
      "Recall:  0.8227383863080685\n",
      "F1:  0.8146400744014224\n"
     ]
    }
   ],
   "source": [
    "accuracy = accuracy_score(y_train, y_pred)\n",
    "precision = precision_score(y_train, y_pred, average=\"weighted\")\n",
    "recall = recall_score(y_train, y_pred, average=\"weighted\")\n",
    "f1 = f1_score(y_train, y_pred, average=\"weighted\")\n",
    "\n",
    "print(\"Accuracy: \", accuracy)\n",
    "print(\"Precision: \", precision)\n",
    "print(\"Recall: \", recall)\n",
    "print(\"F1: \", f1)"
   ]
  },
  {
   "cell_type": "code",
   "execution_count": 28,
   "metadata": {},
   "outputs": [
    {
     "name": "stdout",
     "output_type": "stream",
     "text": [
      "              precision    recall  f1-score   support\n",
      "\n",
      "           0       0.76      0.43      0.55       152\n",
      "           1       0.55      0.84      0.66       120\n",
      "           2       0.75      0.75      0.75       138\n",
      "\n",
      "    accuracy                           0.66       410\n",
      "   macro avg       0.68      0.67      0.65       410\n",
      "weighted avg       0.69      0.66      0.65       410\n",
      "\n"
     ]
    }
   ],
   "source": [
    "## for the test set\n",
    "y_pred = clf.predict(X_test)\n",
    "\n",
    "print(classification_report(y_test, y_pred))"
   ]
  },
  {
   "cell_type": "code",
   "execution_count": 29,
   "metadata": {},
   "outputs": [
    {
     "name": "stdout",
     "output_type": "stream",
     "text": [
      "Accuracy:  0.6585365853658537\n",
      "Precision:  0.6922533130270725\n",
      "Recall:  0.6585365853658537\n",
      "F1:  0.649817562514743\n"
     ]
    }
   ],
   "source": [
    "accuracy = accuracy_score(y_test, y_pred)\n",
    "precision = precision_score(y_test, y_pred, average=\"weighted\")\n",
    "recall = recall_score(y_test, y_pred, average=\"weighted\")\n",
    "f1 = f1_score(y_test, y_pred, average=\"weighted\")\n",
    "\n",
    "print(\"Accuracy: \", accuracy)\n",
    "print(\"Precision: \", precision)\n",
    "print(\"Recall: \", recall)\n",
    "print(\"F1: \", f1)"
   ]
  },
  {
   "cell_type": "code",
   "execution_count": 30,
   "metadata": {},
   "outputs": [
    {
     "data": {
      "text/plain": [
       "{'alpha': 2.5}"
      ]
     },
     "execution_count": 30,
     "metadata": {},
     "output_type": "execute_result"
    }
   ],
   "source": [
    "## we can see that the model is overfitting, so we need to use regularization\n",
    "## we will use grid search to find the best parameters\n",
    "\n",
    "from sklearn.model_selection import GridSearchCV\n",
    "\n",
    "parameters = {'alpha': [0.1, 0.5, 1.0, 1.5, 2.0, 2.5, 3.0, 3.5, 4.0, 4.5, 5.0]}\n",
    "clf = GridSearchCV(MultinomialNB(), parameters, cv=5, n_jobs=-1)\n",
    "clf.fit(X_train, y_train)\n",
    "\n",
    "clf.best_params_"
   ]
  },
  {
   "cell_type": "code",
   "execution_count": 31,
   "metadata": {},
   "outputs": [
    {
     "name": "stdout",
     "output_type": "stream",
     "text": [
      "              precision    recall  f1-score   support\n",
      "\n",
      "           0       0.89      0.55      0.68       530\n",
      "           1       0.73      0.91      0.81       562\n",
      "           2       0.85      0.94      0.89       544\n",
      "\n",
      "    accuracy                           0.80      1636\n",
      "   macro avg       0.82      0.80      0.79      1636\n",
      "weighted avg       0.82      0.80      0.79      1636\n",
      "\n"
     ]
    }
   ],
   "source": [
    "## using the best parameters\n",
    "clf = MultinomialNB(alpha=2.5)\n",
    "clf.fit(X_train, y_train)\n",
    "\n",
    "y_pred = clf.predict(X_train)\n",
    "\n",
    "print(classification_report(y_train, y_pred))"
   ]
  },
  {
   "cell_type": "code",
   "execution_count": 32,
   "metadata": {},
   "outputs": [
    {
     "data": {
      "image/png": "[encoded data removed]",
      "text/plain": [
       "<Figure size 640x480 with 2 Axes>"
      ]
     },
     "metadata": {},
     "output_type": "display_data"
    }
   ],
   "source": [
    "## confusion matrix\n",
    "from sklearn.metrics import confusion_matrix\n",
    "confusion_matrix(y_train, y_pred)\n",
    "sns.heatmap(confusion_matrix(y_train, y_pred), annot=True, fmt=\"d\")\n",
    "plt.show()"
   ]
  },
  {
   "cell_type": "code",
   "execution_count": 33,
   "metadata": {},
   "outputs": [
    {
     "name": "stdout",
     "output_type": "stream",
     "text": [
      "classification_report:                precision    recall  f1-score   support\n",
      "\n",
      "           0       0.74      0.42      0.54       152\n",
      "           1       0.55      0.80      0.66       120\n",
      "           2       0.71      0.78      0.74       138\n",
      "\n",
      "    accuracy                           0.65       410\n",
      "   macro avg       0.67      0.67      0.64       410\n",
      "weighted avg       0.68      0.65      0.64       410\n",
      "\n"
     ]
    }
   ],
   "source": [
    "## for the test set\n",
    "y_pred = clf.predict(X_test)\n",
    "\n",
    "print(\"classification_report: \", classification_report(y_test, y_pred))"
   ]
  },
  {
   "cell_type": "code",
   "execution_count": 34,
   "metadata": {},
   "outputs": [
    {
     "data": {
      "image/png": "[encoded data removed]",
      "text/plain": [
       "<Figure size 640x480 with 2 Axes>"
      ]
     },
     "metadata": {},
     "output_type": "display_data"
    }
   ],
   "source": [
    "confusion_matrix(y_test, y_pred)\n",
    "sns.heatmap(confusion_matrix(y_test, y_pred), annot=True, fmt=\"d\")\n",
    "plt.show()"
   ]
  },
  {
   "cell_type": "code",
   "execution_count": 35,
   "metadata": {},
   "outputs": [
    {
     "name": "stdout",
     "output_type": "stream",
     "text": [
      "              precision    recall  f1-score   support\n",
      "\n",
      "           0       0.98      0.65      0.78       530\n",
      "           1       0.76      0.99      0.86       562\n",
      "           2       0.98      0.98      0.98       544\n",
      "\n",
      "    accuracy                           0.88      1636\n",
      "   macro avg       0.90      0.88      0.87      1636\n",
      "weighted avg       0.90      0.88      0.87      1636\n",
      "\n"
     ]
    }
   ],
   "source": [
    "from sklearn.ensemble import RandomForestClassifier\n",
    "\n",
    "clf = RandomForestClassifier(n_estimators=100, random_state=42)\n",
    "clf.fit(X_train, y_train)\n",
    "\n",
    "y_pred = clf.predict(X_train)\n",
    "\n",
    "print(classification_report(y_train, y_pred))"
   ]
  },
  {
   "cell_type": "code",
   "execution_count": 36,
   "metadata": {},
   "outputs": [
    {
     "data": {
      "text/plain": [
       "<AxesSubplot: >"
      ]
     },
     "execution_count": 36,
     "metadata": {},
     "output_type": "execute_result"
    },
    {
     "data": {
      "image/png": "[encoded data removed]",
      "text/plain": [
       "<Figure size 640x480 with 2 Axes>"
      ]
     },
     "metadata": {},
     "output_type": "display_data"
    }
   ],
   "source": [
    "## confusion matrix\n",
    "from sklearn.metrics import confusion_matrix\n",
    "confusion_matrix(y_train, y_pred)\n",
    "sns.heatmap(confusion_matrix(y_train, y_pred), annot=True, fmt=\"d\")"
   ]
  },
  {
   "cell_type": "code",
   "execution_count": 37,
   "metadata": {},
   "outputs": [
    {
     "name": "stdout",
     "output_type": "stream",
     "text": [
      "classification_report:                precision    recall  f1-score   support\n",
      "\n",
      "           0       0.79      0.39      0.52       152\n",
      "           1       0.51      0.88      0.65       120\n",
      "           2       0.78      0.73      0.76       138\n",
      "\n",
      "    accuracy                           0.65       410\n",
      "   macro avg       0.69      0.67      0.64       410\n",
      "weighted avg       0.71      0.65      0.64       410\n",
      "\n"
     ]
    },
    {
     "data": {
      "text/plain": [
       "<AxesSubplot: >"
      ]
     },
     "execution_count": 37,
     "metadata": {},
     "output_type": "execute_result"
    },
    {
     "data": {
      "image/png": "[encoded data removed]",
      "text/plain": [
       "<Figure size 640x480 with 2 Axes>"
      ]
     },
     "metadata": {},
     "output_type": "display_data"
    }
   ],
   "source": [
    "## for the test set\n",
    "y_pred = clf.predict(X_test)\n",
    "\n",
    "print(\"classification_report: \", classification_report(y_test, y_pred))\n",
    "\n",
    "confusion_matrix(y_test, y_pred)\n",
    "sns.heatmap(confusion_matrix(y_test, y_pred), annot=True, fmt=\"d\")\n"
   ]
  },
  {
   "cell_type": "code",
   "execution_count": 38,
   "metadata": {},
   "outputs": [
    {
     "data": {
      "text/plain": [
       "{'n_estimators': 200}"
      ]
     },
     "execution_count": 38,
     "metadata": {},
     "output_type": "execute_result"
    }
   ],
   "source": [
    "## regularization\n",
    "parameters = {'n_estimators': [100, 200, 300, 400, 500, 600, 700, 800, 900, 1000]}\n",
    "clf = GridSearchCV(RandomForestClassifier(random_state=42), parameters, cv=5, n_jobs=-1)\n",
    "clf.fit(X_train, y_train)\n",
    "\n",
    "clf.best_params_"
   ]
  },
  {
   "cell_type": "code",
   "execution_count": 39,
   "metadata": {},
   "outputs": [
    {
     "name": "stdout",
     "output_type": "stream",
     "text": [
      "              precision    recall  f1-score   support\n",
      "\n",
      "           0       0.98      0.65      0.78       530\n",
      "           1       0.76      0.99      0.86       562\n",
      "           2       0.98      0.98      0.98       544\n",
      "\n",
      "    accuracy                           0.88      1636\n",
      "   macro avg       0.90      0.88      0.87      1636\n",
      "weighted avg       0.90      0.88      0.87      1636\n",
      "\n"
     ]
    }
   ],
   "source": [
    "## using the best parameters\n",
    "\n",
    "clf = RandomForestClassifier(n_estimators=200, random_state=42)\n",
    "clf.fit(X_train, y_train)\n",
    "\n",
    "y_pred = clf.predict(X_train)\n",
    "\n",
    "print(classification_report(y_train, y_pred))"
   ]
  },
  {
   "cell_type": "code",
   "execution_count": 40,
   "metadata": {},
   "outputs": [
    {
     "data": {
      "text/plain": [
       "<AxesSubplot: >"
      ]
     },
     "execution_count": 40,
     "metadata": {},
     "output_type": "execute_result"
    },
    {
     "data": {
      "image/png": "[encoded data removed]",
      "text/plain": [
       "<Figure size 640x480 with 2 Axes>"
      ]
     },
     "metadata": {},
     "output_type": "display_data"
    }
   ],
   "source": [
    "## confusion matrix\n",
    "from sklearn.metrics import confusion_matrix\n",
    "confusion_matrix(y_train, y_pred)\n",
    "sns.heatmap(confusion_matrix(y_train, y_pred), annot=True, fmt=\"d\")"
   ]
  },
  {
   "cell_type": "code",
   "execution_count": 41,
   "metadata": {},
   "outputs": [
    {
     "name": "stdout",
     "output_type": "stream",
     "text": [
      "classification_report:                precision    recall  f1-score   support\n",
      "\n",
      "           0       0.82      0.41      0.54       152\n",
      "           1       0.53      0.89      0.66       120\n",
      "           2       0.80      0.76      0.78       138\n",
      "\n",
      "    accuracy                           0.67       410\n",
      "   macro avg       0.71      0.69      0.66       410\n",
      "weighted avg       0.73      0.67      0.66       410\n",
      "\n"
     ]
    },
    {
     "data": {
      "text/plain": [
       "<AxesSubplot: >"
      ]
     },
     "execution_count": 41,
     "metadata": {},
     "output_type": "execute_result"
    },
    {
     "data": {
      "image/png": "[encoded data removed]",
      "text/plain": [
       "<Figure size 640x480 with 2 Axes>"
      ]
     },
     "metadata": {},
     "output_type": "display_data"
    }
   ],
   "source": [
    "## for the test set\n",
    "y_pred = clf.predict(X_test)\n",
    "\n",
    "print(\"classification_report: \", classification_report(y_test, y_pred))\n",
    "\n",
    "confusion_matrix(y_test, y_pred)\n",
    "sns.heatmap(confusion_matrix(y_test, y_pred), annot=True, fmt=\"d\")"
   ]
  },
  {
   "cell_type": "code",
   "execution_count": 42,
   "metadata": {},
   "outputs": [],
   "source": [
    "## n_estimators came out to be the same as what we used before, so we let's use XGBoost as our final model(for now lol)\n",
    "\n",
    "from xgboost import XGBClassifier\n",
    "clf = XGBClassifier(n_estimators=200, random_state=42)\n",
    "clf.fit(X_train, y_train)\n",
    "\n",
    "y_pred = clf.predict(X_train)"
   ]
  },
  {
   "cell_type": "code",
   "execution_count": 43,
   "metadata": {},
   "outputs": [
    {
     "data": {
      "text/plain": [
       "<AxesSubplot: >"
      ]
     },
     "execution_count": 43,
     "metadata": {},
     "output_type": "execute_result"
    },
    {
     "data": {
      "image/png": "[encoded data removed]",
      "text/plain": [
       "<Figure size 640x480 with 2 Axes>"
      ]
     },
     "metadata": {},
     "output_type": "display_data"
    }
   ],
   "source": [
    "\n",
    "## confusion matrix\n",
    "confusion_matrix(y_train, y_pred)\n",
    "sns.heatmap(confusion_matrix(y_train, y_pred), annot=True, fmt=\"d\")"
   ]
  },
  {
   "cell_type": "code",
   "execution_count": 44,
   "metadata": {},
   "outputs": [
    {
     "data": {
      "text/plain": [
       "0.9297066014669927"
      ]
     },
     "execution_count": 44,
     "metadata": {},
     "output_type": "execute_result"
    }
   ],
   "source": [
    "accuracy_score(y_train, y_pred)\n"
   ]
  },
  {
   "cell_type": "code",
   "execution_count": 45,
   "metadata": {},
   "outputs": [
    {
     "name": "stdout",
     "output_type": "stream",
     "text": [
      "              precision    recall  f1-score   support\n",
      "\n",
      "           0       0.95      0.91      0.93       530\n",
      "           1       0.89      0.98      0.93       562\n",
      "           2       0.96      0.89      0.92       544\n",
      "\n",
      "    accuracy                           0.93      1636\n",
      "   macro avg       0.93      0.93      0.93      1636\n",
      "weighted avg       0.93      0.93      0.93      1636\n",
      "\n"
     ]
    }
   ],
   "source": [
    "\n",
    "print(classification_report(y_train, y_pred))"
   ]
  },
  {
   "cell_type": "code",
   "execution_count": 46,
   "metadata": {},
   "outputs": [
    {
     "name": "stdout",
     "output_type": "stream",
     "text": [
      "              precision    recall  f1-score   support\n",
      "\n",
      "           0       0.79      0.68      0.73       152\n",
      "           1       0.66      0.80      0.72       120\n",
      "           2       0.78      0.75      0.77       138\n",
      "\n",
      "    accuracy                           0.74       410\n",
      "   macro avg       0.74      0.75      0.74       410\n",
      "weighted avg       0.75      0.74      0.74       410\n",
      "\n"
     ]
    }
   ],
   "source": [
    "## for the test set\n",
    "y_pred = clf.predict(X_test)\n",
    "\n",
    "print(classification_report(y_test, y_pred))"
   ]
  },
  {
   "cell_type": "code",
   "execution_count": 47,
   "metadata": {},
   "outputs": [
    {
     "data": {
      "text/plain": [
       "<AxesSubplot: >"
      ]
     },
     "execution_count": 47,
     "metadata": {},
     "output_type": "execute_result"
    },
    {
     "data": {
      "image/png": "[encoded data removed]",
      "text/plain": [
       "<Figure size 640x480 with 2 Axes>"
      ]
     },
     "metadata": {},
     "output_type": "display_data"
    }
   ],
   "source": [
    "## confusion matrix\n",
    "confusion_matrix(y_test, y_pred)\n",
    "sns.heatmap(confusion_matrix(y_test, y_pred), annot=True, fmt=\"d\")"
   ]
  },
  {
   "cell_type": "code",
   "execution_count": 48,
   "metadata": {},
   "outputs": [
    {
     "data": {
      "text/plain": [
       "{'n_estimators': 300}"
      ]
     },
     "execution_count": 48,
     "metadata": {},
     "output_type": "execute_result"
    }
   ],
   "source": [
    "## regularization\n",
    "parameters = {'n_estimators': [100, 200, 300, 400, 500, 600, 700, 800, 900, 1000]}\n",
    "clf = GridSearchCV(XGBClassifier(random_state=42), parameters, cv=5, n_jobs=-1)\n",
    "clf.fit(X_train, y_train)\n",
    "\n",
    "clf.best_params_"
   ]
  },
  {
   "cell_type": "code",
   "execution_count": 49,
   "metadata": {},
   "outputs": [
    {
     "data": {
      "text/plain": [
       "0.9449877750611247"
      ]
     },
     "execution_count": 49,
     "metadata": {},
     "output_type": "execute_result"
    }
   ],
   "source": [
    "\n",
    "from xgboost import XGBClassifier\n",
    "clf = XGBClassifier(n_estimators=300, random_state=42)\n",
    "clf.fit(X_train, y_train)\n",
    "\n",
    "y_pred = clf.predict(X_train)\n",
    "\n",
    "accuracy_score(y_train, y_pred)"
   ]
  },
  {
   "cell_type": "code",
   "execution_count": 50,
   "metadata": {},
   "outputs": [
    {
     "data": {
      "text/plain": [
       "<AxesSubplot: >"
      ]
     },
     "execution_count": 50,
     "metadata": {},
     "output_type": "execute_result"
    },
    {
     "data": {
      "image/png": "[encoded data removed]",
      "text/plain": [
       "<Figure size 640x480 with 2 Axes>"
      ]
     },
     "metadata": {},
     "output_type": "display_data"
    }
   ],
   "source": [
    "## confusion matrix\n",
    "confusion_matrix(y_train, y_pred)\n",
    "sns.heatmap(confusion_matrix(y_train, y_pred), annot=True, fmt=\"d\")"
   ]
  },
  {
   "cell_type": "code",
   "execution_count": 51,
   "metadata": {},
   "outputs": [
    {
     "name": "stdout",
     "output_type": "stream",
     "text": [
      "              precision    recall  f1-score   support\n",
      "\n",
      "           0       0.97      0.92      0.95       530\n",
      "           1       0.91      0.99      0.95       562\n",
      "           2       0.96      0.92      0.94       544\n",
      "\n",
      "    accuracy                           0.94      1636\n",
      "   macro avg       0.95      0.94      0.94      1636\n",
      "weighted avg       0.95      0.94      0.94      1636\n",
      "\n"
     ]
    }
   ],
   "source": [
    "print(classification_report(y_train, y_pred))"
   ]
  },
  {
   "cell_type": "code",
   "execution_count": 52,
   "metadata": {},
   "outputs": [
    {
     "name": "stdout",
     "output_type": "stream",
     "text": [
      "              precision    recall  f1-score   support\n",
      "\n",
      "           0       0.79      0.66      0.72       152\n",
      "           1       0.67      0.80      0.73       120\n",
      "           2       0.77      0.78      0.77       138\n",
      "\n",
      "    accuracy                           0.74       410\n",
      "   macro avg       0.74      0.75      0.74       410\n",
      "weighted avg       0.75      0.74      0.74       410\n",
      "\n"
     ]
    }
   ],
   "source": [
    "## for the test set\n",
    "y_pred = clf.predict(X_test)\n",
    "\n",
    "print(classification_report(y_test, y_pred))"
   ]
  },
  {
   "cell_type": "code",
   "execution_count": 53,
   "metadata": {},
   "outputs": [
    {
     "data": {
      "text/plain": [
       "<AxesSubplot: >"
      ]
     },
     "execution_count": 53,
     "metadata": {},
     "output_type": "execute_result"
    },
    {
     "data": {
      "image/png": "[encoded data removed]",
      "text/plain": [
       "<Figure size 640x480 with 2 Axes>"
      ]
     },
     "metadata": {},
     "output_type": "display_data"
    }
   ],
   "source": [
    "## confusion matrix\n",
    "confusion_matrix(y_test, y_pred)\n",
    "sns.heatmap(confusion_matrix(y_test, y_pred), annot=True, fmt=\"d\")"
   ]
  },
  {
   "cell_type": "code",
   "execution_count": 54,
   "metadata": {},
   "outputs": [
    {
     "data": {
      "text/plain": [
       "0.839242053789731"
      ]
     },
     "execution_count": 54,
     "metadata": {},
     "output_type": "execute_result"
    }
   ],
   "source": [
    "## using support vector machine as our model\n",
    "\n",
    "from sklearn.svm import SVC\n",
    "\n",
    "clf = SVC(random_state=42)\n",
    "clf.fit(X_train, y_train)\n",
    "\n",
    "y_pred = clf.predict(X_train)\n",
    "\n",
    "accuracy_score(y_train, y_pred)\n"
   ]
  },
  {
   "cell_type": "code",
   "execution_count": 55,
   "metadata": {},
   "outputs": [
    {
     "data": {
      "text/plain": [
       "<AxesSubplot: >"
      ]
     },
     "execution_count": 55,
     "metadata": {},
     "output_type": "execute_result"
    },
    {
     "data": {
      "image/png": "[encoded data removed]",
      "text/plain": [
       "<Figure size 640x480 with 2 Axes>"
      ]
     },
     "metadata": {},
     "output_type": "display_data"
    }
   ],
   "source": [
    "## confusion matrix\n",
    "confusion_matrix(y_train, y_pred)\n",
    "sns.heatmap(confusion_matrix(y_train, y_pred), annot=True, fmt=\"d\")"
   ]
  },
  {
   "cell_type": "code",
   "execution_count": 56,
   "metadata": {},
   "outputs": [
    {
     "name": "stdout",
     "output_type": "stream",
     "text": [
      "              precision    recall  f1-score   support\n",
      "\n",
      "           0       0.95      0.59      0.73       530\n",
      "           1       0.71      0.98      0.82       562\n",
      "           2       0.96      0.93      0.95       544\n",
      "\n",
      "    accuracy                           0.84      1636\n",
      "   macro avg       0.87      0.84      0.83      1636\n",
      "weighted avg       0.87      0.84      0.83      1636\n",
      "\n"
     ]
    }
   ],
   "source": [
    "print(classification_report(y_train, y_pred))"
   ]
  },
  {
   "cell_type": "code",
   "execution_count": 60,
   "metadata": {},
   "outputs": [],
   "source": [
    "## From all the model we can make a clear observation that our model is getting confused between classes 0 and 1. \n",
    "## since we already did SMOTE, we will have to think of other ways to improve our model."
   ]
  },
  {
   "cell_type": "code",
   "execution_count": 58,
   "metadata": {},
   "outputs": [
    {
     "data": {
      "text/plain": [
       "<AxesSubplot: >"
      ]
     },
     "execution_count": 58,
     "metadata": {},
     "output_type": "execute_result"
    },
    {
     "data": {
      "image/png": "[encoded data removed]",
      "text/plain": [
       "<Figure size 640x480 with 2 Axes>"
      ]
     },
     "metadata": {},
     "output_type": "display_data"
    }
   ],
   "source": [
    "## confusion matrix\n",
    "confusion_matrix(y_train, y_pred)\n",
    "sns.heatmap(confusion_matrix(y_train, y_pred), annot=True, fmt=\"d\")"
   ]
  },
  {
   "cell_type": "code",
   "execution_count": 100,
   "metadata": {},
   "outputs": [],
   "source": [
    "## using a deep learning model\n",
    "\n",
    "import tensorflow as tf\n",
    "from tensorflow import keras\n",
    "from tensorflow.keras import layers\n",
    "from tensorflow.keras.layers import Dense, Dropout, Activation, Flatten, Conv2D, MaxPooling2D\n",
    "from tensorflow.keras.models import Sequential\n",
    "from tensorflow.keras.callbacks import EarlyStopping"
   ]
  },
  {
   "cell_type": "code",
   "execution_count": 101,
   "metadata": {},
   "outputs": [],
   "source": [
    "## converting y to one hot encoding\n",
    "\n",
    "y_train_ohe = tf.keras.utils.to_categorical(y_train, num_classes=3)\n",
    "y_test_ohe = tf.keras.utils.to_categorical(y_test, num_classes=3)\n"
   ]
  },
  {
   "cell_type": "code",
   "execution_count": 108,
   "metadata": {},
   "outputs": [
    {
     "name": "stdout",
     "output_type": "stream",
     "text": [
      "Epoch 1/100\n"
     ]
    },
    {
     "name": "stderr",
     "output_type": "stream",
     "text": [
      "/opt/homebrew/lib/python3.10/site-packages/tensorflow/python/framework/indexed_slices.py:444: UserWarning: Converting sparse IndexedSlices(IndexedSlices(indices=Tensor(\"gradient_tape/sequential_9/dense_27/embedding_lookup_sparse/Reshape_1:0\", shape=(None,), dtype=int32), values=Tensor(\"gradient_tape/sequential_9/dense_27/embedding_lookup_sparse/Reshape:0\", shape=(None, 128), dtype=float32), dense_shape=Tensor(\"gradient_tape/sequential_9/dense_27/embedding_lookup_sparse/Cast:0\", shape=(2,), dtype=int32))) to a dense Tensor of unknown shape. This may consume a large amount of memory.\n",
      "  warnings.warn(\n"
     ]
    },
    {
     "name": "stdout",
     "output_type": "stream",
     "text": [
      "52/52 [==============================] - 0s 3ms/step - loss: 1.0799 - accuracy: 0.4517 - val_loss: 1.0520 - val_accuracy: 0.5293\n",
      "Epoch 2/100\n",
      "52/52 [==============================] - 0s 1ms/step - loss: 1.0144 - accuracy: 0.5599 - val_loss: 0.9677 - val_accuracy: 0.5439\n",
      "Epoch 3/100\n",
      "52/52 [==============================] - 0s 1ms/step - loss: 0.8768 - accuracy: 0.6284 - val_loss: 0.8681 - val_accuracy: 0.6220\n",
      "Epoch 4/100\n",
      "52/52 [==============================] - 0s 1ms/step - loss: 0.6858 - accuracy: 0.7329 - val_loss: 0.8085 - val_accuracy: 0.6317\n",
      "Epoch 5/100\n",
      "52/52 [==============================] - 0s 1ms/step - loss: 0.5594 - accuracy: 0.7751 - val_loss: 0.8143 - val_accuracy: 0.6732\n",
      "Epoch 6/100\n",
      "52/52 [==============================] - 0s 1ms/step - loss: 0.4555 - accuracy: 0.8246 - val_loss: 0.8085 - val_accuracy: 0.6854\n",
      "Epoch 7/100\n",
      "52/52 [==============================] - 0s 1ms/step - loss: 0.4014 - accuracy: 0.8411 - val_loss: 0.8537 - val_accuracy: 0.6878\n",
      "Epoch 8/100\n",
      "52/52 [==============================] - 0s 1ms/step - loss: 0.3677 - accuracy: 0.8435 - val_loss: 0.8969 - val_accuracy: 0.6976\n",
      "Epoch 9/100\n",
      "52/52 [==============================] - 0s 1ms/step - loss: 0.3497 - accuracy: 0.8533 - val_loss: 0.9365 - val_accuracy: 0.6805\n",
      "Epoch 10/100\n",
      "52/52 [==============================] - 0s 1ms/step - loss: 0.3232 - accuracy: 0.8612 - val_loss: 0.9765 - val_accuracy: 0.6829\n",
      "Epoch 11/100\n",
      "52/52 [==============================] - 0s 1ms/step - loss: 0.3116 - accuracy: 0.8576 - val_loss: 0.9931 - val_accuracy: 0.6780\n",
      "Epoch 12/100\n",
      "52/52 [==============================] - 0s 1ms/step - loss: 0.3061 - accuracy: 0.8576 - val_loss: 1.0251 - val_accuracy: 0.6854\n",
      "Epoch 13/100\n",
      "52/52 [==============================] - 0s 1ms/step - loss: 0.3002 - accuracy: 0.8649 - val_loss: 1.0342 - val_accuracy: 0.6951\n",
      "Epoch 14/100\n",
      "52/52 [==============================] - 0s 1ms/step - loss: 0.2861 - accuracy: 0.8698 - val_loss: 1.0811 - val_accuracy: 0.6951\n",
      "Epoch 15/100\n",
      "52/52 [==============================] - 0s 1ms/step - loss: 0.2855 - accuracy: 0.8661 - val_loss: 1.0656 - val_accuracy: 0.7000\n",
      "Epoch 16/100\n",
      "52/52 [==============================] - 0s 1ms/step - loss: 0.2746 - accuracy: 0.8735 - val_loss: 1.0992 - val_accuracy: 0.6976\n",
      "Epoch 17/100\n",
      "52/52 [==============================] - 0s 1ms/step - loss: 0.2726 - accuracy: 0.8722 - val_loss: 1.1274 - val_accuracy: 0.6927\n",
      "Epoch 18/100\n",
      "52/52 [==============================] - 0s 1ms/step - loss: 0.2670 - accuracy: 0.8716 - val_loss: 1.1567 - val_accuracy: 0.6951\n",
      "Epoch 19/100\n",
      "52/52 [==============================] - 0s 1ms/step - loss: 0.2823 - accuracy: 0.8680 - val_loss: 1.1314 - val_accuracy: 0.6927\n",
      "Epoch 20/100\n",
      "52/52 [==============================] - 0s 1ms/step - loss: 0.2690 - accuracy: 0.8716 - val_loss: 1.1559 - val_accuracy: 0.6902\n",
      "Epoch 21/100\n",
      "52/52 [==============================] - 0s 1ms/step - loss: 0.2758 - accuracy: 0.8600 - val_loss: 1.1510 - val_accuracy: 0.6927\n",
      "Epoch 22/100\n",
      "52/52 [==============================] - 0s 1ms/step - loss: 0.2713 - accuracy: 0.8704 - val_loss: 1.1644 - val_accuracy: 0.6951\n",
      "Epoch 23/100\n",
      "52/52 [==============================] - 0s 1ms/step - loss: 0.2704 - accuracy: 0.8698 - val_loss: 1.1445 - val_accuracy: 0.6805\n",
      "Epoch 24/100\n",
      "52/52 [==============================] - 0s 1ms/step - loss: 0.2732 - accuracy: 0.8686 - val_loss: 1.1623 - val_accuracy: 0.6780\n",
      "Epoch 25/100\n",
      "52/52 [==============================] - 0s 1ms/step - loss: 0.2692 - accuracy: 0.8704 - val_loss: 1.1702 - val_accuracy: 0.6829\n",
      "Epoch 26/100\n",
      "52/52 [==============================] - 0s 1ms/step - loss: 0.2658 - accuracy: 0.8765 - val_loss: 1.1672 - val_accuracy: 0.6878\n",
      "Epoch 27/100\n",
      "52/52 [==============================] - 0s 1ms/step - loss: 0.2609 - accuracy: 0.8747 - val_loss: 1.1932 - val_accuracy: 0.6878\n",
      "Epoch 28/100\n",
      "52/52 [==============================] - 0s 1ms/step - loss: 0.2634 - accuracy: 0.8722 - val_loss: 1.2008 - val_accuracy: 0.6878\n",
      "Epoch 29/100\n",
      "52/52 [==============================] - 0s 1ms/step - loss: 0.2561 - accuracy: 0.8716 - val_loss: 1.2084 - val_accuracy: 0.6805\n",
      "Epoch 30/100\n",
      "52/52 [==============================] - 0s 1ms/step - loss: 0.2638 - accuracy: 0.8735 - val_loss: 1.2413 - val_accuracy: 0.6829\n",
      "Epoch 31/100\n",
      "52/52 [==============================] - 0s 1ms/step - loss: 0.2619 - accuracy: 0.8722 - val_loss: 1.2428 - val_accuracy: 0.6780\n",
      "Epoch 32/100\n",
      "52/52 [==============================] - 0s 1ms/step - loss: 0.2619 - accuracy: 0.8716 - val_loss: 1.2297 - val_accuracy: 0.6829\n",
      "Epoch 33/100\n",
      "52/52 [==============================] - 0s 1ms/step - loss: 0.2626 - accuracy: 0.8741 - val_loss: 1.2101 - val_accuracy: 0.6854\n",
      "Epoch 34/100\n",
      "52/52 [==============================] - 0s 1ms/step - loss: 0.2540 - accuracy: 0.8753 - val_loss: 1.2385 - val_accuracy: 0.6951\n",
      "Epoch 35/100\n",
      "52/52 [==============================] - 0s 1ms/step - loss: 0.2596 - accuracy: 0.8710 - val_loss: 1.2381 - val_accuracy: 0.6902\n",
      "Epoch 36/100\n",
      "52/52 [==============================] - 0s 1ms/step - loss: 0.2605 - accuracy: 0.8710 - val_loss: 1.2522 - val_accuracy: 0.6927\n",
      "Epoch 37/100\n",
      "52/52 [==============================] - 0s 1ms/step - loss: 0.2522 - accuracy: 0.8759 - val_loss: 1.2838 - val_accuracy: 0.6854\n",
      "Epoch 38/100\n",
      "52/52 [==============================] - 0s 1ms/step - loss: 0.2538 - accuracy: 0.8765 - val_loss: 1.2887 - val_accuracy: 0.6854\n",
      "Epoch 39/100\n",
      "52/52 [==============================] - 0s 1ms/step - loss: 0.2463 - accuracy: 0.8729 - val_loss: 1.3190 - val_accuracy: 0.6854\n",
      "Epoch 40/100\n",
      "52/52 [==============================] - 0s 1ms/step - loss: 0.2600 - accuracy: 0.8729 - val_loss: 1.2937 - val_accuracy: 0.6927\n",
      "Epoch 41/100\n",
      "52/52 [==============================] - 0s 1ms/step - loss: 0.2564 - accuracy: 0.8716 - val_loss: 1.3167 - val_accuracy: 0.6902\n",
      "Epoch 42/100\n",
      "52/52 [==============================] - 0s 1ms/step - loss: 0.2527 - accuracy: 0.8747 - val_loss: 1.3041 - val_accuracy: 0.6878\n",
      "Epoch 43/100\n",
      "52/52 [==============================] - 0s 1ms/step - loss: 0.2535 - accuracy: 0.8753 - val_loss: 1.3490 - val_accuracy: 0.6927\n",
      "Epoch 44/100\n",
      "52/52 [==============================] - 0s 1ms/step - loss: 0.2530 - accuracy: 0.8753 - val_loss: 1.3675 - val_accuracy: 0.6951\n",
      "Epoch 45/100\n",
      "52/52 [==============================] - 0s 1ms/step - loss: 0.2527 - accuracy: 0.8778 - val_loss: 1.3722 - val_accuracy: 0.6951\n",
      "Epoch 46/100\n",
      "52/52 [==============================] - 0s 1ms/step - loss: 0.2506 - accuracy: 0.8759 - val_loss: 1.4063 - val_accuracy: 0.6902\n",
      "Epoch 47/100\n",
      "52/52 [==============================] - 0s 1ms/step - loss: 0.2508 - accuracy: 0.8729 - val_loss: 1.4207 - val_accuracy: 0.6902\n",
      "Epoch 48/100\n",
      "52/52 [==============================] - 0s 1ms/step - loss: 0.2545 - accuracy: 0.8747 - val_loss: 1.4077 - val_accuracy: 0.6854\n",
      "Epoch 49/100\n",
      "52/52 [==============================] - 0s 1ms/step - loss: 0.2536 - accuracy: 0.8741 - val_loss: 1.3873 - val_accuracy: 0.6854\n",
      "Epoch 50/100\n",
      "52/52 [==============================] - 0s 1ms/step - loss: 0.2491 - accuracy: 0.8735 - val_loss: 1.4157 - val_accuracy: 0.6878\n",
      "Epoch 51/100\n",
      "52/52 [==============================] - 0s 1ms/step - loss: 0.2571 - accuracy: 0.8680 - val_loss: 1.4431 - val_accuracy: 0.6927\n",
      "Epoch 52/100\n",
      "52/52 [==============================] - 0s 1ms/step - loss: 0.2508 - accuracy: 0.8771 - val_loss: 1.4688 - val_accuracy: 0.6780\n",
      "Epoch 53/100\n",
      "52/52 [==============================] - 0s 1ms/step - loss: 0.2556 - accuracy: 0.8729 - val_loss: 1.4540 - val_accuracy: 0.6829\n",
      "Epoch 54/100\n",
      "52/52 [==============================] - 0s 1ms/step - loss: 0.2490 - accuracy: 0.8765 - val_loss: 1.4527 - val_accuracy: 0.6927\n",
      "Epoch 55/100\n",
      "52/52 [==============================] - 0s 1ms/step - loss: 0.2524 - accuracy: 0.8729 - val_loss: 1.4895 - val_accuracy: 0.6854\n",
      "Epoch 56/100\n",
      "52/52 [==============================] - 0s 1ms/step - loss: 0.2499 - accuracy: 0.8741 - val_loss: 1.4941 - val_accuracy: 0.6902\n",
      "Epoch 57/100\n",
      "52/52 [==============================] - 0s 1ms/step - loss: 0.2451 - accuracy: 0.8741 - val_loss: 1.5224 - val_accuracy: 0.6902\n",
      "Epoch 58/100\n",
      "52/52 [==============================] - 0s 1ms/step - loss: 0.2493 - accuracy: 0.8747 - val_loss: 1.5092 - val_accuracy: 0.6927\n",
      "Epoch 59/100\n",
      "52/52 [==============================] - 0s 1ms/step - loss: 0.2547 - accuracy: 0.8710 - val_loss: 1.4927 - val_accuracy: 0.6829\n",
      "Epoch 60/100\n",
      "52/52 [==============================] - 0s 1ms/step - loss: 0.2488 - accuracy: 0.8735 - val_loss: 1.5057 - val_accuracy: 0.6902\n",
      "Epoch 61/100\n",
      "52/52 [==============================] - 0s 1ms/step - loss: 0.2477 - accuracy: 0.8729 - val_loss: 1.5388 - val_accuracy: 0.6854\n",
      "Epoch 62/100\n",
      "52/52 [==============================] - 0s 1ms/step - loss: 0.2522 - accuracy: 0.8759 - val_loss: 1.5227 - val_accuracy: 0.6902\n",
      "Epoch 63/100\n",
      "52/52 [==============================] - 0s 1ms/step - loss: 0.2467 - accuracy: 0.8778 - val_loss: 1.5249 - val_accuracy: 0.6951\n",
      "Epoch 64/100\n",
      "52/52 [==============================] - 0s 1ms/step - loss: 0.2515 - accuracy: 0.8722 - val_loss: 1.5315 - val_accuracy: 0.6976\n",
      "Epoch 65/100\n",
      "52/52 [==============================] - 0s 1ms/step - loss: 0.2505 - accuracy: 0.8747 - val_loss: 1.5388 - val_accuracy: 0.6976\n",
      "Epoch 66/100\n",
      "52/52 [==============================] - 0s 1ms/step - loss: 0.2479 - accuracy: 0.8753 - val_loss: 1.5490 - val_accuracy: 0.6878\n",
      "Epoch 67/100\n",
      "52/52 [==============================] - 0s 1ms/step - loss: 0.2478 - accuracy: 0.8747 - val_loss: 1.5509 - val_accuracy: 0.6927\n",
      "Epoch 68/100\n",
      "52/52 [==============================] - 0s 1ms/step - loss: 0.2485 - accuracy: 0.8759 - val_loss: 1.5697 - val_accuracy: 0.6927\n",
      "Epoch 69/100\n",
      "52/52 [==============================] - 0s 1ms/step - loss: 0.2491 - accuracy: 0.8747 - val_loss: 1.5663 - val_accuracy: 0.6927\n",
      "Epoch 70/100\n",
      "52/52 [==============================] - 0s 1ms/step - loss: 0.2480 - accuracy: 0.8753 - val_loss: 1.5948 - val_accuracy: 0.6976\n",
      "Epoch 71/100\n",
      "52/52 [==============================] - 0s 1ms/step - loss: 0.2450 - accuracy: 0.8759 - val_loss: 1.6191 - val_accuracy: 0.6878\n",
      "Epoch 72/100\n",
      "52/52 [==============================] - 0s 1ms/step - loss: 0.2506 - accuracy: 0.8753 - val_loss: 1.5985 - val_accuracy: 0.6854\n",
      "Epoch 73/100\n",
      "52/52 [==============================] - 0s 1ms/step - loss: 0.2487 - accuracy: 0.8765 - val_loss: 1.6395 - val_accuracy: 0.6805\n",
      "Epoch 74/100\n",
      "52/52 [==============================] - 0s 1ms/step - loss: 0.2469 - accuracy: 0.8747 - val_loss: 1.6264 - val_accuracy: 0.6854\n",
      "Epoch 75/100\n",
      "52/52 [==============================] - 0s 1ms/step - loss: 0.2424 - accuracy: 0.8753 - val_loss: 1.6619 - val_accuracy: 0.6854\n",
      "Epoch 76/100\n",
      "52/52 [==============================] - 0s 1ms/step - loss: 0.2467 - accuracy: 0.8753 - val_loss: 1.6518 - val_accuracy: 0.6829\n",
      "Epoch 77/100\n",
      "52/52 [==============================] - 0s 1ms/step - loss: 0.2466 - accuracy: 0.8759 - val_loss: 1.6603 - val_accuracy: 0.6854\n",
      "Epoch 78/100\n",
      "52/52 [==============================] - 0s 1ms/step - loss: 0.2483 - accuracy: 0.8759 - val_loss: 1.6860 - val_accuracy: 0.6829\n",
      "Epoch 79/100\n",
      "52/52 [==============================] - 0s 1ms/step - loss: 0.2448 - accuracy: 0.8759 - val_loss: 1.6795 - val_accuracy: 0.6878\n",
      "Epoch 80/100\n",
      "52/52 [==============================] - 0s 1ms/step - loss: 0.2472 - accuracy: 0.8753 - val_loss: 1.6599 - val_accuracy: 0.6902\n",
      "Epoch 81/100\n",
      "52/52 [==============================] - 0s 1ms/step - loss: 0.2451 - accuracy: 0.8778 - val_loss: 1.6937 - val_accuracy: 0.6829\n",
      "Epoch 82/100\n",
      "52/52 [==============================] - 0s 1ms/step - loss: 0.2444 - accuracy: 0.8753 - val_loss: 1.7188 - val_accuracy: 0.6902\n",
      "Epoch 83/100\n",
      "52/52 [==============================] - 0s 1ms/step - loss: 0.2479 - accuracy: 0.8759 - val_loss: 1.6904 - val_accuracy: 0.6951\n",
      "Epoch 84/100\n",
      "52/52 [==============================] - 0s 1ms/step - loss: 0.2493 - accuracy: 0.8747 - val_loss: 1.6736 - val_accuracy: 0.6878\n",
      "Epoch 85/100\n",
      "52/52 [==============================] - 0s 1ms/step - loss: 0.2505 - accuracy: 0.8729 - val_loss: 1.6743 - val_accuracy: 0.6951\n",
      "Epoch 86/100\n",
      "52/52 [==============================] - 0s 1ms/step - loss: 0.2469 - accuracy: 0.8741 - val_loss: 1.7260 - val_accuracy: 0.6805\n",
      "Epoch 87/100\n",
      "52/52 [==============================] - 0s 1ms/step - loss: 0.2468 - accuracy: 0.8735 - val_loss: 1.6721 - val_accuracy: 0.7024\n",
      "Epoch 88/100\n",
      "52/52 [==============================] - 0s 1ms/step - loss: 0.2543 - accuracy: 0.8722 - val_loss: 1.7054 - val_accuracy: 0.7024\n",
      "Epoch 89/100\n",
      "52/52 [==============================] - 0s 1ms/step - loss: 0.2496 - accuracy: 0.8753 - val_loss: 1.6876 - val_accuracy: 0.6902\n",
      "Epoch 90/100\n",
      "52/52 [==============================] - 0s 1ms/step - loss: 0.2485 - accuracy: 0.8741 - val_loss: 1.6899 - val_accuracy: 0.6951\n",
      "Epoch 91/100\n",
      "52/52 [==============================] - 0s 1ms/step - loss: 0.2434 - accuracy: 0.8735 - val_loss: 1.6814 - val_accuracy: 0.7073\n",
      "Epoch 92/100\n",
      "52/52 [==============================] - 0s 1ms/step - loss: 0.2475 - accuracy: 0.8753 - val_loss: 1.6869 - val_accuracy: 0.7122\n",
      "Epoch 93/100\n",
      "52/52 [==============================] - 0s 1ms/step - loss: 0.2461 - accuracy: 0.8753 - val_loss: 1.7519 - val_accuracy: 0.6976\n",
      "Epoch 94/100\n",
      "52/52 [==============================] - 0s 1ms/step - loss: 0.2467 - accuracy: 0.8759 - val_loss: 1.7638 - val_accuracy: 0.6902\n",
      "Epoch 95/100\n",
      "52/52 [==============================] - 0s 1ms/step - loss: 0.2449 - accuracy: 0.8765 - val_loss: 1.7395 - val_accuracy: 0.7098\n",
      "Epoch 96/100\n",
      "52/52 [==============================] - 0s 1ms/step - loss: 0.2409 - accuracy: 0.8796 - val_loss: 1.7980 - val_accuracy: 0.7049\n",
      "Epoch 97/100\n",
      "52/52 [==============================] - 0s 1ms/step - loss: 0.2447 - accuracy: 0.8778 - val_loss: 1.8231 - val_accuracy: 0.6902\n",
      "Epoch 98/100\n",
      "52/52 [==============================] - 0s 1ms/step - loss: 0.2487 - accuracy: 0.8759 - val_loss: 1.8043 - val_accuracy: 0.6927\n",
      "Epoch 99/100\n",
      "52/52 [==============================] - 0s 1ms/step - loss: 0.2471 - accuracy: 0.8778 - val_loss: 1.8104 - val_accuracy: 0.6927\n",
      "Epoch 100/100\n",
      "52/52 [==============================] - 0s 2ms/step - loss: 0.2411 - accuracy: 0.8771 - val_loss: 1.8207 - val_accuracy: 0.7024\n"
     ]
    },
    {
     "data": {
      "text/plain": [
       "<keras.callbacks.History at 0x29ae3f580>"
      ]
     },
     "execution_count": 108,
     "metadata": {},
     "output_type": "execute_result"
    }
   ],
   "source": [
    "model = Sequential()\n",
    "model.add(Dense(128, activation='relu', input_dim= X_train.shape[1]))\n",
    "model.add(Dropout(0.5))\n",
    "model.add(Dense(64, activation='relu'))\n",
    "model.add(Dropout(0.5))\n",
    "model.add(Dense(32, activation='relu'))\n",
    "model.add(Dense(3, activation='softmax'))\n",
    "\n",
    "model.compile(optimizer='adam',\n",
    "                loss='categorical_crossentropy',\n",
    "                metrics=['accuracy'])\n",
    "\n",
    "model.fit(X_train, y_train_ohe, epochs=100, batch_size=32, validation_data=(X_test, y_test_ohe))"
   ]
  },
  {
   "cell_type": "code",
   "execution_count": 109,
   "metadata": {},
   "outputs": [
    {
     "name": "stdout",
     "output_type": "stream",
     "text": [
      "52/52 [==============================] - 0s 357us/step\n"
     ]
    }
   ],
   "source": [
    "\n",
    "## confusion matrix\n",
    "y_pred = model.predict(X_train)"
   ]
  },
  {
   "cell_type": "code",
   "execution_count": 110,
   "metadata": {},
   "outputs": [],
   "source": [
    "## getting the class with the highest probability and storing it in y_pred\n",
    "y_pred = np.argmax(y_pred, axis=1)"
   ]
  },
  {
   "cell_type": "code",
   "execution_count": 111,
   "metadata": {},
   "outputs": [
    {
     "data": {
      "text/plain": [
       "array([0, 1, 1, ..., 2, 0, 2])"
      ]
     },
     "execution_count": 111,
     "metadata": {},
     "output_type": "execute_result"
    }
   ],
   "source": [
    "y_pred"
   ]
  },
  {
   "cell_type": "code",
   "execution_count": 112,
   "metadata": {},
   "outputs": [],
   "source": [
    "y_train = np.argmax(y_train_ohe, axis=1)"
   ]
  },
  {
   "cell_type": "code",
   "execution_count": 113,
   "metadata": {},
   "outputs": [
    {
     "data": {
      "text/plain": [
       "array([0, 1, 0, ..., 2, 0, 2])"
      ]
     },
     "execution_count": 113,
     "metadata": {},
     "output_type": "execute_result"
    }
   ],
   "source": [
    "y_train"
   ]
  },
  {
   "cell_type": "code",
   "execution_count": 114,
   "metadata": {},
   "outputs": [
    {
     "data": {
      "text/plain": [
       "<AxesSubplot: >"
      ]
     },
     "execution_count": 114,
     "metadata": {},
     "output_type": "execute_result"
    },
    {
     "data": {
      "image/png": "[encoded data removed]",
      "text/plain": [
       "<Figure size 640x480 with 2 Axes>"
      ]
     },
     "metadata": {},
     "output_type": "display_data"
    }
   ],
   "source": [
    "## plotting the confusion matrix\n",
    "confusion_matrix(y_train, y_pred)\n",
    "sns.heatmap(confusion_matrix(y_train, y_pred), annot=True, fmt=\"d\")"
   ]
  },
  {
   "cell_type": "code",
   "execution_count": 121,
   "metadata": {},
   "outputs": [],
   "source": [
    "## hyperparameter tuning( Dont run this code, it will take a lot of time to run)\n",
    "\n",
    "\n",
    "# from tensorflow.keras.wrappers.scikit_learn import KerasClassifier\n",
    "# from sklearn.model_selection import GridSearchCV\n",
    "\n",
    "# def build_classifier(optimizer):\n",
    "#     classifier = Sequential()\n",
    "#     classifier.add(Dense(128, activation='relu', input_dim= X_train.shape[1]))\n",
    "#     classifier.add(Dropout(0.5))\n",
    "#     classifier.add(Dense(64, activation='relu'))\n",
    "#     classifier.add(Dropout(0.5))\n",
    "#     classifier.add(Dense(32, activation='relu'))\n",
    "#     classifier.add(Dense(3, activation='softmax'))\n",
    "#     classifier.compile(optimizer=optimizer,\n",
    "#                 loss='categorical_crossentropy',\n",
    "#                 metrics=['accuracy'])\n",
    "#     return classifier\n",
    "\n",
    "# classifier = KerasClassifier(build_fn = build_classifier)\n",
    "# parameters = {'batch_size': [25, 32],\n",
    "#                 'epochs': [100, 500],\n",
    "#                 'optimizer': ['adam', 'rmsprop']}\n",
    "\n",
    "# grid_search = GridSearchCV(estimator = classifier,\n",
    "#                             param_grid = parameters,\n",
    "#                             scoring = 'accuracy',\n",
    "#                             cv = 10)\n",
    "\n",
    "# grid_search = grid_search.fit(X_train, y_train_ohe)\n",
    "\n",
    "# best_parameters = grid_search.best_params_"
   ]
  },
  {
   "cell_type": "code",
   "execution_count": 118,
   "metadata": {},
   "outputs": [
    {
     "data": {
      "text/plain": [
       "{'batch_size': 25, 'epochs': 100, 'optimizer': 'adam'}"
      ]
     },
     "execution_count": 118,
     "metadata": {},
     "output_type": "execute_result"
    }
   ],
   "source": [
    "best_parameters"
   ]
  },
  {
   "cell_type": "code",
   "execution_count": 119,
   "metadata": {},
   "outputs": [
    {
     "name": "stdout",
     "output_type": "stream",
     "text": [
      "Epoch 1/100\n"
     ]
    },
    {
     "name": "stderr",
     "output_type": "stream",
     "text": [
      "/opt/homebrew/lib/python3.10/site-packages/tensorflow/python/framework/indexed_slices.py:444: UserWarning: Converting sparse IndexedSlices(IndexedSlices(indices=Tensor(\"gradient_tape/sequential_91/dense_355/embedding_lookup_sparse/Reshape_1:0\", shape=(None,), dtype=int32), values=Tensor(\"gradient_tape/sequential_91/dense_355/embedding_lookup_sparse/Reshape:0\", shape=(None, 128), dtype=float32), dense_shape=Tensor(\"gradient_tape/sequential_91/dense_355/embedding_lookup_sparse/Cast:0\", shape=(2,), dtype=int32))) to a dense Tensor of unknown shape. This may consume a large amount of memory.\n",
      "  warnings.warn(\n"
     ]
    },
    {
     "name": "stdout",
     "output_type": "stream",
     "text": [
      "66/66 [==============================] - 0s 2ms/step - loss: 1.0709 - accuracy: 0.5073 - val_loss: 1.0303 - val_accuracy: 0.5317\n",
      "Epoch 2/100\n",
      "66/66 [==============================] - 0s 1ms/step - loss: 0.9741 - accuracy: 0.5550 - val_loss: 0.9154 - val_accuracy: 0.5463\n",
      "Epoch 3/100\n",
      "66/66 [==============================] - 0s 1ms/step - loss: 0.8052 - accuracy: 0.6210 - val_loss: 0.8525 - val_accuracy: 0.5707\n",
      "Epoch 4/100\n",
      "66/66 [==============================] - 0s 1ms/step - loss: 0.6690 - accuracy: 0.7060 - val_loss: 0.8044 - val_accuracy: 0.6439\n",
      "Epoch 5/100\n",
      "66/66 [==============================] - 0s 1ms/step - loss: 0.5574 - accuracy: 0.7842 - val_loss: 0.8263 - val_accuracy: 0.6512\n",
      "Epoch 6/100\n",
      "66/66 [==============================] - 0s 1ms/step - loss: 0.4583 - accuracy: 0.8007 - val_loss: 0.8515 - val_accuracy: 0.6659\n",
      "Epoch 7/100\n",
      "66/66 [==============================] - 0s 1ms/step - loss: 0.4144 - accuracy: 0.8258 - val_loss: 0.8817 - val_accuracy: 0.6829\n",
      "Epoch 8/100\n",
      "66/66 [==============================] - 0s 1ms/step - loss: 0.3650 - accuracy: 0.8454 - val_loss: 0.9171 - val_accuracy: 0.6951\n",
      "Epoch 9/100\n",
      "66/66 [==============================] - 0s 1ms/step - loss: 0.3412 - accuracy: 0.8454 - val_loss: 0.9696 - val_accuracy: 0.6854\n",
      "Epoch 10/100\n",
      "66/66 [==============================] - 0s 1ms/step - loss: 0.3195 - accuracy: 0.8509 - val_loss: 1.0119 - val_accuracy: 0.6951\n",
      "Epoch 11/100\n",
      "66/66 [==============================] - 0s 3ms/step - loss: 0.3106 - accuracy: 0.8564 - val_loss: 1.0392 - val_accuracy: 0.6902\n",
      "Epoch 12/100\n",
      "66/66 [==============================] - 0s 2ms/step - loss: 0.3030 - accuracy: 0.8625 - val_loss: 1.0982 - val_accuracy: 0.6878\n",
      "Epoch 13/100\n",
      "66/66 [==============================] - 0s 2ms/step - loss: 0.2863 - accuracy: 0.8692 - val_loss: 1.1285 - val_accuracy: 0.6902\n",
      "Epoch 14/100\n",
      "66/66 [==============================] - 0s 1ms/step - loss: 0.2888 - accuracy: 0.8649 - val_loss: 1.1446 - val_accuracy: 0.6878\n",
      "Epoch 15/100\n",
      "66/66 [==============================] - 0s 1ms/step - loss: 0.2753 - accuracy: 0.8710 - val_loss: 1.1275 - val_accuracy: 0.6976\n",
      "Epoch 16/100\n",
      "66/66 [==============================] - 0s 1ms/step - loss: 0.2811 - accuracy: 0.8698 - val_loss: 1.1618 - val_accuracy: 0.6927\n",
      "Epoch 17/100\n",
      "66/66 [==============================] - 0s 1ms/step - loss: 0.2851 - accuracy: 0.8686 - val_loss: 1.1251 - val_accuracy: 0.6951\n",
      "Epoch 18/100\n",
      "66/66 [==============================] - 0s 1ms/step - loss: 0.2828 - accuracy: 0.8655 - val_loss: 1.1499 - val_accuracy: 0.6878\n",
      "Epoch 19/100\n",
      "66/66 [==============================] - 0s 1ms/step - loss: 0.2682 - accuracy: 0.8741 - val_loss: 1.1899 - val_accuracy: 0.6854\n",
      "Epoch 20/100\n",
      "66/66 [==============================] - 0s 1ms/step - loss: 0.2659 - accuracy: 0.8698 - val_loss: 1.2101 - val_accuracy: 0.6902\n",
      "Epoch 21/100\n",
      "66/66 [==============================] - 0s 1ms/step - loss: 0.2729 - accuracy: 0.8704 - val_loss: 1.1872 - val_accuracy: 0.6951\n",
      "Epoch 22/100\n",
      "66/66 [==============================] - 0s 1ms/step - loss: 0.2748 - accuracy: 0.8716 - val_loss: 1.1810 - val_accuracy: 0.7000\n",
      "Epoch 23/100\n",
      "66/66 [==============================] - 0s 1ms/step - loss: 0.2731 - accuracy: 0.8686 - val_loss: 1.1632 - val_accuracy: 0.6951\n",
      "Epoch 24/100\n",
      "66/66 [==============================] - 0s 1ms/step - loss: 0.2610 - accuracy: 0.8747 - val_loss: 1.1921 - val_accuracy: 0.6976\n",
      "Epoch 25/100\n",
      "66/66 [==============================] - 0s 1ms/step - loss: 0.2628 - accuracy: 0.8722 - val_loss: 1.2524 - val_accuracy: 0.6927\n",
      "Epoch 26/100\n",
      "66/66 [==============================] - 0s 1ms/step - loss: 0.2571 - accuracy: 0.8747 - val_loss: 1.2393 - val_accuracy: 0.6951\n",
      "Epoch 27/100\n",
      "66/66 [==============================] - 0s 1ms/step - loss: 0.2653 - accuracy: 0.8729 - val_loss: 1.2578 - val_accuracy: 0.6927\n",
      "Epoch 28/100\n",
      "66/66 [==============================] - 0s 1ms/step - loss: 0.2539 - accuracy: 0.8747 - val_loss: 1.3026 - val_accuracy: 0.6951\n",
      "Epoch 29/100\n",
      "66/66 [==============================] - 0s 1ms/step - loss: 0.2628 - accuracy: 0.8722 - val_loss: 1.3058 - val_accuracy: 0.6927\n",
      "Epoch 30/100\n",
      "66/66 [==============================] - 0s 1ms/step - loss: 0.2631 - accuracy: 0.8729 - val_loss: 1.3177 - val_accuracy: 0.6902\n",
      "Epoch 31/100\n",
      "66/66 [==============================] - 0s 1ms/step - loss: 0.2602 - accuracy: 0.8735 - val_loss: 1.3007 - val_accuracy: 0.6854\n",
      "Epoch 32/100\n",
      "66/66 [==============================] - 0s 1ms/step - loss: 0.2637 - accuracy: 0.8704 - val_loss: 1.2813 - val_accuracy: 0.6878\n",
      "Epoch 33/100\n",
      "66/66 [==============================] - 0s 1ms/step - loss: 0.2609 - accuracy: 0.8716 - val_loss: 1.2586 - val_accuracy: 0.6902\n",
      "Epoch 34/100\n",
      "66/66 [==============================] - 0s 1ms/step - loss: 0.2581 - accuracy: 0.8741 - val_loss: 1.2964 - val_accuracy: 0.6927\n",
      "Epoch 35/100\n",
      "66/66 [==============================] - 0s 1ms/step - loss: 0.2516 - accuracy: 0.8722 - val_loss: 1.3213 - val_accuracy: 0.6927\n",
      "Epoch 36/100\n",
      "66/66 [==============================] - 0s 1ms/step - loss: 0.2593 - accuracy: 0.8704 - val_loss: 1.3712 - val_accuracy: 0.6878\n",
      "Epoch 37/100\n",
      "66/66 [==============================] - 0s 1ms/step - loss: 0.2621 - accuracy: 0.8698 - val_loss: 1.3645 - val_accuracy: 0.6878\n",
      "Epoch 38/100\n",
      "66/66 [==============================] - 0s 1ms/step - loss: 0.2490 - accuracy: 0.8765 - val_loss: 1.4534 - val_accuracy: 0.6927\n",
      "Epoch 39/100\n",
      "66/66 [==============================] - 0s 1ms/step - loss: 0.2555 - accuracy: 0.8722 - val_loss: 1.4262 - val_accuracy: 0.6902\n",
      "Epoch 40/100\n",
      "66/66 [==============================] - 0s 1ms/step - loss: 0.2508 - accuracy: 0.8710 - val_loss: 1.4363 - val_accuracy: 0.6829\n",
      "Epoch 41/100\n",
      "66/66 [==============================] - 0s 1ms/step - loss: 0.2508 - accuracy: 0.8771 - val_loss: 1.4909 - val_accuracy: 0.6854\n",
      "Epoch 42/100\n",
      "66/66 [==============================] - 0s 1ms/step - loss: 0.2524 - accuracy: 0.8716 - val_loss: 1.4773 - val_accuracy: 0.6780\n",
      "Epoch 43/100\n",
      "66/66 [==============================] - 0s 1ms/step - loss: 0.2526 - accuracy: 0.8741 - val_loss: 1.5054 - val_accuracy: 0.6756\n",
      "Epoch 44/100\n",
      "66/66 [==============================] - 0s 1ms/step - loss: 0.2538 - accuracy: 0.8747 - val_loss: 1.4787 - val_accuracy: 0.6805\n",
      "Epoch 45/100\n",
      "66/66 [==============================] - 0s 1ms/step - loss: 0.2534 - accuracy: 0.8716 - val_loss: 1.4743 - val_accuracy: 0.6829\n",
      "Epoch 46/100\n",
      "66/66 [==============================] - 0s 1ms/step - loss: 0.2558 - accuracy: 0.8729 - val_loss: 1.4993 - val_accuracy: 0.6780\n",
      "Epoch 47/100\n",
      "66/66 [==============================] - 0s 1ms/step - loss: 0.2472 - accuracy: 0.8759 - val_loss: 1.5020 - val_accuracy: 0.6780\n",
      "Epoch 48/100\n",
      "66/66 [==============================] - 0s 1ms/step - loss: 0.2459 - accuracy: 0.8759 - val_loss: 1.5647 - val_accuracy: 0.6805\n",
      "Epoch 49/100\n",
      "66/66 [==============================] - 0s 1ms/step - loss: 0.2432 - accuracy: 0.8784 - val_loss: 1.5697 - val_accuracy: 0.6854\n",
      "Epoch 50/100\n",
      "66/66 [==============================] - 0s 1ms/step - loss: 0.2577 - accuracy: 0.8716 - val_loss: 1.5651 - val_accuracy: 0.6829\n",
      "Epoch 51/100\n",
      "66/66 [==============================] - 0s 1ms/step - loss: 0.2500 - accuracy: 0.8759 - val_loss: 1.5545 - val_accuracy: 0.6829\n",
      "Epoch 52/100\n",
      "66/66 [==============================] - 0s 1ms/step - loss: 0.2485 - accuracy: 0.8747 - val_loss: 1.5775 - val_accuracy: 0.6878\n",
      "Epoch 53/100\n",
      "66/66 [==============================] - 0s 1ms/step - loss: 0.2521 - accuracy: 0.8741 - val_loss: 1.5265 - val_accuracy: 0.6805\n",
      "Epoch 54/100\n",
      "66/66 [==============================] - 0s 1ms/step - loss: 0.2536 - accuracy: 0.8710 - val_loss: 1.5939 - val_accuracy: 0.6854\n",
      "Epoch 55/100\n",
      "66/66 [==============================] - 0s 1ms/step - loss: 0.2495 - accuracy: 0.8784 - val_loss: 1.5977 - val_accuracy: 0.6829\n",
      "Epoch 56/100\n",
      "66/66 [==============================] - 0s 1ms/step - loss: 0.2466 - accuracy: 0.8747 - val_loss: 1.6063 - val_accuracy: 0.6829\n",
      "Epoch 57/100\n",
      "66/66 [==============================] - 0s 1ms/step - loss: 0.2477 - accuracy: 0.8771 - val_loss: 1.6092 - val_accuracy: 0.6829\n",
      "Epoch 58/100\n",
      "66/66 [==============================] - 0s 1ms/step - loss: 0.2475 - accuracy: 0.8741 - val_loss: 1.6430 - val_accuracy: 0.6878\n",
      "Epoch 59/100\n",
      "66/66 [==============================] - 0s 1ms/step - loss: 0.2430 - accuracy: 0.8759 - val_loss: 1.7139 - val_accuracy: 0.6780\n",
      "Epoch 60/100\n",
      "66/66 [==============================] - 0s 1ms/step - loss: 0.2499 - accuracy: 0.8765 - val_loss: 1.6615 - val_accuracy: 0.6927\n",
      "Epoch 61/100\n",
      "66/66 [==============================] - 0s 1ms/step - loss: 0.2534 - accuracy: 0.8729 - val_loss: 1.6349 - val_accuracy: 0.6829\n",
      "Epoch 62/100\n",
      "66/66 [==============================] - 0s 1ms/step - loss: 0.2513 - accuracy: 0.8753 - val_loss: 1.6560 - val_accuracy: 0.6854\n",
      "Epoch 63/100\n",
      "66/66 [==============================] - 0s 1ms/step - loss: 0.2509 - accuracy: 0.8735 - val_loss: 1.7331 - val_accuracy: 0.6854\n",
      "Epoch 64/100\n",
      "66/66 [==============================] - 0s 1ms/step - loss: 0.2488 - accuracy: 0.8753 - val_loss: 1.6277 - val_accuracy: 0.6927\n",
      "Epoch 65/100\n",
      "66/66 [==============================] - 0s 2ms/step - loss: 0.2517 - accuracy: 0.8722 - val_loss: 1.6881 - val_accuracy: 0.6854\n",
      "Epoch 66/100\n",
      "66/66 [==============================] - 0s 1ms/step - loss: 0.2498 - accuracy: 0.8735 - val_loss: 1.6813 - val_accuracy: 0.6878\n",
      "Epoch 67/100\n",
      "66/66 [==============================] - 0s 1ms/step - loss: 0.2511 - accuracy: 0.8753 - val_loss: 1.6668 - val_accuracy: 0.6902\n",
      "Epoch 68/100\n",
      "66/66 [==============================] - 0s 1ms/step - loss: 0.2495 - accuracy: 0.8710 - val_loss: 1.6373 - val_accuracy: 0.6951\n",
      "Epoch 69/100\n",
      "66/66 [==============================] - 0s 1ms/step - loss: 0.2499 - accuracy: 0.8716 - val_loss: 1.6687 - val_accuracy: 0.6878\n",
      "Epoch 70/100\n",
      "66/66 [==============================] - 0s 1ms/step - loss: 0.2478 - accuracy: 0.8759 - val_loss: 1.6776 - val_accuracy: 0.6951\n",
      "Epoch 71/100\n",
      "66/66 [==============================] - 0s 1ms/step - loss: 0.2466 - accuracy: 0.8753 - val_loss: 1.7580 - val_accuracy: 0.6927\n",
      "Epoch 72/100\n",
      "66/66 [==============================] - 0s 1ms/step - loss: 0.2472 - accuracy: 0.8771 - val_loss: 1.6915 - val_accuracy: 0.6854\n",
      "Epoch 73/100\n",
      "66/66 [==============================] - 0s 1ms/step - loss: 0.2550 - accuracy: 0.8716 - val_loss: 1.7490 - val_accuracy: 0.6878\n",
      "Epoch 74/100\n",
      "66/66 [==============================] - 0s 1ms/step - loss: 0.2451 - accuracy: 0.8747 - val_loss: 1.7403 - val_accuracy: 0.6927\n",
      "Epoch 75/100\n",
      "66/66 [==============================] - 0s 1ms/step - loss: 0.2441 - accuracy: 0.8741 - val_loss: 1.7555 - val_accuracy: 0.6951\n",
      "Epoch 76/100\n",
      "66/66 [==============================] - 0s 1ms/step - loss: 0.2513 - accuracy: 0.8753 - val_loss: 1.7591 - val_accuracy: 0.6902\n",
      "Epoch 77/100\n",
      "66/66 [==============================] - 0s 1ms/step - loss: 0.2463 - accuracy: 0.8778 - val_loss: 1.7734 - val_accuracy: 0.6927\n",
      "Epoch 78/100\n",
      "66/66 [==============================] - 0s 1ms/step - loss: 0.2441 - accuracy: 0.8771 - val_loss: 1.8163 - val_accuracy: 0.6902\n",
      "Epoch 79/100\n",
      "66/66 [==============================] - 0s 1ms/step - loss: 0.2485 - accuracy: 0.8741 - val_loss: 1.8699 - val_accuracy: 0.6780\n",
      "Epoch 80/100\n",
      "66/66 [==============================] - 0s 1ms/step - loss: 0.2530 - accuracy: 0.8729 - val_loss: 1.7932 - val_accuracy: 0.6829\n",
      "Epoch 81/100\n",
      "66/66 [==============================] - 0s 1ms/step - loss: 0.2463 - accuracy: 0.8741 - val_loss: 1.7886 - val_accuracy: 0.6878\n",
      "Epoch 82/100\n",
      "66/66 [==============================] - 0s 1ms/step - loss: 0.2434 - accuracy: 0.8741 - val_loss: 1.8541 - val_accuracy: 0.6829\n",
      "Epoch 83/100\n",
      "66/66 [==============================] - 0s 1ms/step - loss: 0.2475 - accuracy: 0.8729 - val_loss: 1.8216 - val_accuracy: 0.6902\n",
      "Epoch 84/100\n",
      "66/66 [==============================] - 0s 1ms/step - loss: 0.2482 - accuracy: 0.8753 - val_loss: 1.8586 - val_accuracy: 0.6878\n",
      "Epoch 85/100\n",
      "66/66 [==============================] - 0s 1ms/step - loss: 0.2447 - accuracy: 0.8790 - val_loss: 1.8899 - val_accuracy: 0.6902\n",
      "Epoch 86/100\n",
      "66/66 [==============================] - 0s 1ms/step - loss: 0.2454 - accuracy: 0.8759 - val_loss: 1.8504 - val_accuracy: 0.6951\n",
      "Epoch 87/100\n",
      "66/66 [==============================] - 0s 1ms/step - loss: 0.2467 - accuracy: 0.8747 - val_loss: 1.8741 - val_accuracy: 0.6902\n",
      "Epoch 88/100\n",
      "66/66 [==============================] - 0s 1ms/step - loss: 0.2442 - accuracy: 0.8753 - val_loss: 1.8732 - val_accuracy: 0.6976\n",
      "Epoch 89/100\n",
      "66/66 [==============================] - 0s 1ms/step - loss: 0.2464 - accuracy: 0.8778 - val_loss: 1.9289 - val_accuracy: 0.6951\n",
      "Epoch 90/100\n",
      "66/66 [==============================] - 0s 1ms/step - loss: 0.2441 - accuracy: 0.8765 - val_loss: 1.9510 - val_accuracy: 0.6902\n",
      "Epoch 91/100\n",
      "66/66 [==============================] - 0s 1ms/step - loss: 0.2496 - accuracy: 0.8735 - val_loss: 1.8376 - val_accuracy: 0.6854\n",
      "Epoch 92/100\n",
      "66/66 [==============================] - 0s 1ms/step - loss: 0.2457 - accuracy: 0.8741 - val_loss: 1.8184 - val_accuracy: 0.6878\n",
      "Epoch 93/100\n",
      "66/66 [==============================] - 0s 1ms/step - loss: 0.2436 - accuracy: 0.8765 - val_loss: 1.8821 - val_accuracy: 0.6854\n",
      "Epoch 94/100\n",
      "66/66 [==============================] - 0s 1ms/step - loss: 0.2476 - accuracy: 0.8735 - val_loss: 1.8442 - val_accuracy: 0.6902\n",
      "Epoch 95/100\n",
      "66/66 [==============================] - 0s 1ms/step - loss: 0.2490 - accuracy: 0.8759 - val_loss: 1.9311 - val_accuracy: 0.6927\n",
      "Epoch 96/100\n",
      "66/66 [==============================] - 0s 1ms/step - loss: 0.2443 - accuracy: 0.8753 - val_loss: 1.8358 - val_accuracy: 0.6951\n",
      "Epoch 97/100\n",
      "66/66 [==============================] - 0s 1ms/step - loss: 0.2477 - accuracy: 0.8710 - val_loss: 1.9080 - val_accuracy: 0.6805\n",
      "Epoch 98/100\n",
      "66/66 [==============================] - 0s 1ms/step - loss: 0.2474 - accuracy: 0.8765 - val_loss: 1.9229 - val_accuracy: 0.6902\n",
      "Epoch 99/100\n",
      "66/66 [==============================] - 0s 1ms/step - loss: 0.2515 - accuracy: 0.8722 - val_loss: 1.8745 - val_accuracy: 0.6927\n",
      "Epoch 100/100\n",
      "66/66 [==============================] - 0s 1ms/step - loss: 0.2415 - accuracy: 0.8790 - val_loss: 1.9507 - val_accuracy: 0.6902\n"
     ]
    },
    {
     "data": {
      "text/plain": [
       "<keras.callbacks.History at 0x2cb2f7940>"
      ]
     },
     "execution_count": 119,
     "metadata": {},
     "output_type": "execute_result"
    }
   ],
   "source": [
    "## using the best parameters\n",
    "\n",
    "model = Sequential()\n",
    "model.add(Dense(128, activation='relu', input_dim= X_train.shape[1]))\n",
    "model.add(Dropout(0.5))\n",
    "model.add(Dense(64, activation='relu'))\n",
    "model.add(Dropout(0.5))\n",
    "model.add(Dense(32, activation='relu'))\n",
    "model.add(Dense(3, activation='softmax'))\n",
    "\n",
    "model.compile(optimizer='adam',\n",
    "                loss='categorical_crossentropy',\n",
    "                metrics=['accuracy'])\n",
    "\n",
    "model.fit(X_train, y_train_ohe, epochs=100, batch_size=25, validation_data=(X_test, y_test_ohe))"
   ]
  },
  {
   "cell_type": "code",
   "execution_count": 120,
   "metadata": {},
   "outputs": [
    {
     "name": "stdout",
     "output_type": "stream",
     "text": [
      "52/52 [==============================] - 0s 382us/step\n"
     ]
    },
    {
     "data": {
      "text/plain": [
       "<AxesSubplot: >"
      ]
     },
     "execution_count": 120,
     "metadata": {},
     "output_type": "execute_result"
    },
    {
     "data": {
      "image/png": "[encoded data removed]",
      "text/plain": [
       "<Figure size 640x480 with 2 Axes>"
      ]
     },
     "metadata": {},
     "output_type": "display_data"
    }
   ],
   "source": [
    "## confusion matrix\n",
    "y_pred = model.predict(X_train)\n",
    "\n",
    "## getting the class with the highest probability and storing it in y_pred\n",
    "y_pred = np.argmax(y_pred, axis=1)\n",
    "y_train = np.argmax(y_train_ohe, axis=1)\n",
    "\n",
    "## plotting the confusion matrix\n",
    "confusion_matrix(y_train, y_pred)\n",
    "sns.heatmap(confusion_matrix(y_train, y_pred), annot=True, fmt=\"d\")\n"
   ]
  },
  {
   "cell_type": "code",
   "execution_count": 122,
   "metadata": {},
   "outputs": [],
   "source": [
    "## it did no good either. We will have to think of other ways to improve our model."
   ]
  },
  {
   "cell_type": "code",
   "execution_count": 131,
   "metadata": {},
   "outputs": [
    {
     "name": "stdout",
     "output_type": "stream",
     "text": [
      "Accuracy: 75.43 %\n"
     ]
    }
   ],
   "source": [
    "from xgboost import XGBClassifier\n",
    "clf = XGBClassifier(n_estimators=200, random_state=42)\n",
    "clf.fit(X_train, y_train)\n",
    "\n",
    "## y_pred = clf.predict(X_train)\n",
    "\n",
    "## using k-folds cross validation on XGBoost model to remove overfitting\n",
    "\n",
    "from sklearn.model_selection import cross_val_score\n",
    "accuracies = cross_val_score(estimator = clf, X = X_train, y = y_train, cv = 10)\n",
    "print(\"Accuracy: {:.2f} %\".format(accuracies.mean()*100))"
   ]
  },
  {
   "cell_type": "code",
   "execution_count": 132,
   "metadata": {},
   "outputs": [
    {
     "data": {
      "text/plain": [
       "<AxesSubplot: >"
      ]
     },
     "execution_count": 132,
     "metadata": {},
     "output_type": "execute_result"
    },
    {
     "data": {
      "image/png": "[encoded data removed]",
      "text/plain": [
       "<Figure size 640x480 with 2 Axes>"
      ]
     },
     "metadata": {},
     "output_type": "display_data"
    }
   ],
   "source": [
    "## confusion matrix\n",
    "y_pred = clf.predict(X_train)\n",
    "\n",
    "## plotting the confusion matrix\n",
    "confusion_matrix(y_train, y_pred)\n",
    "sns.heatmap(confusion_matrix(y_train, y_pred), annot=True, fmt=\"d\")"
   ]
  },
  {
   "cell_type": "code",
   "execution_count": 133,
   "metadata": {},
   "outputs": [
    {
     "data": {
      "text/plain": [
       "<AxesSubplot: >"
      ]
     },
     "execution_count": 133,
     "metadata": {},
     "output_type": "execute_result"
    },
    {
     "data": {
      "image/png": "[encoded data removed]",
      "text/plain": [
       "<Figure size 640x480 with 2 Axes>"
      ]
     },
     "metadata": {},
     "output_type": "display_data"
    }
   ],
   "source": [
    "## on test data\n",
    "\n",
    "y_pred = clf.predict(X_test)\n",
    "\n",
    "## plotting the confusion matrix\n",
    "confusion_matrix(y_test, y_pred)\n",
    "sns.heatmap(confusion_matrix(y_test, y_pred), annot=True, fmt=\"d\")"
   ]
  },
  {
   "cell_type": "code",
   "execution_count": 134,
   "metadata": {},
   "outputs": [],
   "source": [
    "## this is somewhat the best result that we got on the dataset.\n",
    "\n",
    "## saving the model\n",
    "\n",
    "import pickle\n",
    "pickle.dump(clf, open('sentTosentiment.pkl','wb'))"
   ]
  },
  {
   "cell_type": "code",
   "execution_count": 167,
   "metadata": {},
   "outputs": [],
   "source": [
    "## function to predict the sentiment of a sentence\n",
    "def predict_sentiment(sentence):\n",
    "    y_pred = model.predict(sentence)\n",
    "    if y_pred == 0:\n",
    "        return 'Negative'\n",
    "    elif y_pred == 1:\n",
    "        return 'Neutral'\n",
    "    elif y_pred == 2:\n",
    "        return 'Positive'"
   ]
  },
  {
   "cell_type": "code",
   "execution_count": null,
   "metadata": {},
   "outputs": [],
   "source": [
    "## defining functions to predict the sentiment of a sentence\n",
    "model = pickle.load(open('sentTosentiment.pkl','rb'))\n",
    "vectorizer = pickle.load(open('vectorizer.pkl','rb'))\n",
    "\n",
    "def tokenize(sentence):\n",
    "    tokens = nlp(sentence)\n",
    "    tokens = [token.text for token in tokens]\n",
    "    tokens = [token for token in tokens if token.isalpha() or token.isnumeric()]\n",
    "    tokens = [token for token in tokens if token not in STOP_WORDS]\n",
    "    return tokens"
   ]
  },
  {
   "cell_type": "code",
   "execution_count": 213,
   "metadata": {},
   "outputs": [],
   "source": [
    "def vectorize(sentence):\n",
    "    vector = vectorizer.transform([sentence])\n",
    "    return vector\n",
    "\n",
    "a = vectorize('I am okay with the movie although I loved the ending')\n",
    "b = vectorize('I am not okay with the movie and I hated the ending')"
   ]
  },
  {
   "cell_type": "code",
   "execution_count": 212,
   "metadata": {},
   "outputs": [
    {
     "data": {
      "text/plain": [
       "'Positive'"
      ]
     },
     "execution_count": 212,
     "metadata": {},
     "output_type": "execute_result"
    }
   ],
   "source": [
    "\n",
    "def predict_sentiment(sentence):\n",
    "    y_pred = model.predict(sentence)\n",
    "    if y_pred == 0:\n",
    "        return 'Negative'\n",
    "    elif y_pred == 1:\n",
    "        return 'Neutral'\n",
    "    elif y_pred == 2:\n",
    "        return 'Positive'\n",
    "\n",
    "predict_sentiment(a)"
   ]
  },
  {
   "cell_type": "code",
   "execution_count": 214,
   "metadata": {},
   "outputs": [
    {
     "data": {
      "text/plain": [
       "'Positive'"
      ]
     },
     "execution_count": 214,
     "metadata": {},
     "output_type": "execute_result"
    }
   ],
   "source": [
    "predict_sentiment(b)"
   ]
  },
  {
   "cell_type": "code",
   "execution_count": 215,
   "metadata": {},
   "outputs": [],
   "source": [
    "## LOL\n",
    "\n",
    "## balanced weights for the classes\n",
    "## Stratified sampling\n",
    "## oversampling under class and undersampling over class\n",
    "## K folds cross validation\n",
    "## table of train and test accuracy with kfolds\n",
    "## accuracy, ## precision, ## recall, ## f1 score, ## confusion matrix"
   ]
  }
 ],
 "metadata": {
  "kernelspec": {
   "display_name": "Python 3",
   "language": "python",
   "name": "python3"
  },
  "language_info": {
   "codemirror_mode": {
    "name": "ipython",
    "version": 3
   },
   "file_extension": ".py",
   "mimetype": "text/x-python",
   "name": "python",
   "nbconvert_exporter": "python",
   "pygments_lexer": "ipython3",
   "version": "3.10.9 (main, Dec 15 2022, 17:11:09) [Clang 14.0.0 (clang-1400.0.29.202)]"
  },
  "orig_nbformat": 4,
  "vscode": {
   "interpreter": {
    "hash": "b0fa6594d8f4cbf19f97940f81e996739fb7646882a419484c72d19e05852a7e"
   }
  }
 },
 "nbformat": 4,
 "nbformat_minor": 2
}
