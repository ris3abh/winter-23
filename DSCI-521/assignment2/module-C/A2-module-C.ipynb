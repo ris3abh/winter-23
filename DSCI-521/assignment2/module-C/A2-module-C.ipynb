{
 "cells": [
  {
   "attachments": {},
   "cell_type": "markdown",
   "metadata": {},
   "source": [
    "## Module submission header\n",
    "### Submission preparation instructions \n",
    "_Completion of this header is mandatory, subject to a 2-point deduction to the assignment._ Only add plain text in the designated areas, i.e., replacing the relevant 'NA's. You must fill out all group member Names and Drexel email addresses in the below markdown list, under header __Module submission group__. It is required to fill out descriptive notes pertaining to any tutoring support received in the completion of this submission under the __Additional submission comments__ section at the bottom of the header. If no tutoring support was received, leave NA in place. You may as well list other optional comments pertaining to the submission at bottom. _Any distruption of this header's formatting will make your group liable to the 2-point deduction._\n",
    "\n",
    "### Module submission group\n",
    "- Group member 1\n",
    "    - Name: Rishabh Sharma\n",
    "    - Email: rs3738@drexel.edu\n",
    "- Group member 2\n",
    "    - Name: Shai Wudkwych\n",
    "    - Email: sw3468@drexel.edu\n",
    "\n",
    "### Additional submission comments\n",
    "- Tutoring support received: NA\n",
    "- Other (other): NA"
   ]
  },
  {
   "cell_type": "markdown",
   "metadata": {},
   "source": [
    "# Assignment group 2: Network and exploratory data analysis"
   ]
  },
  {
   "cell_type": "markdown",
   "metadata": {},
   "source": [
    "## Module C _(40 pts)_ Exploring a network of ingredients\n",
    "In this section we're going to experiment with some recipes data, but think of them as a network. These data can be obtained from Kaggle:\n",
    "\n",
    "- https://www.kaggle.com/kaggle/recipe-ingredients-dataset\n",
    "\n",
    "and are packaged with the assignment in the following directory:\n",
    "\n",
    "- `./data/train.json`"
   ]
  },
  {
   "cell_type": "markdown",
   "metadata": {},
   "source": [
    "__C1.__ _(2 pts)_ To start, write a function called `read_recipes`, which takes a string argument called `path_to_recipes_json` that contains the path to a json file containing recipe data. The function should use the `json` package to load the data and then return `recipes`, which will be a list of dictionaries containing the converted json data."
   ]
  },
  {
   "cell_type": "code",
   "execution_count": 1,
   "metadata": {},
   "outputs": [],
   "source": [
    "# C1:Function(2/2)\n",
    "\n",
    "import json\n",
    "\n",
    "def read_recipes(path_to_recipes_json):\n",
    "    #--- Your code starts here\n",
    "    with open(path_to_recipes_json) as f:\n",
    "        recipes = json.load(f)\n",
    "    #--- Your code ends here\n",
    "    \n",
    "    return recipes\n"
   ]
  },
  {
   "cell_type": "markdown",
   "metadata": {},
   "source": [
    "To test your function, let's provide it with the path to the `train.json` data and print the first three recipes.\n",
    "\n",
    "Your output should look like this:\n",
    "\n",
    "```\n",
    "{'id': 10259, 'cuisine': 'greek', 'ingredients': ['feta cheese crumbles', 'garlic', 'seasoning', 'grape tomatoes', 'black olives', 'garbanzo beans', 'pepper', 'purple onion', 'romaine lettuce']} \n",
    "\n",
    "{'id': 25693, 'cuisine': 'southern_us', 'ingredients': ['ground pepper', 'ground black pepper', 'vegetable oil', 'plain flour', 'thyme', 'salt', 'green tomatoes', 'milk', 'yellow corn meal', 'eggs', 'tomatoes']} \n",
    "\n",
    "{'id': 20130, 'cuisine': 'filipino', 'ingredients': ['butter', 'green chilies', 'cooking oil', 'chicken livers', 'pepper', 'salt', 'grilled chicken breasts', 'garlic powder', 'soy sauce', 'mayonaise', 'yellow onion', 'eggs']}\n",
    "```"
   ]
  },
  {
   "cell_type": "code",
   "execution_count": 2,
   "metadata": {},
   "outputs": [
    {
     "name": "stdout",
     "output_type": "stream",
     "text": [
      "{'id': 10259, 'cuisine': 'greek', 'ingredients': ['romaine lettuce', 'black olives', 'grape tomatoes', 'garlic', 'pepper', 'purple onion', 'seasoning', 'garbanzo beans', 'feta cheese crumbles']} \n",
      "\n",
      "{'id': 25693, 'cuisine': 'southern_us', 'ingredients': ['plain flour', 'ground pepper', 'salt', 'tomatoes', 'ground black pepper', 'thyme', 'eggs', 'green tomatoes', 'yellow corn meal', 'milk', 'vegetable oil']} \n",
      "\n",
      "{'id': 20130, 'cuisine': 'filipino', 'ingredients': ['eggs', 'pepper', 'salt', 'mayonaise', 'cooking oil', 'green chilies', 'grilled chicken breasts', 'garlic powder', 'yellow onion', 'soy sauce', 'butter', 'chicken livers']} \n",
      "\n"
     ]
    }
   ],
   "source": [
    "# C1:SanityCheck\n",
    "\n",
    "recipes = read_recipes('./data/train.json')\n",
    "\n",
    "for recipe in recipes[:3]:\n",
    "    print(recipe,\"\\n\")"
   ]
  },
  {
   "cell_type": "markdown",
   "metadata": {},
   "source": [
    "__C2.__ _(5 pts)_ Write a function called `create_recipe_graph` that takes the output from our `read_recipes` function (i.e., `recipe_data`) and builds an _undirected_ network representation of the ingredients data using the NetworkX module. The output of this function should be a graph where nodes represent ingredients and for each pair of ingredients that appear in the same recipe there should be a link between them. Note that output graph should be of the NetworkX `.Graph()` type."
   ]
  },
  {
   "cell_type": "code",
   "execution_count": 3,
   "metadata": {},
   "outputs": [],
   "source": [
    "# C2:Function(5/5)\n",
    "\n",
    "import networkx as nx\n",
    "\n",
    "def create_recipe_graph(recipe_data):\n",
    "    #--- Your code starts here\n",
    "    graph = nx.Graph()\n",
    "    # Write a function called `create_recipe_graph` that takes the output from our `read_recipes` function (i.e., `recipe_data`) and builds an _undirected_ network representation of the ingredients data using the NetworkX module. The output of this function should be a graph where nodes represent ingredients and for each pair of ingredients that appear in the same recipe there should be a link between them. Note that output graph should be of the NetworkX `.Graph()` type.\n",
    "    for recipe in recipe_data:\n",
    "        for ingredient in recipe['ingredients']:\n",
    "            graph.add_node(ingredient)\n",
    "            for ingredient2 in recipe['ingredients']:\n",
    "                if ingredient != ingredient2:\n",
    "                    graph.add_edge(ingredient, ingredient2)\n",
    "    #---Your code ends here\n",
    "    \n",
    "    return graph"
   ]
  },
  {
   "cell_type": "markdown",
   "metadata": {},
   "source": [
    "To evaluate your function, let's apply it to the recipies we've loaded and print the edges connected to the \"feta cheese crumbles\" ingredient node.\n",
    "\n",
    "Your output should look like this:\n",
    "```\n",
    "('feta cheese crumbles', 'feta cheese crumbles')\n",
    "('feta cheese crumbles', 'garlic')\n",
    "('feta cheese crumbles', 'seasoning')\n",
    "('feta cheese crumbles', 'grape tomatoes')\n",
    "('feta cheese crumbles', 'black olives')\n",
    "('feta cheese crumbles', 'garbanzo beans')\n",
    "('feta cheese crumbles', 'pepper')\n",
    "('feta cheese crumbles', 'purple onion')\n",
    "('feta cheese crumbles', 'romaine lettuce')\n",
    "('feta cheese crumbles', 'baby spinach leaves')\n",
    "('feta cheese crumbles', 'ground cinnamon')\n",
    "('feta cheese crumbles', 'olive oil')\n",
    "('feta cheese crumbles', 'hamburger buns')\n",
    "('feta cheese crumbles', 'balsamic vinegar')\n",
    "...\n",
    "```"
   ]
  },
  {
   "cell_type": "code",
   "execution_count": 4,
   "metadata": {},
   "outputs": [
    {
     "name": "stdout",
     "output_type": "stream",
     "text": [
      "('feta cheese crumbles', 'olive oil')\n",
      "('feta cheese crumbles', 'salt')\n",
      "('feta cheese crumbles', 'hamburger buns')\n",
      "('feta cheese crumbles', 'paprika')\n",
      "('feta cheese crumbles', 'chopped fresh mint')\n",
      "('feta cheese crumbles', 'ground cinnamon')\n",
      "('feta cheese crumbles', 'balsamic vinegar')\n",
      "('feta cheese crumbles', 'baby spinach leaves')\n",
      "('feta cheese crumbles', 'ground lamb')\n",
      "('feta cheese crumbles', 'tomatoes')\n",
      "('feta cheese crumbles', 'extra-virgin olive oil')\n",
      "('feta cheese crumbles', 'juice')\n",
      "('feta cheese crumbles', 'green pepper')\n",
      "('feta cheese crumbles', 'cucumber')\n",
      "('feta cheese crumbles', 'capers')\n",
      "('feta cheese crumbles', 'vinaigrette dressing')\n",
      "('feta cheese crumbles', 'kalamata')\n",
      "('feta cheese crumbles', 'lemon juice')\n",
      "('feta cheese crumbles', 'dried oregano')\n",
      "('feta cheese crumbles', 'chopped parsley')\n",
      "('feta cheese crumbles', 'fresh rosemary')\n",
      "('feta cheese crumbles', 'fresh thyme leaves')\n",
      "('feta cheese crumbles', 'onions')\n",
      "('feta cheese crumbles', 'minced garlic')\n",
      "('feta cheese crumbles', 'yellow bell pepper')\n",
      "('feta cheese crumbles', 'mint leaves')\n",
      "('feta cheese crumbles', 'fat skimmed chicken broth')\n",
      "('feta cheese crumbles', 'couscous')\n",
      "('feta cheese crumbles', 'greek seasoning')\n",
      "('feta cheese crumbles', 'brown rice')\n",
      "('feta cheese crumbles', 'chicken stock')\n",
      "('feta cheese crumbles', 'red bell pepper')\n",
      "('feta cheese crumbles', '1% low-fat cottage cheese')\n",
      "('feta cheese crumbles', 'frozen chopped spinach')\n",
      "('feta cheese crumbles', 'ground nutmeg')\n",
      "('feta cheese crumbles', 'dried basil')\n",
      "('feta cheese crumbles', 'garlic cloves')\n",
      "('feta cheese crumbles', 'pasta')\n",
      "('feta cheese crumbles', 'marinara sauce')\n",
      "('feta cheese crumbles', 'fresh parsley')\n",
      "('feta cheese crumbles', 'cherry tomatoes')\n",
      "('feta cheese crumbles', 'sea salt')\n",
      "('feta cheese crumbles', 'white wine vinegar')\n",
      "('feta cheese crumbles', 'quinoa')\n",
      "('feta cheese crumbles', 'english cucumber')\n",
      "('feta cheese crumbles', 'honey')\n",
      "('feta cheese crumbles', 'italian seasoning')\n",
      "('feta cheese crumbles', 'baby spinach')\n",
      "('feta cheese crumbles', 'red pepper flakes')\n",
      "('feta cheese crumbles', 'cannellini beans')\n",
      "('feta cheese crumbles', 'diced tomatoes')\n",
      "('feta cheese crumbles', 'chopped cilantro fresh')\n",
      "('feta cheese crumbles', 'rosemary sprigs')\n",
      "('feta cheese crumbles', 'ground black pepper')\n",
      "('feta cheese crumbles', 'fat free less sodium chicken broth')\n",
      "('feta cheese crumbles', 'shallots')\n",
      "('feta cheese crumbles', 'white bread')\n",
      "('feta cheese crumbles', 'pitted kalamata olives')\n",
      "('feta cheese crumbles', 'cooking spray')\n",
      "('feta cheese crumbles', 'boneless skinless chicken breast halves')\n",
      "('feta cheese crumbles', 'eggs')\n",
      "('feta cheese crumbles', 'coarse salt')\n",
      "('feta cheese crumbles', 'boiling water')\n",
      "('feta cheese crumbles', 'pinenuts')\n",
      "('feta cheese crumbles', 'roasted red peppers')\n",
      "('feta cheese crumbles', 'yellow onion')\n",
      "('feta cheese crumbles', 'greek yogurt')\n",
      "('feta cheese crumbles', 'ground beef')\n",
      "('feta cheese crumbles', 'black pepper')\n",
      "('feta cheese crumbles', 'dill weed')\n",
      "('feta cheese crumbles', 'nutmeg')\n",
      "('feta cheese crumbles', 'kosher salt')\n",
      "('feta cheese crumbles', 'grated parmesan cheese')\n",
      "('feta cheese crumbles', 'sour cream')\n",
      "('feta cheese crumbles', 'ground turkey')\n",
      "('feta cheese crumbles', 'part-skim mozzarella cheese')\n",
      "('feta cheese crumbles', 'all-purpose flour')\n",
      "('feta cheese crumbles', 'large eggs')\n",
      "('feta cheese crumbles', 'fresh onion')\n",
      "('feta cheese crumbles', 'fat free milk')\n",
      "('feta cheese crumbles', 'baking powder')\n",
      "('feta cheese crumbles', 'grated lemon zest')\n",
      "('feta cheese crumbles', 'fat free yogurt')\n",
      "('feta cheese crumbles', 'fresh lemon juice')\n",
      "('feta cheese crumbles', 'dried rosemary')\n",
      "('feta cheese crumbles', 'green bell pepper')\n",
      "('feta cheese crumbles', 'golden beets')\n",
      "('feta cheese crumbles', 'pizza doughs')\n",
      "('feta cheese crumbles', 'fresh oregano')\n",
      "('feta cheese crumbles', 'sliced kalamata olives')\n",
      "('feta cheese crumbles', 'flatbread')\n",
      "('feta cheese crumbles', 'sliced cucumber')\n",
      "('feta cheese crumbles', 'fresh mushrooms')\n",
      "('feta cheese crumbles', 'ripe olives')\n",
      "('feta cheese crumbles', 'sub buns')\n",
      "('feta cheese crumbles', 'Balsamico Bianco')\n",
      "('feta cheese crumbles', 'lettuce leaves')\n",
      "('feta cheese crumbles', 'ham')\n",
      "('feta cheese crumbles', 'turkey breast')\n",
      "('feta cheese crumbles', 'fresh spinach')\n",
      "('feta cheese crumbles', 'warm water')\n",
      "('feta cheese crumbles', 'crushed red pepper')\n",
      "('feta cheese crumbles', 'dry yeast')\n",
      "('feta cheese crumbles', 'butter')\n",
      "('feta cheese crumbles', 'diced onions')\n",
      "('feta cheese crumbles', 'medium shrimp')\n",
      "('feta cheese crumbles', 'angel hair')\n",
      "('feta cheese crumbles', 'dry white wine')\n",
      "('feta cheese crumbles', 'penne pasta')\n",
      "('feta cheese crumbles', 'low salt chicken broth')\n",
      "('feta cheese crumbles', 'portabello mushroom')\n",
      "('feta cheese crumbles', 'green onions')\n",
      "('feta cheese crumbles', 'chicken fingers')\n",
      "('feta cheese crumbles', 'plum tomatoes')\n",
      "('feta cheese crumbles', 'roast red peppers, drain')\n",
      "('feta cheese crumbles', 'french baguette')\n",
      "('feta cheese crumbles', 'red wine vinegar')\n",
      "('feta cheese crumbles', 'salad dressing')\n",
      "('feta cheese crumbles', 'peas')\n",
      "('feta cheese crumbles', 'chicken')\n",
      "('feta cheese crumbles', 'mayonaise')\n",
      "('feta cheese crumbles', 'celery')\n",
      "('feta cheese crumbles', 'fresh basil')\n",
      "('feta cheese crumbles', 'yoghurt')\n",
      "('feta cheese crumbles', 'sugar')\n",
      "('feta cheese crumbles', 'olives')\n",
      "('feta cheese crumbles', 'green tomatoes')\n",
      "('feta cheese crumbles', 'baguette')\n",
      "('feta cheese crumbles', 'boneless chicken thighs')\n",
      "('feta cheese crumbles', 'water')\n",
      "('feta cheese crumbles', 'anchovy paste')\n",
      "('feta cheese crumbles', 'green beans')\n",
      "('feta cheese crumbles', 'red potato')\n",
      "('feta cheese crumbles', 'dried thyme')\n",
      "('feta cheese crumbles', 'chopped onion')\n",
      "('feta cheese crumbles', 'radishes')\n",
      "('feta cheese crumbles', 'whole wheat pita bread')\n",
      "('feta cheese crumbles', 'chopped green bell pepper')\n",
      "('feta cheese crumbles', 'flat leaf parsley')\n",
      "('feta cheese crumbles', 'crushed tomatoes')\n",
      "('feta cheese crumbles', 'arugula')\n",
      "('feta cheese crumbles', 'cauliflower')\n",
      "('feta cheese crumbles', 'rigatoni')\n",
      "('feta cheese crumbles', 'non-fat sour cream')\n",
      "('feta cheese crumbles', 'baking potatoes')\n",
      "('feta cheese crumbles', 'skim milk')\n",
      "('feta cheese crumbles', 'bacon')\n",
      "('feta cheese crumbles', 'diced tomatoes in juice')\n",
      "('feta cheese crumbles', 'artichoke hearts')\n",
      "('feta cheese crumbles', 'pitted black olives')\n",
      "('feta cheese crumbles', 'linguine')\n",
      "('feta cheese crumbles', 'boneless chicken breast')\n",
      "('feta cheese crumbles', 'french bread')\n",
      "('feta cheese crumbles', 'cream cheese, soften')\n",
      "('feta cheese crumbles', 'dijon mustard')\n",
      "('feta cheese crumbles', 'diced red onions')\n",
      "('feta cheese crumbles', 'cracked black pepper')\n",
      "('feta cheese crumbles', 'fat-free mayonnaise')\n",
      "('feta cheese crumbles', 'caesar salad dressing')\n",
      "('feta cheese crumbles', 'salsa verde')\n",
      "('feta cheese crumbles', 'reduced sodium chicken broth')\n",
      "('feta cheese crumbles', 'milk')\n",
      "('feta cheese crumbles', 'tortilla chips')\n",
      "('feta cheese crumbles', 'cooked chicken')\n",
      "('feta cheese crumbles', 'chopped garlic')\n",
      "('feta cheese crumbles', 'red leaf lettuce')\n",
      "('feta cheese crumbles', 'vegetable oil')\n",
      "('feta cheese crumbles', 'corn tortillas')\n",
      "('feta cheese crumbles', 'chili')\n",
      "('feta cheese crumbles', 'mango')\n",
      "('feta cheese crumbles', 'hominy')\n",
      "('feta cheese crumbles', 'monterey jack')\n",
      "('feta cheese crumbles', 'pineapple')\n",
      "('feta cheese crumbles', 'lamb')\n",
      "('feta cheese crumbles', 'fresh mint')\n",
      "('feta cheese crumbles', 'fresh parsley leaves')\n",
      "('feta cheese crumbles', 'eggplant')\n",
      "('feta cheese crumbles', 'fresh green bean')\n",
      "('feta cheese crumbles', 'boneless chicken skinless thigh')\n",
      "('feta cheese crumbles', 'ground pepper')\n",
      "('feta cheese crumbles', 'plain low-fat yogurt')\n",
      "('feta cheese crumbles', 'zucchini')\n",
      "('feta cheese crumbles', 'large garlic cloves')\n",
      "('feta cheese crumbles', 'lamb shoulder')\n",
      "('feta cheese crumbles', 'lemon pepper seasoning')\n",
      "('feta cheese crumbles', 'finely chopped onion')\n",
      "('feta cheese crumbles', 'minced onion')\n",
      "('feta cheese crumbles', 'allspice')\n",
      "('feta cheese crumbles', 'ground cumin')\n",
      "('feta cheese crumbles', 'fresh leav spinach')\n",
      "('feta cheese crumbles', 'ground turkey breast')\n",
      "('feta cheese crumbles', 'sumac')\n",
      "('feta cheese crumbles', 'greek style plain yogurt')\n",
      "('feta cheese crumbles', 'bread ciabatta')\n",
      "('feta cheese crumbles', 'chili powder')\n",
      "('feta cheese crumbles', 'corn')\n",
      "('feta cheese crumbles', 'crema mexicana')\n",
      "('feta cheese crumbles', 'cilantro leaves')\n",
      "('feta cheese crumbles', 'lime wedges')\n",
      "('feta cheese crumbles', 'burgers')\n",
      "('feta cheese crumbles', 'feta cheese')\n",
      "('feta cheese crumbles', 'red pepper')\n",
      "('feta cheese crumbles', 'stuffing mix')\n",
      "('feta cheese crumbles', 'whole wheat hamburger buns')\n",
      "('feta cheese crumbles', 'nonfat greek yogurt')\n",
      "('feta cheese crumbles', 'dried dill')\n",
      "('feta cheese crumbles', 'chopped pecans')\n",
      "('feta cheese crumbles', 'spicy brown mustard')\n",
      "('feta cheese crumbles', 'black-eyed peas')\n",
      "('feta cheese crumbles', 'beets')\n",
      "('feta cheese crumbles', 'grated orange')\n",
      "('feta cheese crumbles', 'rice vinegar')\n",
      "('feta cheese crumbles', 'sweet onion')\n",
      "('feta cheese crumbles', 'sliced black olives')\n",
      "('feta cheese crumbles', 'bow-tie pasta')\n",
      "('feta cheese crumbles', 'salt and ground black pepper')\n",
      "('feta cheese crumbles', 'tagliatelle')\n",
      "('feta cheese crumbles', 'bows')\n",
      "('feta cheese crumbles', 'roma tomatoes')\n",
      "('feta cheese crumbles', 'sun-dried tomatoes in oil')\n",
      "('feta cheese crumbles', 'pork tenderloin')\n",
      "('feta cheese crumbles', 'fresh dill')\n",
      "('feta cheese crumbles', 'pitted olives')\n",
      "('feta cheese crumbles', 'dillweed')\n",
      "('feta cheese crumbles', 'sliced green onions')\n",
      "('feta cheese crumbles', 'shredded sharp cheddar cheese')\n",
      "('feta cheese crumbles', 'vegetable oil cooking spray')\n",
      "('feta cheese crumbles', 'phyllo pastry')\n",
      "('feta cheese crumbles', 'spinach')\n",
      "('feta cheese crumbles', 'fresh basil leaves')\n",
      "('feta cheese crumbles', 'oil')\n",
      "('feta cheese crumbles', 'lemon')\n",
      "('feta cheese crumbles', 'plain yogurt')\n",
      "('feta cheese crumbles', 'pitas')\n",
      "('feta cheese crumbles', 'phyllo dough')\n",
      "('feta cheese crumbles', 'potatoes')\n",
      "('feta cheese crumbles', 'beef broth')\n",
      "('feta cheese crumbles', 'lemon zest')\n",
      "('feta cheese crumbles', 'cooked white rice')\n",
      "('feta cheese crumbles', 'nonfat yogurt')\n",
      "('feta cheese crumbles', 'long-grain rice')\n",
      "('feta cheese crumbles', 'ground red pepper')\n",
      "('feta cheese crumbles', 'garlic powder')\n",
      "('feta cheese crumbles', 'swordfish steaks')\n",
      "('feta cheese crumbles', 'bread')\n",
      "('feta cheese crumbles', 'cheddar cheese')\n",
      "('feta cheese crumbles', 'ricotta cheese')\n",
      "('feta cheese crumbles', 'large egg whites')\n",
      "('feta cheese crumbles', '1% low-fat milk')\n",
      "('feta cheese crumbles', 'boneless skinless chicken breasts')\n",
      "('feta cheese crumbles', 'melted butter')\n",
      "('feta cheese crumbles', 'processed cheese')\n",
      "('feta cheese crumbles', 'white vinegar')\n",
      "('feta cheese crumbles', 'shredded mozzarella cheese')\n",
      "('feta cheese crumbles', 'cayenne pepper')\n",
      "('feta cheese crumbles', 'cream cheese')\n",
      "('feta cheese crumbles', 'hummus')\n",
      "('feta cheese crumbles', 'herb seasoning')\n",
      "('feta cheese crumbles', 'spaghetti squash')\n",
      "('feta cheese crumbles', 'sun-dried tomatoes')\n",
      "('feta cheese crumbles', 'bread crumbs')\n",
      "('feta cheese crumbles', 'fresh lemon')\n",
      "('feta cheese crumbles', 'frozen spinach')\n",
      "('feta cheese crumbles', 'tuna steaks')\n",
      "('feta cheese crumbles', 'oliv pit ripe')\n",
      "('feta cheese crumbles', 'semolina flour')\n",
      "('feta cheese crumbles', 'parsley')\n",
      "('feta cheese crumbles', 'dill')\n",
      "('feta cheese crumbles', 'spearmint')\n",
      "('feta cheese crumbles', 'leeks')\n",
      "('feta cheese crumbles', 'white sugar')\n",
      "('feta cheese crumbles', 'whole wheat pita')\n",
      "('feta cheese crumbles', 'chickpeas')\n",
      "('feta cheese crumbles', 'low-fat plain yogurt')\n",
      "('feta cheese crumbles', 'kalamata olive halves')\n",
      "('feta cheese crumbles', 'orzo')\n",
      "('feta cheese crumbles', 'orecchiette')\n",
      "('feta cheese crumbles', 'Italian turkey sausage')\n",
      "('feta cheese crumbles', 'Spike Seasoning')\n",
      "('feta cheese crumbles', 'red wine vinaigrette')\n",
      "('feta cheese crumbles', 'frozen basil')\n",
      "('feta cheese crumbles', 'beans')\n",
      "('feta cheese crumbles', 'roasted tomatoes')\n",
      "('feta cheese crumbles', 'orzo pasta')\n",
      "('feta cheese crumbles', 'boneless chicken breast halves')\n",
      "('feta cheese crumbles', 'brine-cured black olives')\n",
      "('feta cheese crumbles', 'kefalotyri')\n",
      "('feta cheese crumbles', 'freshly ground pepper')\n",
      "('feta cheese crumbles', 'filo dough')\n",
      "('feta cheese crumbles', 'unsalted butter')\n",
      "('feta cheese crumbles', 'bacon pieces')\n",
      "('feta cheese crumbles', 'tortillas')\n",
      "('feta cheese crumbles', 'Land O Lakes® Butter')\n",
      "('feta cheese crumbles', 'fresh tomatoes')\n",
      "('feta cheese crumbles', 'bone-in chicken breast halves')\n",
      "('feta cheese crumbles', 'tomatillos')\n",
      "('feta cheese crumbles', 'shredded Monterey Jack cheese')\n",
      "('feta cheese crumbles', 'round sourdough bread')\n",
      "('feta cheese crumbles', 'vinaigrette')\n",
      "('feta cheese crumbles', 'dri oregano leaves, crush')\n",
      "('feta cheese crumbles', 'vidalia onion')\n",
      "('feta cheese crumbles', 'avocado')\n",
      "('feta cheese crumbles', 'corn kernels')\n",
      "('feta cheese crumbles', 'green chile')\n",
      "('feta cheese crumbles', 'ears')\n",
      "('feta cheese crumbles', 'rice')\n",
      "('feta cheese crumbles', 'hothouse cucumber')\n",
      "('feta cheese crumbles', 'spinach leaves')\n",
      "('feta cheese crumbles', 'brine-cured olives')\n",
      "('feta cheese crumbles', 'pita bread rounds')\n",
      "('feta cheese crumbles', 'pizza crust')\n",
      "('feta cheese crumbles', 'pizza sauce')\n",
      "('feta cheese crumbles', 'mozzarella cheese')\n",
      "('feta cheese crumbles', 'golden raisins')\n",
      "('feta cheese crumbles', 'lemon slices')\n",
      "('feta cheese crumbles', 'chicken breast halves')\n",
      "('feta cheese crumbles', 'yellow squash')\n",
      "('feta cheese crumbles', 'tilapia fillets')\n",
      "('feta cheese crumbles', 'penne')\n",
      "('feta cheese crumbles', 'romaine lettuce leaves')\n",
      "('feta cheese crumbles', 'frozen corn kernels')\n",
      "('feta cheese crumbles', 'cooked chicken breasts')\n",
      "('feta cheese crumbles', 'jalapeno chilies')\n",
      "('feta cheese crumbles', 'enchilada sauce')\n",
      "('feta cheese crumbles', 'fresh lime juice')\n",
      "('feta cheese crumbles', 'fresh orange juice')\n",
      "('feta cheese crumbles', 'cantaloupe')\n",
      "('feta cheese crumbles', 'honeydew melon')\n",
      "('feta cheese crumbles', 'nectarines')\n",
      "('feta cheese crumbles', 'cavatappi')\n",
      "('feta cheese crumbles', 'sugar pea')\n",
      "('feta cheese crumbles', 'chiles')\n",
      "('feta cheese crumbles', 'flour tortillas')\n",
      "('feta cheese crumbles', 'spring onions')\n",
      "('feta cheese crumbles', 'lime juice')\n",
      "('feta cheese crumbles', 'shredded cabbage')\n",
      "('feta cheese crumbles', 'garlic salt')\n",
      "('feta cheese crumbles', 'chopped cilantro')\n",
      "('feta cheese crumbles', 'smoked paprika')\n",
      "('feta cheese crumbles', 'cumin')\n",
      "('feta cheese crumbles', 'chunk light tuna in water')\n",
      "('feta cheese crumbles', 'sherry wine vinegar')\n",
      "('feta cheese crumbles', 'sauce')\n",
      "('feta cheese crumbles', 'almonds')\n",
      "('feta cheese crumbles', 'yukon gold potatoes')\n",
      "('feta cheese crumbles', 'tomato paste')\n",
      "('feta cheese crumbles', 'chopped fresh thyme')\n",
      "('feta cheese crumbles', 'pimento stuffed olives')\n",
      "('feta cheese crumbles', 'deli ham')\n",
      "('feta cheese crumbles', 'pita rounds')\n",
      "('feta cheese crumbles', 'hungarian paprika')\n",
      "('feta cheese crumbles', 'large shrimp')\n",
      "('feta cheese crumbles', 'oregano')\n",
      "('feta cheese crumbles', 'white vermouth')\n",
      "('feta cheese crumbles', 'crushed red pepper flakes')\n",
      "('feta cheese crumbles', 'fennel bulb')\n",
      "('feta cheese crumbles', 'greens')\n",
      "('feta cheese crumbles', 'grated lemon peel')\n",
      "('feta cheese crumbles', 'ground round')\n",
      "('feta cheese crumbles', 'sandwich buns')\n",
      "('feta cheese crumbles', 'bread crumb fresh')\n",
      "('feta cheese crumbles', 'light mayonnaise')\n",
      "('feta cheese crumbles', 'dry red wine')\n",
      "('feta cheese crumbles', 'chicken thighs')\n",
      "('feta cheese crumbles', 'quickcooking grits')\n",
      "('feta cheese crumbles', 'whipping cream')\n",
      "('feta cheese crumbles', 'thyme sprigs')\n",
      "('feta cheese crumbles', 'hot pepper sauce')\n",
      "('feta cheese crumbles', 'brown lentils')\n",
      "('feta cheese crumbles', 'vegetable stock')\n",
      "('feta cheese crumbles', 'stewed tomatoes')\n",
      "('feta cheese crumbles', 'bay leaf')\n",
      "('feta cheese crumbles', 'bread dough')\n",
      "('feta cheese crumbles', 'jack cheese')\n",
      "('feta cheese crumbles', 'fresh oregano leaves')\n",
      "('feta cheese crumbles', 'brown hash potato')\n",
      "('feta cheese crumbles', 'egg substitute')\n",
      "('feta cheese crumbles', 'chicken broth')\n",
      "('feta cheese crumbles', 'croutons')\n",
      "('feta cheese crumbles', 'fresh thyme')\n",
      "('feta cheese crumbles', 'shrimp')\n",
      "('feta cheese crumbles', 'medium shrimp uncook')\n",
      "('feta cheese crumbles', 'red wine')\n",
      "('feta cheese crumbles', 'dried minced onion')\n",
      "('feta cheese crumbles', 'dried tarragon leaves')\n",
      "('feta cheese crumbles', 'flour')\n",
      "('feta cheese crumbles', 'fresh cilantro')\n",
      "('feta cheese crumbles', 'green chilies')\n",
      "('feta cheese crumbles', 'cilantro sprigs')\n",
      "('feta cheese crumbles', 'low-fat ricotta cheese')\n",
      "('feta cheese crumbles', 'sharp cheddar cheese')\n",
      "('feta cheese crumbles', 'navel oranges')\n",
      "('feta cheese crumbles', 'tomato sauce')\n",
      "('feta cheese crumbles', 'basil')\n",
      "('feta cheese crumbles', 'fresh marjoram')\n",
      "('feta cheese crumbles', 'cheese')\n",
      "('feta cheese crumbles', 'half & half')\n",
      "('feta cheese crumbles', 'ground white pepper')\n",
      "('feta cheese crumbles', 'clove')\n",
      "('feta cheese crumbles', 'green olives')\n",
      "('feta cheese crumbles', 'dried dillweed')\n",
      "('feta cheese crumbles', 'ground sirloin')\n",
      "('feta cheese crumbles', 'frozen pizza dough')\n",
      "('feta cheese crumbles', 'cinnamon')\n",
      "('feta cheese crumbles', 'pita bread')\n",
      "('feta cheese crumbles', 'sliced tomatoes')\n",
      "('feta cheese crumbles', 'black beans')\n",
      "('feta cheese crumbles', 'ground coriander')\n",
      "('feta cheese crumbles', 'pistachios')\n",
      "('feta cheese crumbles', 'cilantro')\n",
      "('feta cheese crumbles', 'currant')\n",
      "('feta cheese crumbles', 'dried apricot')\n",
      "('feta cheese crumbles', 'scallions')\n",
      "('feta cheese crumbles', 'fennel')\n",
      "('feta cheese crumbles', 'serrano')\n",
      "('feta cheese crumbles', 'jumbo shrimp')\n",
      "('feta cheese crumbles', 'chardonnay')\n",
      "('feta cheese crumbles', 'chile pepper')\n",
      "('feta cheese crumbles', 'fronds')\n",
      "('feta cheese crumbles', 'mixed greens')\n",
      "('feta cheese crumbles', 'shank half')\n",
      "('feta cheese crumbles', 'fennel seeds')\n",
      "('feta cheese crumbles', 'fontina cheese')\n",
      "('feta cheese crumbles', 'baked pizza crust')\n",
      "('feta cheese crumbles', 'pizza shells')\n",
      "('feta cheese crumbles', 'Mazola Canola Oil')\n",
      "('feta cheese crumbles', 'fresh tarragon')\n",
      "('feta cheese crumbles', 'wine')\n",
      "('feta cheese crumbles', 'grapes')\n",
      "('feta cheese crumbles', 'flank steak')\n",
      "('feta cheese crumbles', 'dry bread crumbs')\n",
      "('feta cheese crumbles', 'olive oil flavored cooking spray')\n",
      "('feta cheese crumbles', 'low-fat buttermilk')\n",
      "('feta cheese crumbles', 'reduced-fat sour cream')\n",
      "('feta cheese crumbles', 'dough')\n",
      "('feta cheese crumbles', 'sliced mushrooms')\n",
      "('feta cheese crumbles', 'cornmeal')\n",
      "('feta cheese crumbles', 'toasted pine nuts')\n",
      "('feta cheese crumbles', 'basil pesto sauce')\n",
      "('feta cheese crumbles', 'fusilli')\n",
      "('feta cheese crumbles', 'corn starch')\n",
      "('feta cheese crumbles', 'cottage cheese')\n",
      "('feta cheese crumbles', 'canola oil')\n",
      "('feta cheese crumbles', 'panko')\n",
      "('feta cheese crumbles', 'coarse kosher salt')\n",
      "('feta cheese crumbles', 'pear tomatoes')\n",
      "('feta cheese crumbles', 'whole wheat penne')\n",
      "('feta cheese crumbles', 'pepperoncini')\n",
      "('feta cheese crumbles', 'spaghetti')\n",
      "('feta cheese crumbles', 'genoa salami')\n",
      "('feta cheese crumbles', 'water packed artichoke hearts')\n",
      "('feta cheese crumbles', 'low-fat greek yogurt')\n",
      "('feta cheese crumbles', 'carrots')\n",
      "('feta cheese crumbles', 'vegetables')\n",
      "('feta cheese crumbles', 'reduced fat mayonnaise')\n",
      "('feta cheese crumbles', 'hot sauce')\n",
      "('feta cheese crumbles', 'arborio rice')\n",
      "('feta cheese crumbles', 'champagne')\n",
      "('feta cheese crumbles', 'fresh parmesan cheese')\n",
      "('feta cheese crumbles', 'artichok heart marin')\n",
      "('feta cheese crumbles', 'dressing')\n",
      "('feta cheese crumbles', 'pepperoni turkei')\n",
      "('feta cheese crumbles', 'whole wheat pita bread rounds')\n",
      "('feta cheese crumbles', 'mint')\n",
      "('feta cheese crumbles', 'pita pockets')\n",
      "('feta cheese crumbles', 'small red potato')\n",
      "('feta cheese crumbles', 'beet greens')\n",
      "('feta cheese crumbles', 'butter-flavored spray')\n",
      "('feta cheese crumbles', 'fresh asparagus')\n",
      "('feta cheese crumbles', 'nonstick spray')\n",
      "('feta cheese crumbles', 'uncooked ziti')\n",
      "('feta cheese crumbles', 'reduced fat milk')\n",
      "('feta cheese crumbles', 'rocket leaves')\n",
      "('feta cheese crumbles', 'chicken breasts')\n",
      "('feta cheese crumbles', 'vegetable broth')\n",
      "('feta cheese crumbles', 'peeled tomatoes')\n",
      "('feta cheese crumbles', 'littleneck clams')\n",
      "('feta cheese crumbles', 'clam juice')\n",
      "('feta cheese crumbles', 'smoked chicken sausages')\n",
      "('feta cheese crumbles', 'parmesan cheese')\n",
      "('feta cheese crumbles', 'noodles')\n",
      "('feta cheese crumbles', 'sweet pepper')\n",
      "('feta cheese crumbles', 'crumbled blue cheese')\n",
      "('feta cheese crumbles', 'kale')\n",
      "('feta cheese crumbles', 'whole wheat tortillas')\n",
      "('feta cheese crumbles', 'canned black beans')\n",
      "('feta cheese crumbles', 'whole wheat thin spaghetti')\n",
      "('feta cheese crumbles', 'base')\n",
      "('feta cheese crumbles', 'cumin seed')\n",
      "('feta cheese crumbles', 'sugar substitute')\n",
      "('feta cheese crumbles', 'sesame oil')\n",
      "('feta cheese crumbles', 'mandarin oranges')\n",
      "('feta cheese crumbles', 'almond flour')\n",
      "('feta cheese crumbles', 'tahini')\n",
      "('feta cheese crumbles', 'tuna packed in water')\n",
      "('feta cheese crumbles', 'butter lettuce')\n",
      "('feta cheese crumbles', 'sherry vinegar')\n",
      "('feta cheese crumbles', 'slaw mix')\n",
      "('feta cheese crumbles', 'red cabbage')\n",
      "('feta cheese crumbles', 'salsa')\n",
      "('feta cheese crumbles', 'vegetarian refried beans')\n",
      "('feta cheese crumbles', 'tempeh')\n",
      "('feta cheese crumbles', 'whole wheat rotini pasta')\n",
      "('feta cheese crumbles', 'bell pepper')\n",
      "('feta cheese crumbles', 'lemon wedge')\n",
      "('feta cheese crumbles', 'nonfat yogurt plain')\n",
      "('feta cheese crumbles', 'tomato purée')\n",
      "('feta cheese crumbles', 'butter beans')\n",
      "('feta cheese crumbles', 'lamb fillet')\n",
      "('feta cheese crumbles', 'organic vegetable broth')\n",
      "('feta cheese crumbles', 'cooked quinoa')\n",
      "('feta cheese crumbles', 'hearts of romaine')\n",
      "('feta cheese crumbles', 'parsnips')\n",
      "('feta cheese crumbles', 'freshly grated parmesan')\n",
      "('feta cheese crumbles', 'tortellini')\n",
      "('feta cheese crumbles', 'fresh cheese')\n",
      "('feta cheese crumbles', 'diced celery')\n",
      "('feta cheese crumbles', 'elbow macaroni')\n",
      "('feta cheese crumbles', 'hot red pepper flakes')\n",
      "('feta cheese crumbles', 'acini di pepe')\n",
      "('feta cheese crumbles', 'jasmine rice')\n",
      "('feta cheese crumbles', 'hard-boiled egg')\n",
      "('feta cheese crumbles', 'coconut oil')\n",
      "('feta cheese crumbles', 'refried beans')\n",
      "('feta cheese crumbles', 'chipotles in adobo')\n",
      "('feta cheese crumbles', 'oil cured olives')\n",
      "('feta cheese crumbles', 'artichokes')\n",
      "('feta cheese crumbles', 'pocket bread')\n",
      "('feta cheese crumbles', 'bamboo shoots')\n",
      "('feta cheese crumbles', 'brandy')\n",
      "('feta cheese crumbles', 'shredded lettuce')\n",
      "('feta cheese crumbles', 'marjoram')\n",
      "('feta cheese crumbles', 'fresh veget')\n",
      "('feta cheese crumbles', 'curry powder')\n",
      "('feta cheese crumbles', 'peeled fresh ginger')\n",
      "('feta cheese crumbles', 'tomato juice')\n",
      "('feta cheese crumbles', 'worcestershire sauce')\n",
      "('feta cheese crumbles', 'salad greens')\n",
      "('feta cheese crumbles', 'flat leaf spinach')\n",
      "('feta cheese crumbles', 'lettuce')\n",
      "('feta cheese crumbles', 'grill seasoning')\n",
      "('feta cheese crumbles', 'coriander')\n",
      "('feta cheese crumbles', 'preserved lemon')\n",
      "('feta cheese crumbles', 'slivered almonds')\n",
      "('feta cheese crumbles', 'phyllo')\n",
      "('feta cheese crumbles', 'yellow peppers')\n",
      "('feta cheese crumbles', 'balsamic vinaigrette')\n",
      "('feta cheese crumbles', 'iceberg lettuce')\n",
      "('feta cheese crumbles', 'rotini')\n",
      "('feta cheese crumbles', 'pita chips')\n",
      "('feta cheese crumbles', 'Mezzetta Sliced Greek Kalamata Olives')\n",
      "('feta cheese crumbles', 'poblano chiles')\n",
      "('feta cheese crumbles', 'parsley flakes')\n",
      "('feta cheese crumbles', 'egg whites')\n",
      "('feta cheese crumbles', 'lean ground meat')\n",
      "('feta cheese crumbles', 'roti')\n",
      "('feta cheese crumbles', 'gouda')\n",
      "('feta cheese crumbles', 'masala')\n",
      "('feta cheese crumbles', 'grating cheese')\n",
      "('feta cheese crumbles', 'paratha')\n",
      "('feta cheese crumbles', 'pepper jack')\n",
      "('feta cheese crumbles', 'onion powder')\n",
      "('feta cheese crumbles', 'Tabasco Pepper Sauce')\n",
      "('feta cheese crumbles', 'chopped celery')\n",
      "('feta cheese crumbles', 'dried lentils')\n",
      "('feta cheese crumbles', 'bay leaves')\n",
      "('feta cheese crumbles', 'dried red chile peppers')\n",
      "('feta cheese crumbles', 'green cabbage')\n",
      "('feta cheese crumbles', 'burger buns')\n",
      "('feta cheese crumbles', 'Italian parsley leaves')\n",
      "('feta cheese crumbles', 'tzatziki')\n",
      "('feta cheese crumbles', 'dried mint flakes')\n",
      "('feta cheese crumbles', 'breakfast sausages')\n",
      "('feta cheese crumbles', 'solid white tuna')\n",
      "('feta cheese crumbles', 'creole seasoning')\n",
      "('feta cheese crumbles', 'onion tops')\n",
      "('feta cheese crumbles', 'fettuccine pasta')\n",
      "('feta cheese crumbles', 'lamb steaks')\n",
      "('feta cheese crumbles', 'thin pizza crust')\n",
      "('feta cheese crumbles', 'cream')\n",
      "('feta cheese crumbles', 'cooked rice')\n",
      "('feta cheese crumbles', 'ground allspice')\n",
      "('feta cheese crumbles', 'cold water')\n",
      "('feta cheese crumbles', 'swiss chard')\n",
      "('feta cheese crumbles', 'picholine olives')\n",
      "('feta cheese crumbles', 'radicchio')\n",
      "('feta cheese crumbles', 'ground cayenne pepper')\n",
      "('feta cheese crumbles', 'sundried tomato pesto')\n",
      "('feta cheese crumbles', 'sunflower kernels')\n",
      "('feta cheese crumbles', 'soy sauce')\n",
      "('feta cheese crumbles', 'rib eye steaks')\n",
      "('feta cheese crumbles', 'whole wheat penne pasta')\n",
      "('feta cheese crumbles', 'pita wedges')\n",
      "('feta cheese crumbles', 'green leaf lettuce')\n",
      "('feta cheese crumbles', 'dill tips')\n",
      "('feta cheese crumbles', 'mussels')\n",
      "('feta cheese crumbles', 'zest')\n",
      "('feta cheese crumbles', 'dry vermouth')\n",
      "('feta cheese crumbles', 'cooked bacon')\n",
      "('feta cheese crumbles', 'egg yolks')\n",
      "('feta cheese crumbles', 'white onion')\n",
      "('feta cheese crumbles', 'sweet potatoes')\n",
      "('feta cheese crumbles', 'cabbage')\n",
      "('feta cheese crumbles', 'lime')\n",
      "('feta cheese crumbles', 'fine sea salt')\n",
      "('feta cheese crumbles', 'pepitas')\n",
      "('feta cheese crumbles', 'green lentil')\n",
      "('feta cheese crumbles', 'gemelli')\n",
      "('feta cheese crumbles', 'lemon rind')\n",
      "('feta cheese crumbles', 'cayenne')\n",
      "('feta cheese crumbles', 'ground turmeric')\n",
      "('feta cheese crumbles', 'round loaf')\n",
      "('feta cheese crumbles', 'calamata olives')\n",
      "('feta cheese crumbles', 'mushrooms')\n",
      "('feta cheese crumbles', 'cooked long-grain brown rice')\n",
      "('feta cheese crumbles', 'sourdough bread')\n",
      "('feta cheese crumbles', 'Greek dressing')\n",
      "('feta cheese crumbles', 'bulgur')\n",
      "('feta cheese crumbles', 'provolone cheese')\n",
      "('feta cheese crumbles', 'chopped fresh herbs')\n",
      "('feta cheese crumbles', 'safflower oil')\n",
      "('feta cheese crumbles', 'pumpkin')\n",
      "('feta cheese crumbles', 'chili flakes')\n",
      "('feta cheese crumbles', 'spring roll wrappers')\n",
      "('feta cheese crumbles', 'salmon fillets')\n",
      "('feta cheese crumbles', 'low-fat caesar dressing')\n",
      "('feta cheese crumbles', 'sprinkles')\n",
      "('feta cheese crumbles', 'mahimahi fillet')\n",
      "('feta cheese crumbles', 'great northern beans')\n",
      "('feta cheese crumbles', 'shredded Italian cheese')\n",
      "('feta cheese crumbles', 'margarine')\n",
      "('feta cheese crumbles', 'baby arugula')\n",
      "('feta cheese crumbles', 'pasta sauce')\n",
      "('feta cheese crumbles', 'pepperoni')\n",
      "('feta cheese crumbles', 'bulk italian sausag')\n",
      "('feta cheese crumbles', 'russet potatoes')\n",
      "('feta cheese crumbles', 'white cornmeal')\n",
      "('feta cheese crumbles', 'buttermilk')\n",
      "('feta cheese crumbles', 'rapid rise yeast')\n",
      "('feta cheese crumbles', 'pearl barley')\n",
      "('feta cheese crumbles', 'homemade chicken stock')\n",
      "('feta cheese crumbles', 'campanelle')\n",
      "('feta cheese crumbles', 'mango chutney')\n",
      "('feta cheese crumbles', 'basil dried leaves')\n",
      "('feta cheese crumbles', 'walnuts')\n",
      "('feta cheese crumbles', 'parsley leaves')\n",
      "('feta cheese crumbles', 'celery ribs')\n",
      "('feta cheese crumbles', 'pears')\n",
      "('feta cheese crumbles', 'veal shanks')\n",
      "('feta cheese crumbles', 'whole milk')\n",
      "('feta cheese crumbles', 'lean ground beef')\n",
      "('feta cheese crumbles', 'butternut squash')\n",
      "('feta cheese crumbles', 'ranch dressing')\n",
      "('feta cheese crumbles', 'oven-ready lasagna noodles')\n",
      "('feta cheese crumbles', 'seasoned bread crumbs')\n",
      "('feta cheese crumbles', 'japanese eggplants')\n",
      "('feta cheese crumbles', 'greek-style vinaigrette')\n",
      "('feta cheese crumbles', 'hot Italian sausages')\n",
      "('feta cheese crumbles', 'whole peeled tomatoes')\n",
      "('feta cheese crumbles', 'lentils')\n",
      "('feta cheese crumbles', 'roasting chickens')\n",
      "('feta cheese crumbles', 'crimini mushrooms')\n"
     ]
    }
   ],
   "source": [
    "# C2:SanityCheck\n",
    "\n",
    "recipe_graph = create_recipe_graph(recipes)\n",
    "for edge in recipe_graph.edges:\n",
    "    if edge[0] == \"feta cheese crumbles\":\n",
    "        print(edge)"
   ]
  },
  {
   "cell_type": "markdown",
   "metadata": {},
   "source": [
    "__C3.__ _(8 pts)_ Utilize NetworkX and the ingredients network and find the node degrees, i.e., numbers of connections to other ingredients across the recipes. Use this to compute the network's average and median degrees, and to print the top $5$ ingredients by degree. Discuss this output and how it helps you to understand if you've constructed the network correctly."
   ]
  },
  {
   "cell_type": "markdown",
   "metadata": {},
   "source": [
    "_Response._ The top five ingredients are pretty ubiquitous in recipes, and this not too surprising. This is good&mdash;it makes sense that ingrediernts like `'salt'` would be connected to many other, i.e., in most other recipes. "
   ]
  },
  {
   "cell_type": "code",
   "execution_count": 5,
   "metadata": {},
   "outputs": [
    {
     "data": {
      "text/plain": [
       "142.96127494787012"
      ]
     },
     "execution_count": 5,
     "metadata": {},
     "output_type": "execute_result"
    }
   ],
   "source": [
    "# C3:Inline(2/8)\n",
    "\n",
    "# Return the average degree of the nodes in the graph you constructed in C2\n",
    "# (e.g., compute the degrees of every node, then use numpy to find the mean)\n",
    "import numpy as np\n",
    "degrees = [recipe_graph.degree(node) for node in recipe_graph.nodes]\n",
    "np.mean(degrees)\n"
   ]
  },
  {
   "cell_type": "code",
   "execution_count": 6,
   "metadata": {},
   "outputs": [
    {
     "data": {
      "text/plain": [
       "38.0"
      ]
     },
     "execution_count": 6,
     "metadata": {},
     "output_type": "execute_result"
    }
   ],
   "source": [
    "# C3:Inline(2/8)\n",
    "\n",
    "# Return the median degree of the nodes in the graph you constructed in C2\n",
    "# (e.g., compute the degrees of every node, then use numpy to find the median)\n",
    "np.median(degrees)"
   ]
  },
  {
   "cell_type": "code",
   "execution_count": 7,
   "metadata": {},
   "outputs": [
    {
     "data": {
      "text/plain": [
       "[('salt', 4879),\n",
       " ('water', 3892),\n",
       " ('onions', 3661),\n",
       " ('garlic', 3543),\n",
       " ('sugar', 3435)]"
      ]
     },
     "execution_count": 7,
     "metadata": {},
     "output_type": "execute_result"
    }
   ],
   "source": [
    "# C3:Inline(2/8)\n",
    "\n",
    "# Return a list of the top five ingredients by degree from this cell. \n",
    "# The list should contain tuples that contain the ingredient and the\n",
    "# degree of the ingredient. E.g., your output should be of the form:\n",
    "# `[('<ingredient1>', <degree of ingredient1>), \n",
    "#   ('<ingredient2>', <degree of ingredient2>), ...]`\n",
    "# Note that the order of the ingredients in the list does not matter.\n",
    "#--- Your code starts here\n",
    "\n",
    "top_five = []\n",
    "\n",
    "for node in recipe_graph.nodes:\n",
    "    top_five.append((node, recipe_graph.degree(node)))\n",
    "\n",
    "top_five.sort(key=lambda x: x[1], reverse=True)\n",
    "top_five[:5]\n"
   ]
  },
  {
   "cell_type": "code",
   "execution_count": 8,
   "metadata": {},
   "outputs": [
    {
     "name": "stdout",
     "output_type": "stream",
     "text": [
      "Yes\n"
     ]
    }
   ],
   "source": [
    "# C3:Inline(2/8)\n",
    "\n",
    "# Look at these five ingredients with the higest degrees, do they\n",
    "# help you understand if you've constructed the network correctly?\n",
    "# Print your answer as \"Yes\" or \"No\"\n",
    "print(\"Yes\")"
   ]
  },
  {
   "cell_type": "markdown",
   "metadata": {},
   "source": [
    "__C4.__ _(7 pts)_ Now, write a function called `get_degree_numbers_and_counts` that accepts a NetworkX `graph` (the output from your `create_recipe_graph` function). This function should compute the degrees of each node in the graph and for each degree $k$, it counts up the number of nodes $n_k$ that have degree $k$. It should then store the unique values of $k$ in a list called `degree_numbers` and the corresponding values $n_k$ in a list called `degree_counts`, sort these two lists in order of decreasing $k$, and return them as a tuple: `(degree_numbers, degree_counts)`. \n",
    "\n",
    "\\[Hint: `from collections import Counter` for an object type that will make the counting and sorting processes very easy when starting from a list of `degrees`.\\] "
   ]
  },
  {
   "cell_type": "code",
   "execution_count": 9,
   "metadata": {},
   "outputs": [],
   "source": [
    "# C4:Function(5/7)\n",
    "from collections import Counter\n",
    "\n",
    "def get_degree_numbers_and_counts(graph):\n",
    "    #---Your code starts here\n",
    "    degree_numbers = tuple()\n",
    "    degree_counts = tuple()\n",
    "    degrees = [graph.degree(node) for node in graph.nodes]\n",
    "    degree_counts = Counter(degrees)\n",
    "    degree_numbers = tuple(degree_counts.keys())\n",
    "    degree_counts = tuple(degree_counts.values())\n",
    "    #---Your code ends here\n",
    "    \n",
    "    return degree_numbers, degree_counts"
   ]
  },
  {
   "cell_type": "markdown",
   "metadata": {},
   "source": [
    "Let's apply your function to get the degree_numbers and degree_counts for our recipe_graph and then look at the top five degree numbers and degree counts. Your ouput should look like this:\n",
    "`((15, 12, 11, 10, 14), (174, 169, 162, 155, 150))`"
   ]
  },
  {
   "cell_type": "code",
   "execution_count": 10,
   "metadata": {},
   "outputs": [
    {
     "data": {
      "text/plain": [
       "((797, 595, 673, 3543, 2969), (1, 1, 3, 1, 1))"
      ]
     },
     "execution_count": 10,
     "metadata": {},
     "output_type": "execute_result"
    }
   ],
   "source": [
    "# C4:SanityCheck\n",
    "degree_numbers, degree_counts = get_degree_numbers_and_counts(recipe_graph)    \n",
    "degree_numbers[:5], degree_counts[:5]"
   ]
  },
  {
   "cell_type": "code",
   "execution_count": 11,
   "metadata": {},
   "outputs": [
    {
     "name": "stdout",
     "output_type": "stream",
     "text": [
      "Yes\n"
     ]
    }
   ],
   "source": [
    "# C4:Inline(2/7)\n",
    "\n",
    "# Look at the the top five most common degree numbers (the mode)\n",
    "# and any difference in these values from the average and median degrees reported\n",
    "# in __C3__. Do you believe these data are skewed? Print \"Yes\" or \"No\"\n",
    "print(\"Yes\")"
   ]
  },
  {
   "cell_type": "markdown",
   "metadata": {},
   "source": [
    "__C5.__ _(5 pts)_ Your next job is to create a function called `plot_degree_numbers_and_counts` that takes  `degree_numbers` and `degree_counts` (e.g., like the data you generated in _C4_) and outputs a matplotlib scatter plot visualizing the _logarithms_ of these values, using the numpy utility `np.log10()` on each. The x-axis of the figure should be $Log_{10}($num nodes$)$ and the y-axis should be the $Log_{10}($degree$)$. When visualizing the scatter plot data, set the size of each point to be 10 (i.e, `s=10`), the color to be `'k'`, and the marker to be `'.'`. The function should return the matplotlib figure object."
   ]
  },
  {
   "cell_type": "code",
   "execution_count": 12,
   "metadata": {},
   "outputs": [],
   "source": [
    "# C5:Function(4/5)\n",
    "\n",
    "%matplotlib inline\n",
    "from matplotlib import pyplot as plt\n",
    "\n",
    "def plot_degree_numbers_and_counts(degree_numbers, degree_counts):\n",
    "    fig = plt.figure(figsize = (5,5))\n",
    "    #--- Your code starts here\n",
    "    plt.loglog(degree_numbers, degree_counts, 'o', markersize = 2, color = 'black', alpha = 0.5)\n",
    "    #--- Your code ends here\n",
    "\n",
    "    plt.xlabel(\"$Log_{10}($degree$)$\", size = 15)\n",
    "    plt.ylabel(\"$Log_{10}($num nodes$)$\", size = 15)\n",
    "    \n",
    "    return fig"
   ]
  },
  {
   "cell_type": "markdown",
   "metadata": {},
   "source": [
    "Let's test your function by using it to generate a plot for our recipie numbers and counts. Your resulting figure should look like this:\n",
    "\n",
    "![Expected Output](img/c5-expected-output.png)\n"
   ]
  },
  {
   "cell_type": "code",
   "execution_count": 13,
   "metadata": {},
   "outputs": [
    {
     "data": {
      "image/png": "[encoded data removed]",
      "text/plain": [
       "<Figure size 500x500 with 1 Axes>"
      ]
     },
     "metadata": {},
     "output_type": "display_data"
    }
   ],
   "source": [
    "# C5:SanityCheck\n",
    "fig = plot_degree_numbers_and_counts(degree_numbers, degree_counts)"
   ]
  },
  {
   "cell_type": "code",
   "execution_count": 14,
   "metadata": {},
   "outputs": [
    {
     "name": "stdout",
     "output_type": "stream",
     "text": [
      "Yes\n"
     ]
    }
   ],
   "source": [
    "# C5:Inline(1/5)\n",
    "\n",
    "# Look at the visualization, do the two transformed quantitiees appear to exhibit a relationship? Print \"Yes\" or \"No\".\n",
    "print(\"Yes\")"
   ]
  },
  {
   "cell_type": "markdown",
   "metadata": {},
   "source": [
    "__C6.__ _(3 pts)_ For a given node $u$ in our network $G$, let $\\Gamma(u)$ denote the set of $u$'s neighbors, i.e., set of nodes linked to $u$.\n",
    "\n",
    "In this part of the assignment we'll be utilizing the Jaccard coefficient (__Chapter 3.1.5.2__) similarity function on neighborhoods of nodes to determine the foods most likely to link to one anothers, i.e., appear in a recipe together heretofore unseen.\n",
    "\n",
    "In particular, the Jaccard coefficient of nodes $u$ and $v$ is defined as\n",
    "\n",
    "$$\\frac{|\\Gamma(u) \\cap \\Gamma(v)|}{|\\Gamma(u) \\cup \\Gamma(v)|}$$\n",
    "\n",
    "where $\\Gamma(u)$ denotes the set of neighbors of $u$ and can be computed through networkx utilizing the `nx.jaccard_coefficient(G, ebunch=None)` utility.\n",
    "\n",
    "To begin, apply the `nx.jaccard_coefficient()` function to a few seemingly dispirate and a few seemingly similar ingredients (to your sensibilities). Once this is done, remark on the function of the measure in the response box below. Does this measure work as expected?"
   ]
  },
  {
   "cell_type": "code",
   "execution_count": 15,
   "metadata": {},
   "outputs": [
    {
     "data": {
      "text/plain": [
       "0.08391608391608392"
      ]
     },
     "execution_count": 15,
     "metadata": {},
     "output_type": "execute_result"
    }
   ],
   "source": [
    "# C6:Inline(1/3)\n",
    "\n",
    "# Apply the nx.jaccard_coefficient() function to the recipe graph\n",
    "# to compute the similarity between the ingredients 'salmon' and\n",
    "# 'chocolate'. Return the similarity score from this cell (e.g.,\n",
    "# it will be a numerical value like `0.0374822283838`).\n",
    "similarity = nx.jaccard_coefficient(recipe_graph, [('salmon', 'chocolate')])\n",
    "similarity = list(similarity)\n",
    "similarity[0][2]\n"
   ]
  },
  {
   "cell_type": "code",
   "execution_count": 16,
   "metadata": {},
   "outputs": [
    {
     "data": {
      "text/plain": [
       "0.22459893048128343"
      ]
     },
     "execution_count": 16,
     "metadata": {},
     "output_type": "execute_result"
    }
   ],
   "source": [
    "# C6:Inline(1/3)\n",
    "\n",
    "# Apply the nx.jaccard_coefficient() function to the recipe graph\n",
    "# to compute the similarity between the ingredients 'coffee' and\n",
    "# 'chocolate'. Return the similarity score from this cell (e.g.,\n",
    "# it will be a numerical value like `0.0374822283838`).\n",
    "similarity = nx.jaccard_coefficient(recipe_graph, [('coffee', 'chocolate')])\n",
    "similarity = list(similarity)\n",
    "similarity[0][2]\n"
   ]
  },
  {
   "cell_type": "code",
   "execution_count": 17,
   "metadata": {},
   "outputs": [
    {
     "name": "stdout",
     "output_type": "stream",
     "text": [
      "Yes\n"
     ]
    }
   ],
   "source": [
    "# C6:Inline(1/3)\n",
    "\n",
    "# Do these outputs make sense? I.e., do the two ingredients we \n",
    "# think of as more similar \"coffee\" and \"chocolate\" have a higher\n",
    "# similarity score than those we think of as less similar?\n",
    "# print \"Yes\" or \"No\"\n",
    "print(\"Yes\")"
   ]
  },
  {
   "cell_type": "markdown",
   "metadata": {},
   "source": [
    "__C7.__ _(5 pts)_ Next, write a function called `unlinked`, which takes a NetworkX `graph` and the name of a node in the graph (`node_name`). This function should create a list of node `names` using the `graph.nodes()` method and corresponding adjacency matrtix from `nx.to_numpy_matrix(...)`. The function shoul then returns a list of the names of all other nodes (ingredients) for which the node (queried ingredient, `node_name`) shares no link. "
   ]
  },
  {
   "cell_type": "markdown",
   "metadata": {},
   "source": [
    "_Response._ Yes, since many recipes have `'salt'` as an ingredient it  make sense that the result will be much larger for `'chocolate'`."
   ]
  },
  {
   "cell_type": "code",
   "execution_count": 18,
   "metadata": {},
   "outputs": [],
   "source": [
    "# C7:Function(4/5)\n",
    "\n",
    "def unlinked(graph, node_name):\n",
    "    #---Your code starts here\n",
    "    unlinked_nodes = []\n",
    "    for node in graph.nodes:\n",
    "        if node != node_name:\n",
    "            if not graph.has_edge(node_name, node):\n",
    "                unlinked_nodes.append(node)\n",
    "                \n",
    "    #---Your code ends here\n",
    "    \n",
    "    return unlinked_nodes"
   ]
  },
  {
   "cell_type": "markdown",
   "metadata": {},
   "source": [
    "Let's test this function by using it to evaluate the outputs for 'salt' and 'chocolate'. Let's also look at the size of the outputs for each. Your output should look like this:\n",
    "\n",
    "```\n",
    "Unlinked from salt: ['white almond bark', 'Johnsonville Andouille Dinner Sausage', 'giardiniera', 'Oscar Mayer Deli Fresh Smoked Ham', 'yellow cake mix']\n",
    "Unlinked from chocolate: ['feta cheese crumbles', 'seasoning', 'grape tomatoes', 'black olives', 'garbanzo beans']\n",
    "\n",
    "# of nodes unlinked from salt: 1834\n",
    "# of nodes unlinked from chocolate: 6515\n",
    "```"
   ]
  },
  {
   "cell_type": "code",
   "execution_count": 19,
   "metadata": {},
   "outputs": [
    {
     "name": "stdout",
     "output_type": "stream",
     "text": [
      "Unlinked from salt: ['white almond bark', 'Johnsonville Andouille Dinner Sausage', 'Oscar Mayer Deli Fresh Smoked Ham', 'giardiniera', 'yellow cake mix']\n",
      "Unlinked from chocolate: ['romaine lettuce', 'black olives', 'grape tomatoes', 'pepper', 'purple onion']\n",
      "\n",
      "# of nodes unlinked from salt: 1834\n",
      "# of nodes unlinked from chocolate: 6515\n"
     ]
    }
   ],
   "source": [
    "# C7:SanityCheck\n",
    "\n",
    "unlinked_from_salt = unlinked(recipe_graph, \"salt\")\n",
    "unlinked_from_chocolate = unlinked(recipe_graph, \"chocolate\")\n",
    "\n",
    "print(\"Unlinked from salt:\", unlinked_from_salt[:5])\n",
    "print(\"Unlinked from chocolate:\", unlinked_from_chocolate[:5])\n",
    "print()\n",
    "print(\"# of nodes unlinked from salt: {}\".format(len(unlinked_from_salt)))\n",
    "print(\"# of nodes unlinked from chocolate: {}\".format(len(unlinked_from_chocolate)))"
   ]
  },
  {
   "cell_type": "code",
   "execution_count": 20,
   "metadata": {},
   "outputs": [
    {
     "name": "stdout",
     "output_type": "stream",
     "text": [
      "Yes\n"
     ]
    }
   ],
   "source": [
    "# C7:Inline(1/5)\n",
    "\n",
    "# Compare the size of outputs from this function for the two quired nodes:\n",
    "# `'salt'` and `'chocolate'`. Does the output make sense? Print \"Yes\" or \"No\"\n",
    "print(\"Yes\")"
   ]
  },
  {
   "cell_type": "markdown",
   "metadata": {},
   "source": [
    "__C8.__ _(5 pts)_ Finally, write a function called `likely_ingredients` that takes two arguments, a networkx `graph` and the name of a node (`node_name`). Given these inputs the function should apply the `unlinked` function you wrote in _C7_ to compute all the nodes that are unlinked from the target node. Then the function should use the `nx.jaccard_coefficient(...)` function to compute the jaccard coefficient between our target node and each of the nodes in its unlinked list. Finally, the function should sort these values by the Jaccard coefficient and return the resulting list (`sorted_similarities`). The output of this function (`sorted_similiarities`) should be a list of tuples of the following format:\n",
    "```\n",
    "[('<node_name>', 'unlinked_node1_name', 0.3333333333333),\n",
    " ('<node_name>', 'unlinked_node2_name', 0.2222222222222),\n",
    " ...]\n",
    "```"
   ]
  },
  {
   "cell_type": "code",
   "execution_count": 21,
   "metadata": {},
   "outputs": [],
   "source": [
    "# C8:Function(4/5)\n",
    "\n",
    "def likely_ingredients(graph, node_name):\n",
    "    #---Your code starts here\n",
    "    unlinked_nodes = unlinked(graph, node_name)\n",
    "    similarities = nx.jaccard_coefficient(graph, [(node_name, node) for node in unlinked_nodes])\n",
    "    similarities = list(similarities)\n",
    "    sorted_similarities = sorted(similarities, key=lambda x: x[2], reverse=True)\n",
    "    #---Your code ends here\n",
    "    \n",
    "    return sorted_similarities"
   ]
  },
  {
   "cell_type": "markdown",
   "metadata": {},
   "source": [
    "Now, let's test your functino by using it to compute the top 5 most similar unlinked nodes for \"whisky\" and \"chocolate\". Your output should look like this:\n",
    "```\n",
    "[('whiskey', 'apple cider', 0.25663716814159293),\n",
    " ('whiskey', 'Irish whiskey', 0.24489795918367346),\n",
    " ('whiskey', 'firmly packed light brown sugar', 0.24203821656050956),\n",
    " ('whiskey', 'dark corn syrup', 0.24124513618677043),\n",
    " ('whiskey', 'pitted date', 0.24)]\n",
    "\n",
    "[('chocolate', 'instant espresso powder', 0.2540192926045016),\n",
    " ('chocolate', 'whole almonds', 0.24731182795698925),\n",
    " ('chocolate', 'mexican chocolate', 0.23825503355704697),\n",
    " ('chocolate', 'semi-sweet chocolate morsels', 0.23636363636363636),\n",
    " ('chocolate', 'coffee liqueur', 0.2283464566929134)]\n",
    " ```"
   ]
  },
  {
   "cell_type": "code",
   "execution_count": 22,
   "metadata": {},
   "outputs": [
    {
     "name": "stdout",
     "output_type": "stream",
     "text": [
      "[('whiskey', 'apple cider', 0.258160237388724),\n",
      " ('whiskey', 'Irish whiskey', 0.24691358024691357),\n",
      " ('whiskey', 'firmly packed light brown sugar', 0.24358974358974358),\n",
      " ('whiskey', 'dark corn syrup', 0.24313725490196078),\n",
      " ('whiskey', 'pitted date', 0.24148606811145512)]\n",
      "\n",
      "[('chocolate', 'instant espresso powder', 0.255663430420712),\n",
      " ('chocolate', 'whole almonds', 0.2490974729241877),\n",
      " ('chocolate', 'mexican chocolate', 0.23986486486486486),\n",
      " ('chocolate', 'semi-sweet chocolate morsels', 0.23780487804878048),\n",
      " ('chocolate', 'coffee liqueur', 0.23015873015873015)]\n"
     ]
    }
   ],
   "source": [
    "# C8:SanityCheck\n",
    "\n",
    "from pprint import pprint\n",
    "pprint(likely_ingredients(recipe_graph, \"whiskey\")[:5])\n",
    "print()\n",
    "pprint(likely_ingredients(recipe_graph, \"chocolate\")[:5])"
   ]
  },
  {
   "cell_type": "code",
   "execution_count": 42,
   "metadata": {},
   "outputs": [
    {
     "name": "stdout",
     "output_type": "stream",
     "text": [
      "both\n"
     ]
    }
   ],
   "source": [
    "# C8:Inline(1/5)\n",
    "\n",
    "# Do you think this analysis provides information useful for determining\n",
    "# substitutions, constructing new recipe pairings, or both?\n",
    "# Print \"pairings\", \"subsitutions\", or \"both\"\n",
    "print(\"both\")"
   ]
  },
  {
   "cell_type": "code",
   "execution_count": null,
   "metadata": {},
   "outputs": [],
   "source": []
  }
 ],
 "metadata": {
  "kernelspec": {
   "display_name": "Python 3",
   "language": "python",
   "name": "python3"
  },
  "language_info": {
   "codemirror_mode": {
    "name": "ipython",
    "version": 3
   },
   "file_extension": ".py",
   "mimetype": "text/x-python",
   "name": "python",
   "nbconvert_exporter": "python",
   "pygments_lexer": "ipython3",
   "version": "3.10.9"
  },
  "vscode": {
   "interpreter": {
    "hash": "b0fa6594d8f4cbf19f97940f81e996739fb7646882a419484c72d19e05852a7e"
   }
  }
 },
 "nbformat": 4,
 "nbformat_minor": 4
}
