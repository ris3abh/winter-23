{
 "cells": [
  {
   "cell_type": "markdown",
   "id": "precious-attempt",
   "metadata": {},
   "source": [
    "# Numpy Useful Methods"
   ]
  },
  {
   "cell_type": "markdown",
   "id": "light-chemistry",
   "metadata": {},
   "source": [
    "## Acitivity: two lists is given (a, b), do element-wise addition and multiplication"
   ]
  },
  {
   "cell_type": "code",
   "execution_count": 1,
   "id": "statistical-moderator",
   "metadata": {},
   "outputs": [],
   "source": [
    "a = [10, 12, 20]\n",
    "b = [5, 2, 10]"
   ]
  },
  {
   "cell_type": "code",
   "execution_count": 2,
   "id": "vulnerable-vessel",
   "metadata": {},
   "outputs": [
    {
     "data": {
      "text/plain": [
       "[10, 12, 20, 5, 2, 10]"
      ]
     },
     "execution_count": 2,
     "metadata": {},
     "output_type": "execute_result"
    }
   ],
   "source": [
    "# instead of element-wise addition, we get list concatenation\n",
    "a + b"
   ]
  },
  {
   "cell_type": "code",
   "execution_count": 3,
   "id": "requested-maryland",
   "metadata": {},
   "outputs": [
    {
     "ename": "TypeError",
     "evalue": "can't multiply sequence by non-int of type 'list'",
     "output_type": "error",
     "traceback": [
      "\u001b[0;31m---------------------------------------------------------------------------\u001b[0m",
      "\u001b[0;31mTypeError\u001b[0m                                 Traceback (most recent call last)",
      "\u001b[0;32m<ipython-input-3-9bc1a869709f>\u001b[0m in \u001b[0;36m<module>\u001b[0;34m()\u001b[0m\n\u001b[0;32m----> 1\u001b[0;31m \u001b[0ma\u001b[0m \u001b[0;34m*\u001b[0m \u001b[0mb\u001b[0m\u001b[0;34m\u001b[0m\u001b[0m\n\u001b[0m",
      "\u001b[0;31mTypeError\u001b[0m: can't multiply sequence by non-int of type 'list'"
     ]
    }
   ],
   "source": [
    "a * b"
   ]
  },
  {
   "cell_type": "code",
   "execution_count": null,
   "id": "accessible-damage",
   "metadata": {},
   "outputs": [],
   "source": [
    "c = [i+j for i,j in zip(a,b)]"
   ]
  },
  {
   "cell_type": "code",
   "execution_count": null,
   "id": "finnish-philadelphia",
   "metadata": {},
   "outputs": [],
   "source": [
    "c"
   ]
  },
  {
   "cell_type": "code",
   "execution_count": null,
   "id": "traditional-vertical",
   "metadata": {},
   "outputs": [],
   "source": [
    "d = [i*j for i,j in zip(a,b)]\n",
    "d"
   ]
  },
  {
   "cell_type": "code",
   "execution_count": 11,
   "id": "distinct-obligation",
   "metadata": {},
   "outputs": [],
   "source": [
    "import numpy as np\n",
    "\n",
    "a = np.array([10, 12, 20])\n",
    "b = np.array([5, 2, 10])"
   ]
  },
  {
   "cell_type": "code",
   "execution_count": 12,
   "id": "afraid-archive",
   "metadata": {},
   "outputs": [
    {
     "data": {
      "text/plain": [
       "array([15, 14, 30])"
      ]
     },
     "execution_count": 12,
     "metadata": {},
     "output_type": "execute_result"
    }
   ],
   "source": [
    "a + b"
   ]
  },
  {
   "cell_type": "code",
   "execution_count": 13,
   "id": "suspected-invite",
   "metadata": {},
   "outputs": [
    {
     "data": {
      "text/plain": [
       "array([ 50,  24, 200])"
      ]
     },
     "execution_count": 13,
     "metadata": {},
     "output_type": "execute_result"
    }
   ],
   "source": [
    "a * b"
   ]
  },
  {
   "cell_type": "markdown",
   "id": "unknown-forge",
   "metadata": {},
   "source": [
    "## Another useful data manipulation with numpy \n",
    "\n",
    "- We have two numpy arrays: `A` , `B`. We want to concatenate them column-wise and row-wise"
   ]
  },
  {
   "cell_type": "code",
   "execution_count": 14,
   "id": "multiple-moldova",
   "metadata": {},
   "outputs": [
    {
     "name": "stdout",
     "output_type": "stream",
     "text": [
      "This is Matrix A:\n",
      "[[1 2]\n",
      " [3 4]]\n",
      "This is Matrix B:\n",
      "[[5 6]\n",
      " [7 8]]\n",
      "column concatination of A and B:\n",
      "[[1 2 5 6]\n",
      " [3 4 7 8]]\n",
      "row concatination of A and B:\n",
      "[[1 2]\n",
      " [3 4]\n",
      " [5 6]\n",
      " [7 8]]\n"
     ]
    }
   ],
   "source": [
    "import numpy as np\n",
    "\n",
    "A = np.array([[1, 2],[3, 4]])\n",
    "print('This is Matrix A:')\n",
    "print(A)\n",
    "B = np.array([[5, 6],[7, 8]])\n",
    "print('This is Matrix B:')\n",
    "print(B)\n",
    "\n",
    "# column concatination\n",
    "print('column concatination of A and B:')\n",
    "print(np.c_[A, B])\n",
    "# row concatination\n",
    "print('row concatination of A and B:')\n",
    "print(np.r_[A, B])"
   ]
  },
  {
   "cell_type": "markdown",
   "id": "removed-workshop",
   "metadata": {},
   "source": [
    "## Column-wise addition, row-wise addition"
   ]
  },
  {
   "cell_type": "code",
   "execution_count": 15,
   "id": "seven-joyce",
   "metadata": {},
   "outputs": [
    {
     "name": "stdout",
     "output_type": "stream",
     "text": [
      "[[1 2]\n",
      " [3 4]]\n",
      "10\n",
      "[4 6]\n",
      "[3 7]\n"
     ]
    }
   ],
   "source": [
    "import numpy as np\n",
    "\n",
    "A = np.array([[1,2],[3,4]])\n",
    "print(A)\n",
    "print(np.sum(A))  # Compute sum of all elements; prints \"10\"\n",
    "print(np.sum(A, axis=0))  # Compute sum of each column; prints \"[4 6]\"\n",
    "print(np.sum(A, axis=1))  # Compute sum of each row; prints \"[3 7]\""
   ]
  },
  {
   "cell_type": "markdown",
   "id": "physical-manitoba",
   "metadata": {},
   "source": [
    "## Broadcasting in Numpy\n",
    "\n",
    "- As an example of broadcasting assume, we want to add a vector to all rows of a matrix"
   ]
  },
  {
   "cell_type": "code",
   "execution_count": 16,
   "id": "closed-lotus",
   "metadata": {},
   "outputs": [
    {
     "name": "stdout",
     "output_type": "stream",
     "text": [
      "[[ 2  2  4]\n",
      " [ 5  5  7]\n",
      " [ 8  8 10]\n",
      " [11 11 13]]\n"
     ]
    }
   ],
   "source": [
    "# here, we have not use Broadcasting property in numpy\n",
    "import numpy as np\n",
    "\n",
    "A = np.array([[1,2,3], [4,5,6], [7,8,9], [10, 11, 12]])\n",
    "v = np.array([1, 0, 1])\n",
    "\n",
    "y = np.empty_like(A)   # Create an empty matrix with the same shape as A\n",
    "\n",
    "# Add the vector v to each row of the matrix A with an explicit loop\n",
    "for i in range(4):\n",
    "    y[i, :] = A[i, :] + v\n",
    "\n",
    "print(y)"
   ]
  },
  {
   "cell_type": "code",
   "execution_count": null,
   "id": "metric-cradle",
   "metadata": {},
   "outputs": [],
   "source": [
    "vv = np.tile(v, (4, 1))   # Stack 4 copies of v on top of each other\n",
    "print(vv)                 \n",
    "y = A + vv\n",
    "print(y)"
   ]
  },
  {
   "cell_type": "markdown",
   "id": "funky-graph",
   "metadata": {},
   "source": [
    "### We do not need any above steps, with Broadcasting property in numpy the task is easy"
   ]
  },
  {
   "cell_type": "code",
   "execution_count": 17,
   "id": "strange-answer",
   "metadata": {},
   "outputs": [
    {
     "name": "stdout",
     "output_type": "stream",
     "text": [
      "(4, 3)\n"
     ]
    },
    {
     "data": {
      "text/plain": [
       "array([[ 2,  2,  4],\n",
       "       [ 5,  5,  7],\n",
       "       [ 8,  8, 10],\n",
       "       [11, 11, 13]])"
      ]
     },
     "execution_count": 17,
     "metadata": {},
     "output_type": "execute_result"
    }
   ],
   "source": [
    "import numpy as np\n",
    "\n",
    "A = np.array([[1,2,3], [4,5,6], [7,8,9], [10, 11, 12]])\n",
    "print(A.shape)\n",
    "v = np.array([1, 0, 1])\n",
    "\n",
    "# no need to do A + np.ones((4, 1))*v\n",
    "A + v"
   ]
  },
  {
   "cell_type": "markdown",
   "id": "orange-maximum",
   "metadata": {},
   "source": [
    "## Reshaping"
   ]
  },
  {
   "cell_type": "code",
   "execution_count": null,
   "id": "western-equation",
   "metadata": {},
   "outputs": [],
   "source": [
    "B = A.reshape(2, 6)\n",
    "B"
   ]
  },
  {
   "cell_type": "markdown",
   "id": "engaging-position",
   "metadata": {},
   "source": [
    "## Array Manipulation in Numpy\n",
    "\n",
    "- Lets define the following 2D array where the rows are subjects (people) the first column is people weights and the second column is their heights"
   ]
  },
  {
   "cell_type": "code",
   "execution_count": 18,
   "id": "nervous-atlanta",
   "metadata": {},
   "outputs": [],
   "source": [
    "X = np.array(\n",
    "[[73.847017017515, 241.893563180437],\n",
    " [68.7819040458903, 162.3104725213],\n",
    " [74.1101053917849, 212.7408555565],\n",
    " [71.7309784033377, 220.042470303077],\n",
    " [69.8817958611153, 206.349800623871],\n",
    " [67.2530156878065, 152.212155757083],\n",
    " [68.7850812516616, 183.927888604031],\n",
    " [68.3485155115879, 167.971110489509],\n",
    " [67.018949662883, 175.92944039571],\n",
    " [63.4564939783664, 156.399676387112]]\n",
    ")    "
   ]
  },
  {
   "cell_type": "code",
   "execution_count": 19,
   "id": "handmade-rendering",
   "metadata": {},
   "outputs": [
    {
     "data": {
      "text/plain": [
       "array([ 69.32138568, 187.97774338])"
      ]
     },
     "execution_count": 19,
     "metadata": {},
     "output_type": "execute_result"
    }
   ],
   "source": [
    "# average of each column\n",
    "np.mean(X, axis=0)"
   ]
  },
  {
   "cell_type": "code",
   "execution_count": 20,
   "id": "polyphonic-disabled",
   "metadata": {},
   "outputs": [
    {
     "data": {
      "text/plain": [
       "array([[  4.52563134,  53.9158198 ],\n",
       "       [ -0.53948164, -25.66727086],\n",
       "       [  4.78871971,  24.76311217],\n",
       "       [  2.40959272,  32.06472692],\n",
       "       [  0.56041018,  18.37205724],\n",
       "       [ -2.06836999, -35.76558762],\n",
       "       [ -0.53630443,  -4.04985478],\n",
       "       [ -0.97287017, -20.00663289],\n",
       "       [ -2.30243602, -12.04830299],\n",
       "       [ -5.8648917 , -31.57806699]])"
      ]
     },
     "execution_count": 20,
     "metadata": {},
     "output_type": "execute_result"
    }
   ],
   "source": [
    "X - np.mean(X, axis=0)"
   ]
  },
  {
   "cell_type": "markdown",
   "id": "intermediate-gibraltar",
   "metadata": {},
   "source": [
    "## The following is meaningless but mathematically doable"
   ]
  },
  {
   "cell_type": "code",
   "execution_count": 21,
   "id": "decimal-river",
   "metadata": {},
   "outputs": [
    {
     "data": {
      "text/plain": [
       "array([157.8702901 , 115.54618828, 143.42548047, 145.88672435,\n",
       "       138.11579824, 109.73258572, 126.35648493, 118.159813  ,\n",
       "       121.47419503, 109.92808518])"
      ]
     },
     "execution_count": 21,
     "metadata": {},
     "output_type": "execute_result"
    }
   ],
   "source": [
    "# the average of each row\n",
    "np.mean(X, axis=1)"
   ]
  },
  {
   "cell_type": "code",
   "execution_count": 22,
   "id": "coordinate-indie",
   "metadata": {},
   "outputs": [
    {
     "data": {
      "text/plain": [
       "array([[-84.02327308,  84.02327308],\n",
       "       [-46.76428424,  46.76428424],\n",
       "       [-69.31537508,  69.31537508],\n",
       "       [-74.15574595,  74.15574595],\n",
       "       [-68.23400238,  68.23400238],\n",
       "       [-42.47957003,  42.47957003],\n",
       "       [-57.57140368,  57.57140368],\n",
       "       [-49.81129749,  49.81129749],\n",
       "       [-54.45524537,  54.45524537],\n",
       "       [-46.4715912 ,  46.4715912 ]])"
      ]
     },
     "execution_count": 22,
     "metadata": {},
     "output_type": "execute_result"
    }
   ],
   "source": [
    "X - np.c_[np.mean(X, axis=1), np.mean(X, axis=1)]"
   ]
  },
  {
   "cell_type": "markdown",
   "id": "stuck-weekly",
   "metadata": {},
   "source": [
    "## Linear Algebra\n",
    "\n",
    "- Why we need Linear Algebra\n",
    "\n",
    "    1- To solve a system of linear equations\n",
    "    \n",
    "    2- Most of machine learning models and all most all deep learning models need it"
   ]
  },
  {
   "cell_type": "markdown",
   "id": "injured-amount",
   "metadata": {},
   "source": [
    "## Matrix-Vector and Matrix-Matrix Multiplication\n",
    "\n",
    "- On piece of paper, multiply the following matrix-vector:\n",
    "\n",
    "<img src=\"matrix_matrix.png\" width=\"300\" height=\"300\">\n",
    "\n",
    "- On piece of paper, multiply the following matrices:\n",
    "\n",
    "<img src=\"matrix_vector.png\" width=\"300\" height=\"300\">"
   ]
  },
  {
   "cell_type": "markdown",
   "id": "wanted-bacteria",
   "metadata": {},
   "source": [
    "## Verify your answer in Python using Numpy"
   ]
  },
  {
   "cell_type": "code",
   "execution_count": 23,
   "id": "subjective-horse",
   "metadata": {},
   "outputs": [
    {
     "name": "stdout",
     "output_type": "stream",
     "text": [
      "[[1 2]\n",
      " [0 1]\n",
      " [2 3]]\n",
      "[[2]\n",
      " [6]]\n",
      "[[14]\n",
      " [ 6]\n",
      " [22]]\n"
     ]
    }
   ],
   "source": [
    "A = np.array([[1, 2], [0, 1], [2, 3]])\n",
    "v = np.array([[2], [6]])\n",
    "print(A)\n",
    "print(v)\n",
    "print(np.dot(A, v))"
   ]
  },
  {
   "cell_type": "code",
   "execution_count": 24,
   "id": "stock-census",
   "metadata": {},
   "outputs": [
    {
     "name": "stdout",
     "output_type": "stream",
     "text": [
      "[[1 2]\n",
      " [0 1]\n",
      " [2 3]]\n",
      "[[2 5]\n",
      " [6 7]]\n",
      "[[14 19]\n",
      " [ 6  7]\n",
      " [22 31]]\n"
     ]
    }
   ],
   "source": [
    "A = np.array([[1, 2], [0, 1], [2, 3]])\n",
    "B = np.array([[2, 5], [6, 7]])\n",
    "print(A)\n",
    "print(B)\n",
    "print(np.dot(A, B))"
   ]
  },
  {
   "cell_type": "markdown",
   "id": "reserved-celtic",
   "metadata": {},
   "source": [
    "## Transpose of a Matrix or a Vector \n",
    "\n",
    "- In linear algebra, the transpose of a matrix is an operator which switches the row and column indices of the matrix by producing another matrix denoted as Aᵀ\n",
    "\n",
    "<img src=\"matrix-transpose.jpg\" width=\"300\" height=\"300\">"
   ]
  },
  {
   "cell_type": "markdown",
   "id": "advisory-parking",
   "metadata": {},
   "source": [
    "## Matrix Multiplication (more examples)"
   ]
  },
  {
   "cell_type": "code",
   "execution_count": null,
   "id": "stone-retrieval",
   "metadata": {},
   "outputs": [],
   "source": [
    "a = np.ones([9, 5])\n",
    "b = np.ones([5, 3])\n",
    "\n",
    "np.dot(a, b)"
   ]
  },
  {
   "cell_type": "code",
   "execution_count": null,
   "id": "waiting-weekend",
   "metadata": {},
   "outputs": [],
   "source": [
    "a = np.ones([2, 2])\n",
    "b = np.ones([2, 2])\n",
    "print(np.dot(a, b))\n",
    "print('This is element-wise multiplication')\n",
    "print(a*b)\n",
    "print(np.matmul(a, b))\n",
    "# The @ operator for multiplication invokes the matmul() function of an array that is used to perform the same multiplication.\n",
    "print(a@b)"
   ]
  },
  {
   "cell_type": "markdown",
   "id": "pointed-prison",
   "metadata": {},
   "source": [
    "## For high-dimensional arrays, there would be difference between matmul and dot\n",
    "- https://www.delftstack.com/howto/numpy/numpy-dot-vs-matmul/"
   ]
  },
  {
   "cell_type": "markdown",
   "id": "twelve-october",
   "metadata": {},
   "source": [
    "## Norm of a vector\n",
    "\n",
    "- We have different norm, here we mean L2-norm, which measures the distance of a vector from origin (magnitude of a vector)"
   ]
  },
  {
   "cell_type": "markdown",
   "id": "correct-roulette",
   "metadata": {},
   "source": [
    "## Activity: what is the length of the following vector:\n",
    "\n",
    "- v = [3, 4]"
   ]
  },
  {
   "cell_type": "code",
   "execution_count": 7,
   "id": "standard-pound",
   "metadata": {},
   "outputs": [
    {
     "data": {
      "text/plain": [
       "5.0"
      ]
     },
     "execution_count": 7,
     "metadata": {},
     "output_type": "execute_result"
    }
   ],
   "source": [
    "from numpy import linalg as LA\n",
    "v = np.array([3, 4])\n",
    "LA.norm(v)"
   ]
  },
  {
   "cell_type": "markdown",
   "id": "conscious-stewart",
   "metadata": {},
   "source": [
    "## Activity: Show that norm of a vector v is the sqrt of np.dot(v,v.T)"
   ]
  },
  {
   "cell_type": "code",
   "execution_count": 8,
   "id": "departmental-spiritual",
   "metadata": {},
   "outputs": [
    {
     "data": {
      "text/plain": [
       "5.0"
      ]
     },
     "execution_count": 8,
     "metadata": {},
     "output_type": "execute_result"
    }
   ],
   "source": [
    "v = np.array([3, 4])\n",
    "np.sqrt(np.dot(v,v.T))"
   ]
  },
  {
   "cell_type": "markdown",
   "id": "understanding-climate",
   "metadata": {},
   "source": [
    "## Activity: The distance between two vector u and v\n",
    "\n",
    "<img src=\"norm.png\" width=\"500\" height=\"500\">"
   ]
  },
  {
   "cell_type": "code",
   "execution_count": 9,
   "id": "organized-myrtle",
   "metadata": {},
   "outputs": [
    {
     "name": "stdout",
     "output_type": "stream",
     "text": [
      "1.4142135623730951\n",
      "7.280109889280518\n",
      "6.082762530298219\n"
     ]
    }
   ],
   "source": [
    "u = np.array([1, 1])\n",
    "v = np.array([2, 2])\n",
    "r = np.array([3, 8])\n",
    "print(LA.norm(u - v))\n",
    "print(LA.norm(u - r))\n",
    "print(LA.norm(v - r))"
   ]
  },
  {
   "cell_type": "markdown",
   "id": "meaning-pacific",
   "metadata": {},
   "source": [
    "## Other matrix manipulations with numpy\n",
    "\n",
    "- Trace of a matrix\n",
    "- Inverse of an squared matrix\n",
    "- Diagonal elements of a matrix"
   ]
  },
  {
   "cell_type": "markdown",
   "id": "pursuant-mobile",
   "metadata": {},
   "source": [
    "## Resources:\n",
    "\n",
    "- numpy cheatsheet: https://s3.amazonaws.com/assets.datacamp.com/blog_assets/Numpy_Python_Cheat_Sheet.pdf\n",
    "\n",
    "- https://cs231n.github.io/python-numpy-tutorial/\n",
    "\n",
    "- https://docs.scipy.org/doc/numpy/reference/generated/numpy.concatenate.html\n",
    "\n",
    "- http://matrixmultiplication.xyz"
   ]
  }
 ],
 "metadata": {
  "kernelspec": {
   "display_name": "Python 3",
   "language": "python",
   "name": "python3"
  },
  "language_info": {
   "codemirror_mode": {
    "name": "ipython",
    "version": 3
   },
   "file_extension": ".py",
   "mimetype": "text/x-python",
   "name": "python",
   "nbconvert_exporter": "python",
   "pygments_lexer": "ipython3",
   "version": "3.6.5"
  }
 },
 "nbformat": 4,
 "nbformat_minor": 5
}
