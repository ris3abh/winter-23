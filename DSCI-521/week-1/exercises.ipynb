{
 "cells": [
  {
   "cell_type": "markdown",
   "metadata": {
    "id": "A90YxtQLgcU1"
   },
   "source": [
    "# DSCI 521: Methods for analysis and interpretation <br> Chapter 1: Processing numeric data\n",
    "\n",
    "## Exercises\n",
    "Note: numberings refer to the main notes."
   ]
  },
  {
   "cell_type": "markdown",
   "metadata": {
    "id": "_NQSeY53gcU5"
   },
   "source": [
    "#### 1.0.2.3 Exercise: Creating a matrix \n",
    "Using the above matrix-generation techniques, create a 2x2 identity matrix."
   ]
  },
  {
   "cell_type": "code",
   "execution_count": 1,
   "metadata": {
    "id": "JfX9NyiYgcU6",
    "outputId": "9b1b2e51-c992-4db1-afaf-ef41e5ff3115"
   },
   "outputs": [],
   "source": [
    "import numpy as np\n",
    "## code here"
   ]
  },
  {
   "cell_type": "markdown",
   "metadata": {
    "id": "V6M-cP3QgcU9"
   },
   "source": [
    "#### 1.0.2.5 Exercise: broadcast operations \n",
    "Square each element in the matrix `A` without using any loops."
   ]
  },
  {
   "cell_type": "code",
   "execution_count": 2,
   "metadata": {
    "id": "8rRPw1qrgcU9",
    "outputId": "ddcb72fd-a3aa-4f9a-f317-eba4750b3779"
   },
   "outputs": [],
   "source": [
    "A = [1, 2, 3, 4, 5]\n",
    "## code here"
   ]
  },
  {
   "cell_type": "markdown",
   "metadata": {
    "id": "Z_7NJ_0ugcU-"
   },
   "source": [
    "#### 1.1.2.2 Exercise: vector arithmetic \n",
    "Calculate `A` - `B` for the provided vectors, without using a loop."
   ]
  },
  {
   "cell_type": "code",
   "execution_count": 3,
   "metadata": {
    "id": "J8zBAwDYgcU_",
    "outputId": "b3c922b8-b551-4202-9d4c-bddc999f67d0"
   },
   "outputs": [],
   "source": [
    "A = [i for i in range(5)]\n",
    "B = [-i for i in range(5)]\n",
    "## code here"
   ]
  },
  {
   "cell_type": "markdown",
   "metadata": {
    "id": "Ed8NpKKcgcVA"
   },
   "source": [
    "#### 1.1.2.5 Exercise: scalar multiplication\n",
    "Divide each element in the above vector `v` by 4."
   ]
  },
  {
   "cell_type": "code",
   "execution_count": 4,
   "metadata": {
    "id": "-GdXISJMgcVB",
    "outputId": "a7bc7fda-4142-4372-949f-3da9347dbbc9"
   },
   "outputs": [],
   "source": [
    "v = np.array([9., 2., 4., 8., 1.])\n",
    "## code here"
   ]
  },
  {
   "cell_type": "markdown",
   "metadata": {
    "id": "IhSkj_h1gcVB"
   },
   "source": [
    "#### 1.1.2.7 Exercise: pointwise vector multiplication \n",
    "Perform pointwise multiplication between `v` divided by 4 which you calculated above, and `u`."
   ]
  },
  {
   "cell_type": "code",
   "execution_count": 5,
   "metadata": {
    "id": "Yvv0KqR6gcVC",
    "outputId": "1f8cd71e-9d9d-49cf-bb39-5a64897f9453"
   },
   "outputs": [],
   "source": [
    "u = np.array([-5., 3.7, 2., 10., 0.])\n",
    "## code here"
   ]
  },
  {
   "cell_type": "markdown",
   "metadata": {
    "id": "_TDhlsFpgcVD"
   },
   "source": [
    "#### 1.1.2.9 Exercise: inner products \n",
    "Find the dot product of the provided array `z` with `u` and `v`, respectively, from above."
   ]
  },
  {
   "cell_type": "code",
   "execution_count": 6,
   "metadata": {
    "id": "DxWXCwLmgcVD",
    "outputId": "4cf01358-ed30-42ce-d728-bbb3bd3f7296"
   },
   "outputs": [],
   "source": [
    "z = np.array([1, 2, 3, 4, 5])\n",
    "\n",
    "u = np.array([-5., 3.7, 2., 10., 0.])\n",
    "v = np.array([9., 2., 4., 8., 1.])\n",
    "\n",
    "## code here"
   ]
  },
  {
   "cell_type": "markdown",
   "metadata": {
    "id": "Q5yIc7hHgcVE"
   },
   "source": [
    "#### 1.1.2.11 Exercise: cosine similarity \n",
    "Find the cosine similarity of the vectors `a` and `b`."
   ]
  },
  {
   "cell_type": "code",
   "execution_count": 7,
   "metadata": {
    "id": "HZ57MBNGgcVE",
    "outputId": "c96c4294-c4e9-4d54-df4c-87739b92997b"
   },
   "outputs": [],
   "source": [
    "a = np.array([1, 0, 0])\n",
    "b = np.array([0, 1, 0])\n",
    "\n",
    "## code here"
   ]
  },
  {
   "cell_type": "markdown",
   "metadata": {
    "id": "ef5nY3VVgcVF"
   },
   "source": [
    "#### 1.1.3.3 Exercise: Matrix indexing \n",
    "Print the value in the above matrix `A` located in the bottom-right entry."
   ]
  },
  {
   "cell_type": "code",
   "execution_count": 8,
   "metadata": {
    "id": "Xd9TL1HXgcVF",
    "outputId": "2d6c376c-d828-4d10-95e6-6bc815bacb0b"
   },
   "outputs": [],
   "source": [
    "A = np.array([\n",
    "    [ 1,  2,  3],\n",
    "    [ 4,  5,  6],\n",
    "    [ 7,  8,  9],\n",
    "    [10, 11, 12]\n",
    "])\n",
    "\n",
    "## code here"
   ]
  },
  {
   "cell_type": "markdown",
   "metadata": {
    "id": "tUNV3JHKgcVF"
   },
   "source": [
    "#### 1.1.4.2 Exercise: matrix addition \n",
    "Using `A` and `B` from above, find the sum `A` + `B` + `A`."
   ]
  },
  {
   "cell_type": "code",
   "execution_count": 9,
   "metadata": {
    "id": "fXenmmxogcVF",
    "outputId": "67548612-dc74-4a4f-e109-73151b888906"
   },
   "outputs": [
    {
     "name": "stdout",
     "output_type": "stream",
     "text": [
      "[[ 1  2  3]\n",
      " [ 4  5  6]\n",
      " [ 7  8  9]\n",
      " [10 11 12]] \n",
      "\n",
      "[[11 12 13]\n",
      " [14 15 16]\n",
      " [17 18 19]\n",
      " [20 21 22]] \n",
      "\n"
     ]
    }
   ],
   "source": [
    "## define a 4-row by 3-column matrix\n",
    "A = np.array([\n",
    "    [ 1,  2,  3],\n",
    "    [ 4,  5,  6],\n",
    "    [ 7,  8,  9],\n",
    "    [10, 11, 12]\n",
    "])\n",
    "\n",
    "print(A, '\\n')\n",
    "\n",
    "## define another 4-row by 3-column matrix\n",
    "B = np.array([\n",
    "    [ 11,  12,  13],\n",
    "    [ 14,  15,  16],\n",
    "    [ 17,  18,  19],\n",
    "    [ 20,  21,  22]\n",
    "])\n",
    "\n",
    "print(B, '\\n')\n",
    "## code here"
   ]
  },
  {
   "cell_type": "markdown",
   "metadata": {
    "id": "6vD2tOWKgcVG"
   },
   "source": [
    "#### 1.1.4.4 Exercise: Scalar matrix multiplication\n",
    "Divide each element in the above matrix `A` by 4."
   ]
  },
  {
   "cell_type": "code",
   "execution_count": 10,
   "metadata": {
    "id": "J-CQ2FeKgcVG",
    "outputId": "4da7c60c-3ea0-4357-a030-0f729d830fce"
   },
   "outputs": [],
   "source": [
    "A = np.array([\n",
    "    [ 1,  2,  3],\n",
    "    [ 4,  5,  6],\n",
    "    [ 7,  8,  9],\n",
    "    [10, 11, 12]\n",
    "])\n",
    "\n",
    "## code here"
   ]
  },
  {
   "cell_type": "markdown",
   "metadata": {
    "id": "_-1p47ipglpg"
   },
   "source": [
    "## Additional In-depth Exercises\n",
    "\n",
    "### A. Getting to know numpy and word vectors\n",
    "While we won't begin with text analysis formally until next chapter, we can take some pre-computed data to start exploring language with linear algebraic methods.\n",
    "\n",
    "#### Main data\n",
    "The numpy array file in `path = './01-numeric/data/vectors-' + str(dim) + '-.npy'`, which is a `dim = 10` dimensional semantic representation for the words of Mary Shelly's Frankenstein, Or the Modern Prometheus. The object has three linear-algebraic components: $U$, $V$, and $b$ and each has a row-dimension $N$ that represents the vocabulary size. Once loaded these are layed out as:\n",
    "\n",
    "$$  \n",
    "\\begin{bmatrix} \n",
    "v_{1,1} & v_{1,2} & \\dots & v_{1,10} \\\\ \n",
    "v_{2,1} & v_{2,2} & \\dots & v_{2,10} \\\\ \n",
    "\\vdots & \\vdots & \\ddots & \\vdots \\\\ \n",
    "v_{N,1} & v_{N,2} & \\dots & v_{N,10} \n",
    "\\end{bmatrix} \n",
    "\\begin{bmatrix} \n",
    "u_{1,1} & u_{1,2} & \\dots & u_{1,10} \\\\ \n",
    "u_{2,1} & u_{2,2} & \\dots & u_{2,10} \\\\ \n",
    "\\vdots & \\vdots & \\ddots & \\vdots \\\\ \n",
    "u_{N,1} & u_{N,2} & \\dots & u_{N,10} \n",
    "\\end{bmatrix} \n",
    "\\begin{bmatrix} \n",
    " b_{1} \\\\ \n",
    " b_{2} \\\\ \n",
    " \\vdots \\\\ \n",
    " b_{N} \n",
    "\\end{bmatrix} \n",
    "$$\n",
    "\n",
    "#### A.1 Load a `numpy` matrix with pre-set values from disk.\n",
    "\n",
    "Load the vectors from disk using `np.load(path)` and slice the resulting object to produce `U`, `V`, and `b` arrays. Report the dimensions of each array to confirm their structure (and the size of the vocabulary)."
   ]
  },
  {
   "cell_type": "code",
   "execution_count": 11,
   "metadata": {},
   "outputs": [],
   "source": [
    "import numpy as np\n",
    "\n",
    "dim = 10\n",
    "## code here"
   ]
  },
  {
   "cell_type": "markdown",
   "metadata": {},
   "source": [
    "#### A.2 Save the `numpy` matrices with pre-set values from disk.\n",
    "Then, save these to disk under the paths:\n",
    "\n",
    "- `./01-numeric/data/U.npy`, \n",
    "- `./01-numeric/data/V.npy`, and \n",
    "- `./01-numeric/data/b.npy`.\n",
    "\n",
    "using the `np.save(path, array)` command."
   ]
  },
  {
   "cell_type": "code",
   "execution_count": 12,
   "metadata": {},
   "outputs": [],
   "source": [
    "## code here"
   ]
  },
  {
   "cell_type": "markdown",
   "metadata": {},
   "source": [
    "#### A.3 Load the linked data for the vectors and build the word index\n",
    "Load `data = json.load(open('./data/vectors-linked_data.json'))` and inspect the resulting object. For now, you'll only have to utilize the dictionary value within it, called `data['counts']`, which is a dictonary, keyed by words, with count-occurrence values (frequencies).\n",
    "\n",
    "Using `data['counts']`, construct a `word_index` object, which is a dictionary of the form:\n",
    "```\n",
    "word_index = {\n",
    "    w: representation_index,\n",
    "    ...\n",
    "}\n",
    "```\n",
    "\n",
    "such that `w` is any word string keying `data['counts']` and `representation_index` is the row index for `w` `U`-`V`-`b` representation of `w`. Hint: Python (>3) dictionaries hold keys in the order in which they were originally loaded, i.e., presentated in the json string serialization format. Use this and the fact that the the words were counted in the book's reading order."
   ]
  },
  {
   "cell_type": "code",
   "execution_count": 13,
   "metadata": {},
   "outputs": [],
   "source": [
    "import json\n",
    "## code here"
   ]
  },
  {
   "cell_type": "markdown",
   "metadata": {},
   "source": [
    "#### A.4 Write a flexible concatenation function\n",
    "We'll want to conditionally concatenate the different representation components `U`, `V`, and `b`, but will assume that we're always going to use `U`. So write a function called `concatenate(U, V = 0, b = 0)` and stacks as many are non-zero size-by-side (as columns).\n",
    "\n",
    "[Hint. Use the `np.column_stack()` function!]"
   ]
  },
  {
   "cell_type": "code",
   "execution_count": 14,
   "metadata": {},
   "outputs": [],
   "source": [
    "## code here"
   ]
  },
  {
   "cell_type": "markdown",
   "metadata": {},
   "source": [
    "#### A.5 Write a cosine similarity functions that determines the most similar (word) vectors\n",
    "Use the `concatenate()` function from the previous cell to flexibly stack the different columns. This will allow us to explore how/where the representations stores semantics.\n",
    "\n",
    "_Accepts_:\n",
    "- `w`: the target string to measure similarity against\n",
    "- `U`, `V (= 0)`, `b (= 0)`: the semantic arrays from the representation or integer (null)\n",
    "- `top (= 0)`: an integer describing the number of 'most similar' words/scores, and\n",
    "- `v (= 0)`: a `V` (plus `U` and/or `b` dimensional) vector to which to compare to the vectors, instead of the target word.\n",
    "\n",
    "_Returns_:\n",
    "- `w_sims`: a sorted list of `top` tuples, of form: `(v, w_v_similarity)`, sortet high to low by `w_v_similarity` (cosine) values between vectors for words `w` and `v`.\n",
    "\n",
    "Note: vectors must be unit-normed in order to compute these similarities!"
   ]
  },
  {
   "cell_type": "code",
   "execution_count": 15,
   "metadata": {},
   "outputs": [],
   "source": [
    "## code here"
   ]
  },
  {
   "cell_type": "markdown",
   "metadata": {},
   "source": [
    "#### A.6 Build an analogy generator\n",
    "The classic motivation for the utility of word2vec is it's capacity to represent semantic constructs that 'locally' obey liear relationships. The most well known semantic constructs represented are loosely analogies, e.g., across gender, like:\n",
    "$$\n",
    "\\hat{v}_\\text{queen}\\approx \\frac{1}{3}\\left(v_\\text{king} - v_\\text{man} + v_\\text{woman}\\right)\n",
    "$$.\n",
    "\n",
    "Here, build an analogy generator by writing a function:\n",
    "- `analogy(positive, negative, word_index, U, V=0, b=0, top=10)`,\n",
    "which accepts a list of two words called `positive` and a string called `negative` (in addition to the others from __A.4__), computes the above, and (uses this as `v` in the result of __A.4__) to compute the most similar other words in the vocabulary to the specified linear combination."
   ]
  },
  {
   "cell_type": "code",
   "execution_count": 16,
   "metadata": {},
   "outputs": [],
   "source": [
    "## code here"
   ]
  }
 ],
 "metadata": {
  "colab": {
   "collapsed_sections": [],
   "name": "exercises.ipynb",
   "provenance": []
  },
  "kernelspec": {
   "display_name": "Python 3",
   "language": "python",
   "name": "python3"
  },
  "language_info": {
   "codemirror_mode": {
    "name": "ipython",
    "version": 3
   },
   "file_extension": ".py",
   "mimetype": "text/x-python",
   "name": "python",
   "nbconvert_exporter": "python",
   "pygments_lexer": "ipython3",
   "version": "3.8.5"
  }
 },
 "nbformat": 4,
 "nbformat_minor": 4
}
