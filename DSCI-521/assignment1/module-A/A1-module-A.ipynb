{
 "cells": [
  {
   "cell_type": "markdown",
   "metadata": {},
   "source": [
    "## Module submission header\n",
    "### Submission preparation instructions \n",
    "_Completion of this header is mandatory, subject to a 2-point deduction to the assignment._ Only add plain text in the designated areas, i.e., replacing the relevant 'NA's. You must fill out all group member Names and Drexel email addresses in the below markdown list, under header __Module submission group__. It is required to fill out descriptive notes pertaining to any tutoring support received in the completion of this submission under the __Additional submission comments__ section at the bottom of the header. If no tutoring support was received, leave NA in place. You may as well list other optional comments pertaining to the submission at bottom. _Any distruption of this header's formatting will make your group liable to the 2-point deduction._\n",
    "\n",
    "### Module submission group\n",
    "- Group member 1\n",
    "    - Name: NA\n",
    "    - Email: NA\n",
    "- Group member 2\n",
    "    - Name: NA\n",
    "    - Email: NA\n",
    "- Group member 3\n",
    "    - Name: NA\n",
    "    - Email: NA\n",
    "- Group member 4\n",
    "    - Name: NA\n",
    "    - Email: NA\n",
    "\n",
    "### Additional submission comments\n",
    "- Tutoring support received: NA\n",
    "- Other (other): NA"
   ]
  },
  {
   "cell_type": "markdown",
   "metadata": {},
   "source": [
    "# Assignment group 1: Textual feature extraction and numerical comparison"
   ]
  },
  {
   "cell_type": "markdown",
   "metadata": {},
   "source": [
    "## Module A _(35 points)_ Processing numeric data"
   ]
  },
  {
   "cell_type": "markdown",
   "metadata": {},
   "source": [
    "In this module, you will be working with the demographics data from The Henry J. Kaiser Family Foundation (https://www.kff.org/) including the population of 52 locations (50 states, District of Columbia, and Puerto Rico) based on race, gender, age, and the number of adults with and without children. This data is obtained from the Census Bureau’s American Community Survey (ACS). The data is stored in a `csv` file format located in the attached `data` directory."
   ]
  },
  {
   "cell_type": "markdown",
   "metadata": {},
   "source": [
    "__A1.__ Write a function called `get_shape_and_column` that accepts a string representing the path to the demographics.csv data. This function should read the provided csv data file into a pandas dataframe and then return a tuple with three things: the data frame (`data`), the shape of the data frame (`shape`), and a list of the columns (`columns`). (3 points)"
   ]
  },
  {
   "cell_type": "code",
   "execution_count": 1,
   "metadata": {},
   "outputs": [],
   "source": [
    "# A1:Function(3/3)\n",
    "# get_shape_and_column('./data/demographics.csv'):data,shape,column\n",
    "\n",
    "import pandas as pd\n",
    "\n",
    "def get_shape_and_columns(csv_path):\n",
    "    #---Your code starts here---\n",
    "    data = pd.read_csv(csv_path)\n",
    "    shape = data.shape\n",
    "    columns = data.columns\n",
    "    \n",
    "    #---Your code ends here---\n",
    "    \n",
    "    return data, shape, columns"
   ]
  },
  {
   "cell_type": "markdown",
   "metadata": {},
   "source": [
    "__A2.__ _(2 points)_ To gain a better insight into the data, lets apply the function we just wrote to get our dataframe, inspect the shape and columns, and then look at the head and tail of this data (using the `.head()` and `.tail()` methods)."
   ]
  },
  {
   "cell_type": "code",
   "execution_count": 2,
   "metadata": {},
   "outputs": [
    {
     "name": "stdout",
     "output_type": "stream",
     "text": [
      "(52, 18)\n",
      "Index(['Location', 'Male', 'Female', 'Adults_with_Children',\n",
      "       'Adults_with_No_Children', 'White', 'Black', 'Hispanic', 'Asian',\n",
      "       'American_Indian_or_Alaska_Native',\n",
      "       'Native_Hawaiian_or_Other_Pacific_Islander', 'Two_Or_More_Races',\n",
      "       'Age0_18', 'Age_19_25', 'Age_26_34', 'Age_35_54', 'Age_55_64',\n",
      "       'Age_65_plus'],\n",
      "      dtype='object')\n"
     ]
    }
   ],
   "source": [
    "# A2:SanityCheck\n",
    "\n",
    "# Load the data using our function\n",
    "data, shape, columns = get_shape_and_columns('./data/demographics.csv')\n",
    "\n",
    "# Output the shape and column names\n",
    "print(shape)\n",
    "print(columns)"
   ]
  },
  {
   "cell_type": "code",
   "execution_count": 3,
   "metadata": {},
   "outputs": [
    {
     "data": {
      "text/html": [
       "<div>\n",
       "<style scoped>\n",
       "    .dataframe tbody tr th:only-of-type {\n",
       "        vertical-align: middle;\n",
       "    }\n",
       "\n",
       "    .dataframe tbody tr th {\n",
       "        vertical-align: top;\n",
       "    }\n",
       "\n",
       "    .dataframe thead th {\n",
       "        text-align: right;\n",
       "    }\n",
       "</style>\n",
       "<table border=\"1\" class=\"dataframe\">\n",
       "  <thead>\n",
       "    <tr style=\"text-align: right;\">\n",
       "      <th></th>\n",
       "      <th>Location</th>\n",
       "      <th>Male</th>\n",
       "      <th>Female</th>\n",
       "      <th>Adults_with_Children</th>\n",
       "      <th>Adults_with_No_Children</th>\n",
       "      <th>White</th>\n",
       "      <th>Black</th>\n",
       "      <th>Hispanic</th>\n",
       "      <th>Asian</th>\n",
       "      <th>American_Indian_or_Alaska_Native</th>\n",
       "      <th>Native_Hawaiian_or_Other_Pacific_Islander</th>\n",
       "      <th>Two_Or_More_Races</th>\n",
       "      <th>Age0_18</th>\n",
       "      <th>Age_19_25</th>\n",
       "      <th>Age_26_34</th>\n",
       "      <th>Age_35_54</th>\n",
       "      <th>Age_55_64</th>\n",
       "      <th>Age_65_plus</th>\n",
       "    </tr>\n",
       "  </thead>\n",
       "  <tbody>\n",
       "    <tr>\n",
       "      <th>0</th>\n",
       "      <td>Alabama</td>\n",
       "      <td>2284900</td>\n",
       "      <td>2456500</td>\n",
       "      <td>878300</td>\n",
       "      <td>1941300</td>\n",
       "      <td>3119100</td>\n",
       "      <td>1259900.0</td>\n",
       "      <td>195700</td>\n",
       "      <td>63800.0</td>\n",
       "      <td>19800.0</td>\n",
       "      <td>NaN</td>\n",
       "      <td>81800.0</td>\n",
       "      <td>1138300</td>\n",
       "      <td>430500</td>\n",
       "      <td>536200.0</td>\n",
       "      <td>1207200</td>\n",
       "      <td>645600</td>\n",
       "      <td>783600</td>\n",
       "    </tr>\n",
       "    <tr>\n",
       "      <th>1</th>\n",
       "      <td>Alaska</td>\n",
       "      <td>364500</td>\n",
       "      <td>345600</td>\n",
       "      <td>153600</td>\n",
       "      <td>283800</td>\n",
       "      <td>433000</td>\n",
       "      <td>18000.0</td>\n",
       "      <td>47400</td>\n",
       "      <td>46600.0</td>\n",
       "      <td>95500.0</td>\n",
       "      <td>6300.0</td>\n",
       "      <td>63300.0</td>\n",
       "      <td>192300</td>\n",
       "      <td>63500</td>\n",
       "      <td>97900.0</td>\n",
       "      <td>183600</td>\n",
       "      <td>92400</td>\n",
       "      <td>80500</td>\n",
       "    </tr>\n",
       "    <tr>\n",
       "      <th>2</th>\n",
       "      <td>Arizona</td>\n",
       "      <td>3363200</td>\n",
       "      <td>3478100</td>\n",
       "      <td>1322700</td>\n",
       "      <td>2646700</td>\n",
       "      <td>3761600</td>\n",
       "      <td>270200.0</td>\n",
       "      <td>2143400</td>\n",
       "      <td>220300.0</td>\n",
       "      <td>261300.0</td>\n",
       "      <td>12500.0</td>\n",
       "      <td>172000.0</td>\n",
       "      <td>1686200</td>\n",
       "      <td>637200</td>\n",
       "      <td>815200.0</td>\n",
       "      <td>1677000</td>\n",
       "      <td>839900</td>\n",
       "      <td>1185700</td>\n",
       "    </tr>\n",
       "    <tr>\n",
       "      <th>3</th>\n",
       "      <td>Arkansas</td>\n",
       "      <td>1422700</td>\n",
       "      <td>1487200</td>\n",
       "      <td>602000</td>\n",
       "      <td>1096800</td>\n",
       "      <td>2109200</td>\n",
       "      <td>434100.0</td>\n",
       "      <td>220300</td>\n",
       "      <td>48100.0</td>\n",
       "      <td>13500.0</td>\n",
       "      <td>7300.0</td>\n",
       "      <td>77500.0</td>\n",
       "      <td>730600</td>\n",
       "      <td>265200</td>\n",
       "      <td>329800.0</td>\n",
       "      <td>726600</td>\n",
       "      <td>377100</td>\n",
       "      <td>480600</td>\n",
       "    </tr>\n",
       "    <tr>\n",
       "      <th>4</th>\n",
       "      <td>California</td>\n",
       "      <td>19113000</td>\n",
       "      <td>19600800</td>\n",
       "      <td>7955200</td>\n",
       "      <td>15981800</td>\n",
       "      <td>14305700</td>\n",
       "      <td>2061600.0</td>\n",
       "      <td>15194400</td>\n",
       "      <td>5598000.0</td>\n",
       "      <td>138100.0</td>\n",
       "      <td>122900.0</td>\n",
       "      <td>1293200.0</td>\n",
       "      <td>9363800</td>\n",
       "      <td>3697900</td>\n",
       "      <td>5240600.0</td>\n",
       "      <td>10277900</td>\n",
       "      <td>4720500</td>\n",
       "      <td>5413200</td>\n",
       "    </tr>\n",
       "  </tbody>\n",
       "</table>\n",
       "</div>"
      ],
      "text/plain": [
       "     Location      Male    Female  Adults_with_Children  \\\n",
       "0     Alabama   2284900   2456500                878300   \n",
       "1      Alaska    364500    345600                153600   \n",
       "2     Arizona   3363200   3478100               1322700   \n",
       "3    Arkansas   1422700   1487200                602000   \n",
       "4  California  19113000  19600800               7955200   \n",
       "\n",
       "   Adults_with_No_Children     White      Black  Hispanic      Asian  \\\n",
       "0                  1941300   3119100  1259900.0    195700    63800.0   \n",
       "1                   283800    433000    18000.0     47400    46600.0   \n",
       "2                  2646700   3761600   270200.0   2143400   220300.0   \n",
       "3                  1096800   2109200   434100.0    220300    48100.0   \n",
       "4                 15981800  14305700  2061600.0  15194400  5598000.0   \n",
       "\n",
       "   American_Indian_or_Alaska_Native  \\\n",
       "0                           19800.0   \n",
       "1                           95500.0   \n",
       "2                          261300.0   \n",
       "3                           13500.0   \n",
       "4                          138100.0   \n",
       "\n",
       "   Native_Hawaiian_or_Other_Pacific_Islander  Two_Or_More_Races  Age0_18  \\\n",
       "0                                        NaN            81800.0  1138300   \n",
       "1                                     6300.0            63300.0   192300   \n",
       "2                                    12500.0           172000.0  1686200   \n",
       "3                                     7300.0            77500.0   730600   \n",
       "4                                   122900.0          1293200.0  9363800   \n",
       "\n",
       "   Age_19_25  Age_26_34  Age_35_54  Age_55_64  Age_65_plus  \n",
       "0     430500   536200.0    1207200     645600       783600  \n",
       "1      63500    97900.0     183600      92400        80500  \n",
       "2     637200   815200.0    1677000     839900      1185700  \n",
       "3     265200   329800.0     726600     377100       480600  \n",
       "4    3697900  5240600.0   10277900    4720500      5413200  "
      ]
     },
     "execution_count": 3,
     "metadata": {},
     "output_type": "execute_result"
    }
   ],
   "source": [
    "# A2:SanityCheck\n",
    "\n",
    "# Outputs the head of the data\n",
    "data.head()"
   ]
  },
  {
   "cell_type": "code",
   "execution_count": 4,
   "metadata": {},
   "outputs": [
    {
     "name": "stdout",
     "output_type": "stream",
     "text": [
      "Alabama\n"
     ]
    }
   ],
   "source": [
    "# A2:Inline(1/2)\n",
    "\n",
    "# Which state is listed first in the head? Print the state name\n",
    "# from this list of choices: (Alabama, Alaska, Arizona)\n",
    "\n",
    "print(\"Alabama\")"
   ]
  },
  {
   "cell_type": "code",
   "execution_count": 5,
   "metadata": {},
   "outputs": [
    {
     "data": {
      "text/html": [
       "<div>\n",
       "<style scoped>\n",
       "    .dataframe tbody tr th:only-of-type {\n",
       "        vertical-align: middle;\n",
       "    }\n",
       "\n",
       "    .dataframe tbody tr th {\n",
       "        vertical-align: top;\n",
       "    }\n",
       "\n",
       "    .dataframe thead th {\n",
       "        text-align: right;\n",
       "    }\n",
       "</style>\n",
       "<table border=\"1\" class=\"dataframe\">\n",
       "  <thead>\n",
       "    <tr style=\"text-align: right;\">\n",
       "      <th></th>\n",
       "      <th>Location</th>\n",
       "      <th>Male</th>\n",
       "      <th>Female</th>\n",
       "      <th>Adults_with_Children</th>\n",
       "      <th>Adults_with_No_Children</th>\n",
       "      <th>White</th>\n",
       "      <th>Black</th>\n",
       "      <th>Hispanic</th>\n",
       "      <th>Asian</th>\n",
       "      <th>American_Indian_or_Alaska_Native</th>\n",
       "      <th>Native_Hawaiian_or_Other_Pacific_Islander</th>\n",
       "      <th>Two_Or_More_Races</th>\n",
       "      <th>Age0_18</th>\n",
       "      <th>Age_19_25</th>\n",
       "      <th>Age_26_34</th>\n",
       "      <th>Age_35_54</th>\n",
       "      <th>Age_55_64</th>\n",
       "      <th>Age_65_plus</th>\n",
       "    </tr>\n",
       "  </thead>\n",
       "  <tbody>\n",
       "    <tr>\n",
       "      <th>47</th>\n",
       "      <td>Washington</td>\n",
       "      <td>3589700</td>\n",
       "      <td>3650100</td>\n",
       "      <td>1522400</td>\n",
       "      <td>2920700</td>\n",
       "      <td>4976100</td>\n",
       "      <td>246900.0</td>\n",
       "      <td>916000</td>\n",
       "      <td>617900.0</td>\n",
       "      <td>68600.0</td>\n",
       "      <td>42200.0</td>\n",
       "      <td>372200.0</td>\n",
       "      <td>1701700</td>\n",
       "      <td>628700</td>\n",
       "      <td>965900.0</td>\n",
       "      <td>1899400</td>\n",
       "      <td>949100</td>\n",
       "      <td>1095000</td>\n",
       "    </tr>\n",
       "    <tr>\n",
       "      <th>48</th>\n",
       "      <td>West Virginia</td>\n",
       "      <td>863400</td>\n",
       "      <td>898700</td>\n",
       "      <td>322100</td>\n",
       "      <td>714100</td>\n",
       "      <td>1631600</td>\n",
       "      <td>64300.0</td>\n",
       "      <td>20400</td>\n",
       "      <td>14200.0</td>\n",
       "      <td>2000.0</td>\n",
       "      <td>NaN</td>\n",
       "      <td>28800.0</td>\n",
       "      <td>385000</td>\n",
       "      <td>148600</td>\n",
       "      <td>178300.0</td>\n",
       "      <td>448700</td>\n",
       "      <td>260600</td>\n",
       "      <td>340900</td>\n",
       "    </tr>\n",
       "    <tr>\n",
       "      <th>49</th>\n",
       "      <td>Wisconsin</td>\n",
       "      <td>2792400</td>\n",
       "      <td>2850600</td>\n",
       "      <td>1161900</td>\n",
       "      <td>2230900</td>\n",
       "      <td>4600500</td>\n",
       "      <td>328100.0</td>\n",
       "      <td>382000</td>\n",
       "      <td>166800.0</td>\n",
       "      <td>43500.0</td>\n",
       "      <td>NaN</td>\n",
       "      <td>120600.0</td>\n",
       "      <td>1319600</td>\n",
       "      <td>495600</td>\n",
       "      <td>643300.0</td>\n",
       "      <td>1441400</td>\n",
       "      <td>812500</td>\n",
       "      <td>930500</td>\n",
       "    </tr>\n",
       "    <tr>\n",
       "      <th>50</th>\n",
       "      <td>Wyoming</td>\n",
       "      <td>286600</td>\n",
       "      <td>276700</td>\n",
       "      <td>118200</td>\n",
       "      <td>214300</td>\n",
       "      <td>474400</td>\n",
       "      <td>5300.0</td>\n",
       "      <td>56100</td>\n",
       "      <td>4200.0</td>\n",
       "      <td>12100.0</td>\n",
       "      <td>NaN</td>\n",
       "      <td>11200.0</td>\n",
       "      <td>142400</td>\n",
       "      <td>48500</td>\n",
       "      <td>69400.0</td>\n",
       "      <td>133100</td>\n",
       "      <td>81500</td>\n",
       "      <td>88300</td>\n",
       "    </tr>\n",
       "    <tr>\n",
       "      <th>51</th>\n",
       "      <td>Puerto Rico</td>\n",
       "      <td>1570300</td>\n",
       "      <td>1734500</td>\n",
       "      <td>543200</td>\n",
       "      <td>1406500</td>\n",
       "      <td>23000</td>\n",
       "      <td>NaN</td>\n",
       "      <td>3274500</td>\n",
       "      <td>NaN</td>\n",
       "      <td>NaN</td>\n",
       "      <td>NaN</td>\n",
       "      <td>NaN</td>\n",
       "      <td>701800</td>\n",
       "      <td>327600</td>\n",
       "      <td>344300.0</td>\n",
       "      <td>849600</td>\n",
       "      <td>428200</td>\n",
       "      <td>653200</td>\n",
       "    </tr>\n",
       "  </tbody>\n",
       "</table>\n",
       "</div>"
      ],
      "text/plain": [
       "         Location     Male   Female  Adults_with_Children  \\\n",
       "47     Washington  3589700  3650100               1522400   \n",
       "48  West Virginia   863400   898700                322100   \n",
       "49      Wisconsin  2792400  2850600               1161900   \n",
       "50        Wyoming   286600   276700                118200   \n",
       "51    Puerto Rico  1570300  1734500                543200   \n",
       "\n",
       "    Adults_with_No_Children    White     Black  Hispanic     Asian  \\\n",
       "47                  2920700  4976100  246900.0    916000  617900.0   \n",
       "48                   714100  1631600   64300.0     20400   14200.0   \n",
       "49                  2230900  4600500  328100.0    382000  166800.0   \n",
       "50                   214300   474400    5300.0     56100    4200.0   \n",
       "51                  1406500    23000       NaN   3274500       NaN   \n",
       "\n",
       "    American_Indian_or_Alaska_Native  \\\n",
       "47                           68600.0   \n",
       "48                            2000.0   \n",
       "49                           43500.0   \n",
       "50                           12100.0   \n",
       "51                               NaN   \n",
       "\n",
       "    Native_Hawaiian_or_Other_Pacific_Islander  Two_Or_More_Races  Age0_18  \\\n",
       "47                                    42200.0           372200.0  1701700   \n",
       "48                                        NaN            28800.0   385000   \n",
       "49                                        NaN           120600.0  1319600   \n",
       "50                                        NaN            11200.0   142400   \n",
       "51                                        NaN                NaN   701800   \n",
       "\n",
       "    Age_19_25  Age_26_34  Age_35_54  Age_55_64  Age_65_plus  \n",
       "47     628700   965900.0    1899400     949100      1095000  \n",
       "48     148600   178300.0     448700     260600       340900  \n",
       "49     495600   643300.0    1441400     812500       930500  \n",
       "50      48500    69400.0     133100      81500        88300  \n",
       "51     327600   344300.0     849600     428200       653200  "
      ]
     },
     "execution_count": 5,
     "metadata": {},
     "output_type": "execute_result"
    }
   ],
   "source": [
    "# A2:SanityCheck\n",
    "\n",
    "# Outputs the tail of the data\n",
    "data.tail()"
   ]
  },
  {
   "cell_type": "code",
   "execution_count": 6,
   "metadata": {},
   "outputs": [
    {
     "name": "stdout",
     "output_type": "stream",
     "text": [
      "Washington\n"
     ]
    }
   ],
   "source": [
    "# A2:Inline(1/2)\n",
    "\n",
    "# Which state is listed first in the tail? Print the state name\n",
    "# from this list of choices: (Wyoming, Puerto Rico, Washington)\n",
    "print(\"Washington\")"
   ]
  },
  {
   "cell_type": "markdown",
   "metadata": {},
   "source": [
    "__A3.__ _(5 points)_ As you can see, there is no `total` population column in this dataframe for each location. Therefore, let's write a function called `total_columns` that takes a dataframe and two column names and returns an updated dataframe. This function should create a new column in the provided dataframe called `total` that is the sum of the data in the two provided columns. It should return this updated data frame."
   ]
  },
  {
   "cell_type": "code",
   "execution_count": 7,
   "metadata": {},
   "outputs": [],
   "source": [
    "# A3:Function(3/5)\n",
    "# total_columns('./data/demographics.csv', \"Male\", \"Female\")\n",
    "\n",
    "def total_columns(data, column1, column2):\n",
    "    #---Your code starts here---\n",
    "    data['total'] = data[column1] + data[column2]\n",
    "    #---Your code ends here---\n",
    "    \n",
    "    return data"
   ]
  },
  {
   "cell_type": "markdown",
   "metadata": {},
   "source": [
    "To test your function, let's apply it to create totals for some of the fields and inspect at the results.\n",
    "\n",
    "The pandas package provides a `.describe()` method which gives a descriptive summary of the desired column(s) (such as mean, standard deviation, min, and max values). The following code cells print these statistics for the newly created `total` columns."
   ]
  },
  {
   "cell_type": "code",
   "execution_count": 8,
   "metadata": {},
   "outputs": [
    {
     "data": {
      "text/html": [
       "<div>\n",
       "<style scoped>\n",
       "    .dataframe tbody tr th:only-of-type {\n",
       "        vertical-align: middle;\n",
       "    }\n",
       "\n",
       "    .dataframe tbody tr th {\n",
       "        vertical-align: top;\n",
       "    }\n",
       "\n",
       "    .dataframe thead th {\n",
       "        text-align: right;\n",
       "    }\n",
       "</style>\n",
       "<table border=\"1\" class=\"dataframe\">\n",
       "  <thead>\n",
       "    <tr style=\"text-align: right;\">\n",
       "      <th></th>\n",
       "      <th>total</th>\n",
       "    </tr>\n",
       "  </thead>\n",
       "  <tbody>\n",
       "    <tr>\n",
       "      <th>count</th>\n",
       "      <td>5.200000e+01</td>\n",
       "    </tr>\n",
       "    <tr>\n",
       "      <th>mean</th>\n",
       "      <td>2.408640e+06</td>\n",
       "    </tr>\n",
       "    <tr>\n",
       "      <th>std</th>\n",
       "      <td>2.750352e+06</td>\n",
       "    </tr>\n",
       "    <tr>\n",
       "      <th>min</th>\n",
       "      <td>2.146000e+05</td>\n",
       "    </tr>\n",
       "    <tr>\n",
       "      <th>25%</th>\n",
       "      <td>6.786000e+05</td>\n",
       "    </tr>\n",
       "    <tr>\n",
       "      <th>50%</th>\n",
       "      <td>1.652950e+06</td>\n",
       "    </tr>\n",
       "    <tr>\n",
       "      <th>75%</th>\n",
       "      <td>2.727825e+06</td>\n",
       "    </tr>\n",
       "    <tr>\n",
       "      <th>max</th>\n",
       "      <td>1.499840e+07</td>\n",
       "    </tr>\n",
       "  </tbody>\n",
       "</table>\n",
       "</div>"
      ],
      "text/plain": [
       "              total\n",
       "count  5.200000e+01\n",
       "mean   2.408640e+06\n",
       "std    2.750352e+06\n",
       "min    2.146000e+05\n",
       "25%    6.786000e+05\n",
       "50%    1.652950e+06\n",
       "75%    2.727825e+06\n",
       "max    1.499840e+07"
      ]
     },
     "execution_count": 8,
     "metadata": {},
     "output_type": "execute_result"
    }
   ],
   "source": [
    "# A3:SanityCheck\n",
    "\n",
    "# Creates a total column for ages 35-64\n",
    "data = total_columns(data, \"Age_35_54\", \"Age_55_64\")\n",
    "\n",
    "# Uses the describe method to show the summary statistics for the newly created 'total' column\n",
    "data[['total']].describe()"
   ]
  },
  {
   "cell_type": "code",
   "execution_count": 9,
   "metadata": {},
   "outputs": [],
   "source": [
    "a = data[['total']].mean()"
   ]
  },
  {
   "cell_type": "code",
   "execution_count": 10,
   "metadata": {},
   "outputs": [
    {
     "data": {
      "text/html": [
       "<div>\n",
       "<style scoped>\n",
       "    .dataframe tbody tr th:only-of-type {\n",
       "        vertical-align: middle;\n",
       "    }\n",
       "\n",
       "    .dataframe tbody tr th {\n",
       "        vertical-align: top;\n",
       "    }\n",
       "\n",
       "    .dataframe thead th {\n",
       "        text-align: right;\n",
       "    }\n",
       "</style>\n",
       "<table border=\"1\" class=\"dataframe\">\n",
       "  <thead>\n",
       "    <tr style=\"text-align: right;\">\n",
       "      <th></th>\n",
       "      <th>total</th>\n",
       "    </tr>\n",
       "  </thead>\n",
       "  <tbody>\n",
       "    <tr>\n",
       "      <th>count</th>\n",
       "      <td>5.200000e+01</td>\n",
       "    </tr>\n",
       "    <tr>\n",
       "      <th>mean</th>\n",
       "      <td>1.309954e+06</td>\n",
       "    </tr>\n",
       "    <tr>\n",
       "      <th>std</th>\n",
       "      <td>1.584595e+06</td>\n",
       "    </tr>\n",
       "    <tr>\n",
       "      <th>min</th>\n",
       "      <td>1.179000e+05</td>\n",
       "    </tr>\n",
       "    <tr>\n",
       "      <th>25%</th>\n",
       "      <td>3.369500e+05</td>\n",
       "    </tr>\n",
       "    <tr>\n",
       "      <th>50%</th>\n",
       "      <td>8.690500e+05</td>\n",
       "    </tr>\n",
       "    <tr>\n",
       "      <th>75%</th>\n",
       "      <td>1.487950e+06</td>\n",
       "    </tr>\n",
       "    <tr>\n",
       "      <th>max</th>\n",
       "      <td>8.938500e+06</td>\n",
       "    </tr>\n",
       "  </tbody>\n",
       "</table>\n",
       "</div>"
      ],
      "text/plain": [
       "              total\n",
       "count  5.200000e+01\n",
       "mean   1.309954e+06\n",
       "std    1.584595e+06\n",
       "min    1.179000e+05\n",
       "25%    3.369500e+05\n",
       "50%    8.690500e+05\n",
       "75%    1.487950e+06\n",
       "max    8.938500e+06"
      ]
     },
     "execution_count": 10,
     "metadata": {},
     "output_type": "execute_result"
    }
   ],
   "source": [
    "# A3:SanityCheck\n",
    "\n",
    "# Creates a total column for ages 19-34\n",
    "data = total_columns(data, \"Age_19_25\", \"Age_26_34\")\n",
    "\n",
    "# Uses the describe method to show the summary statistics for the newly created 'total' column\n",
    "data[['total']].describe()"
   ]
  },
  {
   "cell_type": "code",
   "execution_count": 11,
   "metadata": {},
   "outputs": [],
   "source": [
    "b = data[['total']].mean()"
   ]
  },
  {
   "cell_type": "code",
   "execution_count": 12,
   "metadata": {},
   "outputs": [
    {
     "data": {
      "text/plain": [
       "total   -1.098687e+06\n",
       "dtype: float64"
      ]
     },
     "execution_count": 12,
     "metadata": {},
     "output_type": "execute_result"
    }
   ],
   "source": [
    "b - a"
   ]
  },
  {
   "cell_type": "code",
   "execution_count": 13,
   "metadata": {},
   "outputs": [
    {
     "data": {
      "text/plain": [
       "Index(['Location', 'Male', 'Female', 'Adults_with_Children',\n",
       "       'Adults_with_No_Children', 'White', 'Black', 'Hispanic', 'Asian',\n",
       "       'American_Indian_or_Alaska_Native',\n",
       "       'Native_Hawaiian_or_Other_Pacific_Islander', 'Two_Or_More_Races',\n",
       "       'Age0_18', 'Age_19_25', 'Age_26_34', 'Age_35_54', 'Age_55_64',\n",
       "       'Age_65_plus', 'total'],\n",
       "      dtype='object')"
      ]
     },
     "execution_count": 13,
     "metadata": {},
     "output_type": "execute_result"
    }
   ],
   "source": [
    "data.columns"
   ]
  },
  {
   "cell_type": "code",
   "execution_count": 14,
   "metadata": {},
   "outputs": [
    {
     "name": "stdout",
     "output_type": "stream",
     "text": [
      " Age_19_25 + Age_26_34\n"
     ]
    }
   ],
   "source": [
    "# A3:Inline(2/5)\n",
    "\n",
    "# Which mean total is greater, the sum of Age_35_54 + Age_55_64 or the sum of Age_19_25 + Age_26_34?\n",
    "# Print either \"Older\" or \"Younger\"\n",
    "\n",
    "print(\" Age_19_25 + Age_26_34\")"
   ]
  },
  {
   "cell_type": "markdown",
   "metadata": {},
   "source": [
    "__A4:__ _(5 points)_ Next, write a function that takes a dataframe that has a `total` column and returns a tuple with four values: the location with the minimum total (`min_location`), the total for that min location (`min_total`), the location with the maximum total (`max_location`), and the total for the max location (`max_total`). Note that the locations returned should correspond to specific states (e.g., `\"Alabama\"`) and the totals should be numbers (e.g., `23000`)"
   ]
  },
  {
   "cell_type": "code",
   "execution_count": 15,
   "metadata": {},
   "outputs": [],
   "source": [
    "# A4:Function(4/5)\n",
    "def get_min_max_locations(data):\n",
    "    #---Your code starts here---\n",
    "    min_total = min(data['total'])\n",
    "    max_total = max(data['total'])\n",
    "    min_location = data[data['total'] == min_total]['Location'].values[0]\n",
    "    max_location = data[data['total'] == max_total]['Location'].values[0]\n",
    "    #---Your code ends here---\n",
    "    \n",
    "    return min_location, min_total, max_location, max_total"
   ]
  },
  {
   "cell_type": "markdown",
   "metadata": {},
   "source": [
    "Let's apply the functions you have created to (1) total up the male and female population counts and (2) identify the states with the minimum and maximum totals and their total amounts."
   ]
  },
  {
   "cell_type": "code",
   "execution_count": 16,
   "metadata": {},
   "outputs": [
    {
     "name": "stdout",
     "output_type": "stream",
     "text": [
      "Minimum location: Wyoming (total=563300)\n",
      "Maximum location: California (total=38713800)\n"
     ]
    }
   ],
   "source": [
    "# A4:SanityCheck\n",
    "\n",
    "# Create a total column that contains Male + Female\n",
    "data = total_columns(data, \"Male\", \"Female\")\n",
    "\n",
    "# Get the min and max states\n",
    "min_loc, min_total, max_loc, max_total = get_min_max_locations(data)\n",
    "\n",
    "print(\"Minimum location: {} (total={})\".format(min_loc, min_total))\n",
    "print(\"Maximum location: {} (total={})\".format(max_loc, max_total))"
   ]
  },
  {
   "cell_type": "code",
   "execution_count": 17,
   "metadata": {},
   "outputs": [
    {
     "name": "stdout",
     "output_type": "stream",
     "text": [
      "Wyoming\n"
     ]
    }
   ],
   "source": [
    "# A4:Inline(1/5)\n",
    "\n",
    "# Print the state with the smallest total (make sure to get capitalization right)?\n",
    "print(\"Wyoming\")"
   ]
  },
  {
   "cell_type": "markdown",
   "metadata": {},
   "source": [
    "__A5.__ _(5 points)_ Our previous `total_columns` function has some limitations. First, it only lets us create a total column that is the sum of two columns. Additionally, it always names the resulting column `total`. Please write an updated `total_columns` function that takes three arguments: `data` (a dataframe), `list_of_columns` (a list of columns to total), and `total_name` (a name for the resulting total column). This function should total the values across all the columns in `list_of_columns` and put the result in the target `total_name` column."
   ]
  },
  {
   "cell_type": "code",
   "execution_count": 18,
   "metadata": {},
   "outputs": [],
   "source": [
    "# A5:Function(4/5)\n",
    "def total_columns(data, list_of_columns, total_name=\"total\"):\n",
    "    #---Your code starts here---\n",
    "    for columns in list_of_columns:\n",
    "        data[total_name] = data[total_name] + data[columns]\n",
    "    #---Your code ends here---\n",
    "    return data"
   ]
  },
  {
   "cell_type": "markdown",
   "metadata": {},
   "source": [
    "To test the function you've created, let's apply it to investigate our data. In particular, let's look at two columns `Adults_with_Children` and `Adults_with_No_Children`. It seems that the populations in these two columns do not include the children (aged younger than 18 years), and older adults (aged older than 64 years). To confirm this hypothesis, let's use our new `total_columns` function to create two total columns and then compare them. We will then look to see if there is a difference between these totals for three states: `Pennsylvania`, `Colorado`, and `Georgia`."
   ]
  },
  {
   "cell_type": "code",
   "execution_count": 19,
   "metadata": {},
   "outputs": [
    {
     "ename": "KeyError",
     "evalue": "'total_adult_age_groups'",
     "output_type": "error",
     "traceback": [
      "\u001b[0;31m---------------------------------------------------------------------------\u001b[0m",
      "\u001b[0;31mKeyError\u001b[0m                                  Traceback (most recent call last)",
      "File \u001b[0;32m/opt/homebrew/lib/python3.10/site-packages/pandas/core/indexes/base.py:3800\u001b[0m, in \u001b[0;36mIndex.get_loc\u001b[0;34m(self, key, method, tolerance)\u001b[0m\n\u001b[1;32m   3799\u001b[0m \u001b[39mtry\u001b[39;00m:\n\u001b[0;32m-> 3800\u001b[0m     \u001b[39mreturn\u001b[39;00m \u001b[39mself\u001b[39;49m\u001b[39m.\u001b[39;49m_engine\u001b[39m.\u001b[39;49mget_loc(casted_key)\n\u001b[1;32m   3801\u001b[0m \u001b[39mexcept\u001b[39;00m \u001b[39mKeyError\u001b[39;00m \u001b[39mas\u001b[39;00m err:\n",
      "File \u001b[0;32m/opt/homebrew/lib/python3.10/site-packages/pandas/_libs/index.pyx:138\u001b[0m, in \u001b[0;36mpandas._libs.index.IndexEngine.get_loc\u001b[0;34m()\u001b[0m\n",
      "File \u001b[0;32m/opt/homebrew/lib/python3.10/site-packages/pandas/_libs/index.pyx:165\u001b[0m, in \u001b[0;36mpandas._libs.index.IndexEngine.get_loc\u001b[0;34m()\u001b[0m\n",
      "File \u001b[0;32mpandas/_libs/hashtable_class_helper.pxi:5745\u001b[0m, in \u001b[0;36mpandas._libs.hashtable.PyObjectHashTable.get_item\u001b[0;34m()\u001b[0m\n",
      "File \u001b[0;32mpandas/_libs/hashtable_class_helper.pxi:5753\u001b[0m, in \u001b[0;36mpandas._libs.hashtable.PyObjectHashTable.get_item\u001b[0;34m()\u001b[0m\n",
      "\u001b[0;31mKeyError\u001b[0m: 'total_adult_age_groups'",
      "\nThe above exception was the direct cause of the following exception:\n",
      "\u001b[0;31mKeyError\u001b[0m                                  Traceback (most recent call last)",
      "Cell \u001b[0;32mIn [19], line 5\u001b[0m\n\u001b[1;32m      1\u001b[0m \u001b[39m# A5:SanityCheck\u001b[39;00m\n\u001b[1;32m      2\u001b[0m \n\u001b[1;32m      3\u001b[0m \u001b[39m# Create a total for all the adult age groups (excluding people youger than 18 or older than 64)\u001b[39;00m\n\u001b[1;32m      4\u001b[0m adult_age_group_columns \u001b[39m=\u001b[39m [\u001b[39m'\u001b[39m\u001b[39mAge_19_25\u001b[39m\u001b[39m'\u001b[39m, \u001b[39m'\u001b[39m\u001b[39mAge_26_34\u001b[39m\u001b[39m'\u001b[39m, \u001b[39m'\u001b[39m\u001b[39mAge_35_54\u001b[39m\u001b[39m'\u001b[39m, \u001b[39m'\u001b[39m\u001b[39mAge_55_64\u001b[39m\u001b[39m'\u001b[39m]\n\u001b[0;32m----> 5\u001b[0m data \u001b[39m=\u001b[39m total_columns(data, adult_age_group_columns, \u001b[39m\"\u001b[39;49m\u001b[39mtotal_adult_age_groups\u001b[39;49m\u001b[39m\"\u001b[39;49m)\n\u001b[1;32m      7\u001b[0m \u001b[39m# Create a total column for adults with and without children.\u001b[39;00m\n\u001b[1;32m      8\u001b[0m adults_columns \u001b[39m=\u001b[39m [\u001b[39m'\u001b[39m\u001b[39mAdults_with_Children\u001b[39m\u001b[39m'\u001b[39m, \u001b[39m'\u001b[39m\u001b[39mAdults_with_No_Children\u001b[39m\u001b[39m'\u001b[39m]\n",
      "Cell \u001b[0;32mIn [18], line 5\u001b[0m, in \u001b[0;36mtotal_columns\u001b[0;34m(data, list_of_columns, total_name)\u001b[0m\n\u001b[1;32m      2\u001b[0m \u001b[39mdef\u001b[39;00m \u001b[39mtotal_columns\u001b[39m(data, list_of_columns, total_name\u001b[39m=\u001b[39m\u001b[39m\"\u001b[39m\u001b[39mtotal\u001b[39m\u001b[39m\"\u001b[39m):\n\u001b[1;32m      3\u001b[0m     \u001b[39m#---Your code starts here---\u001b[39;00m\n\u001b[1;32m      4\u001b[0m     \u001b[39mfor\u001b[39;00m columns \u001b[39min\u001b[39;00m list_of_columns:\n\u001b[0;32m----> 5\u001b[0m         data[total_name] \u001b[39m=\u001b[39m data[total_name] \u001b[39m+\u001b[39m data[columns]\n\u001b[1;32m      6\u001b[0m     \u001b[39m#---Your code ends here---\u001b[39;00m\n\u001b[1;32m      7\u001b[0m     \u001b[39mreturn\u001b[39;00m data\n",
      "File \u001b[0;32m/opt/homebrew/lib/python3.10/site-packages/pandas/core/frame.py:3805\u001b[0m, in \u001b[0;36mDataFrame.__getitem__\u001b[0;34m(self, key)\u001b[0m\n\u001b[1;32m   3803\u001b[0m \u001b[39mif\u001b[39;00m \u001b[39mself\u001b[39m\u001b[39m.\u001b[39mcolumns\u001b[39m.\u001b[39mnlevels \u001b[39m>\u001b[39m \u001b[39m1\u001b[39m:\n\u001b[1;32m   3804\u001b[0m     \u001b[39mreturn\u001b[39;00m \u001b[39mself\u001b[39m\u001b[39m.\u001b[39m_getitem_multilevel(key)\n\u001b[0;32m-> 3805\u001b[0m indexer \u001b[39m=\u001b[39m \u001b[39mself\u001b[39;49m\u001b[39m.\u001b[39;49mcolumns\u001b[39m.\u001b[39;49mget_loc(key)\n\u001b[1;32m   3806\u001b[0m \u001b[39mif\u001b[39;00m is_integer(indexer):\n\u001b[1;32m   3807\u001b[0m     indexer \u001b[39m=\u001b[39m [indexer]\n",
      "File \u001b[0;32m/opt/homebrew/lib/python3.10/site-packages/pandas/core/indexes/base.py:3802\u001b[0m, in \u001b[0;36mIndex.get_loc\u001b[0;34m(self, key, method, tolerance)\u001b[0m\n\u001b[1;32m   3800\u001b[0m     \u001b[39mreturn\u001b[39;00m \u001b[39mself\u001b[39m\u001b[39m.\u001b[39m_engine\u001b[39m.\u001b[39mget_loc(casted_key)\n\u001b[1;32m   3801\u001b[0m \u001b[39mexcept\u001b[39;00m \u001b[39mKeyError\u001b[39;00m \u001b[39mas\u001b[39;00m err:\n\u001b[0;32m-> 3802\u001b[0m     \u001b[39mraise\u001b[39;00m \u001b[39mKeyError\u001b[39;00m(key) \u001b[39mfrom\u001b[39;00m \u001b[39merr\u001b[39;00m\n\u001b[1;32m   3803\u001b[0m \u001b[39mexcept\u001b[39;00m \u001b[39mTypeError\u001b[39;00m:\n\u001b[1;32m   3804\u001b[0m     \u001b[39m# If we have a listlike key, _check_indexing_error will raise\u001b[39;00m\n\u001b[1;32m   3805\u001b[0m     \u001b[39m#  InvalidIndexError. Otherwise we fall through and re-raise\u001b[39;00m\n\u001b[1;32m   3806\u001b[0m     \u001b[39m#  the TypeError.\u001b[39;00m\n\u001b[1;32m   3807\u001b[0m     \u001b[39mself\u001b[39m\u001b[39m.\u001b[39m_check_indexing_error(key)\n",
      "\u001b[0;31mKeyError\u001b[0m: 'total_adult_age_groups'"
     ]
    }
   ],
   "source": [
    "# A5:SanityCheck\n",
    "\n",
    "# Create a total for all the adult age groups (excluding people youger than 18 or older than 64)\n",
    "adult_age_group_columns = ['Age_19_25', 'Age_26_34', 'Age_35_54', 'Age_55_64']\n",
    "data = total_columns(data, adult_age_group_columns, \"total_adult_age_groups\")\n",
    "\n",
    "# Create a total column for adults with and without children.\n",
    "adults_columns = ['Adults_with_Children', 'Adults_with_No_Children']\n",
    "data = total_columns(data, adults_columns, \"total_adults\")\n",
    "\n",
    "# Compute the difference between these values\n",
    "data['diff'] = data['total_adult_age_groups'] - data['total_adults']\n",
    "\n",
    "# Look at the differences for Pennsylvania, Colorado, and Georgia\n",
    "print(\"Pennsylvania difference: {}\".format(data[data['Location'] == \"Pennsylvania\"]['diff'].values))\n",
    "print(\"Colorado difference: {}\".format(data[data['Location'] == \"Colorado\"]['diff'].values))\n",
    "print(\"Georgia difference: {}\".format(data[data['Location'] == \"Georgia\"]['diff'].values))"
   ]
  },
  {
   "cell_type": "code",
   "execution_count": null,
   "metadata": {},
   "outputs": [],
   "source": [
    "# A5:Inline(1/5)\n",
    "\n",
    "# Is there a difference for these three states? Print \"Yes\" or \"No\"\n",
    "print(\"<ANSWER>\")"
   ]
  },
  {
   "cell_type": "markdown",
   "metadata": {},
   "source": [
    "__A6:__ _(2 points)_ To investigate our hypothesis more generally, write a function called `are_columns_equal` that takes a dataframe and two columns names (for two columns we want to compare). The function should return a boolean value `are_equal` that is True if all the values for the two columns are the same and False if there is at least one difference."
   ]
  },
  {
   "cell_type": "code",
   "execution_count": null,
   "metadata": {},
   "outputs": [],
   "source": [
    "# A6:Function(2/2)\n",
    "\n",
    "def are_columns_equal(data, column1, column2):\n",
    "    \n",
    "    #---Your code starts here---\n",
    "\n",
    "    #---Your code starts here---\n",
    "    \n",
    "    return are_equal"
   ]
  },
  {
   "cell_type": "markdown",
   "metadata": {},
   "source": [
    "To test this function, let's apply it to test our hypothesis that`total_adult_age_groups` and `total_adults` are the same for all locations."
   ]
  },
  {
   "cell_type": "code",
   "execution_count": null,
   "metadata": {},
   "outputs": [],
   "source": [
    "# A6:SanityCheck\n",
    "\n",
    "print(are_columns_equal(data, 'total_adult_age_groups', 'total_adults'))"
   ]
  },
  {
   "cell_type": "markdown",
   "metadata": {},
   "source": [
    "__A7:__ _(3 points)_ It seems that our hypothesis is not correct for all the locations. To investigate further, create a function called `get_location_difference_dict` that takes a dataframe and two column names and returns a dictionary (`location_diff_dict`) that has locations for keys and the difference (column1 value - column2 value) as values. Additionally, the dictionary should only include values for entries that have a non-zero difference (places where column1 value != column2 value).\n",
    "\n",
    "For example, the resulting dictionary should look something like this:\n",
    "```\n",
    "{'Alabama': 300,\n",
    " 'California': -210, \n",
    " ...\n",
    "}\n",
    "```"
   ]
  },
  {
   "cell_type": "code",
   "execution_count": null,
   "metadata": {},
   "outputs": [],
   "source": [
    "# A7:Function(2/3)\n",
    "\n",
    "def get_location_difference_dict(data, column1, column2):\n",
    "    \n",
    "    #---Your code starts here---\n",
    "\n",
    "    #---Your code ends here---\n",
    "    \n",
    "    return location_diff_dict"
   ]
  },
  {
   "cell_type": "markdown",
   "metadata": {},
   "source": [
    "Now let's apply the function you have created to see what the differences in `total_adult_age_groups` and `total_adults` look like across our data."
   ]
  },
  {
   "cell_type": "code",
   "execution_count": null,
   "metadata": {},
   "outputs": [],
   "source": [
    "# A7:SanityCheck\n",
    "get_location_difference_dict(data,'total_adult_age_groups', 'total_adults')"
   ]
  },
  {
   "cell_type": "code",
   "execution_count": null,
   "metadata": {},
   "outputs": [],
   "source": [
    "# A7:Inline(1/3)\n",
    "\n",
    "# Print the name of the state with the larger difference (greater absolute magnitude),\n",
    "# \"Alabama\" or \"North Carolina\"?\n",
    "print(\"<STATE>\")"
   ]
  },
  {
   "cell_type": "markdown",
   "metadata": {},
   "source": [
    "__A8.__ _(7 points)_ In this problem, we are going to investigate the similarity of locations using _cosine similarity_. To support these investigations, write a function called `compute_cosine_similarity` that takes a dataframe (`data`) and a list of column names (`similarity_columns`) to use when computing the cosine similarity. This function should use the provided `similarity_columns` to compute the cosine similiarity between each pair of locations. In cases where there is no population for one of the provided columns for a location in the dataframe (the corresponding value is `NaN`), replace them with `zero` using the `.fillna()` method of pandas. This function should return a list of tuples (`similarity_list`) with the following format `(<location 1>, <location 2>, <cosine similarity between them>)`.\n",
    "\n",
    "Here is an example of what the output from this function should look like:\n",
    "```\n",
    "[('Alabama', 'Alaska', 0.223890893223),\n",
    " ('Alabama', 'Arizona', 0.43432273237),\n",
    " ('Alabama', 'Arkansas', 0.112312121213),\n",
    " ('Alabama', 'California', 0.45645645654623),\n",
    " ('Alabama', 'Colorado', 0.234616734),\n",
    " ('Alabama', 'Connecticut', 0.676533422),\n",
    " ('Alabama', 'Delaware', 0.1234645667),\n",
    " ...\n",
    "]\n",
    "```\n",
    "\n",
    "Note that each pair of locations will appear twice in this list in different orders; e.g., `('Alabama', 'Alaska', 223890893223)` and `('Alaska', 'Alabama', 223890893223)` will both appear."
   ]
  },
  {
   "cell_type": "code",
   "execution_count": null,
   "metadata": {},
   "outputs": [],
   "source": [
    "# A8:Function(7/7)\n",
    "import numpy as np\n",
    "\n",
    "def compute_cosine_similarity(data, similarity_columns):\n",
    "    \n",
    "    #---Your code starts here\n",
    "\n",
    "    #---Your code ends here\n",
    "\n",
    "    return similarity_list"
   ]
  },
  {
   "cell_type": "markdown",
   "metadata": {},
   "source": [
    "To test our function, lets apply it to compare locations according to both race and age demographics."
   ]
  },
  {
   "cell_type": "code",
   "execution_count": null,
   "metadata": {},
   "outputs": [],
   "source": [
    "# A8:SanityCheck\n",
    "\n",
    "# All the race columns\n",
    "race_columns = ['White', 'Black', 'Hispanic', 'Asian', 'American_Indian_or_Alaska_Native', \\\n",
    "                'Native_Hawaiian_or_Other_Pacific_Islander', 'Two_Or_More_Races']\n",
    "\n",
    "race_similarity = compute_cosine_similarity(data, race_columns)\n",
    "race_similarity"
   ]
  },
  {
   "cell_type": "code",
   "execution_count": null,
   "metadata": {},
   "outputs": [],
   "source": [
    "age_columns = ['Age0_18', 'Age_19_25', 'Age_26_34', 'Age_35_54', 'Age_55_64', 'Age_65_plus']\n",
    "age_similarity = compute_cosine_similarity(data, age_columns)\n",
    "age_similarity"
   ]
  },
  {
   "cell_type": "markdown",
   "metadata": {},
   "source": [
    "__A9.__ _(3 points)_ Next, we would like to investigate which locations are the most or least similar given these different types of demographics. To support these investigations, write a function called `get_min_max_similarity`. The function should take a `similarity_list`, which is the output from the `compute_cosite_similarity()` method you wrote in A8. The function should return two values `min_similarity` and `max_similarity`. These correspond to the entries from the provided `similarity_list` that have the smallest and largest similarity respectively.\n",
    "\n",
    "For example `min_similarity` and `max_similarity` will have the format `(<location 1>, <location 2>, <cosine similarity>)`."
   ]
  },
  {
   "cell_type": "code",
   "execution_count": null,
   "metadata": {},
   "outputs": [],
   "source": [
    "# A9:Function(3/3)\n",
    "\n",
    "def get_min_max_similarity(similarity_list):\n",
    "    \n",
    "    #---Your code starts here\n",
    "\n",
    "    #---Your code ends here\n",
    "    \n",
    "    return min_similarity, max_similarity  "
   ]
  },
  {
   "cell_type": "markdown",
   "metadata": {},
   "source": [
    "To test this function, let's apply it to compare states in terms of both race and age similarity."
   ]
  },
  {
   "cell_type": "code",
   "execution_count": null,
   "metadata": {},
   "outputs": [],
   "source": [
    "# A9:SanityCheck\n",
    "\n",
    "min_race_similarity, max_race_similarity = get_min_max_similarity(race_similarity)\n",
    "print(\"The locations with least similar race demographics: {}\".format(min_race_similarity))\n",
    "print(\"The locations with most similar race demographics: {}\".format(max_race_similarity))"
   ]
  },
  {
   "cell_type": "code",
   "execution_count": null,
   "metadata": {},
   "outputs": [],
   "source": [
    "# A9:SanityCheck\n",
    "\n",
    "min_age_similarity, max_age_similarity = get_min_max_similarity(age_similarity)\n",
    "print(\"The locations with least similar age demographics: {}\".format(min_age_similarity))\n",
    "print(\"The locations with most similar age demographics: {}\".format(max_age_similarity))"
   ]
  }
 ],
 "metadata": {
  "kernelspec": {
   "display_name": "Python 3.10.8 64-bit",
   "language": "python",
   "name": "python3"
  },
  "language_info": {
   "codemirror_mode": {
    "name": "ipython",
    "version": 3
   },
   "file_extension": ".py",
   "mimetype": "text/x-python",
   "name": "python",
   "nbconvert_exporter": "python",
   "pygments_lexer": "ipython3",
   "version": "3.10.8"
  },
  "vscode": {
   "interpreter": {
    "hash": "b0fa6594d8f4cbf19f97940f81e996739fb7646882a419484c72d19e05852a7e"
   }
  }
 },
 "nbformat": 4,
 "nbformat_minor": 4
}
