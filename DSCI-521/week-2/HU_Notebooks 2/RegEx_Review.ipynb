{
 "cells": [
  {
   "cell_type": "markdown",
   "id": "assigned-obligation",
   "metadata": {},
   "source": [
    "## RegEx Review\n",
    "\n",
    "- http://www.pyregex.com"
   ]
  },
  {
   "cell_type": "markdown",
   "id": "consolidated-globe",
   "metadata": {},
   "source": [
    "## Activity:\n",
    "- Try to convert every single stand-alone instance of 'i' to 'I' in the corpus. Make sure not to change the 'i' occurring within a word:"
   ]
  },
  {
   "cell_type": "code",
   "execution_count": 23,
   "id": "sharing-robin",
   "metadata": {},
   "outputs": [
    {
     "name": "stdout",
     "output_type": "stream",
     "text": [
      "when I go outside, I will enjoy my time\n"
     ]
    }
   ],
   "source": [
    "import re \n",
    "\n",
    "processed_sent = re.sub(r'\\si\\s', ' I ', 'when i go outside, i will enjoy my time')\n",
    "print(processed_sent)"
   ]
  },
  {
   "cell_type": "markdown",
   "id": "alpine-mobile",
   "metadata": {},
   "source": [
    "## Activity:\n",
    "\n",
    "- Find all phone numbers (with area code or not) in a text"
   ]
  },
  {
   "cell_type": "code",
   "execution_count": null,
   "id": "practical-leone",
   "metadata": {},
   "outputs": [
    {
     "name": "stdout",
     "output_type": "stream",
     "text": [
      "['215-895-2185']\n",
      "['867-5307']\n",
      "['215-895-2185', '867-5307']\n"
     ]
    }
   ],
   "source": [
    "txt = \"Apparently, 867-5307 is Jenny's phone number, but I'm not sure what her area code is.\" + \\\n",
    "\"If you need my office line, it's 215-895-2185.\" \n",
    "\n",
    "\n",
    "numbers_with_area_code =  re.findall(\"[0-9]{3}-[0-9]{3}-[0-9]{4}\", txt)\n",
    "print(numbers_with_area_code)\n",
    "# The following commnnted line will produce: 867-5307 and 895-2185 which is not what we want\n",
    "# numbers_wo_area_code =  re.findall(\"[0-9]{3}-[0-9]{4}\", txt)\n",
    "# remove the () in the following line and see what will happen\n",
    "numbers_wo_area_code =  re.findall(\"\\s([0-9]{3}-[0-9]{4})\", txt)\n",
    "print(numbers_wo_area_code)\n",
    "print(numbers_with_area_code + numbers_wo_area_code)"
   ]
  },
  {
   "cell_type": "code",
   "execution_count": null,
   "id": "79056a18",
   "metadata": {},
   "outputs": [
    {
     "name": "stdout",
     "output_type": "stream",
     "text": [
      "['215-895-2185', '867-5307', '895-2185']\n"
     ]
    }
   ],
   "source": [
    "no = re.findall(\"[0-9]{3}-[0-9]{3}-[0-9]{4}\", txt)\n",
    "yesno = re.findall(\"[0-9]{3}-[0-9]{4}\", txt)\n",
    "\n",
    "print(no + yesno)\n"
   ]
  },
  {
   "cell_type": "code",
   "execution_count": null,
   "id": "atomic-baseline",
   "metadata": {},
   "outputs": [
    {
     "name": "stdout",
     "output_type": "stream",
     "text": [
      "['867-5307', '215-895-2185']\n"
     ]
    }
   ],
   "source": [
    "txt = \"Apparently, 867-5307 is Jenny's phone number, but I'm not sure what her area code is.\" + \\\n",
    "\"If you need my office line, it's 215-895-2185.\" \n",
    "\n",
    "\n",
    "\n",
    "## By grouping and using a `{1,2}` flexible match, we can get full and partial numbers\n",
    "## Note: we have to use a non-capturing group (?:...) in order to make sure we get the full expression\n",
    "## without capturing the first three digits, only.\n",
    "numbers =  re.findall(\"(?:[0-9]{3}-){1,2}[0-9]{4}\", txt)\n",
    "print(numbers)"
   ]
  },
  {
   "cell_type": "code",
   "execution_count": null,
   "id": "bigger-elite",
   "metadata": {},
   "outputs": [
    {
     "name": "stdout",
     "output_type": "stream",
     "text": [
      "['215-895-2185']\n",
      "['215']\n",
      "['215-895-2185']\n",
      "['895-2185']\n",
      "['867-', '895-']\n"
     ]
    }
   ],
   "source": [
    "txt = \"Apparently, 867-5307 is Jenny's phone number, but I'm not sure what her area code is.\" + \\\n",
    "\"If you need my office line, it's 215-895-2185.\" \n",
    "\n",
    "# Find a number of this pattern: xxx-xxx-xxxx\n",
    "numbers =  re.findall(\"[0-9]{3}-[0-9]{3}-[0-9]{4}\", txt)\n",
    "print(numbers)\n",
    "# Find a number of this pattern: xxx-xxx-xxxx, but return only its first three digits (because of ())\n",
    "numbers =  re.findall(\"([0-9]{3})-[0-9]{3}-[0-9]{4}\", txt)\n",
    "print(numbers)\n",
    "# Find a number of this pattern: xxx-xxx-xxxx, and return the whole digits ((?:) make this to happen)\n",
    "numbers =  re.findall(\"(?:[0-9]{3})-[0-9]{3}-[0-9]{4}\", txt)\n",
    "print(numbers)\n",
    "# Find a number of this pattern: xxx-xxx-xxxx, but return only this part of it xxx-xxxx\n",
    "numbers =  re.findall(\"[0-9]{3}-([0-9]{3}-[0-9]{4})\", txt)\n",
    "print(numbers)\n",
    "numbers =  re.findall(\"([0-9]{3}-){1,2}[0-9]{4}\", txt)\n",
    "print(numbers)"
   ]
  },
  {
   "cell_type": "markdown",
   "id": "seven-sussex",
   "metadata": {},
   "source": [
    "## Activity:\n",
    "\n",
    "- Find any money amount (represented by $ with cents or not) in a text"
   ]
  },
  {
   "cell_type": "code",
   "execution_count": null,
   "id": "35bcdabe",
   "metadata": {},
   "outputs": [
    {
     "data": {
      "text/plain": [
       "['$127', '$85']"
      ]
     },
     "execution_count": 15,
     "metadata": {},
     "output_type": "execute_result"
    }
   ],
   "source": [
    "string='effe testen,  wat is dat duur zeg $127.89! Bah liever 25.87, of $85 '  # your string\n",
    "\n",
    "reg = re.compile(r'\\$\\d+(?:\\d.\\d\\d)?')\n",
    "\n",
    "reg.findall(string)"
   ]
  },
  {
   "cell_type": "code",
   "execution_count": null,
   "id": "statistical-germany",
   "metadata": {},
   "outputs": [
    {
     "data": {
      "text/plain": [
       "['$127.89', '$85']"
      ]
     },
     "execution_count": 3,
     "metadata": {},
     "output_type": "execute_result"
    }
   ],
   "source": [
    "string='effe testen,  wat is dat duur zeg $127.89! Bah liever 25.87, of $85 '  # your string\n",
    "\n",
    "# maak de hele  subexpressie optioneel met het ?\n",
    "\n",
    "reg=r'\\$\\d+(?:\\.\\d\\d)?'   # your pattern between the quotes. Keep the \"r\" in front.\n",
    "# ?:\\.\\d\\d -> followed by . and two numbers after it\n",
    "# ? (last one) -> optional -> we may have cents or may not have cents\n",
    "re.findall(reg,string)"
   ]
  },
  {
   "cell_type": "markdown",
   "id": "affected-holly",
   "metadata": {},
   "source": [
    "## Activity:\n",
    "\n",
    "- Use regex for text data cleaning\n",
    "- Review tokenization, lower and join\n",
    "- Tokenization is the process of breaking up text into smaller units. Usually, this means breaking a string up into words."
   ]
  },
  {
   "cell_type": "code",
   "execution_count": null,
   "id": "international-exchange",
   "metadata": {},
   "outputs": [
    {
     "name": "stdout",
     "output_type": "stream",
     "text": [
      "['This', 'is', 'a', 'Book']\n"
     ]
    }
   ],
   "source": [
    "s = 'This is a Book'\n",
    "print(s.split())"
   ]
  },
  {
   "cell_type": "code",
   "execution_count": null,
   "id": "decimal-swing",
   "metadata": {},
   "outputs": [
    {
     "name": "stdout",
     "output_type": "stream",
     "text": [
      "['this', 'is', 'a', 'book']\n"
     ]
    }
   ],
   "source": [
    "print(s.lower().split())"
   ]
  },
  {
   "cell_type": "code",
   "execution_count": null,
   "id": "enhanced-edgar",
   "metadata": {},
   "outputs": [
    {
     "data": {
      "text/html": [
       "<div>\n",
       "<style scoped>\n",
       "    .dataframe tbody tr th:only-of-type {\n",
       "        vertical-align: middle;\n",
       "    }\n",
       "\n",
       "    .dataframe tbody tr th {\n",
       "        vertical-align: top;\n",
       "    }\n",
       "\n",
       "    .dataframe thead th {\n",
       "        text-align: right;\n",
       "    }\n",
       "</style>\n",
       "<table border=\"1\" class=\"dataframe\">\n",
       "  <thead>\n",
       "    <tr style=\"text-align: right;\">\n",
       "      <th></th>\n",
       "      <th>text</th>\n",
       "    </tr>\n",
       "  </thead>\n",
       "  <tbody>\n",
       "    <tr>\n",
       "      <th>0</th>\n",
       "      <td>THIS IS A TEST!</td>\n",
       "    </tr>\n",
       "    <tr>\n",
       "      <th>1</th>\n",
       "      <td>another test</td>\n",
       "    </tr>\n",
       "    <tr>\n",
       "      <th>2</th>\n",
       "      <td>JUS!*(*UDFLJ)</td>\n",
       "    </tr>\n",
       "  </tbody>\n",
       "</table>\n",
       "</div>"
      ],
      "text/plain": [
       "              text\n",
       "0  THIS IS A TEST!\n",
       "1     another test\n",
       "2    JUS!*(*UDFLJ)"
      ]
     },
     "execution_count": 18,
     "metadata": {},
     "output_type": "execute_result"
    }
   ],
   "source": [
    "import pandas as pd \n",
    "\n",
    "test_strs = ['THIS IS A TEST!', 'another test', 'JUS!*(*UDFLJ)']\n",
    "df = pd.DataFrame(test_strs, columns=['text'])\n",
    "df"
   ]
  },
  {
   "cell_type": "code",
   "execution_count": null,
   "id": "stretch-infection",
   "metadata": {},
   "outputs": [],
   "source": [
    "from nltk.corpus import stopwords\n",
    "import re\n",
    "\n",
    "def clean(x):\n",
    "    x = x.lower()\n",
    "    # remove anythings that are not character (\\w) and are not space (\\s) \n",
    "    x = re.sub(r'[^\\w\\s]', '', x)\n",
    "    stop = stopwords.words('english')\n",
    "    x = [word for word in x.split() if word not in stop]\n",
    "    print(x)\n",
    "    return \" \".join(x)"
   ]
  },
  {
   "cell_type": "code",
   "execution_count": null,
   "id": "median-ozone",
   "metadata": {},
   "outputs": [
    {
     "name": "stdout",
     "output_type": "stream",
     "text": [
      "['test']\n",
      "['another', 'test']\n",
      "['jusudflj']\n"
     ]
    }
   ],
   "source": [
    "df['new_text'] = df['text'].apply(lambda x: clean(x))"
   ]
  },
  {
   "cell_type": "code",
   "execution_count": null,
   "id": "hired-university",
   "metadata": {},
   "outputs": [
    {
     "data": {
      "text/html": [
       "<div>\n",
       "<style scoped>\n",
       "    .dataframe tbody tr th:only-of-type {\n",
       "        vertical-align: middle;\n",
       "    }\n",
       "\n",
       "    .dataframe tbody tr th {\n",
       "        vertical-align: top;\n",
       "    }\n",
       "\n",
       "    .dataframe thead th {\n",
       "        text-align: right;\n",
       "    }\n",
       "</style>\n",
       "<table border=\"1\" class=\"dataframe\">\n",
       "  <thead>\n",
       "    <tr style=\"text-align: right;\">\n",
       "      <th></th>\n",
       "      <th>text</th>\n",
       "      <th>new_text</th>\n",
       "    </tr>\n",
       "  </thead>\n",
       "  <tbody>\n",
       "    <tr>\n",
       "      <th>0</th>\n",
       "      <td>THIS IS A TEST!</td>\n",
       "      <td>test</td>\n",
       "    </tr>\n",
       "    <tr>\n",
       "      <th>1</th>\n",
       "      <td>another test</td>\n",
       "      <td>another test</td>\n",
       "    </tr>\n",
       "    <tr>\n",
       "      <th>2</th>\n",
       "      <td>JUS!*(*UDFLJ)</td>\n",
       "      <td>jusudflj</td>\n",
       "    </tr>\n",
       "  </tbody>\n",
       "</table>\n",
       "</div>"
      ],
      "text/plain": [
       "              text      new_text\n",
       "0  THIS IS A TEST!          test\n",
       "1     another test  another test\n",
       "2    JUS!*(*UDFLJ)      jusudflj"
      ]
     },
     "execution_count": 21,
     "metadata": {},
     "output_type": "execute_result"
    }
   ],
   "source": [
    "df"
   ]
  },
  {
   "cell_type": "code",
   "execution_count": 26,
   "id": "4a6337da",
   "metadata": {},
   "outputs": [
    {
     "name": "stderr",
     "output_type": "stream",
     "text": [
      "1037.50s - pydevd: Sending message related to process being replaced timed-out after 5 seconds\n"
     ]
    },
    {
     "name": "stdout",
     "output_type": "stream",
     "text": [
      "Collecting en-core-web-sm==3.5.0\n",
      "  Downloading https://github.com/explosion/spacy-models/releases/download/en_core_web_sm-3.5.0/en_core_web_sm-3.5.0-py3-none-any.whl (12.8 MB)\n",
      "\u001b[2K     \u001b[90m━━━━━━━━━━━━━━━━━━━━━━━━━━━━━━━━━━━━━━━━\u001b[0m \u001b[32m12.8/12.8 MB\u001b[0m \u001b[31m22.2 MB/s\u001b[0m eta \u001b[36m0:00:00\u001b[0m00:01\u001b[0m00:01\u001b[0m\n",
      "\u001b[?25hRequirement already satisfied: spacy<3.6.0,>=3.5.0 in /opt/homebrew/lib/python3.10/site-packages (from en-core-web-sm==3.5.0) (3.5.0)\n",
      "Requirement already satisfied: pathy>=0.10.0 in /opt/homebrew/lib/python3.10/site-packages (from spacy<3.6.0,>=3.5.0->en-core-web-sm==3.5.0) (0.10.1)\n",
      "Requirement already satisfied: preshed<3.1.0,>=3.0.2 in /opt/homebrew/lib/python3.10/site-packages (from spacy<3.6.0,>=3.5.0->en-core-web-sm==3.5.0) (3.0.8)\n",
      "Requirement already satisfied: murmurhash<1.1.0,>=0.28.0 in /opt/homebrew/lib/python3.10/site-packages (from spacy<3.6.0,>=3.5.0->en-core-web-sm==3.5.0) (1.0.9)\n",
      "Requirement already satisfied: jinja2 in /Users/rishabhsharma/Library/Python/3.10/lib/python/site-packages (from spacy<3.6.0,>=3.5.0->en-core-web-sm==3.5.0) (3.1.2)\n",
      "Requirement already satisfied: langcodes<4.0.0,>=3.2.0 in /opt/homebrew/lib/python3.10/site-packages (from spacy<3.6.0,>=3.5.0->en-core-web-sm==3.5.0) (3.3.0)\n",
      "Requirement already satisfied: thinc<8.2.0,>=8.1.0 in /opt/homebrew/lib/python3.10/site-packages (from spacy<3.6.0,>=3.5.0->en-core-web-sm==3.5.0) (8.1.7)\n",
      "Requirement already satisfied: cymem<2.1.0,>=2.0.2 in /opt/homebrew/lib/python3.10/site-packages (from spacy<3.6.0,>=3.5.0->en-core-web-sm==3.5.0) (2.0.7)\n",
      "Requirement already satisfied: tqdm<5.0.0,>=4.38.0 in /opt/homebrew/lib/python3.10/site-packages (from spacy<3.6.0,>=3.5.0->en-core-web-sm==3.5.0) (4.64.1)\n",
      "Requirement already satisfied: setuptools in /opt/homebrew/lib/python3.10/site-packages (from spacy<3.6.0,>=3.5.0->en-core-web-sm==3.5.0) (65.4.1)\n",
      "Requirement already satisfied: srsly<3.0.0,>=2.4.3 in /opt/homebrew/lib/python3.10/site-packages (from spacy<3.6.0,>=3.5.0->en-core-web-sm==3.5.0) (2.4.5)\n",
      "Requirement already satisfied: spacy-legacy<3.1.0,>=3.0.11 in /opt/homebrew/lib/python3.10/site-packages (from spacy<3.6.0,>=3.5.0->en-core-web-sm==3.5.0) (3.0.12)\n",
      "Requirement already satisfied: smart-open<7.0.0,>=5.2.1 in /opt/homebrew/lib/python3.10/site-packages (from spacy<3.6.0,>=3.5.0->en-core-web-sm==3.5.0) (6.3.0)\n",
      "Requirement already satisfied: spacy-loggers<2.0.0,>=1.0.0 in /opt/homebrew/lib/python3.10/site-packages (from spacy<3.6.0,>=3.5.0->en-core-web-sm==3.5.0) (1.0.4)\n",
      "Requirement already satisfied: pydantic!=1.8,!=1.8.1,<1.11.0,>=1.7.4 in /opt/homebrew/lib/python3.10/site-packages (from spacy<3.6.0,>=3.5.0->en-core-web-sm==3.5.0) (1.10.4)\n",
      "Requirement already satisfied: catalogue<2.1.0,>=2.0.6 in /opt/homebrew/lib/python3.10/site-packages (from spacy<3.6.0,>=3.5.0->en-core-web-sm==3.5.0) (2.0.8)\n",
      "Requirement already satisfied: packaging>=20.0 in /Users/rishabhsharma/Library/Python/3.10/lib/python/site-packages (from spacy<3.6.0,>=3.5.0->en-core-web-sm==3.5.0) (21.3)\n",
      "Requirement already satisfied: numpy>=1.15.0 in /opt/homebrew/lib/python3.10/site-packages (from spacy<3.6.0,>=3.5.0->en-core-web-sm==3.5.0) (1.23.3)\n",
      "Requirement already satisfied: requests<3.0.0,>=2.13.0 in /opt/homebrew/lib/python3.10/site-packages (from spacy<3.6.0,>=3.5.0->en-core-web-sm==3.5.0) (2.28.1)\n",
      "Requirement already satisfied: typer<0.8.0,>=0.3.0 in /opt/homebrew/lib/python3.10/site-packages (from spacy<3.6.0,>=3.5.0->en-core-web-sm==3.5.0) (0.7.0)\n",
      "Requirement already satisfied: wasabi<1.2.0,>=0.9.1 in /opt/homebrew/lib/python3.10/site-packages (from spacy<3.6.0,>=3.5.0->en-core-web-sm==3.5.0) (1.1.1)\n",
      "Requirement already satisfied: pyparsing!=3.0.5,>=2.0.2 in /Users/rishabhsharma/Library/Python/3.10/lib/python/site-packages (from packaging>=20.0->spacy<3.6.0,>=3.5.0->en-core-web-sm==3.5.0) (3.0.9)\n",
      "Requirement already satisfied: typing-extensions>=4.2.0 in /opt/homebrew/lib/python3.10/site-packages (from pydantic!=1.8,!=1.8.1,<1.11.0,>=1.7.4->spacy<3.6.0,>=3.5.0->en-core-web-sm==3.5.0) (4.4.0)\n",
      "Requirement already satisfied: certifi>=2017.4.17 in /opt/homebrew/lib/python3.10/site-packages (from requests<3.0.0,>=2.13.0->spacy<3.6.0,>=3.5.0->en-core-web-sm==3.5.0) (2022.9.24)\n",
      "Requirement already satisfied: charset-normalizer<3,>=2 in /opt/homebrew/lib/python3.10/site-packages (from requests<3.0.0,>=2.13.0->spacy<3.6.0,>=3.5.0->en-core-web-sm==3.5.0) (2.1.1)\n",
      "Requirement already satisfied: urllib3<1.27,>=1.21.1 in /opt/homebrew/lib/python3.10/site-packages (from requests<3.0.0,>=2.13.0->spacy<3.6.0,>=3.5.0->en-core-web-sm==3.5.0) (1.26.12)\n",
      "Requirement already satisfied: idna<4,>=2.5 in /opt/homebrew/lib/python3.10/site-packages (from requests<3.0.0,>=2.13.0->spacy<3.6.0,>=3.5.0->en-core-web-sm==3.5.0) (3.4)\n",
      "Requirement already satisfied: blis<0.8.0,>=0.7.8 in /opt/homebrew/lib/python3.10/site-packages (from thinc<8.2.0,>=8.1.0->spacy<3.6.0,>=3.5.0->en-core-web-sm==3.5.0) (0.7.9)\n",
      "Requirement already satisfied: confection<1.0.0,>=0.0.1 in /opt/homebrew/lib/python3.10/site-packages (from thinc<8.2.0,>=8.1.0->spacy<3.6.0,>=3.5.0->en-core-web-sm==3.5.0) (0.0.4)\n",
      "Requirement already satisfied: click<9.0.0,>=7.1.1 in /opt/homebrew/lib/python3.10/site-packages (from typer<0.8.0,>=0.3.0->spacy<3.6.0,>=3.5.0->en-core-web-sm==3.5.0) (8.1.3)\n",
      "Requirement already satisfied: MarkupSafe>=2.0 in /Users/rishabhsharma/Library/Python/3.10/lib/python/site-packages (from jinja2->spacy<3.6.0,>=3.5.0->en-core-web-sm==3.5.0) (2.1.1)\n",
      "\n",
      "\u001b[1m[\u001b[0m\u001b[34;49mnotice\u001b[0m\u001b[1;39;49m]\u001b[0m\u001b[39;49m A new release of pip available: \u001b[0m\u001b[31;49m22.2.2\u001b[0m\u001b[39;49m -> \u001b[0m\u001b[32;49m22.3.1\u001b[0m\n",
      "\u001b[1m[\u001b[0m\u001b[34;49mnotice\u001b[0m\u001b[1;39;49m]\u001b[0m\u001b[39;49m To update, run: \u001b[0m\u001b[32;49mpython3.10 -m pip install --upgrade pip\u001b[0m\n",
      "\u001b[38;5;2m✔ Download and installation successful\u001b[0m\n",
      "You can now load the package via spacy.load('en_core_web_sm')\n"
     ]
    }
   ],
   "source": [
    "!python3 -m spacy download en_core_web_sm"
   ]
  },
  {
   "cell_type": "code",
   "execution_count": 27,
   "id": "d447277e",
   "metadata": {},
   "outputs": [],
   "source": [
    "nlp = spacy.load('en_core_web_sm')"
   ]
  },
  {
   "cell_type": "code",
   "execution_count": 28,
   "id": "f1d4f551",
   "metadata": {},
   "outputs": [
    {
     "data": {
      "text/plain": [
       "<spacy.lang.en.English at 0x296261510>"
      ]
     },
     "execution_count": 28,
     "metadata": {},
     "output_type": "execute_result"
    }
   ],
   "source": [
    "nlp"
   ]
  },
  {
   "cell_type": "code",
   "execution_count": 29,
   "id": "22ce7b62",
   "metadata": {},
   "outputs": [],
   "source": [
    "intro_sentence = nlp(\"hello there my name is john elton and i am husband of wolf elton, we had 4 kids, my wife ate 2, now we have 2 kids\")"
   ]
  },
  {
   "cell_type": "code",
   "execution_count": 30,
   "id": "ee26058d",
   "metadata": {},
   "outputs": [
    {
     "data": {
      "text/plain": [
       "hello there my name is john elton and i am husband of wolf elton, we had 4 kids, my wife ate 2, now we have 2 kids"
      ]
     },
     "execution_count": 30,
     "metadata": {},
     "output_type": "execute_result"
    }
   ],
   "source": [
    "intro_sentence"
   ]
  },
  {
   "cell_type": "code",
   "execution_count": 32,
   "id": "c855a9d0",
   "metadata": {},
   "outputs": [],
   "source": [
    "a = [token.text for token in intro_sentence]"
   ]
  },
  {
   "cell_type": "code",
   "execution_count": null,
   "id": "5231a66d",
   "metadata": {},
   "outputs": [],
   "source": []
  }
 ],
 "metadata": {
  "kernelspec": {
   "display_name": "Python 3.10.8 64-bit",
   "language": "python",
   "name": "python3"
  },
  "language_info": {
   "codemirror_mode": {
    "name": "ipython",
    "version": 3
   },
   "file_extension": ".py",
   "mimetype": "text/x-python",
   "name": "python",
   "nbconvert_exporter": "python",
   "pygments_lexer": "ipython3",
   "version": "3.10.8"
  },
  "vscode": {
   "interpreter": {
    "hash": "b0fa6594d8f4cbf19f97940f81e996739fb7646882a419484c72d19e05852a7e"
   }
  }
 },
 "nbformat": 4,
 "nbformat_minor": 5
}
