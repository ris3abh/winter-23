{
 "cells": [
  {
   "cell_type": "code",
   "execution_count": 2,
   "id": "comprehensive-laundry",
   "metadata": {},
   "outputs": [
    {
     "name": "stdout",
     "output_type": "stream",
     "text": [
      "0 Counter({'dog': 1, 'bites': 1, 'man': 1})\n",
      "1 Counter({'man': 1, 'bites': 1, 'dog': 1})\n",
      "2 Counter({'dog': 1, 'eats': 1, 'meat': 1})\n",
      "3 Counter({'man': 1, 'eats': 1, 'food': 1})\n"
     ]
    }
   ],
   "source": [
    "import spacy\n",
    "from collections import Counter\n",
    "\n",
    "nlp = spacy.load(\"en_core_web_sm\")\n",
    "text = '''dog bites man. man bites dog. dog eats meat. man eats food.'''\n",
    "doc = nlp(text)\n",
    "\n",
    "for index, sent in enumerate(doc.sents):\n",
    "    sent_wo_punct = []\n",
    "    for word in sent:\n",
    "        if word.text not in ['.']:\n",
    "            sent_wo_punct.append(word.text)\n",
    "    print(index, Counter(sent_wo_punct))"
   ]
  },
  {
   "cell_type": "markdown",
   "id": "considerable-drinking",
   "metadata": {},
   "source": [
    "# obtain all the words"
   ]
  },
  {
   "cell_type": "code",
   "execution_count": null,
   "id": "irish-presence",
   "metadata": {},
   "outputs": [],
   "source": []
  }
 ],
 "metadata": {
  "kernelspec": {
   "display_name": "Python 3",
   "language": "python",
   "name": "python3"
  },
  "language_info": {
   "codemirror_mode": {
    "name": "ipython",
    "version": 3
   },
   "file_extension": ".py",
   "mimetype": "text/x-python",
   "name": "python",
   "nbconvert_exporter": "python",
   "pygments_lexer": "ipython3",
   "version": "3.6.5"
  }
 },
 "nbformat": 4,
 "nbformat_minor": 5
}
