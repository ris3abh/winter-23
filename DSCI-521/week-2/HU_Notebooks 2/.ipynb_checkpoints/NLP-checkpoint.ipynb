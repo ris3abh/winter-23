{
 "cells": [
  {
   "cell_type": "markdown",
   "id": "later-scale",
   "metadata": {},
   "source": [
    "## NLP in Python\n",
    "\n",
    "- There are two great NLP libraries in Python\n",
    "    - NLTK\n",
    "    - Spacy"
   ]
  },
  {
   "cell_type": "code",
   "execution_count": 5,
   "id": "employed-agriculture",
   "metadata": {},
   "outputs": [
    {
     "name": "stdout",
     "output_type": "stream",
     "text": [
      "Apple\t\tApple\t\tPROPN\t\tNNP\t\tnsubj\t\tXxxxx\t\tTrue\t\tFalse\n",
      "is\t\tbe\t\tAUX\t\tVBZ\t\taux\t\txx\t\tTrue\t\tTrue\n",
      "looking\t\tlook\t\tVERB\t\tVBG\t\tROOT\t\txxxx\t\tTrue\t\tFalse\n",
      "at\t\tat\t\tADP\t\tIN\t\tprep\t\txx\t\tTrue\t\tTrue\n",
      "buying\t\tbuy\t\tVERB\t\tVBG\t\tpcomp\t\txxxx\t\tTrue\t\tFalse\n",
      "U.K.\t\tU.K.\t\tPROPN\t\tNNP\t\tdobj\t\tX.X.\t\tFalse\t\tFalse\n",
      "startup\t\tstartup\t\tNOUN\t\tNN\t\tadvcl\t\txxxx\t\tTrue\t\tFalse\n",
      "for\t\tfor\t\tADP\t\tIN\t\tprep\t\txxx\t\tTrue\t\tTrue\n",
      "$\t\t$\t\tSYM\t\t$\t\tquantmod\t\t$\t\tFalse\t\tFalse\n",
      "1\t\t1\t\tNUM\t\tCD\t\tcompound\t\td\t\tFalse\t\tFalse\n",
      "billion\t\tbillion\t\tNUM\t\tCD\t\tpobj\t\txxxx\t\tTrue\t\tFalse\n"
     ]
    }
   ],
   "source": [
    "# python3 -m spacy download en_core_web_sm\n",
    "import spacy\n",
    "\n",
    "nlp = spacy.load(\"en_core_web_sm\")\n",
    "doc = nlp(\"Apple is looking at buying U.K. startup for $1 billion\")\n",
    "\n",
    "for token in doc:\n",
    "    print(token.text +  \"\\t\\t\" + token.lemma_ +  \"\\t\\t\" + token.pos_ +  \"\\t\\t\" + token.tag_ +  \"\\t\\t\" + token.dep_ +  \"\\t\\t\" + \n",
    "            token.shape_ +  \"\\t\\t\" + str(token.is_alpha) +  \"\\t\\t\" + str(token.is_stop))"
   ]
  },
  {
   "cell_type": "markdown",
   "id": "included-equation",
   "metadata": {},
   "source": [
    "## Typed Dependency Relations\n",
    "\n",
    "- Words in a sentence have certain grammatical dependency relations"
   ]
  },
  {
   "cell_type": "code",
   "execution_count": 4,
   "id": "signed-union",
   "metadata": {},
   "outputs": [
    {
     "name": "stdout",
     "output_type": "stream",
     "text": [
      "It\t\tnsubj\n",
      "was\t\tROOT\n",
      "incredibly\t\tadvmod\n",
      "easy\t\tacomp\n",
      "to\t\taux\n",
      "set\t\txcomp\n",
      "up\t\tprt\n",
      "and\t\tcc\n",
      "use\t\tconj\n"
     ]
    }
   ],
   "source": [
    "doc = nlp(\"It was incredibly easy to set up and use\")\n",
    "\n",
    "for token in doc:\n",
    "    print(token.text + \"\\t\\t\" + token.dep_)"
   ]
  },
  {
   "cell_type": "markdown",
   "id": "golden-briefs",
   "metadata": {},
   "source": [
    "## Named Entity Recognition (NER) in Spacy"
   ]
  },
  {
   "cell_type": "code",
   "execution_count": 148,
   "id": "coated-fluid",
   "metadata": {},
   "outputs": [
    {
     "name": "stdout",
     "output_type": "stream",
     "text": [
      "Apple\t\tORG\n",
      "U.K.\t\tGPE\n",
      "$1 billion\t\tMONEY\n"
     ]
    }
   ],
   "source": [
    "nlp = spacy.load(\"en_core_web_sm\")\n",
    "doc = nlp(\"Apple is looking at buying U.K. startup for $1 billion\")\n",
    "\n",
    "for ent in doc.ents:\n",
    "    print(ent.text +  \"\\t\\t\"  + ent.label_)"
   ]
  },
  {
   "cell_type": "code",
   "execution_count": 130,
   "id": "communist-legislature",
   "metadata": {},
   "outputs": [
    {
     "name": "stdout",
     "output_type": "stream",
     "text": [
      "token\t\thead\t\tchildren\n",
      "I\t\tlike\t\t []\n",
      "like\t\tlike\t\t [I, work, .]\n",
      "to\t\twork\t\t []\n",
      "work\t\tlike\t\t [to, on]\n",
      "on\t\twork\t\t [projects]\n",
      "NLP\t\tprojects\t\t []\n",
      "projects\t\ton\t\t [NLP]\n",
      ".\t\tlike\t\t []\n"
     ]
    }
   ],
   "source": [
    "# python3 -m spacy download en_core_web_sm\n",
    "import spacy\n",
    "\n",
    "nlp = spacy.load(\"en_core_web_sm\")\n",
    "\n",
    "ez_sentence = \"I like to work on NLP projects.\"\n",
    "doc = nlp(ez_sentence)\n",
    "\n",
    "print(\"token\\t\\thead\\t\\tchildren\")\n",
    "for token in doc:\n",
    "    print(token.text + \"\\t\\t\" + token.head.text + \"\\t\\t\", list(token.children))"
   ]
  },
  {
   "cell_type": "code",
   "execution_count": 46,
   "id": "regulated-popularity",
   "metadata": {},
   "outputs": [
    {
     "name": "stdout",
     "output_type": "stream",
     "text": [
      "{'text': 'I like to work on NLP projects.', 'ents': [{'start': 18, 'end': 21, 'label': 'ORG'}], 'sents': [{'start': 0, 'end': 31}], 'tokens': [{'id': 0, 'start': 0, 'end': 1, 'tag': 'PRP', 'pos': 'PRON', 'morph': 'Case=Nom|Number=Sing|Person=1|PronType=Prs', 'lemma': 'I', 'dep': 'nsubj', 'head': 1}, {'id': 1, 'start': 2, 'end': 6, 'tag': 'VBP', 'pos': 'VERB', 'morph': 'Tense=Pres|VerbForm=Fin', 'lemma': 'like', 'dep': 'ROOT', 'head': 1}, {'id': 2, 'start': 7, 'end': 9, 'tag': 'TO', 'pos': 'PART', 'morph': '', 'lemma': 'to', 'dep': 'aux', 'head': 3}, {'id': 3, 'start': 10, 'end': 14, 'tag': 'VB', 'pos': 'VERB', 'morph': 'VerbForm=Inf', 'lemma': 'work', 'dep': 'xcomp', 'head': 1}, {'id': 4, 'start': 15, 'end': 17, 'tag': 'IN', 'pos': 'ADP', 'morph': '', 'lemma': 'on', 'dep': 'prep', 'head': 3}, {'id': 5, 'start': 18, 'end': 21, 'tag': 'NNP', 'pos': 'PROPN', 'morph': 'NounType=Prop|Number=Sing', 'lemma': 'NLP', 'dep': 'compound', 'head': 6}, {'id': 6, 'start': 22, 'end': 30, 'tag': 'NNS', 'pos': 'NOUN', 'morph': 'Number=Plur', 'lemma': 'project', 'dep': 'pobj', 'head': 4}, {'id': 7, 'start': 30, 'end': 31, 'tag': '.', 'pos': 'PUNCT', 'morph': 'PunctType=Peri', 'lemma': '.', 'dep': 'punct', 'head': 1}]}\n"
     ]
    }
   ],
   "source": [
    "print(doc.to_json())"
   ]
  },
  {
   "cell_type": "code",
   "execution_count": 50,
   "id": "worst-athletics",
   "metadata": {},
   "outputs": [
    {
     "name": "stdout",
     "output_type": "stream",
     "text": [
      "token\t\tlemma\n",
      "I\t\tI\t\tPRON\n",
      "like\t\tlike\t\tVERB\n",
      "to\t\tto\t\tPART\n",
      "work\t\twork\t\tVERB\n",
      "on\t\ton\t\tADP\n",
      "NLP\t\tNLP\t\tPROPN\n",
      "projects\t\tproject\t\tNOUN\n",
      ".\t\t.\t\tPUNCT\n"
     ]
    }
   ],
   "source": [
    "print(\"token\\t\\tlemma\")\n",
    "for token in doc:\n",
    "    print(token.text + \"\\t\\t\" + token.lemma_+ \"\\t\\t\" + token.pos_)"
   ]
  },
  {
   "cell_type": "code",
   "execution_count": 47,
   "id": "terminal-latest",
   "metadata": {},
   "outputs": [
    {
     "name": "stdout",
     "output_type": "stream",
     "text": [
      "token\t\thead\t\tdependency\n",
      "I\t\tlike\t\t nsubj\n",
      "like\t\tlike\t\t ROOT\n",
      "to\t\twork\t\t aux\n",
      "work\t\tlike\t\t xcomp\n",
      "on\t\twork\t\t prep\n",
      "NLP\t\tprojects\t\t compound\n",
      "projects\t\ton\t\t pobj\n",
      ".\t\tlike\t\t punct\n"
     ]
    }
   ],
   "source": [
    "print(\"token\\t\\thead\\t\\tdependency\")\n",
    "for token in doc:\n",
    "    print(token.text + \"\\t\\t\" + token.head.text + \"\\t\\t\", token.dep_)"
   ]
  },
  {
   "cell_type": "markdown",
   "id": "suited-deposit",
   "metadata": {},
   "source": [
    "## Dependency Relations Visualization"
   ]
  },
  {
   "cell_type": "code",
   "execution_count": 34,
   "id": "multiple-luxembourg",
   "metadata": {},
   "outputs": [
    {
     "name": "stderr",
     "output_type": "stream",
     "text": [
      "/Users/miladtoutounchian/anaconda3/lib/python3.6/site-packages/spacy/displacy/__init__.py:97: UserWarning: [W011] It looks like you're calling displacy.serve from within a Jupyter notebook or a similar environment. This likely means you're already running a local web server, so there's no need to make displaCy start another one. Instead, you should be able to replace displacy.serve with displacy.render to show the visualization.\n",
      "  warnings.warn(Warnings.W011)\n"
     ]
    },
    {
     "data": {
      "text/html": [
       "<span class=\"tex2jax_ignore\"><!DOCTYPE html>\n",
       "<html lang=\"en\">\n",
       "    <head>\n",
       "        <title>displaCy</title>\n",
       "    </head>\n",
       "\n",
       "    <body style=\"font-size: 16px; font-family: -apple-system, BlinkMacSystemFont, 'Segoe UI', Helvetica, Arial, sans-serif, 'Apple Color Emoji', 'Segoe UI Emoji', 'Segoe UI Symbol'; padding: 4rem 2rem; direction: ltr\">\n",
       "<figure style=\"margin-bottom: 6rem\">\n",
       "<svg xmlns=\"http://www.w3.org/2000/svg\" xmlns:xlink=\"http://www.w3.org/1999/xlink\" xml:lang=\"en\" id=\"53a8d40426374859aef7b5aaca25c346-0\" class=\"displacy\" width=\"1275\" height=\"312.0\" direction=\"ltr\" style=\"max-width: none; height: 312.0px; color: #000000; background: #ffffff; font-family: Arial; direction: ltr\">\n",
       "<text class=\"displacy-token\" fill=\"currentColor\" text-anchor=\"middle\" y=\"222.0\">\n",
       "    <tspan class=\"displacy-word\" fill=\"currentColor\" x=\"50\">I</tspan>\n",
       "    <tspan class=\"displacy-tag\" dy=\"2em\" fill=\"currentColor\" x=\"50\">PRON</tspan>\n",
       "</text>\n",
       "\n",
       "<text class=\"displacy-token\" fill=\"currentColor\" text-anchor=\"middle\" y=\"222.0\">\n",
       "    <tspan class=\"displacy-word\" fill=\"currentColor\" x=\"225\">like</tspan>\n",
       "    <tspan class=\"displacy-tag\" dy=\"2em\" fill=\"currentColor\" x=\"225\">VERB</tspan>\n",
       "</text>\n",
       "\n",
       "<text class=\"displacy-token\" fill=\"currentColor\" text-anchor=\"middle\" y=\"222.0\">\n",
       "    <tspan class=\"displacy-word\" fill=\"currentColor\" x=\"400\">to</tspan>\n",
       "    <tspan class=\"displacy-tag\" dy=\"2em\" fill=\"currentColor\" x=\"400\">PART</tspan>\n",
       "</text>\n",
       "\n",
       "<text class=\"displacy-token\" fill=\"currentColor\" text-anchor=\"middle\" y=\"222.0\">\n",
       "    <tspan class=\"displacy-word\" fill=\"currentColor\" x=\"575\">work</tspan>\n",
       "    <tspan class=\"displacy-tag\" dy=\"2em\" fill=\"currentColor\" x=\"575\">VERB</tspan>\n",
       "</text>\n",
       "\n",
       "<text class=\"displacy-token\" fill=\"currentColor\" text-anchor=\"middle\" y=\"222.0\">\n",
       "    <tspan class=\"displacy-word\" fill=\"currentColor\" x=\"750\">on</tspan>\n",
       "    <tspan class=\"displacy-tag\" dy=\"2em\" fill=\"currentColor\" x=\"750\">ADP</tspan>\n",
       "</text>\n",
       "\n",
       "<text class=\"displacy-token\" fill=\"currentColor\" text-anchor=\"middle\" y=\"222.0\">\n",
       "    <tspan class=\"displacy-word\" fill=\"currentColor\" x=\"925\">NLP</tspan>\n",
       "    <tspan class=\"displacy-tag\" dy=\"2em\" fill=\"currentColor\" x=\"925\">PROPN</tspan>\n",
       "</text>\n",
       "\n",
       "<text class=\"displacy-token\" fill=\"currentColor\" text-anchor=\"middle\" y=\"222.0\">\n",
       "    <tspan class=\"displacy-word\" fill=\"currentColor\" x=\"1100\">projects.</tspan>\n",
       "    <tspan class=\"displacy-tag\" dy=\"2em\" fill=\"currentColor\" x=\"1100\">NOUN</tspan>\n",
       "</text>\n",
       "\n",
       "<g class=\"displacy-arrow\">\n",
       "    <path class=\"displacy-arc\" id=\"arrow-53a8d40426374859aef7b5aaca25c346-0-0\" stroke-width=\"2px\" d=\"M70,177.0 C70,89.5 220.0,89.5 220.0,177.0\" fill=\"none\" stroke=\"currentColor\"/>\n",
       "    <text dy=\"1.25em\" style=\"font-size: 0.8em; letter-spacing: 1px\">\n",
       "        <textPath xlink:href=\"#arrow-53a8d40426374859aef7b5aaca25c346-0-0\" class=\"displacy-label\" startOffset=\"50%\" side=\"left\" fill=\"currentColor\" text-anchor=\"middle\">nsubj</textPath>\n",
       "    </text>\n",
       "    <path class=\"displacy-arrowhead\" d=\"M70,179.0 L62,167.0 78,167.0\" fill=\"currentColor\"/>\n",
       "</g>\n",
       "\n",
       "<g class=\"displacy-arrow\">\n",
       "    <path class=\"displacy-arc\" id=\"arrow-53a8d40426374859aef7b5aaca25c346-0-1\" stroke-width=\"2px\" d=\"M420,177.0 C420,89.5 570.0,89.5 570.0,177.0\" fill=\"none\" stroke=\"currentColor\"/>\n",
       "    <text dy=\"1.25em\" style=\"font-size: 0.8em; letter-spacing: 1px\">\n",
       "        <textPath xlink:href=\"#arrow-53a8d40426374859aef7b5aaca25c346-0-1\" class=\"displacy-label\" startOffset=\"50%\" side=\"left\" fill=\"currentColor\" text-anchor=\"middle\">aux</textPath>\n",
       "    </text>\n",
       "    <path class=\"displacy-arrowhead\" d=\"M420,179.0 L412,167.0 428,167.0\" fill=\"currentColor\"/>\n",
       "</g>\n",
       "\n",
       "<g class=\"displacy-arrow\">\n",
       "    <path class=\"displacy-arc\" id=\"arrow-53a8d40426374859aef7b5aaca25c346-0-2\" stroke-width=\"2px\" d=\"M245,177.0 C245,2.0 575.0,2.0 575.0,177.0\" fill=\"none\" stroke=\"currentColor\"/>\n",
       "    <text dy=\"1.25em\" style=\"font-size: 0.8em; letter-spacing: 1px\">\n",
       "        <textPath xlink:href=\"#arrow-53a8d40426374859aef7b5aaca25c346-0-2\" class=\"displacy-label\" startOffset=\"50%\" side=\"left\" fill=\"currentColor\" text-anchor=\"middle\">xcomp</textPath>\n",
       "    </text>\n",
       "    <path class=\"displacy-arrowhead\" d=\"M575.0,179.0 L583.0,167.0 567.0,167.0\" fill=\"currentColor\"/>\n",
       "</g>\n",
       "\n",
       "<g class=\"displacy-arrow\">\n",
       "    <path class=\"displacy-arc\" id=\"arrow-53a8d40426374859aef7b5aaca25c346-0-3\" stroke-width=\"2px\" d=\"M595,177.0 C595,89.5 745.0,89.5 745.0,177.0\" fill=\"none\" stroke=\"currentColor\"/>\n",
       "    <text dy=\"1.25em\" style=\"font-size: 0.8em; letter-spacing: 1px\">\n",
       "        <textPath xlink:href=\"#arrow-53a8d40426374859aef7b5aaca25c346-0-3\" class=\"displacy-label\" startOffset=\"50%\" side=\"left\" fill=\"currentColor\" text-anchor=\"middle\">prep</textPath>\n",
       "    </text>\n",
       "    <path class=\"displacy-arrowhead\" d=\"M745.0,179.0 L753.0,167.0 737.0,167.0\" fill=\"currentColor\"/>\n",
       "</g>\n",
       "\n",
       "<g class=\"displacy-arrow\">\n",
       "    <path class=\"displacy-arc\" id=\"arrow-53a8d40426374859aef7b5aaca25c346-0-4\" stroke-width=\"2px\" d=\"M945,177.0 C945,89.5 1095.0,89.5 1095.0,177.0\" fill=\"none\" stroke=\"currentColor\"/>\n",
       "    <text dy=\"1.25em\" style=\"font-size: 0.8em; letter-spacing: 1px\">\n",
       "        <textPath xlink:href=\"#arrow-53a8d40426374859aef7b5aaca25c346-0-4\" class=\"displacy-label\" startOffset=\"50%\" side=\"left\" fill=\"currentColor\" text-anchor=\"middle\">compound</textPath>\n",
       "    </text>\n",
       "    <path class=\"displacy-arrowhead\" d=\"M945,179.0 L937,167.0 953,167.0\" fill=\"currentColor\"/>\n",
       "</g>\n",
       "\n",
       "<g class=\"displacy-arrow\">\n",
       "    <path class=\"displacy-arc\" id=\"arrow-53a8d40426374859aef7b5aaca25c346-0-5\" stroke-width=\"2px\" d=\"M770,177.0 C770,2.0 1100.0,2.0 1100.0,177.0\" fill=\"none\" stroke=\"currentColor\"/>\n",
       "    <text dy=\"1.25em\" style=\"font-size: 0.8em; letter-spacing: 1px\">\n",
       "        <textPath xlink:href=\"#arrow-53a8d40426374859aef7b5aaca25c346-0-5\" class=\"displacy-label\" startOffset=\"50%\" side=\"left\" fill=\"currentColor\" text-anchor=\"middle\">pobj</textPath>\n",
       "    </text>\n",
       "    <path class=\"displacy-arrowhead\" d=\"M1100.0,179.0 L1108.0,167.0 1092.0,167.0\" fill=\"currentColor\"/>\n",
       "</g>\n",
       "</svg>\n",
       "</figure>\n",
       "</body>\n",
       "</html></span>"
      ],
      "text/plain": [
       "<IPython.core.display.HTML object>"
      ]
     },
     "metadata": {},
     "output_type": "display_data"
    },
    {
     "name": "stdout",
     "output_type": "stream",
     "text": [
      "\n",
      "Using the 'dep' visualizer\n",
      "Serving on http://0.0.0.0:5000 ...\n",
      "\n"
     ]
    },
    {
     "name": "stderr",
     "output_type": "stream",
     "text": [
      "127.0.0.1 - - [21/Jun/2021 10:45:40] \"GET / HTTP/1.1\" 200 5885\n",
      "127.0.0.1 - - [21/Jun/2021 10:45:40] \"GET /favicon.ico HTTP/1.1\" 200 5885\n"
     ]
    },
    {
     "name": "stdout",
     "output_type": "stream",
     "text": [
      "Shutting down server on port 5000.\n"
     ]
    }
   ],
   "source": [
    "# from spacy import displacy\n",
    "\n",
    "# displacy.serve(doc, style='dep')"
   ]
  },
  {
   "cell_type": "code",
   "execution_count": 52,
   "id": "black-birth",
   "metadata": {},
   "outputs": [
    {
     "data": {
      "text/plain": [
       "['I like to work on NLP projects.']"
      ]
     },
     "execution_count": 52,
     "metadata": {},
     "output_type": "execute_result"
    }
   ],
   "source": [
    "list(map(str, doc.sents))"
   ]
  },
  {
   "cell_type": "code",
   "execution_count": 56,
   "id": "alert-polyester",
   "metadata": {},
   "outputs": [
    {
     "data": {
      "text/plain": [
       "'particle'"
      ]
     },
     "execution_count": 56,
     "metadata": {},
     "output_type": "execute_result"
    }
   ],
   "source": [
    "spacy.explain(\"PART\")"
   ]
  },
  {
   "cell_type": "code",
   "execution_count": 57,
   "id": "loved-glory",
   "metadata": {},
   "outputs": [
    {
     "data": {
      "text/plain": [
       "'adposition'"
      ]
     },
     "execution_count": 57,
     "metadata": {},
     "output_type": "execute_result"
    }
   ],
   "source": [
    "spacy.explain(\"ADP\")"
   ]
  },
  {
   "cell_type": "code",
   "execution_count": 60,
   "id": "dutch-obligation",
   "metadata": {},
   "outputs": [
    {
     "data": {
      "text/plain": [
       "'proper noun'"
      ]
     },
     "execution_count": 60,
     "metadata": {},
     "output_type": "execute_result"
    }
   ],
   "source": [
    "spacy.explain(\"PROPN\")"
   ]
  },
  {
   "cell_type": "code",
   "execution_count": 61,
   "id": "further-chosen",
   "metadata": {},
   "outputs": [
    {
     "data": {
      "text/plain": [
       "'pronoun'"
      ]
     },
     "execution_count": 61,
     "metadata": {},
     "output_type": "execute_result"
    }
   ],
   "source": [
    "spacy.explain(\"PRON\")"
   ]
  },
  {
   "cell_type": "code",
   "execution_count": 62,
   "id": "comic-restoration",
   "metadata": {},
   "outputs": [
    {
     "data": {
      "text/plain": [
       "'nominal subject'"
      ]
     },
     "execution_count": 62,
     "metadata": {},
     "output_type": "execute_result"
    }
   ],
   "source": [
    "spacy.explain('nsubj')"
   ]
  },
  {
   "cell_type": "code",
   "execution_count": 63,
   "id": "registered-annotation",
   "metadata": {},
   "outputs": [
    {
     "data": {
      "text/plain": [
       "'open clausal complement'"
      ]
     },
     "execution_count": 63,
     "metadata": {},
     "output_type": "execute_result"
    }
   ],
   "source": [
    "spacy.explain('xcomp')"
   ]
  },
  {
   "cell_type": "markdown",
   "id": "desirable-holocaust",
   "metadata": {},
   "source": [
    "## Activity: Obtain all nouns in a given doc"
   ]
  },
  {
   "cell_type": "code",
   "execution_count": 76,
   "id": "empirical-repository",
   "metadata": {},
   "outputs": [
    {
     "name": "stdout",
     "output_type": "stream",
     "text": [
      "test\n",
      "sentences\n"
     ]
    }
   ],
   "source": [
    "running_sentence = \"Use some of our test sentences; Joey's not very smart, nor charming.\"\n",
    "doc = nlp(running_sentence)\n",
    "\n",
    "for token in doc:\n",
    "    if token.pos_ == \"NOUN\":\n",
    "        print(token.text)"
   ]
  },
  {
   "cell_type": "markdown",
   "id": "constitutional-springer",
   "metadata": {},
   "source": [
    "## Activity: Obtain all adjectives in a given doc"
   ]
  },
  {
   "cell_type": "code",
   "execution_count": 78,
   "id": "incorrect-strategy",
   "metadata": {},
   "outputs": [
    {
     "name": "stdout",
     "output_type": "stream",
     "text": [
      "smart\n",
      "charming\n"
     ]
    }
   ],
   "source": [
    "running_sentence = \"Use some of our test sentences; Joey's not very smart, nor charming.\"\n",
    "doc = nlp(running_sentence)\n",
    "\n",
    "for token in doc:\n",
    "    if token.pos_ == \"ADJ\":\n",
    "        print(token.text)"
   ]
  },
  {
   "cell_type": "markdown",
   "id": "different-bedroom",
   "metadata": {},
   "source": [
    "## Compare two docs similarities"
   ]
  },
  {
   "cell_type": "code",
   "execution_count": 64,
   "id": "comprehensive-tuning",
   "metadata": {},
   "outputs": [
    {
     "name": "stderr",
     "output_type": "stream",
     "text": [
      "/Users/miladtoutounchian/anaconda3/lib/python3.6/site-packages/ipykernel_launcher.py:3: UserWarning: [W007] The model you're using has no word vectors loaded, so the result of the Doc.similarity method will be based on the tagger, parser and NER, which may not give useful similarity judgements. This may happen if you're using one of the small models, e.g. `en_core_web_sm`, which don't ship with word vectors and only use context-sensitive tensors. You can always add your own word vectors, or use one of the larger models instead if available.\n",
      "  This is separate from the ipykernel package so we can avoid doing imports until\n"
     ]
    },
    {
     "data": {
      "text/plain": [
       "0.925736944702134"
      ]
     },
     "execution_count": 64,
     "metadata": {},
     "output_type": "execute_result"
    }
   ],
   "source": [
    "doc1 = nlp(\"I like cats\")\n",
    "doc2 = nlp(\"I like dogs\")\n",
    "doc1.similarity(doc2)"
   ]
  },
  {
   "cell_type": "code",
   "execution_count": 66,
   "id": "rubber-reminder",
   "metadata": {},
   "outputs": [
    {
     "name": "stdout",
     "output_type": "stream",
     "text": [
      "I\n",
      "I\n"
     ]
    }
   ],
   "source": [
    "print(doc1[0])\n",
    "print(doc2[0])"
   ]
  },
  {
   "cell_type": "code",
   "execution_count": 65,
   "id": "departmental-gender",
   "metadata": {},
   "outputs": [
    {
     "data": {
      "text/plain": [
       "1.0"
      ]
     },
     "execution_count": 65,
     "metadata": {},
     "output_type": "execute_result"
    }
   ],
   "source": [
    "doc1[0].similarity(doc2[0])"
   ]
  },
  {
   "cell_type": "code",
   "execution_count": 71,
   "id": "mounted-cartridge",
   "metadata": {},
   "outputs": [
    {
     "data": {
      "text/plain": [
       "array([ 0.7234746 ,  0.38154346,  0.66175425,  0.7835334 , -0.08129972,\n",
       "        0.8285754 ,  0.30813095, -0.6761173 , -0.48376414, -0.4713223 ,\n",
       "       -0.7022138 , -0.2862827 ,  0.8272269 ,  0.30487955, -0.02827258,\n",
       "       -0.35199   ,  2.1878786 , -0.5114093 ,  1.4417213 ,  0.02294272,\n",
       "        1.0511227 ,  1.9509596 , -0.53758466,  1.0180392 ,  1.7537245 ,\n",
       "        0.5439365 , -0.12415107, -0.7842591 ,  0.11994658, -0.1651625 ,\n",
       "        1.185293  , -0.80969834,  0.09500918,  0.8644767 ,  0.8298837 ,\n",
       "       -0.34343302, -0.57643485, -0.08808553,  1.0751209 , -0.8416685 ,\n",
       "       -0.8024647 , -0.6332845 ,  0.3363381 ,  0.57827204,  0.17947425,\n",
       "        0.05619171,  0.03974978, -0.3117528 ,  0.21147938, -0.1747675 ,\n",
       "       -0.5122521 , -1.0206125 , -0.8476414 , -0.5519779 , -0.13225076,\n",
       "       -0.98096585, -0.28991407, -0.3955323 ,  0.31543267, -0.141415  ,\n",
       "       -0.4099917 , -0.7666892 , -0.6018261 , -0.3410501 , -0.997912  ,\n",
       "       -0.5727545 , -1.1035743 , -0.3857379 , -0.55139315, -0.17009076,\n",
       "        1.0637262 , -0.8839762 , -0.4863201 ,  0.3327626 , -0.05285231,\n",
       "        2.001736  , -0.40152407, -0.5362591 , -0.924594  ,  0.34254527,\n",
       "        1.0967395 ,  0.03346492, -0.760619  , -0.35349965,  0.24685974,\n",
       "        0.23538   ,  0.33958694, -1.1342791 , -0.29898417, -1.1147962 ,\n",
       "       -0.23147723,  0.932821  , -1.2180455 , -0.39053577,  0.6117994 ,\n",
       "       -0.5552336 ], dtype=float32)"
      ]
     },
     "execution_count": 71,
     "metadata": {},
     "output_type": "execute_result"
    }
   ],
   "source": [
    "doc1[0].vector"
   ]
  },
  {
   "cell_type": "code",
   "execution_count": 72,
   "id": "gorgeous-devil",
   "metadata": {},
   "outputs": [
    {
     "data": {
      "text/plain": [
       "96"
      ]
     },
     "execution_count": 72,
     "metadata": {},
     "output_type": "execute_result"
    }
   ],
   "source": [
    "len(doc1[0].vector)"
   ]
  },
  {
   "cell_type": "code",
   "execution_count": 75,
   "id": "virgin-paint",
   "metadata": {},
   "outputs": [
    {
     "data": {
      "text/plain": [
       "array([ 0.65953344,  0.20457071, -0.2168029 , -0.0663239 , -0.02564881,\n",
       "        1.1735222 ,  0.5488158 , -0.6949029 , -0.4826446 , -0.4281449 ,\n",
       "       -0.53467286, -0.17537081,  0.01190096, -0.21929957,  0.40536675,\n",
       "        0.16490836,  1.2217817 , -0.95645934,  0.10238484,  0.15352367,\n",
       "        0.35413232,  0.17164588, -0.3990942 ,  1.0606269 ,  0.35469282,\n",
       "        0.276727  ,  0.30499485, -0.46575412,  0.3559837 ,  0.38793695,\n",
       "       -0.45595416, -0.5019067 , -0.28663364,  0.70636016,  0.04505293,\n",
       "        0.00191317, -0.20185769, -0.14363174,  0.65396357,  0.23927905,\n",
       "       -0.09493562, -0.39411843, -0.41607657,  0.7398642 ,  0.9191839 ,\n",
       "       -0.16872291,  0.4406608 , -0.11798272,  0.10440584,  0.02230643,\n",
       "       -0.64892036, -0.2050776 ,  0.06356782, -0.09158478,  0.85268706,\n",
       "       -0.9675676 ,  0.1344917 , -0.5549603 ,  0.51177484,  0.12765697,\n",
       "       -0.34897205, -0.9882657 ,  0.03326197, -0.24359477, -0.21692814,\n",
       "        0.27825445, -0.37806988, -0.73021287, -0.54079616, -0.23151477,\n",
       "        0.6422853 , -0.99968576, -0.50906974, -0.17610465, -0.21861447,\n",
       "        0.74555784, -0.10604304, -0.38135862, -0.934726  ,  0.4653096 ,\n",
       "        0.857596  , -0.62276167,  0.02903241,  0.15115811, -0.404816  ,\n",
       "       -0.359223  ,  0.31264544, -0.14040391, -0.14349036, -0.90499026,\n",
       "       -0.25149444,  0.79490167, -0.54100275, -0.3063654 ,  0.2079343 ,\n",
       "       -0.14990091], dtype=float32)"
      ]
     },
     "execution_count": 75,
     "metadata": {},
     "output_type": "execute_result"
    }
   ],
   "source": [
    "(doc1[0].vector + doc1[1].vector + doc1[2].vector)/3"
   ]
  },
  {
   "cell_type": "code",
   "execution_count": 74,
   "id": "acknowledged-photographer",
   "metadata": {},
   "outputs": [
    {
     "data": {
      "text/plain": [
       "array([ 0.65953344,  0.20457071, -0.2168029 , -0.0663239 , -0.02564881,\n",
       "        1.1735222 ,  0.5488158 , -0.6949029 , -0.4826446 , -0.4281449 ,\n",
       "       -0.53467286, -0.17537081,  0.01190096, -0.21929957,  0.40536675,\n",
       "        0.16490836,  1.2217817 , -0.95645934,  0.10238484,  0.15352367,\n",
       "        0.35413232,  0.17164588, -0.3990942 ,  1.0606269 ,  0.35469282,\n",
       "        0.276727  ,  0.30499485, -0.46575412,  0.3559837 ,  0.38793695,\n",
       "       -0.45595416, -0.5019067 , -0.28663364,  0.70636016,  0.04505293,\n",
       "        0.00191317, -0.20185769, -0.14363174,  0.65396357,  0.23927905,\n",
       "       -0.09493562, -0.39411843, -0.41607657,  0.7398642 ,  0.9191839 ,\n",
       "       -0.16872291,  0.4406608 , -0.11798272,  0.10440584,  0.02230643,\n",
       "       -0.64892036, -0.2050776 ,  0.06356782, -0.09158478,  0.85268706,\n",
       "       -0.9675676 ,  0.1344917 , -0.5549603 ,  0.51177484,  0.12765697,\n",
       "       -0.34897205, -0.9882657 ,  0.03326197, -0.24359477, -0.21692814,\n",
       "        0.27825445, -0.37806988, -0.73021287, -0.54079616, -0.23151477,\n",
       "        0.6422853 , -0.99968576, -0.50906974, -0.17610465, -0.21861447,\n",
       "        0.74555784, -0.10604304, -0.38135862, -0.934726  ,  0.4653096 ,\n",
       "        0.857596  , -0.62276167,  0.02903241,  0.15115811, -0.404816  ,\n",
       "       -0.359223  ,  0.31264544, -0.14040391, -0.14349036, -0.90499026,\n",
       "       -0.25149444,  0.79490167, -0.54100275, -0.3063654 ,  0.2079343 ,\n",
       "       -0.14990091], dtype=float32)"
      ]
     },
     "execution_count": 74,
     "metadata": {},
     "output_type": "execute_result"
    }
   ],
   "source": [
    "doc1.vector"
   ]
  },
  {
   "cell_type": "markdown",
   "id": "induced-train",
   "metadata": {},
   "source": [
    "## Stemming and lemmatization\n",
    "\n",
    "- https://stackabuse.com/python-for-nlp-tokenization-stemming-and-lemmatization-with-spacy-library"
   ]
  },
  {
   "cell_type": "markdown",
   "id": "alert-gambling",
   "metadata": {},
   "source": [
    "# References:\n",
    "\n",
    "- https://github.com/explosion/spaCy/blob/master/spacy/glossary.py"
   ]
  }
 ],
 "metadata": {
  "kernelspec": {
   "display_name": "Python 3",
   "language": "python",
   "name": "python3"
  },
  "language_info": {
   "codemirror_mode": {
    "name": "ipython",
    "version": 3
   },
   "file_extension": ".py",
   "mimetype": "text/x-python",
   "name": "python",
   "nbconvert_exporter": "python",
   "pygments_lexer": "ipython3",
   "version": "3.6.5"
  }
 },
 "nbformat": 4,
 "nbformat_minor": 5
}
