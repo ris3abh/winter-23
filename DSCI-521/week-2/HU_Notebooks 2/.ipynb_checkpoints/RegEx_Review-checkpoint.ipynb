{
 "cells": [
  {
   "cell_type": "markdown",
   "id": "assigned-obligation",
   "metadata": {},
   "source": [
    "## RegEx Review\n",
    "\n",
    "- http://www.pyregex.com"
   ]
  },
  {
   "cell_type": "markdown",
   "id": "consolidated-globe",
   "metadata": {},
   "source": [
    "## Activity:\n",
    "- Try to convert every single stand-alone instance of 'i' to 'I' in the corpus. Make sure not to change the 'i' occurring within a word:"
   ]
  },
  {
   "cell_type": "code",
   "execution_count": 1,
   "id": "sharing-robin",
   "metadata": {},
   "outputs": [
    {
     "name": "stdout",
     "output_type": "stream",
     "text": [
      "when I go outside, I will enjoy my time\n"
     ]
    }
   ],
   "source": [
    "import re \n",
    "\n",
    "processed_sent = re.sub(r'\\si\\s', ' I ', 'when i go outside, i will enjoy my time')\n",
    "print(processed_sent)"
   ]
  },
  {
   "cell_type": "markdown",
   "id": "alpine-mobile",
   "metadata": {},
   "source": [
    "## Activity:\n",
    "\n",
    "- Find all phone numbers (with area code or not) in a text"
   ]
  },
  {
   "cell_type": "code",
   "execution_count": 62,
   "id": "practical-leone",
   "metadata": {},
   "outputs": [
    {
     "name": "stdout",
     "output_type": "stream",
     "text": [
      "['215-895-2185']\n",
      "['867-5307']\n",
      "['215-895-2185', '867-5307']\n"
     ]
    }
   ],
   "source": [
    "txt = \"Apparently, 867-5307 is Jenny's phone number, but I'm not sure what her area code is.\" + \\\n",
    "\"If you need my office line, it's 215-895-2185.\" \n",
    "\n",
    "\n",
    "numbers_with_area_code =  re.findall(\"[0-9]{3}-[0-9]{3}-[0-9]{4}\", txt)\n",
    "print(numbers_with_area_code)\n",
    "# The following commnnted line will produce: 867-5307 and 895-2185 which is not what we want\n",
    "# numbers_wo_area_code =  re.findall(\"[0-9]{3}-[0-9]{4}\", txt)\n",
    "# remove the () in the following line and see what will happen\n",
    "numbers_wo_area_code =  re.findall(\"\\s([0-9]{3}-[0-9]{4})\", txt)\n",
    "print(numbers_wo_area_code)\n",
    "print(numbers_with_area_code + numbers_wo_area_code)"
   ]
  },
  {
   "cell_type": "code",
   "execution_count": 2,
   "id": "atomic-baseline",
   "metadata": {},
   "outputs": [
    {
     "name": "stdout",
     "output_type": "stream",
     "text": [
      "['867-5307', '215-895-2185']\n"
     ]
    }
   ],
   "source": [
    "txt = \"Apparently, 867-5307 is Jenny's phone number, but I'm not sure what her area code is.\" + \\\n",
    "\"If you need my office line, it's 215-895-2185.\" \n",
    "\n",
    "\n",
    "\n",
    "## By grouping and using a `{1,2}` flexible match, we can get full and partial numbers\n",
    "## Note: we have to use a non-capturing group (?:...) in order to make sure we get the full expression\n",
    "## without capturing the first three digits, only.\n",
    "numbers =  re.findall(\"(?:[0-9]{3}-){1,2}[0-9]{4}\", txt)\n",
    "print(numbers)"
   ]
  },
  {
   "cell_type": "code",
   "execution_count": 45,
   "id": "bigger-elite",
   "metadata": {},
   "outputs": [
    {
     "name": "stdout",
     "output_type": "stream",
     "text": [
      "['215-895-2185']\n",
      "['215']\n",
      "['215-895-2185']\n",
      "['895-2185']\n",
      "['867-', '895-']\n"
     ]
    }
   ],
   "source": [
    "txt = \"Apparently, 867-5307 is Jenny's phone number, but I'm not sure what her area code is.\" + \\\n",
    "\"If you need my office line, it's 215-895-2185.\" \n",
    "\n",
    "# Find a number of this pattern: xxx-xxx-xxxx\n",
    "numbers =  re.findall(\"[0-9]{3}-[0-9]{3}-[0-9]{4}\", txt)\n",
    "print(numbers)\n",
    "# Find a number of this pattern: xxx-xxx-xxxx, but return only its first three digits (because of ())\n",
    "numbers =  re.findall(\"([0-9]{3})-[0-9]{3}-[0-9]{4}\", txt)\n",
    "print(numbers)\n",
    "# Find a number of this pattern: xxx-xxx-xxxx, and return the whole digits ((?:) make this to happen)\n",
    "numbers =  re.findall(\"(?:[0-9]{3})-[0-9]{3}-[0-9]{4}\", txt)\n",
    "print(numbers)\n",
    "# Find a number of this pattern: xxx-xxx-xxxx, but return only this part of it xxx-xxxx\n",
    "numbers =  re.findall(\"[0-9]{3}-([0-9]{3}-[0-9]{4})\", txt)\n",
    "print(numbers)\n",
    "numbers =  re.findall(\"([0-9]{3}-){1,2}[0-9]{4}\", txt)\n",
    "print(numbers)"
   ]
  },
  {
   "cell_type": "markdown",
   "id": "seven-sussex",
   "metadata": {},
   "source": [
    "## Activity:\n",
    "\n",
    "- Find any money amount (represented by $ with cents or not) in a text"
   ]
  },
  {
   "cell_type": "code",
   "execution_count": 3,
   "id": "statistical-germany",
   "metadata": {},
   "outputs": [
    {
     "data": {
      "text/plain": [
       "['$127.89', '$85']"
      ]
     },
     "execution_count": 3,
     "metadata": {},
     "output_type": "execute_result"
    }
   ],
   "source": [
    "string='effe testen,  wat is dat duur zeg $127.89! Bah liever 25.87, of $85 '  # your string\n",
    "\n",
    "# maak de hele  subexpressie optioneel met het ?\n",
    "\n",
    "reg=r'\\$\\d+(?:\\.\\d\\d)?'   # your pattern between the quotes. Keep the \"r\" in front.\n",
    "# ?:\\.\\d\\d -> followed by . and two numbers after it\n",
    "# ? (last one) -> optional -> we may have cents or may not have cents\n",
    "re.findall(reg,string)"
   ]
  },
  {
   "cell_type": "markdown",
   "id": "affected-holly",
   "metadata": {},
   "source": [
    "## Activity:\n",
    "\n",
    "- Use regex for text data cleaning\n",
    "- Review tokenization, lower and join\n",
    "- Tokenization is the process of breaking up text into smaller units. Usually, this means breaking a string up into words."
   ]
  },
  {
   "cell_type": "code",
   "execution_count": 17,
   "id": "international-exchange",
   "metadata": {},
   "outputs": [
    {
     "name": "stdout",
     "output_type": "stream",
     "text": [
      "['This', 'is', 'a', 'Book']\n"
     ]
    }
   ],
   "source": [
    "s = 'This is a Book'\n",
    "print(s.split())"
   ]
  },
  {
   "cell_type": "code",
   "execution_count": 18,
   "id": "decimal-swing",
   "metadata": {},
   "outputs": [
    {
     "name": "stdout",
     "output_type": "stream",
     "text": [
      "['this', 'is', 'a', 'book']\n"
     ]
    }
   ],
   "source": [
    "print(s.lower().split())"
   ]
  },
  {
   "cell_type": "code",
   "execution_count": 4,
   "id": "enhanced-edgar",
   "metadata": {},
   "outputs": [
    {
     "data": {
      "text/html": [
       "<div>\n",
       "<style scoped>\n",
       "    .dataframe tbody tr th:only-of-type {\n",
       "        vertical-align: middle;\n",
       "    }\n",
       "\n",
       "    .dataframe tbody tr th {\n",
       "        vertical-align: top;\n",
       "    }\n",
       "\n",
       "    .dataframe thead th {\n",
       "        text-align: right;\n",
       "    }\n",
       "</style>\n",
       "<table border=\"1\" class=\"dataframe\">\n",
       "  <thead>\n",
       "    <tr style=\"text-align: right;\">\n",
       "      <th></th>\n",
       "      <th>text</th>\n",
       "    </tr>\n",
       "  </thead>\n",
       "  <tbody>\n",
       "    <tr>\n",
       "      <th>0</th>\n",
       "      <td>THIS IS A TEST!</td>\n",
       "    </tr>\n",
       "    <tr>\n",
       "      <th>1</th>\n",
       "      <td>another test</td>\n",
       "    </tr>\n",
       "    <tr>\n",
       "      <th>2</th>\n",
       "      <td>JUS!*(*UDFLJ)</td>\n",
       "    </tr>\n",
       "  </tbody>\n",
       "</table>\n",
       "</div>"
      ],
      "text/plain": [
       "              text\n",
       "0  THIS IS A TEST!\n",
       "1     another test\n",
       "2    JUS!*(*UDFLJ)"
      ]
     },
     "execution_count": 4,
     "metadata": {},
     "output_type": "execute_result"
    }
   ],
   "source": [
    "import pandas as pd \n",
    "\n",
    "test_strs = ['THIS IS A TEST!', 'another test', 'JUS!*(*UDFLJ)']\n",
    "df = pd.DataFrame(test_strs, columns=['text'])\n",
    "df"
   ]
  },
  {
   "cell_type": "code",
   "execution_count": 5,
   "id": "stretch-infection",
   "metadata": {},
   "outputs": [],
   "source": [
    "from nltk.corpus import stopwords\n",
    "import re\n",
    "\n",
    "def clean(x):\n",
    "    x = x.lower()\n",
    "    # remove anythings that are not character (\\w) and are not space (\\s) \n",
    "    x = re.sub(r'[^\\w\\s]', '', x)\n",
    "    stop = stopwords.words('english')\n",
    "    x = [word for word in x.split() if word not in stop]\n",
    "    print(x)\n",
    "    return \" \".join(x)"
   ]
  },
  {
   "cell_type": "code",
   "execution_count": 6,
   "id": "median-ozone",
   "metadata": {},
   "outputs": [
    {
     "name": "stdout",
     "output_type": "stream",
     "text": [
      "['test']\n",
      "['another', 'test']\n",
      "['jusudflj']\n"
     ]
    }
   ],
   "source": [
    "df['new_text'] = df['text'].apply(lambda x: clean(x))"
   ]
  },
  {
   "cell_type": "code",
   "execution_count": 7,
   "id": "hired-university",
   "metadata": {},
   "outputs": [
    {
     "data": {
      "text/html": [
       "<div>\n",
       "<style scoped>\n",
       "    .dataframe tbody tr th:only-of-type {\n",
       "        vertical-align: middle;\n",
       "    }\n",
       "\n",
       "    .dataframe tbody tr th {\n",
       "        vertical-align: top;\n",
       "    }\n",
       "\n",
       "    .dataframe thead th {\n",
       "        text-align: right;\n",
       "    }\n",
       "</style>\n",
       "<table border=\"1\" class=\"dataframe\">\n",
       "  <thead>\n",
       "    <tr style=\"text-align: right;\">\n",
       "      <th></th>\n",
       "      <th>text</th>\n",
       "      <th>new_text</th>\n",
       "    </tr>\n",
       "  </thead>\n",
       "  <tbody>\n",
       "    <tr>\n",
       "      <th>0</th>\n",
       "      <td>THIS IS A TEST!</td>\n",
       "      <td>test</td>\n",
       "    </tr>\n",
       "    <tr>\n",
       "      <th>1</th>\n",
       "      <td>another test</td>\n",
       "      <td>another test</td>\n",
       "    </tr>\n",
       "    <tr>\n",
       "      <th>2</th>\n",
       "      <td>JUS!*(*UDFLJ)</td>\n",
       "      <td>jusudflj</td>\n",
       "    </tr>\n",
       "  </tbody>\n",
       "</table>\n",
       "</div>"
      ],
      "text/plain": [
       "              text      new_text\n",
       "0  THIS IS A TEST!          test\n",
       "1     another test  another test\n",
       "2    JUS!*(*UDFLJ)      jusudflj"
      ]
     },
     "execution_count": 7,
     "metadata": {},
     "output_type": "execute_result"
    }
   ],
   "source": [
    "df"
   ]
  },
  {
   "cell_type": "code",
   "execution_count": null,
   "id": "bored-chuck",
   "metadata": {},
   "outputs": [],
   "source": []
  }
 ],
 "metadata": {
  "kernelspec": {
   "display_name": "Python 3",
   "language": "python",
   "name": "python3"
  },
  "language_info": {
   "codemirror_mode": {
    "name": "ipython",
    "version": 3
   },
   "file_extension": ".py",
   "mimetype": "text/x-python",
   "name": "python",
   "nbconvert_exporter": "python",
   "pygments_lexer": "ipython3",
   "version": "3.6.5"
  }
 },
 "nbformat": 4,
 "nbformat_minor": 5
}
